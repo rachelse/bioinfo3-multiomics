{
 "cells": [
  {
   "cell_type": "markdown",
   "id": "2bf9a53d",
   "metadata": {},
   "source": [
    "## Multi-omics Clustering"
   ]
  },
  {
   "cell_type": "code",
   "execution_count": 150,
   "id": "2a83dec1",
   "metadata": {
    "vscode": {
     "languageId": "r"
    }
   },
   "outputs": [],
   "source": [
    "suppressPackageStartupMessages(library(tidyr))\n",
    "suppressPackageStartupMessages(library(dplyr))\n",
    "suppressPackageStartupMessages(library(NMF))"
   ]
  },
  {
   "cell_type": "markdown",
   "id": "84226dba",
   "metadata": {},
   "source": [
    "### Data Preparation"
   ]
  },
  {
   "cell_type": "code",
   "execution_count": 151,
   "id": "871118a4",
   "metadata": {
    "vscode": {
     "languageId": "r"
    }
   },
   "outputs": [
    {
     "data": {
      "text/html": [
       "<table class=\"dataframe\">\n",
       "<caption>A data.frame: 3 × 2</caption>\n",
       "<thead>\n",
       "\t<tr><th></th><th scope=col>ID</th><th scope=col>ID2</th></tr>\n",
       "\t<tr><th></th><th scope=col>&lt;chr&gt;</th><th scope=col>&lt;chr&gt;</th></tr>\n",
       "</thead>\n",
       "<tbody>\n",
       "\t<tr><th scope=row>1</th><td>C3L-02613</td><td>C3L.02613</td></tr>\n",
       "\t<tr><th scope=row>2</th><td>C3L-04072</td><td>C3L.04072</td></tr>\n",
       "\t<tr><th scope=row>3</th><td>C3N-04282</td><td>C3N.04282</td></tr>\n",
       "</tbody>\n",
       "</table>\n"
      ],
      "text/latex": [
       "A data.frame: 3 × 2\n",
       "\\begin{tabular}{r|ll}\n",
       "  & ID & ID2\\\\\n",
       "  & <chr> & <chr>\\\\\n",
       "\\hline\n",
       "\t1 & C3L-02613 & C3L.02613\\\\\n",
       "\t2 & C3L-04072 & C3L.04072\\\\\n",
       "\t3 & C3N-04282 & C3N.04282\\\\\n",
       "\\end{tabular}\n"
      ],
      "text/markdown": [
       "\n",
       "A data.frame: 3 × 2\n",
       "\n",
       "| <!--/--> | ID &lt;chr&gt; | ID2 &lt;chr&gt; |\n",
       "|---|---|---|\n",
       "| 1 | C3L-02613 | C3L.02613 |\n",
       "| 2 | C3L-04072 | C3L.04072 |\n",
       "| 3 | C3N-04282 | C3N.04282 |\n",
       "\n"
      ],
      "text/plain": [
       "  ID        ID2      \n",
       "1 C3L-02613 C3L.02613\n",
       "2 C3L-04072 C3L.04072\n",
       "3 C3N-04282 C3N.04282"
      ]
     },
     "metadata": {},
     "output_type": "display_data"
    }
   ],
   "source": [
    "PATH_DATA <- \"../data_linkedomics/\"\n",
    "\n",
    "valid_samples <- read.csv(\"sample105.list\", header = FALSE, col.names = \"ID\")\n",
    "valid_samples$ID2 <- gsub(\"-\", \".\", valid_samples$ID) \n",
    "head(valid_samples,3)"
   ]
  },
  {
   "cell_type": "code",
   "execution_count": null,
   "id": "488795a6",
   "metadata": {
    "vscode": {
     "languageId": "r"
    }
   },
   "outputs": [
    {
     "data": {
      "text/html": [
       "<table class=\"dataframe\">\n",
       "<caption>A data.frame: 3 × 105</caption>\n",
       "<thead>\n",
       "\t<tr><th></th><th scope=col>C3L.02613</th><th scope=col>C3L.04072</th><th scope=col>C3N.04282</th><th scope=col>C3L.03639</th><th scope=col>C3L.01328</th><th scope=col>C3L.00277</th><th scope=col>C3L.02604</th><th scope=col>C3L.01971</th><th scope=col>C3N.01167</th><th scope=col>C3L.01031</th><th scope=col>⋯</th><th scope=col>C3N.00436</th><th scope=col>C3N.02944</th><th scope=col>C3L.03356</th><th scope=col>C3N.02589</th><th scope=col>C3L.03388</th><th scope=col>C3N.01388</th><th scope=col>C3N.00198</th><th scope=col>C3N.01380</th><th scope=col>C3N.01715</th><th scope=col>C3N.03426</th></tr>\n",
       "\t<tr><th></th><th scope=col>&lt;dbl&gt;</th><th scope=col>&lt;dbl&gt;</th><th scope=col>&lt;dbl&gt;</th><th scope=col>&lt;dbl&gt;</th><th scope=col>&lt;dbl&gt;</th><th scope=col>&lt;dbl&gt;</th><th scope=col>&lt;dbl&gt;</th><th scope=col>&lt;dbl&gt;</th><th scope=col>&lt;dbl&gt;</th><th scope=col>&lt;dbl&gt;</th><th scope=col>⋯</th><th scope=col>&lt;dbl&gt;</th><th scope=col>&lt;dbl&gt;</th><th scope=col>&lt;dbl&gt;</th><th scope=col>&lt;dbl&gt;</th><th scope=col>&lt;dbl&gt;</th><th scope=col>&lt;dbl&gt;</th><th scope=col>&lt;dbl&gt;</th><th scope=col>&lt;dbl&gt;</th><th scope=col>&lt;dbl&gt;</th><th scope=col>&lt;dbl&gt;</th></tr>\n",
       "</thead>\n",
       "<tbody>\n",
       "\t<tr><th scope=row>DAZ4</th><td>-0.12735</td><td>-0.59551</td><td>-0.92239</td><td>-0.72322</td><td>-0.02908</td><td>0.07958</td><td>0.82266</td><td>0.23247</td><td>-0.45531</td><td>0.28581</td><td>⋯</td><td>-0.36377</td><td>0.30116</td><td>-0.06191</td><td>-0.05711</td><td>-0.38335</td><td>-0.12518</td><td>-0.10954</td><td>0.11612</td><td>0.40891</td><td>-0.47479</td></tr>\n",
       "\t<tr><th scope=row>BPY2C</th><td>-0.12735</td><td>-0.59551</td><td>-0.92239</td><td>-0.72322</td><td>-0.02908</td><td>0.07958</td><td>0.82266</td><td>0.23247</td><td>-0.45531</td><td>0.28581</td><td>⋯</td><td>-0.36377</td><td>0.30116</td><td>-0.06191</td><td>-0.05711</td><td>-0.38335</td><td>-0.12518</td><td>-0.10954</td><td>0.11612</td><td>0.40891</td><td>-0.47479</td></tr>\n",
       "\t<tr><th scope=row>CDY1</th><td>-0.12735</td><td>-0.59551</td><td>-0.92239</td><td>-0.72322</td><td>-0.02908</td><td>0.07958</td><td>0.82266</td><td>0.23247</td><td>-0.45531</td><td>0.28581</td><td>⋯</td><td>-0.36377</td><td>0.30116</td><td>-0.06191</td><td>-0.05711</td><td>-0.38335</td><td>-0.12518</td><td>-0.10954</td><td>0.11612</td><td>0.40891</td><td>-0.47479</td></tr>\n",
       "</tbody>\n",
       "</table>\n"
      ],
      "text/latex": [
       "A data.frame: 3 × 105\n",
       "\\begin{tabular}{r|lllllllllllllllllllll}\n",
       "  & C3L.02613 & C3L.04072 & C3N.04282 & C3L.03639 & C3L.01328 & C3L.00277 & C3L.02604 & C3L.01971 & C3N.01167 & C3L.01031 & ⋯ & C3N.00436 & C3N.02944 & C3L.03356 & C3N.02589 & C3L.03388 & C3N.01388 & C3N.00198 & C3N.01380 & C3N.01715 & C3N.03426\\\\\n",
       "  & <dbl> & <dbl> & <dbl> & <dbl> & <dbl> & <dbl> & <dbl> & <dbl> & <dbl> & <dbl> & ⋯ & <dbl> & <dbl> & <dbl> & <dbl> & <dbl> & <dbl> & <dbl> & <dbl> & <dbl> & <dbl>\\\\\n",
       "\\hline\n",
       "\tDAZ4 & -0.12735 & -0.59551 & -0.92239 & -0.72322 & -0.02908 & 0.07958 & 0.82266 & 0.23247 & -0.45531 & 0.28581 & ⋯ & -0.36377 & 0.30116 & -0.06191 & -0.05711 & -0.38335 & -0.12518 & -0.10954 & 0.11612 & 0.40891 & -0.47479\\\\\n",
       "\tBPY2C & -0.12735 & -0.59551 & -0.92239 & -0.72322 & -0.02908 & 0.07958 & 0.82266 & 0.23247 & -0.45531 & 0.28581 & ⋯ & -0.36377 & 0.30116 & -0.06191 & -0.05711 & -0.38335 & -0.12518 & -0.10954 & 0.11612 & 0.40891 & -0.47479\\\\\n",
       "\tCDY1 & -0.12735 & -0.59551 & -0.92239 & -0.72322 & -0.02908 & 0.07958 & 0.82266 & 0.23247 & -0.45531 & 0.28581 & ⋯ & -0.36377 & 0.30116 & -0.06191 & -0.05711 & -0.38335 & -0.12518 & -0.10954 & 0.11612 & 0.40891 & -0.47479\\\\\n",
       "\\end{tabular}\n"
      ],
      "text/markdown": [
       "\n",
       "A data.frame: 3 × 105\n",
       "\n",
       "| <!--/--> | C3L.02613 &lt;dbl&gt; | C3L.04072 &lt;dbl&gt; | C3N.04282 &lt;dbl&gt; | C3L.03639 &lt;dbl&gt; | C3L.01328 &lt;dbl&gt; | C3L.00277 &lt;dbl&gt; | C3L.02604 &lt;dbl&gt; | C3L.01971 &lt;dbl&gt; | C3N.01167 &lt;dbl&gt; | C3L.01031 &lt;dbl&gt; | ⋯ ⋯ | C3N.00436 &lt;dbl&gt; | C3N.02944 &lt;dbl&gt; | C3L.03356 &lt;dbl&gt; | C3N.02589 &lt;dbl&gt; | C3L.03388 &lt;dbl&gt; | C3N.01388 &lt;dbl&gt; | C3N.00198 &lt;dbl&gt; | C3N.01380 &lt;dbl&gt; | C3N.01715 &lt;dbl&gt; | C3N.03426 &lt;dbl&gt; |\n",
       "|---|---|---|---|---|---|---|---|---|---|---|---|---|---|---|---|---|---|---|---|---|---|\n",
       "| DAZ4 | -0.12735 | -0.59551 | -0.92239 | -0.72322 | -0.02908 | 0.07958 | 0.82266 | 0.23247 | -0.45531 | 0.28581 | ⋯ | -0.36377 | 0.30116 | -0.06191 | -0.05711 | -0.38335 | -0.12518 | -0.10954 | 0.11612 | 0.40891 | -0.47479 |\n",
       "| BPY2C | -0.12735 | -0.59551 | -0.92239 | -0.72322 | -0.02908 | 0.07958 | 0.82266 | 0.23247 | -0.45531 | 0.28581 | ⋯ | -0.36377 | 0.30116 | -0.06191 | -0.05711 | -0.38335 | -0.12518 | -0.10954 | 0.11612 | 0.40891 | -0.47479 |\n",
       "| CDY1 | -0.12735 | -0.59551 | -0.92239 | -0.72322 | -0.02908 | 0.07958 | 0.82266 | 0.23247 | -0.45531 | 0.28581 | ⋯ | -0.36377 | 0.30116 | -0.06191 | -0.05711 | -0.38335 | -0.12518 | -0.10954 | 0.11612 | 0.40891 | -0.47479 |\n",
       "\n"
      ],
      "text/plain": [
       "      C3L.02613 C3L.04072 C3N.04282 C3L.03639 C3L.01328 C3L.00277 C3L.02604\n",
       "DAZ4  -0.12735  -0.59551  -0.92239  -0.72322  -0.02908  0.07958   0.82266  \n",
       "BPY2C -0.12735  -0.59551  -0.92239  -0.72322  -0.02908  0.07958   0.82266  \n",
       "CDY1  -0.12735  -0.59551  -0.92239  -0.72322  -0.02908  0.07958   0.82266  \n",
       "      C3L.01971 C3N.01167 C3L.01031 ⋯ C3N.00436 C3N.02944 C3L.03356 C3N.02589\n",
       "DAZ4  0.23247   -0.45531  0.28581   ⋯ -0.36377  0.30116   -0.06191  -0.05711 \n",
       "BPY2C 0.23247   -0.45531  0.28581   ⋯ -0.36377  0.30116   -0.06191  -0.05711 \n",
       "CDY1  0.23247   -0.45531  0.28581   ⋯ -0.36377  0.30116   -0.06191  -0.05711 \n",
       "      C3L.03388 C3N.01388 C3N.00198 C3N.01380 C3N.01715 C3N.03426\n",
       "DAZ4  -0.38335  -0.12518  -0.10954  0.11612   0.40891   -0.47479 \n",
       "BPY2C -0.38335  -0.12518  -0.10954  0.11612   0.40891   -0.47479 \n",
       "CDY1  -0.38335  -0.12518  -0.10954  0.11612   0.40891   -0.47479 "
      ]
     },
     "metadata": {},
     "output_type": "display_data"
    },
    {
     "data": {
      "text/html": [
       "<style>\n",
       ".list-inline {list-style: none; margin:0; padding: 0}\n",
       ".list-inline>li {display: inline-block}\n",
       ".list-inline>li:not(:last-child)::after {content: \"\\00b7\"; padding: 0 .5ex}\n",
       "</style>\n",
       "<ol class=list-inline><li>19855</li><li>105</li></ol>\n"
      ],
      "text/latex": [
       "\\begin{enumerate*}\n",
       "\\item 19855\n",
       "\\item 105\n",
       "\\end{enumerate*}\n"
      ],
      "text/markdown": [
       "1. 19855\n",
       "2. 105\n",
       "\n",
       "\n"
      ],
      "text/plain": [
       "[1] 19855   105"
      ]
     },
     "metadata": {},
     "output_type": "display_data"
    }
   ],
   "source": [
    "cnv <- read.table(paste0(PATH_DATA, \"SCNA_log2_gene_level.cct\"), header = TRUE, row.names = 1, sep = \"\\t\", \n",
    "    # na.strings = \"NA\" \n",
    "    )\n",
    "cnv <- cnv %>%\n",
    "    # Select only the valid sample columns in order\n",
    "    select(all_of(valid_samples$ID2)) %>%\n",
    "    # Remove rows where any value is \"NA\"\n",
    "    filter(rowSums(is.na(.)) == 0) %>%\n",
    "    # Subtract median from each row\n",
    "    mutate(row_median = apply(., 1, median, na.rm = TRUE)) %>%\n",
    "    mutate(across(-row_median, ~ . - row_median)) %>%\n",
    "    select(-row_median)\n",
    "tail(cnv, 3)\n",
    "dim(cnv)"
   ]
  },
  {
   "cell_type": "code",
   "execution_count": 185,
   "id": "16742513",
   "metadata": {
    "vscode": {
     "languageId": "r"
    }
   },
   "outputs": [
    {
     "data": {
      "text/html": [
       "<table class=\"dataframe\">\n",
       "<caption>A data.frame: 3 × 105</caption>\n",
       "<thead>\n",
       "\t<tr><th></th><th scope=col>C3L.02613</th><th scope=col>C3L.04072</th><th scope=col>C3N.04282</th><th scope=col>C3L.03639</th><th scope=col>C3L.01328</th><th scope=col>C3L.00277</th><th scope=col>C3L.02604</th><th scope=col>C3L.01971</th><th scope=col>C3N.01167</th><th scope=col>C3L.01031</th><th scope=col>⋯</th><th scope=col>C3N.00436</th><th scope=col>C3N.02944</th><th scope=col>C3L.03356</th><th scope=col>C3N.02589</th><th scope=col>C3L.03388</th><th scope=col>C3N.01388</th><th scope=col>C3N.00198</th><th scope=col>C3N.01380</th><th scope=col>C3N.01715</th><th scope=col>C3N.03426</th></tr>\n",
       "\t<tr><th></th><th scope=col>&lt;dbl&gt;</th><th scope=col>&lt;dbl&gt;</th><th scope=col>&lt;dbl&gt;</th><th scope=col>&lt;dbl&gt;</th><th scope=col>&lt;dbl&gt;</th><th scope=col>&lt;dbl&gt;</th><th scope=col>&lt;dbl&gt;</th><th scope=col>&lt;dbl&gt;</th><th scope=col>&lt;dbl&gt;</th><th scope=col>&lt;dbl&gt;</th><th scope=col>⋯</th><th scope=col>&lt;dbl&gt;</th><th scope=col>&lt;dbl&gt;</th><th scope=col>&lt;dbl&gt;</th><th scope=col>&lt;dbl&gt;</th><th scope=col>&lt;dbl&gt;</th><th scope=col>&lt;dbl&gt;</th><th scope=col>&lt;dbl&gt;</th><th scope=col>&lt;dbl&gt;</th><th scope=col>&lt;dbl&gt;</th><th scope=col>&lt;dbl&gt;</th></tr>\n",
       "</thead>\n",
       "<tbody>\n",
       "\t<tr><th scope=row>A1BG</th><td>-0.5851688</td><td>-1.105782</td><td> 0.3238525</td><td> 0.3187660</td><td>-0.1535164</td><td>1.6325372</td><td>-0.0473396</td><td>-0.3940588</td><td>0.05639423</td><td>-0.25300037</td><td>⋯</td><td>-0.9174415</td><td>0.04363692</td><td>0.16312039</td><td>0.46024067</td><td>-0.3420844</td><td> 0.1579204</td><td>0.1317380</td><td> 0.7603061</td><td> 0.01638153</td><td>0.2531925</td></tr>\n",
       "\t<tr><th scope=row>A1CF</th><td>-1.6638917</td><td>-0.990823</td><td>-0.3359187</td><td>-0.5290717</td><td>-0.4312188</td><td>0.2071515</td><td>-0.6917098</td><td> 0.7453636</td><td>1.07426510</td><td>-0.05608174</td><td>⋯</td><td>-0.1227688</td><td>0.56632889</td><td>0.01798806</td><td>0.23951135</td><td>-0.1611325</td><td>-0.7811726</td><td>0.8310128</td><td>-0.5372456</td><td>-0.63732554</td><td>0.4630793</td></tr>\n",
       "\t<tr><th scope=row>A2M</th><td>-0.9019673</td><td>-1.513266</td><td>-0.3692739</td><td>-0.6457553</td><td>-0.1202553</td><td>0.5583888</td><td> 0.1351343</td><td> 0.7830743</td><td>0.13504270</td><td>-0.32192121</td><td>⋯</td><td>-0.3404731</td><td>0.00000000</td><td>1.10432467</td><td>0.09537351</td><td>-0.5975399</td><td> 0.5864739</td><td>0.8100558</td><td> 0.6318300</td><td>-0.29299536</td><td>0.8169296</td></tr>\n",
       "</tbody>\n",
       "</table>\n"
      ],
      "text/latex": [
       "A data.frame: 3 × 105\n",
       "\\begin{tabular}{r|lllllllllllllllllllll}\n",
       "  & C3L.02613 & C3L.04072 & C3N.04282 & C3L.03639 & C3L.01328 & C3L.00277 & C3L.02604 & C3L.01971 & C3N.01167 & C3L.01031 & ⋯ & C3N.00436 & C3N.02944 & C3L.03356 & C3N.02589 & C3L.03388 & C3N.01388 & C3N.00198 & C3N.01380 & C3N.01715 & C3N.03426\\\\\n",
       "  & <dbl> & <dbl> & <dbl> & <dbl> & <dbl> & <dbl> & <dbl> & <dbl> & <dbl> & <dbl> & ⋯ & <dbl> & <dbl> & <dbl> & <dbl> & <dbl> & <dbl> & <dbl> & <dbl> & <dbl> & <dbl>\\\\\n",
       "\\hline\n",
       "\tA1BG & -0.5851688 & -1.105782 &  0.3238525 &  0.3187660 & -0.1535164 & 1.6325372 & -0.0473396 & -0.3940588 & 0.05639423 & -0.25300037 & ⋯ & -0.9174415 & 0.04363692 & 0.16312039 & 0.46024067 & -0.3420844 &  0.1579204 & 0.1317380 &  0.7603061 &  0.01638153 & 0.2531925\\\\\n",
       "\tA1CF & -1.6638917 & -0.990823 & -0.3359187 & -0.5290717 & -0.4312188 & 0.2071515 & -0.6917098 &  0.7453636 & 1.07426510 & -0.05608174 & ⋯ & -0.1227688 & 0.56632889 & 0.01798806 & 0.23951135 & -0.1611325 & -0.7811726 & 0.8310128 & -0.5372456 & -0.63732554 & 0.4630793\\\\\n",
       "\tA2M & -0.9019673 & -1.513266 & -0.3692739 & -0.6457553 & -0.1202553 & 0.5583888 &  0.1351343 &  0.7830743 & 0.13504270 & -0.32192121 & ⋯ & -0.3404731 & 0.00000000 & 1.10432467 & 0.09537351 & -0.5975399 &  0.5864739 & 0.8100558 &  0.6318300 & -0.29299536 & 0.8169296\\\\\n",
       "\\end{tabular}\n"
      ],
      "text/markdown": [
       "\n",
       "A data.frame: 3 × 105\n",
       "\n",
       "| <!--/--> | C3L.02613 &lt;dbl&gt; | C3L.04072 &lt;dbl&gt; | C3N.04282 &lt;dbl&gt; | C3L.03639 &lt;dbl&gt; | C3L.01328 &lt;dbl&gt; | C3L.00277 &lt;dbl&gt; | C3L.02604 &lt;dbl&gt; | C3L.01971 &lt;dbl&gt; | C3N.01167 &lt;dbl&gt; | C3L.01031 &lt;dbl&gt; | ⋯ ⋯ | C3N.00436 &lt;dbl&gt; | C3N.02944 &lt;dbl&gt; | C3L.03356 &lt;dbl&gt; | C3N.02589 &lt;dbl&gt; | C3L.03388 &lt;dbl&gt; | C3N.01388 &lt;dbl&gt; | C3N.00198 &lt;dbl&gt; | C3N.01380 &lt;dbl&gt; | C3N.01715 &lt;dbl&gt; | C3N.03426 &lt;dbl&gt; |\n",
       "|---|---|---|---|---|---|---|---|---|---|---|---|---|---|---|---|---|---|---|---|---|---|\n",
       "| A1BG | -0.5851688 | -1.105782 |  0.3238525 |  0.3187660 | -0.1535164 | 1.6325372 | -0.0473396 | -0.3940588 | 0.05639423 | -0.25300037 | ⋯ | -0.9174415 | 0.04363692 | 0.16312039 | 0.46024067 | -0.3420844 |  0.1579204 | 0.1317380 |  0.7603061 |  0.01638153 | 0.2531925 |\n",
       "| A1CF | -1.6638917 | -0.990823 | -0.3359187 | -0.5290717 | -0.4312188 | 0.2071515 | -0.6917098 |  0.7453636 | 1.07426510 | -0.05608174 | ⋯ | -0.1227688 | 0.56632889 | 0.01798806 | 0.23951135 | -0.1611325 | -0.7811726 | 0.8310128 | -0.5372456 | -0.63732554 | 0.4630793 |\n",
       "| A2M | -0.9019673 | -1.513266 | -0.3692739 | -0.6457553 | -0.1202553 | 0.5583888 |  0.1351343 |  0.7830743 | 0.13504270 | -0.32192121 | ⋯ | -0.3404731 | 0.00000000 | 1.10432467 | 0.09537351 | -0.5975399 |  0.5864739 | 0.8100558 |  0.6318300 | -0.29299536 | 0.8169296 |\n",
       "\n"
      ],
      "text/plain": [
       "     C3L.02613  C3L.04072 C3N.04282  C3L.03639  C3L.01328  C3L.00277 C3L.02604 \n",
       "A1BG -0.5851688 -1.105782  0.3238525  0.3187660 -0.1535164 1.6325372 -0.0473396\n",
       "A1CF -1.6638917 -0.990823 -0.3359187 -0.5290717 -0.4312188 0.2071515 -0.6917098\n",
       "A2M  -0.9019673 -1.513266 -0.3692739 -0.6457553 -0.1202553 0.5583888  0.1351343\n",
       "     C3L.01971  C3N.01167  C3L.01031   ⋯ C3N.00436  C3N.02944  C3L.03356 \n",
       "A1BG -0.3940588 0.05639423 -0.25300037 ⋯ -0.9174415 0.04363692 0.16312039\n",
       "A1CF  0.7453636 1.07426510 -0.05608174 ⋯ -0.1227688 0.56632889 0.01798806\n",
       "A2M   0.7830743 0.13504270 -0.32192121 ⋯ -0.3404731 0.00000000 1.10432467\n",
       "     C3N.02589  C3L.03388  C3N.01388  C3N.00198 C3N.01380  C3N.01715  \n",
       "A1BG 0.46024067 -0.3420844  0.1579204 0.1317380  0.7603061  0.01638153\n",
       "A1CF 0.23951135 -0.1611325 -0.7811726 0.8310128 -0.5372456 -0.63732554\n",
       "A2M  0.09537351 -0.5975399  0.5864739 0.8100558  0.6318300 -0.29299536\n",
       "     C3N.03426\n",
       "A1BG 0.2531925\n",
       "A1CF 0.4630793\n",
       "A2M  0.8169296"
      ]
     },
     "metadata": {},
     "output_type": "display_data"
    },
    {
     "data": {
      "text/html": [
       "<style>\n",
       ".list-inline {list-style: none; margin:0; padding: 0}\n",
       ".list-inline>li {display: inline-block}\n",
       ".list-inline>li:not(:last-child)::after {content: \"\\00b7\"; padding: 0 .5ex}\n",
       "</style>\n",
       "<ol class=list-inline><li>5773</li><li>105</li></ol>\n"
      ],
      "text/latex": [
       "\\begin{enumerate*}\n",
       "\\item 5773\n",
       "\\item 105\n",
       "\\end{enumerate*}\n"
      ],
      "text/markdown": [
       "1. 5773\n",
       "2. 105\n",
       "\n",
       "\n"
      ],
      "text/plain": [
       "[1] 5773  105"
      ]
     },
     "metadata": {},
     "output_type": "display_data"
    }
   ],
   "source": [
    "prot <- read.table(paste0(PATH_DATA, \"proteomics_gene_level_MD_abundance_tumor.cct\"), header = TRUE, row.names = 1, sep = \"\\t\", na.strings = \"NA\")\n",
    "prot <- prot %>%\n",
    "    # Order columns as in valid_samples\n",
    "    select(valid_samples$ID2) %>%\n",
    "    # sort the columns by the order in valid_samples\n",
    "    select(order(match(names(.), valid_samples$ID2))) %>%\n",
    "    # Remove rows with all NAs\n",
    "    filter(rowSums(is.na(.)) == 0) %>%\n",
    "    # # median normalization\n",
    "    mutate(row_median = apply(., 1, median, na.rm = TRUE)) %>%\n",
    "    mutate(across(-row_median, ~ . - row_median)) %>%\n",
    "    # mutate(across(-row_median, ~ . / row_median)) %>%\n",
    "    select(-row_median) #%>%\n",
    "    # # Do log2 transformation\n",
    "    # mutate(across(everything(), ~ log2(.)))\n",
    "\n",
    "head(prot, 3)\n",
    "dim(prot)"
   ]
  },
  {
   "cell_type": "code",
   "execution_count": 186,
   "id": "e0cd04b9",
   "metadata": {
    "vscode": {
     "languageId": "r"
    }
   },
   "outputs": [
    {
     "data": {
      "text/html": [
       "<style>\n",
       ".list-inline {list-style: none; margin:0; padding: 0}\n",
       ".list-inline>li {display: inline-block}\n",
       ".list-inline>li:not(:last-child)::after {content: \"\\00b7\"; padding: 0 .5ex}\n",
       "</style>\n",
       "<ol class=list-inline><li>18197</li><li>105</li></ol>\n"
      ],
      "text/latex": [
       "\\begin{enumerate*}\n",
       "\\item 18197\n",
       "\\item 105\n",
       "\\end{enumerate*}\n"
      ],
      "text/markdown": [
       "1. 18197\n",
       "2. 105\n",
       "\n",
       "\n"
      ],
      "text/plain": [
       "[1] 18197   105"
      ]
     },
     "metadata": {},
     "output_type": "display_data"
    },
    {
     "data": {
      "text/html": [
       "<table class=\"dataframe\">\n",
       "<caption>A data.frame: 3 × 105</caption>\n",
       "<thead>\n",
       "\t<tr><th></th><th scope=col>C3L.02613</th><th scope=col>C3L.04072</th><th scope=col>C3N.04282</th><th scope=col>C3L.03639</th><th scope=col>C3L.01328</th><th scope=col>C3L.00277</th><th scope=col>C3L.02604</th><th scope=col>C3L.01971</th><th scope=col>C3N.01167</th><th scope=col>C3L.01031</th><th scope=col>⋯</th><th scope=col>C3N.00436</th><th scope=col>C3N.02944</th><th scope=col>C3L.03356</th><th scope=col>C3N.02589</th><th scope=col>C3L.03388</th><th scope=col>C3N.01388</th><th scope=col>C3N.00198</th><th scope=col>C3N.01380</th><th scope=col>C3N.01715</th><th scope=col>C3N.03426</th></tr>\n",
       "\t<tr><th></th><th scope=col>&lt;dbl&gt;</th><th scope=col>&lt;dbl&gt;</th><th scope=col>&lt;dbl&gt;</th><th scope=col>&lt;dbl&gt;</th><th scope=col>&lt;dbl&gt;</th><th scope=col>&lt;dbl&gt;</th><th scope=col>&lt;dbl&gt;</th><th scope=col>&lt;dbl&gt;</th><th scope=col>&lt;dbl&gt;</th><th scope=col>&lt;dbl&gt;</th><th scope=col>⋯</th><th scope=col>&lt;dbl&gt;</th><th scope=col>&lt;dbl&gt;</th><th scope=col>&lt;dbl&gt;</th><th scope=col>&lt;dbl&gt;</th><th scope=col>&lt;dbl&gt;</th><th scope=col>&lt;dbl&gt;</th><th scope=col>&lt;dbl&gt;</th><th scope=col>&lt;dbl&gt;</th><th scope=col>&lt;dbl&gt;</th><th scope=col>&lt;dbl&gt;</th></tr>\n",
       "</thead>\n",
       "<tbody>\n",
       "\t<tr><th scope=row>A1BG</th><td>-0.6208639</td><td>-1.5641153</td><td>-0.03598678</td><td>-1.499229</td><td>-1.030409</td><td>-0.3632095</td><td>-0.7079235</td><td>0.4973275</td><td> 0.1398404</td><td> 0.4582964</td><td>⋯</td><td>0.5012384</td><td>0.1962640</td><td>0.45922795</td><td> 0.05454697</td><td>-0.3385884</td><td>-0.06842248</td><td>0.5971399</td><td> 0.72255331</td><td> 0.04504042</td><td>-1.018051</td></tr>\n",
       "\t<tr><th scope=row>A1BG-AS1</th><td>-0.8663854</td><td>-0.8302223</td><td> 0.11105590</td><td>-1.422656</td><td>-1.161717</td><td>-1.8484433</td><td>-0.5696947</td><td>0.3464761</td><td>-0.2569541</td><td> 0.4220428</td><td>⋯</td><td>0.3638638</td><td>0.3672824</td><td>0.31895969</td><td>-0.71812584</td><td>-0.2179410</td><td>-0.09720916</td><td>0.3269861</td><td> 0.70061799</td><td> 0.30224950</td><td>-1.071129</td></tr>\n",
       "\t<tr><th scope=row>A1CF</th><td>-2.8039993</td><td>-3.0594026</td><td>-2.42468317</td><td>-1.982175</td><td>-1.343388</td><td>-2.0692887</td><td>-1.9460596</td><td>1.0109679</td><td> 2.3566886</td><td>-0.2918026</td><td>⋯</td><td>0.2894103</td><td>0.9205599</td><td>0.06451494</td><td> 0.61939774</td><td>-1.5979746</td><td>-2.31924199</td><td>1.5137978</td><td>-0.01529477</td><td>-2.96096702</td><td> 1.411194</td></tr>\n",
       "</tbody>\n",
       "</table>\n"
      ],
      "text/latex": [
       "A data.frame: 3 × 105\n",
       "\\begin{tabular}{r|lllllllllllllllllllll}\n",
       "  & C3L.02613 & C3L.04072 & C3N.04282 & C3L.03639 & C3L.01328 & C3L.00277 & C3L.02604 & C3L.01971 & C3N.01167 & C3L.01031 & ⋯ & C3N.00436 & C3N.02944 & C3L.03356 & C3N.02589 & C3L.03388 & C3N.01388 & C3N.00198 & C3N.01380 & C3N.01715 & C3N.03426\\\\\n",
       "  & <dbl> & <dbl> & <dbl> & <dbl> & <dbl> & <dbl> & <dbl> & <dbl> & <dbl> & <dbl> & ⋯ & <dbl> & <dbl> & <dbl> & <dbl> & <dbl> & <dbl> & <dbl> & <dbl> & <dbl> & <dbl>\\\\\n",
       "\\hline\n",
       "\tA1BG & -0.6208639 & -1.5641153 & -0.03598678 & -1.499229 & -1.030409 & -0.3632095 & -0.7079235 & 0.4973275 &  0.1398404 &  0.4582964 & ⋯ & 0.5012384 & 0.1962640 & 0.45922795 &  0.05454697 & -0.3385884 & -0.06842248 & 0.5971399 &  0.72255331 &  0.04504042 & -1.018051\\\\\n",
       "\tA1BG-AS1 & -0.8663854 & -0.8302223 &  0.11105590 & -1.422656 & -1.161717 & -1.8484433 & -0.5696947 & 0.3464761 & -0.2569541 &  0.4220428 & ⋯ & 0.3638638 & 0.3672824 & 0.31895969 & -0.71812584 & -0.2179410 & -0.09720916 & 0.3269861 &  0.70061799 &  0.30224950 & -1.071129\\\\\n",
       "\tA1CF & -2.8039993 & -3.0594026 & -2.42468317 & -1.982175 & -1.343388 & -2.0692887 & -1.9460596 & 1.0109679 &  2.3566886 & -0.2918026 & ⋯ & 0.2894103 & 0.9205599 & 0.06451494 &  0.61939774 & -1.5979746 & -2.31924199 & 1.5137978 & -0.01529477 & -2.96096702 &  1.411194\\\\\n",
       "\\end{tabular}\n"
      ],
      "text/markdown": [
       "\n",
       "A data.frame: 3 × 105\n",
       "\n",
       "| <!--/--> | C3L.02613 &lt;dbl&gt; | C3L.04072 &lt;dbl&gt; | C3N.04282 &lt;dbl&gt; | C3L.03639 &lt;dbl&gt; | C3L.01328 &lt;dbl&gt; | C3L.00277 &lt;dbl&gt; | C3L.02604 &lt;dbl&gt; | C3L.01971 &lt;dbl&gt; | C3N.01167 &lt;dbl&gt; | C3L.01031 &lt;dbl&gt; | ⋯ ⋯ | C3N.00436 &lt;dbl&gt; | C3N.02944 &lt;dbl&gt; | C3L.03356 &lt;dbl&gt; | C3N.02589 &lt;dbl&gt; | C3L.03388 &lt;dbl&gt; | C3N.01388 &lt;dbl&gt; | C3N.00198 &lt;dbl&gt; | C3N.01380 &lt;dbl&gt; | C3N.01715 &lt;dbl&gt; | C3N.03426 &lt;dbl&gt; |\n",
       "|---|---|---|---|---|---|---|---|---|---|---|---|---|---|---|---|---|---|---|---|---|---|\n",
       "| A1BG | -0.6208639 | -1.5641153 | -0.03598678 | -1.499229 | -1.030409 | -0.3632095 | -0.7079235 | 0.4973275 |  0.1398404 |  0.4582964 | ⋯ | 0.5012384 | 0.1962640 | 0.45922795 |  0.05454697 | -0.3385884 | -0.06842248 | 0.5971399 |  0.72255331 |  0.04504042 | -1.018051 |\n",
       "| A1BG-AS1 | -0.8663854 | -0.8302223 |  0.11105590 | -1.422656 | -1.161717 | -1.8484433 | -0.5696947 | 0.3464761 | -0.2569541 |  0.4220428 | ⋯ | 0.3638638 | 0.3672824 | 0.31895969 | -0.71812584 | -0.2179410 | -0.09720916 | 0.3269861 |  0.70061799 |  0.30224950 | -1.071129 |\n",
       "| A1CF | -2.8039993 | -3.0594026 | -2.42468317 | -1.982175 | -1.343388 | -2.0692887 | -1.9460596 | 1.0109679 |  2.3566886 | -0.2918026 | ⋯ | 0.2894103 | 0.9205599 | 0.06451494 |  0.61939774 | -1.5979746 | -2.31924199 | 1.5137978 | -0.01529477 | -2.96096702 |  1.411194 |\n",
       "\n"
      ],
      "text/plain": [
       "         C3L.02613  C3L.04072  C3N.04282   C3L.03639 C3L.01328 C3L.00277 \n",
       "A1BG     -0.6208639 -1.5641153 -0.03598678 -1.499229 -1.030409 -0.3632095\n",
       "A1BG-AS1 -0.8663854 -0.8302223  0.11105590 -1.422656 -1.161717 -1.8484433\n",
       "A1CF     -2.8039993 -3.0594026 -2.42468317 -1.982175 -1.343388 -2.0692887\n",
       "         C3L.02604  C3L.01971 C3N.01167  C3L.01031  ⋯ C3N.00436 C3N.02944\n",
       "A1BG     -0.7079235 0.4973275  0.1398404  0.4582964 ⋯ 0.5012384 0.1962640\n",
       "A1BG-AS1 -0.5696947 0.3464761 -0.2569541  0.4220428 ⋯ 0.3638638 0.3672824\n",
       "A1CF     -1.9460596 1.0109679  2.3566886 -0.2918026 ⋯ 0.2894103 0.9205599\n",
       "         C3L.03356  C3N.02589   C3L.03388  C3N.01388   C3N.00198 C3N.01380  \n",
       "A1BG     0.45922795  0.05454697 -0.3385884 -0.06842248 0.5971399  0.72255331\n",
       "A1BG-AS1 0.31895969 -0.71812584 -0.2179410 -0.09720916 0.3269861  0.70061799\n",
       "A1CF     0.06451494  0.61939774 -1.5979746 -2.31924199 1.5137978 -0.01529477\n",
       "         C3N.01715   C3N.03426\n",
       "A1BG      0.04504042 -1.018051\n",
       "A1BG-AS1  0.30224950 -1.071129\n",
       "A1CF     -2.96096702  1.411194"
      ]
     },
     "metadata": {},
     "output_type": "display_data"
    }
   ],
   "source": [
    "rna <- read.table(paste0(PATH_DATA, \"mRNA_RSEM_UQ_log2_Tumor.cct\"), header = TRUE, row.names = 1, sep = \"\\t\", na.strings = \"NA\")\n",
    "rna <- rna %>%\n",
    "    # Order columns as in valid_samples\n",
    "    select(valid_samples$ID2) %>%\n",
    "    # sort the columns by the order in valid_samples\n",
    "    select(order(match(names(.), valid_samples$ID2))) %>%\n",
    "    # Remove rows with any NAs or any zero values\n",
    "    filter(rowSums(is.na(.)) == 0) %>%\n",
    "    filter(rowSums(. == 0) == 0) %>%\n",
    "    # Subtract the median of each row \n",
    "    mutate(row_median = apply(., 1, median, na.rm = TRUE)) %>%\n",
    "    mutate(across(-row_median, ~ . - row_median)) %>%\n",
    "    select(-row_median)\n",
    "\n",
    "dim(rna)\n",
    "head(rna, 3)"
   ]
  },
  {
   "cell_type": "code",
   "execution_count": 187,
   "id": "7408e4cf",
   "metadata": {
    "vscode": {
     "languageId": "r"
    }
   },
   "outputs": [
    {
     "data": {
      "text/html": [
       "<style>\n",
       ".list-inline {list-style: none; margin:0; padding: 0}\n",
       ".list-inline>li {display: inline-block}\n",
       ".list-inline>li:not(:last-child)::after {content: \"\\00b7\"; padding: 0 .5ex}\n",
       "</style>\n",
       "<ol class=list-inline><li>1454</li><li>105</li></ol>\n"
      ],
      "text/latex": [
       "\\begin{enumerate*}\n",
       "\\item 1454\n",
       "\\item 105\n",
       "\\end{enumerate*}\n"
      ],
      "text/markdown": [
       "1. 1454\n",
       "2. 105\n",
       "\n",
       "\n"
      ],
      "text/plain": [
       "[1] 1454  105"
      ]
     },
     "metadata": {},
     "output_type": "display_data"
    },
    {
     "data": {
      "text/html": [
       "<table class=\"dataframe\">\n",
       "<caption>A data.frame: 3 × 105</caption>\n",
       "<thead>\n",
       "\t<tr><th></th><th scope=col>C3L.02613</th><th scope=col>C3L.04072</th><th scope=col>C3N.04282</th><th scope=col>C3L.03639</th><th scope=col>C3L.01328</th><th scope=col>C3L.00277</th><th scope=col>C3L.02604</th><th scope=col>C3L.01971</th><th scope=col>C3N.01167</th><th scope=col>C3L.01031</th><th scope=col>⋯</th><th scope=col>C3N.00436</th><th scope=col>C3N.02944</th><th scope=col>C3L.03356</th><th scope=col>C3N.02589</th><th scope=col>C3L.03388</th><th scope=col>C3N.01388</th><th scope=col>C3N.00198</th><th scope=col>C3N.01380</th><th scope=col>C3N.01715</th><th scope=col>C3N.03426</th></tr>\n",
       "\t<tr><th></th><th scope=col>&lt;dbl&gt;</th><th scope=col>&lt;dbl&gt;</th><th scope=col>&lt;dbl&gt;</th><th scope=col>&lt;dbl&gt;</th><th scope=col>&lt;dbl&gt;</th><th scope=col>&lt;dbl&gt;</th><th scope=col>&lt;dbl&gt;</th><th scope=col>&lt;dbl&gt;</th><th scope=col>&lt;dbl&gt;</th><th scope=col>&lt;dbl&gt;</th><th scope=col>⋯</th><th scope=col>&lt;dbl&gt;</th><th scope=col>&lt;dbl&gt;</th><th scope=col>&lt;dbl&gt;</th><th scope=col>&lt;dbl&gt;</th><th scope=col>&lt;dbl&gt;</th><th scope=col>&lt;dbl&gt;</th><th scope=col>&lt;dbl&gt;</th><th scope=col>&lt;dbl&gt;</th><th scope=col>&lt;dbl&gt;</th><th scope=col>&lt;dbl&gt;</th></tr>\n",
       "</thead>\n",
       "<tbody>\n",
       "\t<tr><th scope=row>n[TMT11plex]RHEEGHMLNC[Carbamidomethyl]TC[Carbamidomethyl]FGQGR-N3H4F0S0G0</th><td> 0.2711286</td><td> 0.3086638</td><td> 1.1849827</td><td>-0.006491598</td><td> 1.9091718</td><td> 1.278178</td><td> 1.0885962</td><td>-0.7653889</td><td>-0.9867006</td><td>-0.5941954</td><td>⋯</td><td> 0.57288470</td><td> 0.9236759</td><td>-0.5551570</td><td>-0.24003358</td><td>-0.2509592</td><td> 0.05717399</td><td>-0.16628917</td><td>-0.5030644</td><td> 0.7816165</td><td> 1.034915863</td></tr>\n",
       "\t<tr><th scope=row>n[TMT11plex]LLQVVYLHSNNITK[TMT11plex]-N5H6F1S2G0</th><td>-0.1230223</td><td>-0.4341817</td><td> 0.2447100</td><td> 0.079600075</td><td>-0.9919879</td><td> 1.089329</td><td>-0.1866849</td><td> 0.3223009</td><td> 0.4387361</td><td> 0.2199116</td><td>⋯</td><td>-0.94928102</td><td>-1.3285715</td><td> 1.3734742</td><td> 0.73234040</td><td>-1.2241213</td><td>-0.83878453</td><td>-0.08174441</td><td> 0.7487903</td><td> 0.1999972</td><td>-0.779378985</td></tr>\n",
       "\t<tr><th scope=row>n[TMT11plex]NYTADYDK[TMT11plex]-N2H8F0S0G0</th><td> 0.5089437</td><td> 0.5752988</td><td>-0.2466641</td><td>-0.213866510</td><td> 0.1689218</td><td>-1.305813</td><td>-0.3507612</td><td> 0.3861138</td><td>-0.9076605</td><td>-0.2210551</td><td>⋯</td><td> 0.08706562</td><td>-0.9358628</td><td>-0.7485728</td><td>-0.04754478</td><td> 0.6560518</td><td>-0.76525368</td><td>-1.11018380</td><td>-0.9045606</td><td>-0.2454482</td><td> 0.006003751</td></tr>\n",
       "</tbody>\n",
       "</table>\n"
      ],
      "text/latex": [
       "A data.frame: 3 × 105\n",
       "\\begin{tabular}{r|lllllllllllllllllllll}\n",
       "  & C3L.02613 & C3L.04072 & C3N.04282 & C3L.03639 & C3L.01328 & C3L.00277 & C3L.02604 & C3L.01971 & C3N.01167 & C3L.01031 & ⋯ & C3N.00436 & C3N.02944 & C3L.03356 & C3N.02589 & C3L.03388 & C3N.01388 & C3N.00198 & C3N.01380 & C3N.01715 & C3N.03426\\\\\n",
       "  & <dbl> & <dbl> & <dbl> & <dbl> & <dbl> & <dbl> & <dbl> & <dbl> & <dbl> & <dbl> & ⋯ & <dbl> & <dbl> & <dbl> & <dbl> & <dbl> & <dbl> & <dbl> & <dbl> & <dbl> & <dbl>\\\\\n",
       "\\hline\n",
       "\tn{[}TMT11plex{]}RHEEGHMLNC{[}Carbamidomethyl{]}TC{[}Carbamidomethyl{]}FGQGR-N3H4F0S0G0 &  0.2711286 &  0.3086638 &  1.1849827 & -0.006491598 &  1.9091718 &  1.278178 &  1.0885962 & -0.7653889 & -0.9867006 & -0.5941954 & ⋯ &  0.57288470 &  0.9236759 & -0.5551570 & -0.24003358 & -0.2509592 &  0.05717399 & -0.16628917 & -0.5030644 &  0.7816165 &  1.034915863\\\\\n",
       "\tn{[}TMT11plex{]}LLQVVYLHSNNITK{[}TMT11plex{]}-N5H6F1S2G0 & -0.1230223 & -0.4341817 &  0.2447100 &  0.079600075 & -0.9919879 &  1.089329 & -0.1866849 &  0.3223009 &  0.4387361 &  0.2199116 & ⋯ & -0.94928102 & -1.3285715 &  1.3734742 &  0.73234040 & -1.2241213 & -0.83878453 & -0.08174441 &  0.7487903 &  0.1999972 & -0.779378985\\\\\n",
       "\tn{[}TMT11plex{]}NYTADYDK{[}TMT11plex{]}-N2H8F0S0G0 &  0.5089437 &  0.5752988 & -0.2466641 & -0.213866510 &  0.1689218 & -1.305813 & -0.3507612 &  0.3861138 & -0.9076605 & -0.2210551 & ⋯ &  0.08706562 & -0.9358628 & -0.7485728 & -0.04754478 &  0.6560518 & -0.76525368 & -1.11018380 & -0.9045606 & -0.2454482 &  0.006003751\\\\\n",
       "\\end{tabular}\n"
      ],
      "text/markdown": [
       "\n",
       "A data.frame: 3 × 105\n",
       "\n",
       "| <!--/--> | C3L.02613 &lt;dbl&gt; | C3L.04072 &lt;dbl&gt; | C3N.04282 &lt;dbl&gt; | C3L.03639 &lt;dbl&gt; | C3L.01328 &lt;dbl&gt; | C3L.00277 &lt;dbl&gt; | C3L.02604 &lt;dbl&gt; | C3L.01971 &lt;dbl&gt; | C3N.01167 &lt;dbl&gt; | C3L.01031 &lt;dbl&gt; | ⋯ ⋯ | C3N.00436 &lt;dbl&gt; | C3N.02944 &lt;dbl&gt; | C3L.03356 &lt;dbl&gt; | C3N.02589 &lt;dbl&gt; | C3L.03388 &lt;dbl&gt; | C3N.01388 &lt;dbl&gt; | C3N.00198 &lt;dbl&gt; | C3N.01380 &lt;dbl&gt; | C3N.01715 &lt;dbl&gt; | C3N.03426 &lt;dbl&gt; |\n",
       "|---|---|---|---|---|---|---|---|---|---|---|---|---|---|---|---|---|---|---|---|---|---|\n",
       "| n[TMT11plex]RHEEGHMLNC[Carbamidomethyl]TC[Carbamidomethyl]FGQGR-N3H4F0S0G0 |  0.2711286 |  0.3086638 |  1.1849827 | -0.006491598 |  1.9091718 |  1.278178 |  1.0885962 | -0.7653889 | -0.9867006 | -0.5941954 | ⋯ |  0.57288470 |  0.9236759 | -0.5551570 | -0.24003358 | -0.2509592 |  0.05717399 | -0.16628917 | -0.5030644 |  0.7816165 |  1.034915863 |\n",
       "| n[TMT11plex]LLQVVYLHSNNITK[TMT11plex]-N5H6F1S2G0 | -0.1230223 | -0.4341817 |  0.2447100 |  0.079600075 | -0.9919879 |  1.089329 | -0.1866849 |  0.3223009 |  0.4387361 |  0.2199116 | ⋯ | -0.94928102 | -1.3285715 |  1.3734742 |  0.73234040 | -1.2241213 | -0.83878453 | -0.08174441 |  0.7487903 |  0.1999972 | -0.779378985 |\n",
       "| n[TMT11plex]NYTADYDK[TMT11plex]-N2H8F0S0G0 |  0.5089437 |  0.5752988 | -0.2466641 | -0.213866510 |  0.1689218 | -1.305813 | -0.3507612 |  0.3861138 | -0.9076605 | -0.2210551 | ⋯ |  0.08706562 | -0.9358628 | -0.7485728 | -0.04754478 |  0.6560518 | -0.76525368 | -1.11018380 | -0.9045606 | -0.2454482 |  0.006003751 |\n",
       "\n"
      ],
      "text/plain": [
       "                                                                           C3L.02613 \n",
       "n[TMT11plex]RHEEGHMLNC[Carbamidomethyl]TC[Carbamidomethyl]FGQGR-N3H4F0S0G0  0.2711286\n",
       "n[TMT11plex]LLQVVYLHSNNITK[TMT11plex]-N5H6F1S2G0                           -0.1230223\n",
       "n[TMT11plex]NYTADYDK[TMT11plex]-N2H8F0S0G0                                  0.5089437\n",
       "                                                                           C3L.04072 \n",
       "n[TMT11plex]RHEEGHMLNC[Carbamidomethyl]TC[Carbamidomethyl]FGQGR-N3H4F0S0G0  0.3086638\n",
       "n[TMT11plex]LLQVVYLHSNNITK[TMT11plex]-N5H6F1S2G0                           -0.4341817\n",
       "n[TMT11plex]NYTADYDK[TMT11plex]-N2H8F0S0G0                                  0.5752988\n",
       "                                                                           C3N.04282 \n",
       "n[TMT11plex]RHEEGHMLNC[Carbamidomethyl]TC[Carbamidomethyl]FGQGR-N3H4F0S0G0  1.1849827\n",
       "n[TMT11plex]LLQVVYLHSNNITK[TMT11plex]-N5H6F1S2G0                            0.2447100\n",
       "n[TMT11plex]NYTADYDK[TMT11plex]-N2H8F0S0G0                                 -0.2466641\n",
       "                                                                           C3L.03639   \n",
       "n[TMT11plex]RHEEGHMLNC[Carbamidomethyl]TC[Carbamidomethyl]FGQGR-N3H4F0S0G0 -0.006491598\n",
       "n[TMT11plex]LLQVVYLHSNNITK[TMT11plex]-N5H6F1S2G0                            0.079600075\n",
       "n[TMT11plex]NYTADYDK[TMT11plex]-N2H8F0S0G0                                 -0.213866510\n",
       "                                                                           C3L.01328 \n",
       "n[TMT11plex]RHEEGHMLNC[Carbamidomethyl]TC[Carbamidomethyl]FGQGR-N3H4F0S0G0  1.9091718\n",
       "n[TMT11plex]LLQVVYLHSNNITK[TMT11plex]-N5H6F1S2G0                           -0.9919879\n",
       "n[TMT11plex]NYTADYDK[TMT11plex]-N2H8F0S0G0                                  0.1689218\n",
       "                                                                           C3L.00277\n",
       "n[TMT11plex]RHEEGHMLNC[Carbamidomethyl]TC[Carbamidomethyl]FGQGR-N3H4F0S0G0  1.278178\n",
       "n[TMT11plex]LLQVVYLHSNNITK[TMT11plex]-N5H6F1S2G0                            1.089329\n",
       "n[TMT11plex]NYTADYDK[TMT11plex]-N2H8F0S0G0                                 -1.305813\n",
       "                                                                           C3L.02604 \n",
       "n[TMT11plex]RHEEGHMLNC[Carbamidomethyl]TC[Carbamidomethyl]FGQGR-N3H4F0S0G0  1.0885962\n",
       "n[TMT11plex]LLQVVYLHSNNITK[TMT11plex]-N5H6F1S2G0                           -0.1866849\n",
       "n[TMT11plex]NYTADYDK[TMT11plex]-N2H8F0S0G0                                 -0.3507612\n",
       "                                                                           C3L.01971 \n",
       "n[TMT11plex]RHEEGHMLNC[Carbamidomethyl]TC[Carbamidomethyl]FGQGR-N3H4F0S0G0 -0.7653889\n",
       "n[TMT11plex]LLQVVYLHSNNITK[TMT11plex]-N5H6F1S2G0                            0.3223009\n",
       "n[TMT11plex]NYTADYDK[TMT11plex]-N2H8F0S0G0                                  0.3861138\n",
       "                                                                           C3N.01167 \n",
       "n[TMT11plex]RHEEGHMLNC[Carbamidomethyl]TC[Carbamidomethyl]FGQGR-N3H4F0S0G0 -0.9867006\n",
       "n[TMT11plex]LLQVVYLHSNNITK[TMT11plex]-N5H6F1S2G0                            0.4387361\n",
       "n[TMT11plex]NYTADYDK[TMT11plex]-N2H8F0S0G0                                 -0.9076605\n",
       "                                                                           C3L.01031 \n",
       "n[TMT11plex]RHEEGHMLNC[Carbamidomethyl]TC[Carbamidomethyl]FGQGR-N3H4F0S0G0 -0.5941954\n",
       "n[TMT11plex]LLQVVYLHSNNITK[TMT11plex]-N5H6F1S2G0                            0.2199116\n",
       "n[TMT11plex]NYTADYDK[TMT11plex]-N2H8F0S0G0                                 -0.2210551\n",
       "                                                                           ⋯\n",
       "n[TMT11plex]RHEEGHMLNC[Carbamidomethyl]TC[Carbamidomethyl]FGQGR-N3H4F0S0G0 ⋯\n",
       "n[TMT11plex]LLQVVYLHSNNITK[TMT11plex]-N5H6F1S2G0                           ⋯\n",
       "n[TMT11plex]NYTADYDK[TMT11plex]-N2H8F0S0G0                                 ⋯\n",
       "                                                                           C3N.00436  \n",
       "n[TMT11plex]RHEEGHMLNC[Carbamidomethyl]TC[Carbamidomethyl]FGQGR-N3H4F0S0G0  0.57288470\n",
       "n[TMT11plex]LLQVVYLHSNNITK[TMT11plex]-N5H6F1S2G0                           -0.94928102\n",
       "n[TMT11plex]NYTADYDK[TMT11plex]-N2H8F0S0G0                                  0.08706562\n",
       "                                                                           C3N.02944 \n",
       "n[TMT11plex]RHEEGHMLNC[Carbamidomethyl]TC[Carbamidomethyl]FGQGR-N3H4F0S0G0  0.9236759\n",
       "n[TMT11plex]LLQVVYLHSNNITK[TMT11plex]-N5H6F1S2G0                           -1.3285715\n",
       "n[TMT11plex]NYTADYDK[TMT11plex]-N2H8F0S0G0                                 -0.9358628\n",
       "                                                                           C3L.03356 \n",
       "n[TMT11plex]RHEEGHMLNC[Carbamidomethyl]TC[Carbamidomethyl]FGQGR-N3H4F0S0G0 -0.5551570\n",
       "n[TMT11plex]LLQVVYLHSNNITK[TMT11plex]-N5H6F1S2G0                            1.3734742\n",
       "n[TMT11plex]NYTADYDK[TMT11plex]-N2H8F0S0G0                                 -0.7485728\n",
       "                                                                           C3N.02589  \n",
       "n[TMT11plex]RHEEGHMLNC[Carbamidomethyl]TC[Carbamidomethyl]FGQGR-N3H4F0S0G0 -0.24003358\n",
       "n[TMT11plex]LLQVVYLHSNNITK[TMT11plex]-N5H6F1S2G0                            0.73234040\n",
       "n[TMT11plex]NYTADYDK[TMT11plex]-N2H8F0S0G0                                 -0.04754478\n",
       "                                                                           C3L.03388 \n",
       "n[TMT11plex]RHEEGHMLNC[Carbamidomethyl]TC[Carbamidomethyl]FGQGR-N3H4F0S0G0 -0.2509592\n",
       "n[TMT11plex]LLQVVYLHSNNITK[TMT11plex]-N5H6F1S2G0                           -1.2241213\n",
       "n[TMT11plex]NYTADYDK[TMT11plex]-N2H8F0S0G0                                  0.6560518\n",
       "                                                                           C3N.01388  \n",
       "n[TMT11plex]RHEEGHMLNC[Carbamidomethyl]TC[Carbamidomethyl]FGQGR-N3H4F0S0G0  0.05717399\n",
       "n[TMT11plex]LLQVVYLHSNNITK[TMT11plex]-N5H6F1S2G0                           -0.83878453\n",
       "n[TMT11plex]NYTADYDK[TMT11plex]-N2H8F0S0G0                                 -0.76525368\n",
       "                                                                           C3N.00198  \n",
       "n[TMT11plex]RHEEGHMLNC[Carbamidomethyl]TC[Carbamidomethyl]FGQGR-N3H4F0S0G0 -0.16628917\n",
       "n[TMT11plex]LLQVVYLHSNNITK[TMT11plex]-N5H6F1S2G0                           -0.08174441\n",
       "n[TMT11plex]NYTADYDK[TMT11plex]-N2H8F0S0G0                                 -1.11018380\n",
       "                                                                           C3N.01380 \n",
       "n[TMT11plex]RHEEGHMLNC[Carbamidomethyl]TC[Carbamidomethyl]FGQGR-N3H4F0S0G0 -0.5030644\n",
       "n[TMT11plex]LLQVVYLHSNNITK[TMT11plex]-N5H6F1S2G0                            0.7487903\n",
       "n[TMT11plex]NYTADYDK[TMT11plex]-N2H8F0S0G0                                 -0.9045606\n",
       "                                                                           C3N.01715 \n",
       "n[TMT11plex]RHEEGHMLNC[Carbamidomethyl]TC[Carbamidomethyl]FGQGR-N3H4F0S0G0  0.7816165\n",
       "n[TMT11plex]LLQVVYLHSNNITK[TMT11plex]-N5H6F1S2G0                            0.1999972\n",
       "n[TMT11plex]NYTADYDK[TMT11plex]-N2H8F0S0G0                                 -0.2454482\n",
       "                                                                           C3N.03426   \n",
       "n[TMT11plex]RHEEGHMLNC[Carbamidomethyl]TC[Carbamidomethyl]FGQGR-N3H4F0S0G0  1.034915863\n",
       "n[TMT11plex]LLQVVYLHSNNITK[TMT11plex]-N5H6F1S2G0                           -0.779378985\n",
       "n[TMT11plex]NYTADYDK[TMT11plex]-N2H8F0S0G0                                  0.006003751"
      ]
     },
     "metadata": {},
     "output_type": "display_data"
    }
   ],
   "source": [
    "# glyco <- read.table(paste0(PATH_DATA, \"N-glycoproteomics_peptide_level_ratio_tumor.cct\"), header = TRUE, row.names = 1, sep = \"\\t\", na.strings = \"NA\")\n",
    "glyco <- read.table(paste0(PATH_DATA, \"N-glycoproteomics_Site_level_ratio_tumor.cct\"), header = TRUE, row.names = 1, sep = \"\\t\", na.strings = \"NA\")\n",
    "glyco <- glyco %>%\n",
    "    # Order columns as in valid_samples\n",
    "    select(valid_samples$ID2) %>%\n",
    "    # sort the columns by the order in valid_samples\n",
    "    select(order(match(names(.), valid_samples$ID2))) %>%\n",
    "    # Remove rows with all NAs\n",
    "    filter(rowSums(is.na(.)) == 0) #%>%\n",
    "    # Subtract the median of each row \n",
    "    # mutate(.data = ., row_median = apply(., 1, median, na.rm = TRUE)) %>%\n",
    "    # mutate(across(-row_median, ~ . - row_median)) %>%\n",
    "    # select(-row_median)\n",
    "\n",
    "dim(glyco)\n",
    "head(glyco, 3)"
   ]
  },
  {
   "cell_type": "code",
   "execution_count": 188,
   "id": "d0ae3160",
   "metadata": {
    "vscode": {
     "languageId": "r"
    }
   },
   "outputs": [
    {
     "data": {
      "text/html": [
       "<style>\n",
       ".list-inline {list-style: none; margin:0; padding: 0}\n",
       ".list-inline>li {display: inline-block}\n",
       ".list-inline>li:not(:last-child)::after {content: \"\\00b7\"; padding: 0 .5ex}\n",
       "</style>\n",
       "<ol class=list-inline><li>2243</li><li>105</li></ol>\n"
      ],
      "text/latex": [
       "\\begin{enumerate*}\n",
       "\\item 2243\n",
       "\\item 105\n",
       "\\end{enumerate*}\n"
      ],
      "text/markdown": [
       "1. 2243\n",
       "2. 105\n",
       "\n",
       "\n"
      ],
      "text/plain": [
       "[1] 2243  105"
      ]
     },
     "metadata": {},
     "output_type": "display_data"
    },
    {
     "data": {
      "text/html": [
       "<table class=\"dataframe\">\n",
       "<caption>A data.frame: 3 × 105</caption>\n",
       "<thead>\n",
       "\t<tr><th></th><th scope=col>C3L.02613</th><th scope=col>C3L.04072</th><th scope=col>C3N.04282</th><th scope=col>C3L.03639</th><th scope=col>C3L.01328</th><th scope=col>C3L.00277</th><th scope=col>C3L.02604</th><th scope=col>C3L.01971</th><th scope=col>C3N.01167</th><th scope=col>C3L.01031</th><th scope=col>⋯</th><th scope=col>C3N.00436</th><th scope=col>C3N.02944</th><th scope=col>C3L.03356</th><th scope=col>C3N.02589</th><th scope=col>C3L.03388</th><th scope=col>C3N.01388</th><th scope=col>C3N.00198</th><th scope=col>C3N.01380</th><th scope=col>C3N.01715</th><th scope=col>C3N.03426</th></tr>\n",
       "\t<tr><th></th><th scope=col>&lt;dbl&gt;</th><th scope=col>&lt;dbl&gt;</th><th scope=col>&lt;dbl&gt;</th><th scope=col>&lt;dbl&gt;</th><th scope=col>&lt;dbl&gt;</th><th scope=col>&lt;dbl&gt;</th><th scope=col>&lt;dbl&gt;</th><th scope=col>&lt;dbl&gt;</th><th scope=col>&lt;dbl&gt;</th><th scope=col>&lt;dbl&gt;</th><th scope=col>⋯</th><th scope=col>&lt;dbl&gt;</th><th scope=col>&lt;dbl&gt;</th><th scope=col>&lt;dbl&gt;</th><th scope=col>&lt;dbl&gt;</th><th scope=col>&lt;dbl&gt;</th><th scope=col>&lt;dbl&gt;</th><th scope=col>&lt;dbl&gt;</th><th scope=col>&lt;dbl&gt;</th><th scope=col>&lt;dbl&gt;</th><th scope=col>&lt;dbl&gt;</th></tr>\n",
       "</thead>\n",
       "<tbody>\n",
       "\t<tr><th scope=row>NP_000028.3_779_783_1_1_S781</th><td>-0.04838673</td><td>-1.4066365</td><td>-0.02741978</td><td> 0.96664697</td><td>-0.2366441</td><td>-1.2230832</td><td>0.92415655</td><td> 1.399600</td><td>-0.03264223</td><td>-0.3562723</td><td>⋯</td><td>0.7696804</td><td> 1.0986698</td><td>0.9361254</td><td>-0.9221319</td><td>-0.2817887</td><td> 4.59423084</td><td>1.2870355</td><td>0.7187544</td><td> 2.3389445</td><td> 4.6395828</td></tr>\n",
       "\t<tr><th scope=row>NP_000028.3_834_834_1_1_S834</th><td>-1.32582108</td><td> 0.0000000</td><td>-0.57279872</td><td> 0.64190458</td><td>-0.3305412</td><td>-0.6097459</td><td>0.60406560</td><td> 1.713517</td><td>-0.13952299</td><td>-0.4036416</td><td>⋯</td><td>0.1736147</td><td> 0.6609779</td><td>0.5472400</td><td>-0.6240852</td><td>-0.1072110</td><td> 3.66382673</td><td>0.5910830</td><td>0.5254788</td><td> 2.5417091</td><td> 3.5120566</td></tr>\n",
       "\t<tr><th scope=row>NP_000090.1_43_43_1_1_S43</th><td>-1.07956346</td><td>-0.8113492</td><td>-0.36560071</td><td>-0.02966643</td><td> 0.4662583</td><td> 1.6435010</td><td>0.02305836</td><td>-1.080684</td><td>-0.38535324</td><td>-0.4929099</td><td>⋯</td><td>0.2672333</td><td>-0.8759604</td><td>0.1960877</td><td> 0.7051428</td><td>-0.1503937</td><td>-0.02100318</td><td>0.6130231</td><td>0.4299193</td><td>-0.7458884</td><td>-0.1079166</td></tr>\n",
       "</tbody>\n",
       "</table>\n"
      ],
      "text/latex": [
       "A data.frame: 3 × 105\n",
       "\\begin{tabular}{r|lllllllllllllllllllll}\n",
       "  & C3L.02613 & C3L.04072 & C3N.04282 & C3L.03639 & C3L.01328 & C3L.00277 & C3L.02604 & C3L.01971 & C3N.01167 & C3L.01031 & ⋯ & C3N.00436 & C3N.02944 & C3L.03356 & C3N.02589 & C3L.03388 & C3N.01388 & C3N.00198 & C3N.01380 & C3N.01715 & C3N.03426\\\\\n",
       "  & <dbl> & <dbl> & <dbl> & <dbl> & <dbl> & <dbl> & <dbl> & <dbl> & <dbl> & <dbl> & ⋯ & <dbl> & <dbl> & <dbl> & <dbl> & <dbl> & <dbl> & <dbl> & <dbl> & <dbl> & <dbl>\\\\\n",
       "\\hline\n",
       "\tNP\\_000028.3\\_779\\_783\\_1\\_1\\_S781 & -0.04838673 & -1.4066365 & -0.02741978 &  0.96664697 & -0.2366441 & -1.2230832 & 0.92415655 &  1.399600 & -0.03264223 & -0.3562723 & ⋯ & 0.7696804 &  1.0986698 & 0.9361254 & -0.9221319 & -0.2817887 &  4.59423084 & 1.2870355 & 0.7187544 &  2.3389445 &  4.6395828\\\\\n",
       "\tNP\\_000028.3\\_834\\_834\\_1\\_1\\_S834 & -1.32582108 &  0.0000000 & -0.57279872 &  0.64190458 & -0.3305412 & -0.6097459 & 0.60406560 &  1.713517 & -0.13952299 & -0.4036416 & ⋯ & 0.1736147 &  0.6609779 & 0.5472400 & -0.6240852 & -0.1072110 &  3.66382673 & 0.5910830 & 0.5254788 &  2.5417091 &  3.5120566\\\\\n",
       "\tNP\\_000090.1\\_43\\_43\\_1\\_1\\_S43 & -1.07956346 & -0.8113492 & -0.36560071 & -0.02966643 &  0.4662583 &  1.6435010 & 0.02305836 & -1.080684 & -0.38535324 & -0.4929099 & ⋯ & 0.2672333 & -0.8759604 & 0.1960877 &  0.7051428 & -0.1503937 & -0.02100318 & 0.6130231 & 0.4299193 & -0.7458884 & -0.1079166\\\\\n",
       "\\end{tabular}\n"
      ],
      "text/markdown": [
       "\n",
       "A data.frame: 3 × 105\n",
       "\n",
       "| <!--/--> | C3L.02613 &lt;dbl&gt; | C3L.04072 &lt;dbl&gt; | C3N.04282 &lt;dbl&gt; | C3L.03639 &lt;dbl&gt; | C3L.01328 &lt;dbl&gt; | C3L.00277 &lt;dbl&gt; | C3L.02604 &lt;dbl&gt; | C3L.01971 &lt;dbl&gt; | C3N.01167 &lt;dbl&gt; | C3L.01031 &lt;dbl&gt; | ⋯ ⋯ | C3N.00436 &lt;dbl&gt; | C3N.02944 &lt;dbl&gt; | C3L.03356 &lt;dbl&gt; | C3N.02589 &lt;dbl&gt; | C3L.03388 &lt;dbl&gt; | C3N.01388 &lt;dbl&gt; | C3N.00198 &lt;dbl&gt; | C3N.01380 &lt;dbl&gt; | C3N.01715 &lt;dbl&gt; | C3N.03426 &lt;dbl&gt; |\n",
       "|---|---|---|---|---|---|---|---|---|---|---|---|---|---|---|---|---|---|---|---|---|---|\n",
       "| NP_000028.3_779_783_1_1_S781 | -0.04838673 | -1.4066365 | -0.02741978 |  0.96664697 | -0.2366441 | -1.2230832 | 0.92415655 |  1.399600 | -0.03264223 | -0.3562723 | ⋯ | 0.7696804 |  1.0986698 | 0.9361254 | -0.9221319 | -0.2817887 |  4.59423084 | 1.2870355 | 0.7187544 |  2.3389445 |  4.6395828 |\n",
       "| NP_000028.3_834_834_1_1_S834 | -1.32582108 |  0.0000000 | -0.57279872 |  0.64190458 | -0.3305412 | -0.6097459 | 0.60406560 |  1.713517 | -0.13952299 | -0.4036416 | ⋯ | 0.1736147 |  0.6609779 | 0.5472400 | -0.6240852 | -0.1072110 |  3.66382673 | 0.5910830 | 0.5254788 |  2.5417091 |  3.5120566 |\n",
       "| NP_000090.1_43_43_1_1_S43 | -1.07956346 | -0.8113492 | -0.36560071 | -0.02966643 |  0.4662583 |  1.6435010 | 0.02305836 | -1.080684 | -0.38535324 | -0.4929099 | ⋯ | 0.2672333 | -0.8759604 | 0.1960877 |  0.7051428 | -0.1503937 | -0.02100318 | 0.6130231 | 0.4299193 | -0.7458884 | -0.1079166 |\n",
       "\n"
      ],
      "text/plain": [
       "                             C3L.02613   C3L.04072  C3N.04282   C3L.03639  \n",
       "NP_000028.3_779_783_1_1_S781 -0.04838673 -1.4066365 -0.02741978  0.96664697\n",
       "NP_000028.3_834_834_1_1_S834 -1.32582108  0.0000000 -0.57279872  0.64190458\n",
       "NP_000090.1_43_43_1_1_S43    -1.07956346 -0.8113492 -0.36560071 -0.02966643\n",
       "                             C3L.01328  C3L.00277  C3L.02604  C3L.01971\n",
       "NP_000028.3_779_783_1_1_S781 -0.2366441 -1.2230832 0.92415655  1.399600\n",
       "NP_000028.3_834_834_1_1_S834 -0.3305412 -0.6097459 0.60406560  1.713517\n",
       "NP_000090.1_43_43_1_1_S43     0.4662583  1.6435010 0.02305836 -1.080684\n",
       "                             C3N.01167   C3L.01031  ⋯ C3N.00436 C3N.02944 \n",
       "NP_000028.3_779_783_1_1_S781 -0.03264223 -0.3562723 ⋯ 0.7696804  1.0986698\n",
       "NP_000028.3_834_834_1_1_S834 -0.13952299 -0.4036416 ⋯ 0.1736147  0.6609779\n",
       "NP_000090.1_43_43_1_1_S43    -0.38535324 -0.4929099 ⋯ 0.2672333 -0.8759604\n",
       "                             C3L.03356 C3N.02589  C3L.03388  C3N.01388  \n",
       "NP_000028.3_779_783_1_1_S781 0.9361254 -0.9221319 -0.2817887  4.59423084\n",
       "NP_000028.3_834_834_1_1_S834 0.5472400 -0.6240852 -0.1072110  3.66382673\n",
       "NP_000090.1_43_43_1_1_S43    0.1960877  0.7051428 -0.1503937 -0.02100318\n",
       "                             C3N.00198 C3N.01380 C3N.01715  C3N.03426 \n",
       "NP_000028.3_779_783_1_1_S781 1.2870355 0.7187544  2.3389445  4.6395828\n",
       "NP_000028.3_834_834_1_1_S834 0.5910830 0.5254788  2.5417091  3.5120566\n",
       "NP_000090.1_43_43_1_1_S43    0.6130231 0.4299193 -0.7458884 -0.1079166"
      ]
     },
     "metadata": {},
     "output_type": "display_data"
    }
   ],
   "source": [
    "# psty <- read.table(paste0(PATH_DATA, \"phosphoproteomics_gene_level_MD_abundance_tumor.cct\"), header = TRUE, row.names = 1, sep = \"\\t\", na.strings = \"NA\")\n",
    "# psty <- read.table(paste0(PATH_DATA, \"phosphoproteomics_site_level_MD_abundance_tumor.cct\"), header = TRUE, row.names = 1, sep = \"\\t\", na.strings = \"NA\")\n",
    "psty <- read.table(paste0(PATH_DATA, \"phosphoproteomics_MultiSite_level_MD_abundance_tumor.cct\"), header = TRUE, row.names = 1, sep = \"\\t\", na.strings = \"NA\")\n",
    "psty <- psty %>%\n",
    "    # Only select columns that are in valid_samples\n",
    "    select(valid_samples$ID2) %>%\n",
    "    # sort the columns by the order in valid_samples\n",
    "    select(order(match(names(.), valid_samples$ID2))) %>%\n",
    "    # Remove rows with all NAs or too small values\n",
    "    filter(rowSums(is.na(.)) == 0) %>%\n",
    "    # filter(rowSums(. < 1e-10) == 0) %>%\n",
    "    # Subtract the median of each row \n",
    "    mutate(row_median = apply(., 1, median, na.rm = TRUE)) %>%\n",
    "    mutate(across(-row_median, ~ . - row_median)) %>%\n",
    "    # mutate(across(-row_median, ~ . / row_median)) %>%\n",
    "    select(-row_median)# %>%\n",
    "    # Do log2 transformation\n",
    "    # mutate(across(everything(), ~ log2(pmax(., 1e-10))))\n",
    "    # mutate(across(everything(), ~ log2(.)))\n",
    "dim(psty)\n",
    "head(psty, 3)"
   ]
  },
  {
   "cell_type": "code",
   "execution_count": 189,
   "id": "3f15473d",
   "metadata": {
    "vscode": {
     "languageId": "r"
    }
   },
   "outputs": [
    {
     "data": {
      "text/html": [
       "<table class=\"dataframe\">\n",
       "<caption>A data.frame: 6 × 105</caption>\n",
       "<thead>\n",
       "\t<tr><th></th><th scope=col>C3L.02613</th><th scope=col>C3L.04072</th><th scope=col>C3N.04282</th><th scope=col>C3L.03639</th><th scope=col>C3L.01328</th><th scope=col>C3L.00277</th><th scope=col>C3L.02604</th><th scope=col>C3L.01971</th><th scope=col>C3N.01167</th><th scope=col>C3L.01031</th><th scope=col>⋯</th><th scope=col>C3N.00436</th><th scope=col>C3N.02944</th><th scope=col>C3L.03356</th><th scope=col>C3N.02589</th><th scope=col>C3L.03388</th><th scope=col>C3N.01388</th><th scope=col>C3N.00198</th><th scope=col>C3N.01380</th><th scope=col>C3N.01715</th><th scope=col>C3N.03426</th></tr>\n",
       "\t<tr><th></th><th scope=col>&lt;dbl&gt;</th><th scope=col>&lt;dbl&gt;</th><th scope=col>&lt;dbl&gt;</th><th scope=col>&lt;dbl&gt;</th><th scope=col>&lt;dbl&gt;</th><th scope=col>&lt;dbl&gt;</th><th scope=col>&lt;dbl&gt;</th><th scope=col>&lt;dbl&gt;</th><th scope=col>&lt;dbl&gt;</th><th scope=col>&lt;dbl&gt;</th><th scope=col>⋯</th><th scope=col>&lt;dbl&gt;</th><th scope=col>&lt;dbl&gt;</th><th scope=col>&lt;dbl&gt;</th><th scope=col>&lt;dbl&gt;</th><th scope=col>&lt;dbl&gt;</th><th scope=col>&lt;dbl&gt;</th><th scope=col>&lt;dbl&gt;</th><th scope=col>&lt;dbl&gt;</th><th scope=col>&lt;dbl&gt;</th><th scope=col>&lt;dbl&gt;</th></tr>\n",
       "</thead>\n",
       "<tbody>\n",
       "\t<tr><th scope=row>SAMD11</th><td>0.11468</td><td>0.01621</td><td>-0.04934</td><td>0.13109</td><td>0.00122</td><td>-0.38004</td><td>0.07121</td><td>-0.03695</td><td>0.36353</td><td>-0.21679</td><td>⋯</td><td>0.01575</td><td>0.03511</td><td>0.00414</td><td>0.02596</td><td>0.02280</td><td>-0.11879</td><td>-0.04517</td><td>0.04616</td><td>0.00432</td><td>0.00320</td></tr>\n",
       "\t<tr><th scope=row>NOC2L</th><td>0.11468</td><td>0.01621</td><td>-0.04934</td><td>0.13109</td><td>0.00122</td><td>-0.38004</td><td>0.07121</td><td>-0.03695</td><td>0.36353</td><td>-0.21679</td><td>⋯</td><td>0.01575</td><td>0.03511</td><td>0.00414</td><td>0.02596</td><td>0.02280</td><td>-0.11879</td><td>-0.04517</td><td>0.04616</td><td>0.00432</td><td>0.00320</td></tr>\n",
       "\t<tr><th scope=row>KLHL17</th><td>0.11468</td><td>0.01621</td><td>-0.04934</td><td>0.13109</td><td>0.00122</td><td>-0.38004</td><td>0.07121</td><td>-0.03695</td><td>0.36353</td><td>-0.21679</td><td>⋯</td><td>0.01575</td><td>0.03511</td><td>0.00414</td><td>0.02596</td><td>0.02280</td><td>-0.11879</td><td>-0.04517</td><td>0.04616</td><td>0.00432</td><td>0.00320</td></tr>\n",
       "\t<tr><th scope=row>PLEKHN1</th><td>0.11468</td><td>0.01621</td><td>-0.04934</td><td>0.13109</td><td>0.00122</td><td>-0.38004</td><td>0.07121</td><td>-0.03695</td><td>0.36353</td><td>-0.21679</td><td>⋯</td><td>0.01575</td><td>0.03511</td><td>0.00414</td><td>0.02596</td><td>0.02280</td><td>-0.11879</td><td>-0.04517</td><td>0.04616</td><td>0.00432</td><td>0.00320</td></tr>\n",
       "\t<tr><th scope=row>PERM1</th><td>0.11468</td><td>0.01621</td><td>-0.04934</td><td>0.13109</td><td>0.00122</td><td>-0.38004</td><td>0.07121</td><td>-0.03695</td><td>0.36353</td><td>-0.21679</td><td>⋯</td><td>0.01575</td><td>0.03511</td><td>0.00414</td><td>0.02596</td><td>0.02280</td><td>-0.11879</td><td>-0.04517</td><td>0.04616</td><td>0.00432</td><td>0.00320</td></tr>\n",
       "\t<tr><th scope=row>HES4</th><td>0.11350</td><td>0.01503</td><td>-0.05052</td><td>0.12991</td><td>0.00004</td><td>-0.38122</td><td>0.07003</td><td>-0.03813</td><td>0.36235</td><td> 0.20581</td><td>⋯</td><td>0.01457</td><td>0.03393</td><td>0.00296</td><td>0.02478</td><td>0.02162</td><td>-0.11997</td><td>-0.04635</td><td>0.04498</td><td>0.00314</td><td>0.00202</td></tr>\n",
       "</tbody>\n",
       "</table>\n"
      ],
      "text/latex": [
       "A data.frame: 6 × 105\n",
       "\\begin{tabular}{r|lllllllllllllllllllll}\n",
       "  & C3L.02613 & C3L.04072 & C3N.04282 & C3L.03639 & C3L.01328 & C3L.00277 & C3L.02604 & C3L.01971 & C3N.01167 & C3L.01031 & ⋯ & C3N.00436 & C3N.02944 & C3L.03356 & C3N.02589 & C3L.03388 & C3N.01388 & C3N.00198 & C3N.01380 & C3N.01715 & C3N.03426\\\\\n",
       "  & <dbl> & <dbl> & <dbl> & <dbl> & <dbl> & <dbl> & <dbl> & <dbl> & <dbl> & <dbl> & ⋯ & <dbl> & <dbl> & <dbl> & <dbl> & <dbl> & <dbl> & <dbl> & <dbl> & <dbl> & <dbl>\\\\\n",
       "\\hline\n",
       "\tSAMD11 & 0.11468 & 0.01621 & -0.04934 & 0.13109 & 0.00122 & -0.38004 & 0.07121 & -0.03695 & 0.36353 & -0.21679 & ⋯ & 0.01575 & 0.03511 & 0.00414 & 0.02596 & 0.02280 & -0.11879 & -0.04517 & 0.04616 & 0.00432 & 0.00320\\\\\n",
       "\tNOC2L & 0.11468 & 0.01621 & -0.04934 & 0.13109 & 0.00122 & -0.38004 & 0.07121 & -0.03695 & 0.36353 & -0.21679 & ⋯ & 0.01575 & 0.03511 & 0.00414 & 0.02596 & 0.02280 & -0.11879 & -0.04517 & 0.04616 & 0.00432 & 0.00320\\\\\n",
       "\tKLHL17 & 0.11468 & 0.01621 & -0.04934 & 0.13109 & 0.00122 & -0.38004 & 0.07121 & -0.03695 & 0.36353 & -0.21679 & ⋯ & 0.01575 & 0.03511 & 0.00414 & 0.02596 & 0.02280 & -0.11879 & -0.04517 & 0.04616 & 0.00432 & 0.00320\\\\\n",
       "\tPLEKHN1 & 0.11468 & 0.01621 & -0.04934 & 0.13109 & 0.00122 & -0.38004 & 0.07121 & -0.03695 & 0.36353 & -0.21679 & ⋯ & 0.01575 & 0.03511 & 0.00414 & 0.02596 & 0.02280 & -0.11879 & -0.04517 & 0.04616 & 0.00432 & 0.00320\\\\\n",
       "\tPERM1 & 0.11468 & 0.01621 & -0.04934 & 0.13109 & 0.00122 & -0.38004 & 0.07121 & -0.03695 & 0.36353 & -0.21679 & ⋯ & 0.01575 & 0.03511 & 0.00414 & 0.02596 & 0.02280 & -0.11879 & -0.04517 & 0.04616 & 0.00432 & 0.00320\\\\\n",
       "\tHES4 & 0.11350 & 0.01503 & -0.05052 & 0.12991 & 0.00004 & -0.38122 & 0.07003 & -0.03813 & 0.36235 &  0.20581 & ⋯ & 0.01457 & 0.03393 & 0.00296 & 0.02478 & 0.02162 & -0.11997 & -0.04635 & 0.04498 & 0.00314 & 0.00202\\\\\n",
       "\\end{tabular}\n"
      ],
      "text/markdown": [
       "\n",
       "A data.frame: 6 × 105\n",
       "\n",
       "| <!--/--> | C3L.02613 &lt;dbl&gt; | C3L.04072 &lt;dbl&gt; | C3N.04282 &lt;dbl&gt; | C3L.03639 &lt;dbl&gt; | C3L.01328 &lt;dbl&gt; | C3L.00277 &lt;dbl&gt; | C3L.02604 &lt;dbl&gt; | C3L.01971 &lt;dbl&gt; | C3N.01167 &lt;dbl&gt; | C3L.01031 &lt;dbl&gt; | ⋯ ⋯ | C3N.00436 &lt;dbl&gt; | C3N.02944 &lt;dbl&gt; | C3L.03356 &lt;dbl&gt; | C3N.02589 &lt;dbl&gt; | C3L.03388 &lt;dbl&gt; | C3N.01388 &lt;dbl&gt; | C3N.00198 &lt;dbl&gt; | C3N.01380 &lt;dbl&gt; | C3N.01715 &lt;dbl&gt; | C3N.03426 &lt;dbl&gt; |\n",
       "|---|---|---|---|---|---|---|---|---|---|---|---|---|---|---|---|---|---|---|---|---|---|\n",
       "| SAMD11 | 0.11468 | 0.01621 | -0.04934 | 0.13109 | 0.00122 | -0.38004 | 0.07121 | -0.03695 | 0.36353 | -0.21679 | ⋯ | 0.01575 | 0.03511 | 0.00414 | 0.02596 | 0.02280 | -0.11879 | -0.04517 | 0.04616 | 0.00432 | 0.00320 |\n",
       "| NOC2L | 0.11468 | 0.01621 | -0.04934 | 0.13109 | 0.00122 | -0.38004 | 0.07121 | -0.03695 | 0.36353 | -0.21679 | ⋯ | 0.01575 | 0.03511 | 0.00414 | 0.02596 | 0.02280 | -0.11879 | -0.04517 | 0.04616 | 0.00432 | 0.00320 |\n",
       "| KLHL17 | 0.11468 | 0.01621 | -0.04934 | 0.13109 | 0.00122 | -0.38004 | 0.07121 | -0.03695 | 0.36353 | -0.21679 | ⋯ | 0.01575 | 0.03511 | 0.00414 | 0.02596 | 0.02280 | -0.11879 | -0.04517 | 0.04616 | 0.00432 | 0.00320 |\n",
       "| PLEKHN1 | 0.11468 | 0.01621 | -0.04934 | 0.13109 | 0.00122 | -0.38004 | 0.07121 | -0.03695 | 0.36353 | -0.21679 | ⋯ | 0.01575 | 0.03511 | 0.00414 | 0.02596 | 0.02280 | -0.11879 | -0.04517 | 0.04616 | 0.00432 | 0.00320 |\n",
       "| PERM1 | 0.11468 | 0.01621 | -0.04934 | 0.13109 | 0.00122 | -0.38004 | 0.07121 | -0.03695 | 0.36353 | -0.21679 | ⋯ | 0.01575 | 0.03511 | 0.00414 | 0.02596 | 0.02280 | -0.11879 | -0.04517 | 0.04616 | 0.00432 | 0.00320 |\n",
       "| HES4 | 0.11350 | 0.01503 | -0.05052 | 0.12991 | 0.00004 | -0.38122 | 0.07003 | -0.03813 | 0.36235 |  0.20581 | ⋯ | 0.01457 | 0.03393 | 0.00296 | 0.02478 | 0.02162 | -0.11997 | -0.04635 | 0.04498 | 0.00314 | 0.00202 |\n",
       "\n"
      ],
      "text/plain": [
       "        C3L.02613 C3L.04072 C3N.04282 C3L.03639 C3L.01328 C3L.00277 C3L.02604\n",
       "SAMD11  0.11468   0.01621   -0.04934  0.13109   0.00122   -0.38004  0.07121  \n",
       "NOC2L   0.11468   0.01621   -0.04934  0.13109   0.00122   -0.38004  0.07121  \n",
       "KLHL17  0.11468   0.01621   -0.04934  0.13109   0.00122   -0.38004  0.07121  \n",
       "PLEKHN1 0.11468   0.01621   -0.04934  0.13109   0.00122   -0.38004  0.07121  \n",
       "PERM1   0.11468   0.01621   -0.04934  0.13109   0.00122   -0.38004  0.07121  \n",
       "HES4    0.11350   0.01503   -0.05052  0.12991   0.00004   -0.38122  0.07003  \n",
       "        C3L.01971 C3N.01167 C3L.01031 ⋯ C3N.00436 C3N.02944 C3L.03356 C3N.02589\n",
       "SAMD11  -0.03695  0.36353   -0.21679  ⋯ 0.01575   0.03511   0.00414   0.02596  \n",
       "NOC2L   -0.03695  0.36353   -0.21679  ⋯ 0.01575   0.03511   0.00414   0.02596  \n",
       "KLHL17  -0.03695  0.36353   -0.21679  ⋯ 0.01575   0.03511   0.00414   0.02596  \n",
       "PLEKHN1 -0.03695  0.36353   -0.21679  ⋯ 0.01575   0.03511   0.00414   0.02596  \n",
       "PERM1   -0.03695  0.36353   -0.21679  ⋯ 0.01575   0.03511   0.00414   0.02596  \n",
       "HES4    -0.03813  0.36235    0.20581  ⋯ 0.01457   0.03393   0.00296   0.02478  \n",
       "        C3L.03388 C3N.01388 C3N.00198 C3N.01380 C3N.01715 C3N.03426\n",
       "SAMD11  0.02280   -0.11879  -0.04517  0.04616   0.00432   0.00320  \n",
       "NOC2L   0.02280   -0.11879  -0.04517  0.04616   0.00432   0.00320  \n",
       "KLHL17  0.02280   -0.11879  -0.04517  0.04616   0.00432   0.00320  \n",
       "PLEKHN1 0.02280   -0.11879  -0.04517  0.04616   0.00432   0.00320  \n",
       "PERM1   0.02280   -0.11879  -0.04517  0.04616   0.00432   0.00320  \n",
       "HES4    0.02162   -0.11997  -0.04635  0.04498   0.00314   0.00202  "
      ]
     },
     "metadata": {},
     "output_type": "display_data"
    }
   ],
   "source": [
    "head(cnv)"
   ]
  },
  {
   "cell_type": "code",
   "execution_count": 190,
   "id": "6a0a57ae",
   "metadata": {
    "vscode": {
     "languageId": "r"
    }
   },
   "outputs": [
    {
     "name": "stdout",
     "output_type": "stream",
     "text": [
      "\u001b[90m# A tibble: 5 × 2\u001b[39m\n",
      "  data_type feature_count\n",
      "  \u001b[3m\u001b[90m<chr>\u001b[39m\u001b[23m             \u001b[3m\u001b[90m<int>\u001b[39m\u001b[23m\n",
      "\u001b[90m1\u001b[39m cnv               \u001b[4m1\u001b[24m\u001b[4m9\u001b[24m855\n",
      "\u001b[90m2\u001b[39m glyco              \u001b[4m1\u001b[24m454\n",
      "\u001b[90m3\u001b[39m prot               \u001b[4m5\u001b[24m773\n",
      "\u001b[90m4\u001b[39m psty               \u001b[4m2\u001b[24m243\n",
      "\u001b[90m5\u001b[39m rna               \u001b[4m1\u001b[24m\u001b[4m8\u001b[24m197\n"
     ]
    },
    {
     "data": {
      "text/html": [
       "<style>\n",
       ".list-inline {list-style: none; margin:0; padding: 0}\n",
       ".list-inline>li {display: inline-block}\n",
       ".list-inline>li:not(:last-child)::after {content: \"\\00b7\"; padding: 0 .5ex}\n",
       "</style>\n",
       "<ol class=list-inline><li>45139</li><li>106</li></ol>\n"
      ],
      "text/latex": [
       "\\begin{enumerate*}\n",
       "\\item 45139\n",
       "\\item 106\n",
       "\\end{enumerate*}\n"
      ],
      "text/markdown": [
       "1. 45139\n",
       "2. 106\n",
       "\n",
       "\n"
      ],
      "text/plain": [
       "[1] 45139   106"
      ]
     },
     "metadata": {},
     "output_type": "display_data"
    },
    {
     "data": {
      "text/html": [
       "<table class=\"dataframe\">\n",
       "<caption>A data.frame: 10 × 106</caption>\n",
       "<thead>\n",
       "\t<tr><th></th><th scope=col>data_type</th><th scope=col>C3L.00017</th><th scope=col>C3L.00102</th><th scope=col>C3L.00277</th><th scope=col>C3L.00589</th><th scope=col>C3L.00598</th><th scope=col>C3L.00599</th><th scope=col>C3L.00622</th><th scope=col>C3L.00625</th><th scope=col>C3L.00819</th><th scope=col>⋯</th><th scope=col>C3N.03754</th><th scope=col>C3N.03780</th><th scope=col>C3N.03839</th><th scope=col>C3N.03840</th><th scope=col>C3N.03853</th><th scope=col>C3N.03884</th><th scope=col>C3N.04119</th><th scope=col>C3N.04126</th><th scope=col>C3N.04282</th><th scope=col>C3N.04283</th></tr>\n",
       "\t<tr><th></th><th scope=col>&lt;chr&gt;</th><th scope=col>&lt;dbl&gt;</th><th scope=col>&lt;dbl&gt;</th><th scope=col>&lt;dbl&gt;</th><th scope=col>&lt;dbl&gt;</th><th scope=col>&lt;dbl&gt;</th><th scope=col>&lt;dbl&gt;</th><th scope=col>&lt;dbl&gt;</th><th scope=col>&lt;dbl&gt;</th><th scope=col>&lt;dbl&gt;</th><th scope=col>⋯</th><th scope=col>&lt;dbl&gt;</th><th scope=col>&lt;dbl&gt;</th><th scope=col>&lt;dbl&gt;</th><th scope=col>&lt;dbl&gt;</th><th scope=col>&lt;dbl&gt;</th><th scope=col>&lt;dbl&gt;</th><th scope=col>&lt;dbl&gt;</th><th scope=col>&lt;dbl&gt;</th><th scope=col>&lt;dbl&gt;</th><th scope=col>&lt;dbl&gt;</th></tr>\n",
       "</thead>\n",
       "<tbody>\n",
       "\t<tr><th scope=row>SAMD11</th><td>cnv</td><td>0.1575385</td><td>-0.08928810</td><td>-0.6232770</td><td>0.01894679</td><td>0.03118658</td><td>0.05725237</td><td>0.02637657</td><td>-0.3986777</td><td>-0.3310686</td><td>⋯</td><td>0.005673214</td><td>0.02089495</td><td>0.05536301</td><td>-0.3136748</td><td>0.1179187</td><td>0.1052462</td><td>0.06875376</td><td>0.03378693</td><td>-0.005422868</td><td>0.1081570</td></tr>\n",
       "\t<tr><th scope=row>NOC2L</th><td>cnv</td><td>0.1575385</td><td>-0.08928810</td><td>-0.6232770</td><td>0.01894679</td><td>0.03118658</td><td>0.05725237</td><td>0.02637657</td><td>-0.3986777</td><td>-0.3310686</td><td>⋯</td><td>0.005673214</td><td>0.02089495</td><td>0.05536301</td><td>-0.3136748</td><td>0.1179187</td><td>0.1052462</td><td>0.06875376</td><td>0.03378693</td><td>-0.005422868</td><td>0.1081570</td></tr>\n",
       "\t<tr><th scope=row>KLHL17</th><td>cnv</td><td>0.1575385</td><td>-0.08928810</td><td>-0.6232770</td><td>0.01894679</td><td>0.03118658</td><td>0.05725237</td><td>0.02637657</td><td>-0.3986777</td><td>-0.3310686</td><td>⋯</td><td>0.005673214</td><td>0.02089495</td><td>0.05536301</td><td>-0.3136748</td><td>0.1179187</td><td>0.1052462</td><td>0.06875376</td><td>0.03378693</td><td>-0.005422868</td><td>0.1081570</td></tr>\n",
       "\t<tr><th scope=row>PLEKHN1</th><td>cnv</td><td>0.1575385</td><td>-0.08928810</td><td>-0.6232770</td><td>0.01894679</td><td>0.03118658</td><td>0.05725237</td><td>0.02637657</td><td>-0.3986777</td><td>-0.3310686</td><td>⋯</td><td>0.005673214</td><td>0.02089495</td><td>0.05536301</td><td>-0.3136748</td><td>0.1179187</td><td>0.1052462</td><td>0.06875376</td><td>0.03378693</td><td>-0.005422868</td><td>0.1081570</td></tr>\n",
       "\t<tr><th scope=row>PERM1</th><td>cnv</td><td>0.1575385</td><td>-0.08928810</td><td>-0.6232770</td><td>0.01894679</td><td>0.03118658</td><td>0.05725237</td><td>0.02637657</td><td>-0.3986777</td><td>-0.3310686</td><td>⋯</td><td>0.005673214</td><td>0.02089495</td><td>0.05536301</td><td>-0.3136748</td><td>0.1179187</td><td>0.1052462</td><td>0.06875376</td><td>0.03378693</td><td>-0.005422868</td><td>0.1081570</td></tr>\n",
       "\t<tr><th scope=row>HES4</th><td>cnv</td><td>0.1555225</td><td>-0.09182637</td><td>-0.6253056</td><td>0.01616695</td><td>0.02906107</td><td>0.05501756</td><td>0.02338942</td><td>-0.4013551</td><td>-0.3338182</td><td>⋯</td><td>0.003260593</td><td>0.01816861</td><td>0.05327573</td><td>-0.3165751</td><td>0.1151789</td><td>0.1033124</td><td>0.06612978</td><td>0.03085036</td><td>-0.007479336</td><td>0.1059898</td></tr>\n",
       "\t<tr><th scope=row>ISG15</th><td>cnv</td><td>0.1555225</td><td>-0.09182637</td><td>-0.6253056</td><td>0.01616695</td><td>0.02906107</td><td>0.05501756</td><td>0.02338942</td><td>-0.4013551</td><td>-0.3338182</td><td>⋯</td><td>0.003260593</td><td>0.01816861</td><td>0.05327573</td><td>-0.3165751</td><td>0.1151789</td><td>0.1033124</td><td>0.06612978</td><td>0.03085036</td><td>-0.007479336</td><td>0.1059898</td></tr>\n",
       "\t<tr><th scope=row>AGRN</th><td>cnv</td><td>0.1555225</td><td>-0.09182637</td><td>-0.6253056</td><td>0.01616695</td><td>0.02906107</td><td>0.05501756</td><td>0.02338942</td><td>-0.4013551</td><td>-0.3338182</td><td>⋯</td><td>0.003260593</td><td>0.01816861</td><td>0.05327573</td><td>-0.3165751</td><td>0.1151789</td><td>0.1033124</td><td>0.06612978</td><td>0.03085036</td><td>-0.007479336</td><td>0.1059898</td></tr>\n",
       "\t<tr><th scope=row>RNF223</th><td>cnv</td><td>0.1555225</td><td>-0.09182637</td><td>-0.6253056</td><td>0.01616695</td><td>0.02906107</td><td>0.05501756</td><td>0.02338942</td><td>-0.4013551</td><td>-0.3338182</td><td>⋯</td><td>0.003260593</td><td>0.01816861</td><td>0.05327573</td><td>-0.3165751</td><td>0.1151789</td><td>0.1033124</td><td>0.06612978</td><td>0.03085036</td><td>-0.007479336</td><td>0.1059898</td></tr>\n",
       "\t<tr><th scope=row>C1orf159</th><td>cnv</td><td>0.1555225</td><td>-0.09182637</td><td>-0.6253056</td><td>0.01616695</td><td>0.02906107</td><td>0.05501756</td><td>0.02338942</td><td>-0.4013551</td><td>-0.3338182</td><td>⋯</td><td>0.003260593</td><td>0.01816861</td><td>0.05327573</td><td>-0.3165751</td><td>0.1151789</td><td>0.1033124</td><td>0.06612978</td><td>0.03085036</td><td>-0.007479336</td><td>0.1059898</td></tr>\n",
       "</tbody>\n",
       "</table>\n"
      ],
      "text/latex": [
       "A data.frame: 10 × 106\n",
       "\\begin{tabular}{r|lllllllllllllllllllll}\n",
       "  & data\\_type & C3L.00017 & C3L.00102 & C3L.00277 & C3L.00589 & C3L.00598 & C3L.00599 & C3L.00622 & C3L.00625 & C3L.00819 & ⋯ & C3N.03754 & C3N.03780 & C3N.03839 & C3N.03840 & C3N.03853 & C3N.03884 & C3N.04119 & C3N.04126 & C3N.04282 & C3N.04283\\\\\n",
       "  & <chr> & <dbl> & <dbl> & <dbl> & <dbl> & <dbl> & <dbl> & <dbl> & <dbl> & <dbl> & ⋯ & <dbl> & <dbl> & <dbl> & <dbl> & <dbl> & <dbl> & <dbl> & <dbl> & <dbl> & <dbl>\\\\\n",
       "\\hline\n",
       "\tSAMD11 & cnv & 0.1575385 & -0.08928810 & -0.6232770 & 0.01894679 & 0.03118658 & 0.05725237 & 0.02637657 & -0.3986777 & -0.3310686 & ⋯ & 0.005673214 & 0.02089495 & 0.05536301 & -0.3136748 & 0.1179187 & 0.1052462 & 0.06875376 & 0.03378693 & -0.005422868 & 0.1081570\\\\\n",
       "\tNOC2L & cnv & 0.1575385 & -0.08928810 & -0.6232770 & 0.01894679 & 0.03118658 & 0.05725237 & 0.02637657 & -0.3986777 & -0.3310686 & ⋯ & 0.005673214 & 0.02089495 & 0.05536301 & -0.3136748 & 0.1179187 & 0.1052462 & 0.06875376 & 0.03378693 & -0.005422868 & 0.1081570\\\\\n",
       "\tKLHL17 & cnv & 0.1575385 & -0.08928810 & -0.6232770 & 0.01894679 & 0.03118658 & 0.05725237 & 0.02637657 & -0.3986777 & -0.3310686 & ⋯ & 0.005673214 & 0.02089495 & 0.05536301 & -0.3136748 & 0.1179187 & 0.1052462 & 0.06875376 & 0.03378693 & -0.005422868 & 0.1081570\\\\\n",
       "\tPLEKHN1 & cnv & 0.1575385 & -0.08928810 & -0.6232770 & 0.01894679 & 0.03118658 & 0.05725237 & 0.02637657 & -0.3986777 & -0.3310686 & ⋯ & 0.005673214 & 0.02089495 & 0.05536301 & -0.3136748 & 0.1179187 & 0.1052462 & 0.06875376 & 0.03378693 & -0.005422868 & 0.1081570\\\\\n",
       "\tPERM1 & cnv & 0.1575385 & -0.08928810 & -0.6232770 & 0.01894679 & 0.03118658 & 0.05725237 & 0.02637657 & -0.3986777 & -0.3310686 & ⋯ & 0.005673214 & 0.02089495 & 0.05536301 & -0.3136748 & 0.1179187 & 0.1052462 & 0.06875376 & 0.03378693 & -0.005422868 & 0.1081570\\\\\n",
       "\tHES4 & cnv & 0.1555225 & -0.09182637 & -0.6253056 & 0.01616695 & 0.02906107 & 0.05501756 & 0.02338942 & -0.4013551 & -0.3338182 & ⋯ & 0.003260593 & 0.01816861 & 0.05327573 & -0.3165751 & 0.1151789 & 0.1033124 & 0.06612978 & 0.03085036 & -0.007479336 & 0.1059898\\\\\n",
       "\tISG15 & cnv & 0.1555225 & -0.09182637 & -0.6253056 & 0.01616695 & 0.02906107 & 0.05501756 & 0.02338942 & -0.4013551 & -0.3338182 & ⋯ & 0.003260593 & 0.01816861 & 0.05327573 & -0.3165751 & 0.1151789 & 0.1033124 & 0.06612978 & 0.03085036 & -0.007479336 & 0.1059898\\\\\n",
       "\tAGRN & cnv & 0.1555225 & -0.09182637 & -0.6253056 & 0.01616695 & 0.02906107 & 0.05501756 & 0.02338942 & -0.4013551 & -0.3338182 & ⋯ & 0.003260593 & 0.01816861 & 0.05327573 & -0.3165751 & 0.1151789 & 0.1033124 & 0.06612978 & 0.03085036 & -0.007479336 & 0.1059898\\\\\n",
       "\tRNF223 & cnv & 0.1555225 & -0.09182637 & -0.6253056 & 0.01616695 & 0.02906107 & 0.05501756 & 0.02338942 & -0.4013551 & -0.3338182 & ⋯ & 0.003260593 & 0.01816861 & 0.05327573 & -0.3165751 & 0.1151789 & 0.1033124 & 0.06612978 & 0.03085036 & -0.007479336 & 0.1059898\\\\\n",
       "\tC1orf159 & cnv & 0.1555225 & -0.09182637 & -0.6253056 & 0.01616695 & 0.02906107 & 0.05501756 & 0.02338942 & -0.4013551 & -0.3338182 & ⋯ & 0.003260593 & 0.01816861 & 0.05327573 & -0.3165751 & 0.1151789 & 0.1033124 & 0.06612978 & 0.03085036 & -0.007479336 & 0.1059898\\\\\n",
       "\\end{tabular}\n"
      ],
      "text/markdown": [
       "\n",
       "A data.frame: 10 × 106\n",
       "\n",
       "| <!--/--> | data_type &lt;chr&gt; | C3L.00017 &lt;dbl&gt; | C3L.00102 &lt;dbl&gt; | C3L.00277 &lt;dbl&gt; | C3L.00589 &lt;dbl&gt; | C3L.00598 &lt;dbl&gt; | C3L.00599 &lt;dbl&gt; | C3L.00622 &lt;dbl&gt; | C3L.00625 &lt;dbl&gt; | C3L.00819 &lt;dbl&gt; | ⋯ ⋯ | C3N.03754 &lt;dbl&gt; | C3N.03780 &lt;dbl&gt; | C3N.03839 &lt;dbl&gt; | C3N.03840 &lt;dbl&gt; | C3N.03853 &lt;dbl&gt; | C3N.03884 &lt;dbl&gt; | C3N.04119 &lt;dbl&gt; | C3N.04126 &lt;dbl&gt; | C3N.04282 &lt;dbl&gt; | C3N.04283 &lt;dbl&gt; |\n",
       "|---|---|---|---|---|---|---|---|---|---|---|---|---|---|---|---|---|---|---|---|---|---|\n",
       "| SAMD11 | cnv | 0.1575385 | -0.08928810 | -0.6232770 | 0.01894679 | 0.03118658 | 0.05725237 | 0.02637657 | -0.3986777 | -0.3310686 | ⋯ | 0.005673214 | 0.02089495 | 0.05536301 | -0.3136748 | 0.1179187 | 0.1052462 | 0.06875376 | 0.03378693 | -0.005422868 | 0.1081570 |\n",
       "| NOC2L | cnv | 0.1575385 | -0.08928810 | -0.6232770 | 0.01894679 | 0.03118658 | 0.05725237 | 0.02637657 | -0.3986777 | -0.3310686 | ⋯ | 0.005673214 | 0.02089495 | 0.05536301 | -0.3136748 | 0.1179187 | 0.1052462 | 0.06875376 | 0.03378693 | -0.005422868 | 0.1081570 |\n",
       "| KLHL17 | cnv | 0.1575385 | -0.08928810 | -0.6232770 | 0.01894679 | 0.03118658 | 0.05725237 | 0.02637657 | -0.3986777 | -0.3310686 | ⋯ | 0.005673214 | 0.02089495 | 0.05536301 | -0.3136748 | 0.1179187 | 0.1052462 | 0.06875376 | 0.03378693 | -0.005422868 | 0.1081570 |\n",
       "| PLEKHN1 | cnv | 0.1575385 | -0.08928810 | -0.6232770 | 0.01894679 | 0.03118658 | 0.05725237 | 0.02637657 | -0.3986777 | -0.3310686 | ⋯ | 0.005673214 | 0.02089495 | 0.05536301 | -0.3136748 | 0.1179187 | 0.1052462 | 0.06875376 | 0.03378693 | -0.005422868 | 0.1081570 |\n",
       "| PERM1 | cnv | 0.1575385 | -0.08928810 | -0.6232770 | 0.01894679 | 0.03118658 | 0.05725237 | 0.02637657 | -0.3986777 | -0.3310686 | ⋯ | 0.005673214 | 0.02089495 | 0.05536301 | -0.3136748 | 0.1179187 | 0.1052462 | 0.06875376 | 0.03378693 | -0.005422868 | 0.1081570 |\n",
       "| HES4 | cnv | 0.1555225 | -0.09182637 | -0.6253056 | 0.01616695 | 0.02906107 | 0.05501756 | 0.02338942 | -0.4013551 | -0.3338182 | ⋯ | 0.003260593 | 0.01816861 | 0.05327573 | -0.3165751 | 0.1151789 | 0.1033124 | 0.06612978 | 0.03085036 | -0.007479336 | 0.1059898 |\n",
       "| ISG15 | cnv | 0.1555225 | -0.09182637 | -0.6253056 | 0.01616695 | 0.02906107 | 0.05501756 | 0.02338942 | -0.4013551 | -0.3338182 | ⋯ | 0.003260593 | 0.01816861 | 0.05327573 | -0.3165751 | 0.1151789 | 0.1033124 | 0.06612978 | 0.03085036 | -0.007479336 | 0.1059898 |\n",
       "| AGRN | cnv | 0.1555225 | -0.09182637 | -0.6253056 | 0.01616695 | 0.02906107 | 0.05501756 | 0.02338942 | -0.4013551 | -0.3338182 | ⋯ | 0.003260593 | 0.01816861 | 0.05327573 | -0.3165751 | 0.1151789 | 0.1033124 | 0.06612978 | 0.03085036 | -0.007479336 | 0.1059898 |\n",
       "| RNF223 | cnv | 0.1555225 | -0.09182637 | -0.6253056 | 0.01616695 | 0.02906107 | 0.05501756 | 0.02338942 | -0.4013551 | -0.3338182 | ⋯ | 0.003260593 | 0.01816861 | 0.05327573 | -0.3165751 | 0.1151789 | 0.1033124 | 0.06612978 | 0.03085036 | -0.007479336 | 0.1059898 |\n",
       "| C1orf159 | cnv | 0.1555225 | -0.09182637 | -0.6253056 | 0.01616695 | 0.02906107 | 0.05501756 | 0.02338942 | -0.4013551 | -0.3338182 | ⋯ | 0.003260593 | 0.01816861 | 0.05327573 | -0.3165751 | 0.1151789 | 0.1033124 | 0.06612978 | 0.03085036 | -0.007479336 | 0.1059898 |\n",
       "\n"
      ],
      "text/plain": [
       "         data_type C3L.00017 C3L.00102   C3L.00277  C3L.00589  C3L.00598 \n",
       "SAMD11   cnv       0.1575385 -0.08928810 -0.6232770 0.01894679 0.03118658\n",
       "NOC2L    cnv       0.1575385 -0.08928810 -0.6232770 0.01894679 0.03118658\n",
       "KLHL17   cnv       0.1575385 -0.08928810 -0.6232770 0.01894679 0.03118658\n",
       "PLEKHN1  cnv       0.1575385 -0.08928810 -0.6232770 0.01894679 0.03118658\n",
       "PERM1    cnv       0.1575385 -0.08928810 -0.6232770 0.01894679 0.03118658\n",
       "HES4     cnv       0.1555225 -0.09182637 -0.6253056 0.01616695 0.02906107\n",
       "ISG15    cnv       0.1555225 -0.09182637 -0.6253056 0.01616695 0.02906107\n",
       "AGRN     cnv       0.1555225 -0.09182637 -0.6253056 0.01616695 0.02906107\n",
       "RNF223   cnv       0.1555225 -0.09182637 -0.6253056 0.01616695 0.02906107\n",
       "C1orf159 cnv       0.1555225 -0.09182637 -0.6253056 0.01616695 0.02906107\n",
       "         C3L.00599  C3L.00622  C3L.00625  C3L.00819  ⋯ C3N.03754   C3N.03780 \n",
       "SAMD11   0.05725237 0.02637657 -0.3986777 -0.3310686 ⋯ 0.005673214 0.02089495\n",
       "NOC2L    0.05725237 0.02637657 -0.3986777 -0.3310686 ⋯ 0.005673214 0.02089495\n",
       "KLHL17   0.05725237 0.02637657 -0.3986777 -0.3310686 ⋯ 0.005673214 0.02089495\n",
       "PLEKHN1  0.05725237 0.02637657 -0.3986777 -0.3310686 ⋯ 0.005673214 0.02089495\n",
       "PERM1    0.05725237 0.02637657 -0.3986777 -0.3310686 ⋯ 0.005673214 0.02089495\n",
       "HES4     0.05501756 0.02338942 -0.4013551 -0.3338182 ⋯ 0.003260593 0.01816861\n",
       "ISG15    0.05501756 0.02338942 -0.4013551 -0.3338182 ⋯ 0.003260593 0.01816861\n",
       "AGRN     0.05501756 0.02338942 -0.4013551 -0.3338182 ⋯ 0.003260593 0.01816861\n",
       "RNF223   0.05501756 0.02338942 -0.4013551 -0.3338182 ⋯ 0.003260593 0.01816861\n",
       "C1orf159 0.05501756 0.02338942 -0.4013551 -0.3338182 ⋯ 0.003260593 0.01816861\n",
       "         C3N.03839  C3N.03840  C3N.03853 C3N.03884 C3N.04119  C3N.04126 \n",
       "SAMD11   0.05536301 -0.3136748 0.1179187 0.1052462 0.06875376 0.03378693\n",
       "NOC2L    0.05536301 -0.3136748 0.1179187 0.1052462 0.06875376 0.03378693\n",
       "KLHL17   0.05536301 -0.3136748 0.1179187 0.1052462 0.06875376 0.03378693\n",
       "PLEKHN1  0.05536301 -0.3136748 0.1179187 0.1052462 0.06875376 0.03378693\n",
       "PERM1    0.05536301 -0.3136748 0.1179187 0.1052462 0.06875376 0.03378693\n",
       "HES4     0.05327573 -0.3165751 0.1151789 0.1033124 0.06612978 0.03085036\n",
       "ISG15    0.05327573 -0.3165751 0.1151789 0.1033124 0.06612978 0.03085036\n",
       "AGRN     0.05327573 -0.3165751 0.1151789 0.1033124 0.06612978 0.03085036\n",
       "RNF223   0.05327573 -0.3165751 0.1151789 0.1033124 0.06612978 0.03085036\n",
       "C1orf159 0.05327573 -0.3165751 0.1151789 0.1033124 0.06612978 0.03085036\n",
       "         C3N.04282    C3N.04283\n",
       "SAMD11   -0.005422868 0.1081570\n",
       "NOC2L    -0.005422868 0.1081570\n",
       "KLHL17   -0.005422868 0.1081570\n",
       "PLEKHN1  -0.005422868 0.1081570\n",
       "PERM1    -0.005422868 0.1081570\n",
       "HES4     -0.007479336 0.1059898\n",
       "ISG15    -0.007479336 0.1059898\n",
       "AGRN     -0.007479336 0.1059898\n",
       "RNF223   -0.007479336 0.1059898\n",
       "C1orf159 -0.007479336 0.1059898"
      ]
     },
     "metadata": {},
     "output_type": "display_data"
    },
    {
     "name": "stdout",
     "output_type": "stream",
     "text": [
      "\u001b[90m# A tibble: 5 × 2\u001b[39m\n",
      "  data_type feature_count\n",
      "  \u001b[3m\u001b[90m<chr>\u001b[39m\u001b[23m             \u001b[3m\u001b[90m<int>\u001b[39m\u001b[23m\n",
      "\u001b[90m1\u001b[39m cnv               \u001b[4m1\u001b[24m\u001b[4m7\u001b[24m472\n",
      "\u001b[90m2\u001b[39m glyco              \u001b[4m1\u001b[24m454\n",
      "\u001b[90m3\u001b[39m prot               \u001b[4m5\u001b[24m773\n",
      "\u001b[90m4\u001b[39m psty               \u001b[4m2\u001b[24m243\n",
      "\u001b[90m5\u001b[39m rna               \u001b[4m1\u001b[24m\u001b[4m8\u001b[24m197\n"
     ]
    }
   ],
   "source": [
    "# Concatenate all data frames\n",
    "cnv$data_type <- \"cnv\"\n",
    "prot$data_type  <- \"prot\"\n",
    "rna$data_type   <- \"rna\"\n",
    "glyco$data_type <- \"glyco\"\n",
    "psty$data_type  <- \"psty\"\n",
    "data<- rbind(cnv, prot, rna,glyco, psty) %>%\n",
    "    relocate(data_type)\n",
    "feature_counts <- data %>%\n",
    "    group_by(data_type) %>%\n",
    "    summarise(feature_count = n()) %>%\n",
    "    ungroup()\n",
    "print(feature_counts)\n",
    "\n",
    "\n",
    "row_sd <- apply(data[ , -1], 1, sd, na.rm = TRUE)\n",
    "cutoff <- quantile(row_sd, probs = 0.05, na.rm = TRUE)\n",
    "data <- data[row_sd > cutoff, ] %>%\n",
    "    # Column-wise z-score normalization\n",
    "    mutate(across(-data_type, ~ (.-mean(.)) / sd(.))) %>%\n",
    "    # Sort columns by name\n",
    "    select(data_type, sort(names(.)[-1]))\n",
    "\n",
    "dim(data)\n",
    "head(data,10)\n",
    "# Count the number of features per data type\n",
    "feature_counts <- data %>%\n",
    "    group_by(data_type) %>%\n",
    "    summarise(feature_count = n()) %>%\n",
    "    ungroup()\n",
    "print(feature_counts)"
   ]
  },
  {
   "cell_type": "code",
   "execution_count": 191,
   "id": "9be7a22a",
   "metadata": {
    "vscode": {
     "languageId": "r"
    }
   },
   "outputs": [
    {
     "data": {
      "text/html": [
       "<style>\n",
       ".list-inline {list-style: none; margin:0; padding: 0}\n",
       ".list-inline>li {display: inline-block}\n",
       ".list-inline>li:not(:last-child)::after {content: \"\\00b7\"; padding: 0 .5ex}\n",
       "</style>\n",
       "<ol class=list-inline><li>45139</li><li>106</li></ol>\n"
      ],
      "text/latex": [
       "\\begin{enumerate*}\n",
       "\\item 45139\n",
       "\\item 106\n",
       "\\end{enumerate*}\n"
      ],
      "text/markdown": [
       "1. 45139\n",
       "2. 106\n",
       "\n",
       "\n"
      ],
      "text/plain": [
       "[1] 45139   106"
      ]
     },
     "metadata": {},
     "output_type": "display_data"
    },
    {
     "data": {
      "text/html": [
       "<style>\n",
       ".list-inline {list-style: none; margin:0; padding: 0}\n",
       ".list-inline>li {display: inline-block}\n",
       ".list-inline>li:not(:last-child)::after {content: \"\\00b7\"; padding: 0 .5ex}\n",
       "</style>\n",
       "<ol class=list-inline><li>90278</li><li>106</li></ol>\n"
      ],
      "text/latex": [
       "\\begin{enumerate*}\n",
       "\\item 90278\n",
       "\\item 106\n",
       "\\end{enumerate*}\n"
      ],
      "text/markdown": [
       "1. 90278\n",
       "2. 106\n",
       "\n",
       "\n"
      ],
      "text/plain": [
       "[1] 90278   106"
      ]
     },
     "metadata": {},
     "output_type": "display_data"
    }
   ],
   "source": [
    "data_type <- data$data_type\n",
    "data_num <- data[, -1]\n",
    "\n",
    "positive_only_matrix <- data_num\n",
    "positive_only_matrix[positive_only_matrix < 0] <- 0\n",
    "# Abs values of negative values\n",
    "negative_only_matrix <- data_num\n",
    "negative_only_matrix[negative_only_matrix > 0] <- 0\n",
    "negative_only_matrix <- abs(negative_only_matrix)\n",
    "\n",
    "positive_only_matrix$data_type <- data_type\n",
    "negative_only_matrix$data_type <- data_type\n",
    "\n",
    "combined_matrix <- rbind(positive_only_matrix, negative_only_matrix) %>%\n",
    "    relocate(data_type)\n",
    "\n",
    "# combined_matrix <- combined_matrix[rowSums(combined_matrix) != 0, ]\n",
    "# 1. numeric-only 부분 선택\n",
    "numeric_part <- combined_matrix[, setdiff(names(combined_matrix), \"data_type\")]\n",
    "\n",
    "# 2. rowSums 계산\n",
    "nonzero_rows <- rowSums(numeric_part) != 0\n",
    "\n",
    "# 3. 필터링\n",
    "combined_matrix <- combined_matrix[nonzero_rows, ]\n",
    "\n",
    "dim(data)\n",
    "dim(combined_matrix)"
   ]
  },
  {
   "cell_type": "code",
   "execution_count": 192,
   "id": "2dac2b7e",
   "metadata": {
    "vscode": {
     "languageId": "r"
    }
   },
   "outputs": [
    {
     "name": "stderr",
     "output_type": "stream",
     "text": [
      "NMF algorithm: 'lee'\n",
      "\n",
      "NMF seeding method: random\n",
      "\n"
     ]
    },
    {
     "name": "stdout",
     "output_type": "stream",
     "text": [
      "Iterations: 500/500 \n",
      "DONE (stopped at 500/500 iterations)\n",
      "\u001b[90m# A tibble: 2 × 2\u001b[39m\n",
      "  cluster count\n",
      "  \u001b[3m\u001b[90m<chr>\u001b[39m\u001b[23m   \u001b[3m\u001b[90m<int>\u001b[39m\u001b[23m\n",
      "\u001b[90m1\u001b[39m 1          55\n",
      "\u001b[90m2\u001b[39m 2          50\n"
     ]
    },
    {
     "data": {
      "text/html": [
       "<table class=\"dataframe\">\n",
       "<caption>A data.frame: 5 × 4</caption>\n",
       "<thead>\n",
       "\t<tr><th></th><th scope=col>sample</th><th scope=col>cluster</th><th scope=col>V1</th><th scope=col>V2</th></tr>\n",
       "\t<tr><th></th><th scope=col>&lt;chr&gt;</th><th scope=col>&lt;chr&gt;</th><th scope=col>&lt;dbl&gt;</th><th scope=col>&lt;dbl&gt;</th></tr>\n",
       "</thead>\n",
       "<tbody>\n",
       "\t<tr><th scope=row>1</th><td>C3L-00017</td><td>2</td><td>0.1684102</td><td>8.315898e-01</td></tr>\n",
       "\t<tr><th scope=row>2</th><td>C3L-00102</td><td>2</td><td>0.4528973</td><td>5.471027e-01</td></tr>\n",
       "\t<tr><th scope=row>3</th><td>C3L-00277</td><td>1</td><td>0.6670459</td><td>3.329541e-01</td></tr>\n",
       "\t<tr><th scope=row>4</th><td>C3L-00589</td><td>2</td><td>0.1380543</td><td>8.619457e-01</td></tr>\n",
       "\t<tr><th scope=row>5</th><td>C3L-00598</td><td>1</td><td>0.9999977</td><td>2.276660e-06</td></tr>\n",
       "</tbody>\n",
       "</table>\n"
      ],
      "text/latex": [
       "A data.frame: 5 × 4\n",
       "\\begin{tabular}{r|llll}\n",
       "  & sample & cluster & V1 & V2\\\\\n",
       "  & <chr> & <chr> & <dbl> & <dbl>\\\\\n",
       "\\hline\n",
       "\t1 & C3L-00017 & 2 & 0.1684102 & 8.315898e-01\\\\\n",
       "\t2 & C3L-00102 & 2 & 0.4528973 & 5.471027e-01\\\\\n",
       "\t3 & C3L-00277 & 1 & 0.6670459 & 3.329541e-01\\\\\n",
       "\t4 & C3L-00589 & 2 & 0.1380543 & 8.619457e-01\\\\\n",
       "\t5 & C3L-00598 & 1 & 0.9999977 & 2.276660e-06\\\\\n",
       "\\end{tabular}\n"
      ],
      "text/markdown": [
       "\n",
       "A data.frame: 5 × 4\n",
       "\n",
       "| <!--/--> | sample &lt;chr&gt; | cluster &lt;chr&gt; | V1 &lt;dbl&gt; | V2 &lt;dbl&gt; |\n",
       "|---|---|---|---|---|\n",
       "| 1 | C3L-00017 | 2 | 0.1684102 | 8.315898e-01 |\n",
       "| 2 | C3L-00102 | 2 | 0.4528973 | 5.471027e-01 |\n",
       "| 3 | C3L-00277 | 1 | 0.6670459 | 3.329541e-01 |\n",
       "| 4 | C3L-00589 | 2 | 0.1380543 | 8.619457e-01 |\n",
       "| 5 | C3L-00598 | 1 | 0.9999977 | 2.276660e-06 |\n",
       "\n"
      ],
      "text/plain": [
       "  sample    cluster V1        V2          \n",
       "1 C3L-00017 2       0.1684102 8.315898e-01\n",
       "2 C3L-00102 2       0.4528973 5.471027e-01\n",
       "3 C3L-00277 1       0.6670459 3.329541e-01\n",
       "4 C3L-00589 2       0.1380543 8.619457e-01\n",
       "5 C3L-00598 1       0.9999977 2.276660e-06"
      ]
     },
     "metadata": {},
     "output_type": "display_data"
    }
   ],
   "source": [
    "# 숫자 데이터만 추출\n",
    "mat_for_nmf <- as.matrix(combined_matrix[, setdiff(names(combined_matrix), \"data_type\")])\n",
    "\n",
    "# NMF 실행\n",
    "nmf_clu <- nmf(mat_for_nmf, 2, .options = list(verbose = TRUE), maxIter = 500, method =\"lee\")\n",
    "membership <- nmf_clu@fit@H %>%\n",
    "    t() %>%\n",
    "    as.data.frame() %>%\n",
    "    # Set the cluster column, V1 > V2\n",
    "    mutate(cluster = ifelse(V1 >= V2, \"1\", \"2\")) %>%\n",
    "    # Divide by the sum of the two \n",
    "    mutate(sum = V1 + V2) %>%\n",
    "    mutate(V1 = V1 / sum, V2 = V2 / sum) %>%\n",
    "    select(-sum) %>%\n",
    "    mutate(cluster = ifelse(V1 > V2, \"1\", \"2\")) %>% \n",
    "    # substitute \"\".\" with \"-\" in the sample IDs\n",
    "    mutate(sample = rownames(.)) %>%\n",
    "    mutate(sample = gsub(\"\\\\.\", \"-\", sample)) %>%\n",
    "    select(sample, cluster, V1, V2)\n",
    "    \n",
    "\n",
    "# Count the number of samples in each cluster\n",
    "membership_summary <- membership %>%\n",
    "    group_by(cluster) %>%\n",
    "    summarise(count = n())\n",
    "print(membership_summary)\n",
    "# Exclude rownames from the output\n",
    "rownames(membership) <- NULL\n",
    "head(membership,5)\n",
    "write.table(membership, \"membership.tsv\", sep = \"\\t\", quote = FALSE, row.names = FALSE)"
   ]
  },
  {
   "cell_type": "code",
   "execution_count": null,
   "id": "7801268c",
   "metadata": {
    "vscode": {
     "languageId": "r"
    }
   },
   "outputs": [
    {
     "data": {
      "text/html": [
       "<table class=\"dataframe\">\n",
       "<caption>A data.frame: 3 × 3</caption>\n",
       "<thead>\n",
       "\t<tr><th></th><th scope=col>data_type</th><th scope=col>V1</th><th scope=col>V2</th></tr>\n",
       "\t<tr><th></th><th scope=col>&lt;chr&gt;</th><th scope=col>&lt;dbl&gt;</th><th scope=col>&lt;dbl&gt;</th></tr>\n",
       "</thead>\n",
       "<tbody>\n",
       "\t<tr><th scope=row>SAMD11</th><td>cnv</td><td>3.847392e-06</td><td>9.093966e-07</td></tr>\n",
       "\t<tr><th scope=row>NOC2L</th><td>cnv</td><td>3.738249e-06</td><td>9.448250e-07</td></tr>\n",
       "\t<tr><th scope=row>KLHL17</th><td>cnv</td><td>3.738249e-06</td><td>9.448250e-07</td></tr>\n",
       "</tbody>\n",
       "</table>\n"
      ],
      "text/latex": [
       "A data.frame: 3 × 3\n",
       "\\begin{tabular}{r|lll}\n",
       "  & data\\_type & V1 & V2\\\\\n",
       "  & <chr> & <dbl> & <dbl>\\\\\n",
       "\\hline\n",
       "\tSAMD11 & cnv & 3.847392e-06 & 9.093966e-07\\\\\n",
       "\tNOC2L & cnv & 3.738249e-06 & 9.448250e-07\\\\\n",
       "\tKLHL17 & cnv & 3.738249e-06 & 9.448250e-07\\\\\n",
       "\\end{tabular}\n"
      ],
      "text/markdown": [
       "\n",
       "A data.frame: 3 × 3\n",
       "\n",
       "| <!--/--> | data_type &lt;chr&gt; | V1 &lt;dbl&gt; | V2 &lt;dbl&gt; |\n",
       "|---|---|---|---|\n",
       "| SAMD11 | cnv | 3.847392e-06 | 9.093966e-07 |\n",
       "| NOC2L | cnv | 3.738249e-06 | 9.448250e-07 |\n",
       "| KLHL17 | cnv | 3.738249e-06 | 9.448250e-07 |\n",
       "\n"
      ],
      "text/plain": [
       "       data_type V1           V2          \n",
       "SAMD11 cnv       3.847392e-06 9.093966e-07\n",
       "NOC2L  cnv       3.738249e-06 9.448250e-07\n",
       "KLHL17 cnv       3.738249e-06 9.448250e-07"
      ]
     },
     "metadata": {},
     "output_type": "display_data"
    }
   ],
   "source": [
    "weights <- as.data.frame(nmf_clu@fit@W)\n",
    "weights$data_type <- combined_matrix$data_type\n",
    "weights <- weights %>%\n",
    "    relocate(data_type)\n",
    " \n",
    "# write.table(weights, \"nmf_weights.tsv\", sep = \"\\t\", quote = FALSE)\n",
    "head(weights,3)"
   ]
  },
  {
   "cell_type": "code",
   "execution_count": 218,
   "id": "35ce8dd6",
   "metadata": {
    "vscode": {
     "languageId": "r"
    }
   },
   "outputs": [
    {
     "data": {
      "text/html": [
       "5552"
      ],
      "text/latex": [
       "5552"
      ],
      "text/markdown": [
       "5552"
      ],
      "text/plain": [
       "[1] 5552"
      ]
     },
     "metadata": {},
     "output_type": "display_data"
    },
    {
     "data": {
      "text/html": [
       "5917"
      ],
      "text/latex": [
       "5917"
      ],
      "text/markdown": [
       "5917"
      ],
      "text/plain": [
       "[1] 5917"
      ]
     },
     "metadata": {},
     "output_type": "display_data"
    },
    {
     "data": {
      "text/html": [
       "<table class=\"dataframe\">\n",
       "<caption>A data.frame: 6 × 2</caption>\n",
       "<thead>\n",
       "\t<tr><th></th><th scope=col>data_type</th><th scope=col>names</th></tr>\n",
       "\t<tr><th></th><th scope=col>&lt;chr&gt;</th><th scope=col>&lt;chr&gt;</th></tr>\n",
       "</thead>\n",
       "<tbody>\n",
       "\t<tr><th scope=row>1</th><td>rna</td><td>MUC621   </td></tr>\n",
       "\t<tr><th scope=row>2</th><td>rna</td><td>SST21    </td></tr>\n",
       "\t<tr><th scope=row>3</th><td>rna</td><td>SLC30A811</td></tr>\n",
       "\t<tr><th scope=row>4</th><td>rna</td><td>CHGA21   </td></tr>\n",
       "\t<tr><th scope=row>5</th><td>rna</td><td>SLC39A511</td></tr>\n",
       "\t<tr><th scope=row>6</th><td>rna</td><td>S100A21  </td></tr>\n",
       "</tbody>\n",
       "</table>\n"
      ],
      "text/latex": [
       "A data.frame: 6 × 2\n",
       "\\begin{tabular}{r|ll}\n",
       "  & data\\_type & names\\\\\n",
       "  & <chr> & <chr>\\\\\n",
       "\\hline\n",
       "\t1 & rna & MUC621   \\\\\n",
       "\t2 & rna & SST21    \\\\\n",
       "\t3 & rna & SLC30A811\\\\\n",
       "\t4 & rna & CHGA21   \\\\\n",
       "\t5 & rna & SLC39A511\\\\\n",
       "\t6 & rna & S100A21  \\\\\n",
       "\\end{tabular}\n"
      ],
      "text/markdown": [
       "\n",
       "A data.frame: 6 × 2\n",
       "\n",
       "| <!--/--> | data_type &lt;chr&gt; | names &lt;chr&gt; |\n",
       "|---|---|---|\n",
       "| 1 | rna | MUC621    |\n",
       "| 2 | rna | SST21     |\n",
       "| 3 | rna | SLC30A811 |\n",
       "| 4 | rna | CHGA21    |\n",
       "| 5 | rna | SLC39A511 |\n",
       "| 6 | rna | S100A21   |\n",
       "\n"
      ],
      "text/plain": [
       "  data_type names    \n",
       "1 rna       MUC621   \n",
       "2 rna       SST21    \n",
       "3 rna       SLC30A811\n",
       "4 rna       CHGA21   \n",
       "5 rna       SLC39A511\n",
       "6 rna       S100A21  "
      ]
     },
     "metadata": {},
     "output_type": "display_data"
    }
   ],
   "source": [
    "features <- extractFeatures(nmf_clu@fit@W, method = \"kim\")\n",
    "# feature_names <- lapply(features, function(index_vec) {rownames(nmf_clu@fit@W)[index_vec]}) # signed feature ID\n",
    "all_indices <- unique(unlist(features))\n",
    "filtered_weights <- weights[all_indices,]\n",
    "length(features[[1]])\n",
    "length(features[[2]])\n",
    "# featureScore(nmf_clu@fit@W, method=\"kim\")\n",
    "\n",
    "filtered_acc <- filtered_weights[\"data_type\"]\n",
    "filtered_acc$names <- rownames(filtered_acc)\n",
    "rownames(filtered_acc) <- NULL\n",
    "\n",
    "filtered_acc <- filtered_acc[!duplicated(filtered_acc[, c(\"data_type\", \"names\")]), ]\n",
    "\n",
    "head(filtered_idx,6)"
   ]
  },
  {
   "cell_type": "code",
   "execution_count": null,
   "id": "5041e6fe",
   "metadata": {
    "vscode": {
     "languageId": "r"
    }
   },
   "outputs": [
    {
     "data": {
      "text/html": [
       "<table class=\"dataframe\">\n",
       "<caption>A data.frame: 6 × 107</caption>\n",
       "<thead>\n",
       "\t<tr><th></th><th scope=col>data_type</th><th scope=col>names</th><th scope=col>C3L.00017</th><th scope=col>C3L.00102</th><th scope=col>C3L.00277</th><th scope=col>C3L.00589</th><th scope=col>C3L.00598</th><th scope=col>C3L.00599</th><th scope=col>C3L.00622</th><th scope=col>C3L.00625</th><th scope=col>⋯</th><th scope=col>C3N.03754</th><th scope=col>C3N.03780</th><th scope=col>C3N.03839</th><th scope=col>C3N.03840</th><th scope=col>C3N.03853</th><th scope=col>C3N.03884</th><th scope=col>C3N.04119</th><th scope=col>C3N.04126</th><th scope=col>C3N.04282</th><th scope=col>C3N.04283</th></tr>\n",
       "\t<tr><th></th><th scope=col>&lt;chr&gt;</th><th scope=col>&lt;chr&gt;</th><th scope=col>&lt;dbl&gt;</th><th scope=col>&lt;dbl&gt;</th><th scope=col>&lt;dbl&gt;</th><th scope=col>&lt;dbl&gt;</th><th scope=col>&lt;dbl&gt;</th><th scope=col>&lt;dbl&gt;</th><th scope=col>&lt;dbl&gt;</th><th scope=col>&lt;dbl&gt;</th><th scope=col>⋯</th><th scope=col>&lt;dbl&gt;</th><th scope=col>&lt;dbl&gt;</th><th scope=col>&lt;dbl&gt;</th><th scope=col>&lt;dbl&gt;</th><th scope=col>&lt;dbl&gt;</th><th scope=col>&lt;dbl&gt;</th><th scope=col>&lt;dbl&gt;</th><th scope=col>&lt;dbl&gt;</th><th scope=col>&lt;dbl&gt;</th><th scope=col>&lt;dbl&gt;</th></tr>\n",
       "</thead>\n",
       "<tbody>\n",
       "\t<tr><th scope=row>5878</th><td>rna</td><td>ZSWIM41</td><td>-0.90064093</td><td>-0.48249818</td><td> 0.03006379</td><td>-0.6274672</td><td>1.93581828</td><td>-0.1192915</td><td> 0.29209976</td><td> 1.43113122</td><td>⋯</td><td> 0.8156068</td><td>-1.4622981</td><td>-1.2444601</td><td>-0.86064793</td><td>-0.2429108</td><td> 0.16150891</td><td> 0.04671981</td><td>-0.2822190</td><td>-0.4391541</td><td>-0.6053750</td></tr>\n",
       "\t<tr><th scope=row>5879</th><td>rna</td><td>ZWILCH1</td><td>-0.65857339</td><td> 0.07629318</td><td>-0.23292467</td><td> 0.2541038</td><td>0.65130079</td><td> 0.4276126</td><td>-0.33888855</td><td>-0.65703591</td><td>⋯</td><td> 2.1012851</td><td>-0.5499445</td><td> 0.3512714</td><td> 0.05411585</td><td> 0.3758960</td><td> 0.46966825</td><td>-0.45646435</td><td>-0.7307805</td><td> 0.9044597</td><td> 0.4522684</td></tr>\n",
       "\t<tr><th scope=row>5880</th><td>rna</td><td>ZWINT1 </td><td>-0.41320879</td><td>-2.52271065</td><td> 0.24238348</td><td>-1.3843079</td><td>0.18375625</td><td>-1.0116353</td><td>-0.67795251</td><td>-0.52380385</td><td>⋯</td><td> 1.1575259</td><td>-1.6978079</td><td> 1.4563810</td><td>-0.58808443</td><td>-0.6516843</td><td> 0.18213774</td><td>-2.33882186</td><td>-0.3655287</td><td>-1.3449098</td><td> 1.3271418</td></tr>\n",
       "\t<tr><th scope=row>5881</th><td>rna</td><td>ZXDA1  </td><td> 0.24691697</td><td>-0.88318957</td><td> 0.27707755</td><td> 0.7391020</td><td>0.15076705</td><td> 1.0788258</td><td> 0.41596222</td><td>-0.68513361</td><td>⋯</td><td>-0.7421219</td><td> 0.1890739</td><td> 1.1837669</td><td> 0.21855580</td><td> 0.2303327</td><td>-0.81504672</td><td>-0.35171963</td><td> 0.0753987</td><td> 0.6294796</td><td> 0.2722895</td></tr>\n",
       "\t<tr><th scope=row>5882</th><td>rna</td><td>ZYX2   </td><td>-0.06854312</td><td> 0.36218482</td><td> 0.02161310</td><td>-2.0298256</td><td>0.53282893</td><td>-0.2310507</td><td> 0.08716187</td><td> 0.36128338</td><td>⋯</td><td> 2.3202499</td><td>-0.6410885</td><td>-0.9353127</td><td>-0.46597337</td><td>-0.1939643</td><td> 1.07616600</td><td>-0.14514803</td><td>-0.4087984</td><td> 0.4635944</td><td>-0.6519857</td></tr>\n",
       "\t<tr><th scope=row>5883</th><td>rna</td><td>ZZEF12 </td><td>-0.26012346</td><td>-0.33628484</td><td> 0.65840649</td><td>-0.5606664</td><td>0.02744141</td><td> 0.1459480</td><td> 0.19474646</td><td>-0.07891817</td><td>⋯</td><td> 0.5846421</td><td> 0.6741786</td><td>-0.9500286</td><td> 0.58040057</td><td> 0.2650774</td><td>-0.04587414</td><td>-0.24935946</td><td>-0.4100432</td><td>-0.2994478</td><td>-1.1593071</td></tr>\n",
       "</tbody>\n",
       "</table>\n"
      ],
      "text/latex": [
       "A data.frame: 6 × 107\n",
       "\\begin{tabular}{r|lllllllllllllllllllll}\n",
       "  & data\\_type & names & C3L.00017 & C3L.00102 & C3L.00277 & C3L.00589 & C3L.00598 & C3L.00599 & C3L.00622 & C3L.00625 & ⋯ & C3N.03754 & C3N.03780 & C3N.03839 & C3N.03840 & C3N.03853 & C3N.03884 & C3N.04119 & C3N.04126 & C3N.04282 & C3N.04283\\\\\n",
       "  & <chr> & <chr> & <dbl> & <dbl> & <dbl> & <dbl> & <dbl> & <dbl> & <dbl> & <dbl> & ⋯ & <dbl> & <dbl> & <dbl> & <dbl> & <dbl> & <dbl> & <dbl> & <dbl> & <dbl> & <dbl>\\\\\n",
       "\\hline\n",
       "\t5878 & rna & ZSWIM41 & -0.90064093 & -0.48249818 &  0.03006379 & -0.6274672 & 1.93581828 & -0.1192915 &  0.29209976 &  1.43113122 & ⋯ &  0.8156068 & -1.4622981 & -1.2444601 & -0.86064793 & -0.2429108 &  0.16150891 &  0.04671981 & -0.2822190 & -0.4391541 & -0.6053750\\\\\n",
       "\t5879 & rna & ZWILCH1 & -0.65857339 &  0.07629318 & -0.23292467 &  0.2541038 & 0.65130079 &  0.4276126 & -0.33888855 & -0.65703591 & ⋯ &  2.1012851 & -0.5499445 &  0.3512714 &  0.05411585 &  0.3758960 &  0.46966825 & -0.45646435 & -0.7307805 &  0.9044597 &  0.4522684\\\\\n",
       "\t5880 & rna & ZWINT1  & -0.41320879 & -2.52271065 &  0.24238348 & -1.3843079 & 0.18375625 & -1.0116353 & -0.67795251 & -0.52380385 & ⋯ &  1.1575259 & -1.6978079 &  1.4563810 & -0.58808443 & -0.6516843 &  0.18213774 & -2.33882186 & -0.3655287 & -1.3449098 &  1.3271418\\\\\n",
       "\t5881 & rna & ZXDA1   &  0.24691697 & -0.88318957 &  0.27707755 &  0.7391020 & 0.15076705 &  1.0788258 &  0.41596222 & -0.68513361 & ⋯ & -0.7421219 &  0.1890739 &  1.1837669 &  0.21855580 &  0.2303327 & -0.81504672 & -0.35171963 &  0.0753987 &  0.6294796 &  0.2722895\\\\\n",
       "\t5882 & rna & ZYX2    & -0.06854312 &  0.36218482 &  0.02161310 & -2.0298256 & 0.53282893 & -0.2310507 &  0.08716187 &  0.36128338 & ⋯ &  2.3202499 & -0.6410885 & -0.9353127 & -0.46597337 & -0.1939643 &  1.07616600 & -0.14514803 & -0.4087984 &  0.4635944 & -0.6519857\\\\\n",
       "\t5883 & rna & ZZEF12  & -0.26012346 & -0.33628484 &  0.65840649 & -0.5606664 & 0.02744141 &  0.1459480 &  0.19474646 & -0.07891817 & ⋯ &  0.5846421 &  0.6741786 & -0.9500286 &  0.58040057 &  0.2650774 & -0.04587414 & -0.24935946 & -0.4100432 & -0.2994478 & -1.1593071\\\\\n",
       "\\end{tabular}\n"
      ],
      "text/markdown": [
       "\n",
       "A data.frame: 6 × 107\n",
       "\n",
       "| <!--/--> | data_type &lt;chr&gt; | names &lt;chr&gt; | C3L.00017 &lt;dbl&gt; | C3L.00102 &lt;dbl&gt; | C3L.00277 &lt;dbl&gt; | C3L.00589 &lt;dbl&gt; | C3L.00598 &lt;dbl&gt; | C3L.00599 &lt;dbl&gt; | C3L.00622 &lt;dbl&gt; | C3L.00625 &lt;dbl&gt; | ⋯ ⋯ | C3N.03754 &lt;dbl&gt; | C3N.03780 &lt;dbl&gt; | C3N.03839 &lt;dbl&gt; | C3N.03840 &lt;dbl&gt; | C3N.03853 &lt;dbl&gt; | C3N.03884 &lt;dbl&gt; | C3N.04119 &lt;dbl&gt; | C3N.04126 &lt;dbl&gt; | C3N.04282 &lt;dbl&gt; | C3N.04283 &lt;dbl&gt; |\n",
       "|---|---|---|---|---|---|---|---|---|---|---|---|---|---|---|---|---|---|---|---|---|---|\n",
       "| 5878 | rna | ZSWIM41 | -0.90064093 | -0.48249818 |  0.03006379 | -0.6274672 | 1.93581828 | -0.1192915 |  0.29209976 |  1.43113122 | ⋯ |  0.8156068 | -1.4622981 | -1.2444601 | -0.86064793 | -0.2429108 |  0.16150891 |  0.04671981 | -0.2822190 | -0.4391541 | -0.6053750 |\n",
       "| 5879 | rna | ZWILCH1 | -0.65857339 |  0.07629318 | -0.23292467 |  0.2541038 | 0.65130079 |  0.4276126 | -0.33888855 | -0.65703591 | ⋯ |  2.1012851 | -0.5499445 |  0.3512714 |  0.05411585 |  0.3758960 |  0.46966825 | -0.45646435 | -0.7307805 |  0.9044597 |  0.4522684 |\n",
       "| 5880 | rna | ZWINT1  | -0.41320879 | -2.52271065 |  0.24238348 | -1.3843079 | 0.18375625 | -1.0116353 | -0.67795251 | -0.52380385 | ⋯ |  1.1575259 | -1.6978079 |  1.4563810 | -0.58808443 | -0.6516843 |  0.18213774 | -2.33882186 | -0.3655287 | -1.3449098 |  1.3271418 |\n",
       "| 5881 | rna | ZXDA1   |  0.24691697 | -0.88318957 |  0.27707755 |  0.7391020 | 0.15076705 |  1.0788258 |  0.41596222 | -0.68513361 | ⋯ | -0.7421219 |  0.1890739 |  1.1837669 |  0.21855580 |  0.2303327 | -0.81504672 | -0.35171963 |  0.0753987 |  0.6294796 |  0.2722895 |\n",
       "| 5882 | rna | ZYX2    | -0.06854312 |  0.36218482 |  0.02161310 | -2.0298256 | 0.53282893 | -0.2310507 |  0.08716187 |  0.36128338 | ⋯ |  2.3202499 | -0.6410885 | -0.9353127 | -0.46597337 | -0.1939643 |  1.07616600 | -0.14514803 | -0.4087984 |  0.4635944 | -0.6519857 |\n",
       "| 5883 | rna | ZZEF12  | -0.26012346 | -0.33628484 |  0.65840649 | -0.5606664 | 0.02744141 |  0.1459480 |  0.19474646 | -0.07891817 | ⋯ |  0.5846421 |  0.6741786 | -0.9500286 |  0.58040057 |  0.2650774 | -0.04587414 | -0.24935946 | -0.4100432 | -0.2994478 | -1.1593071 |\n",
       "\n"
      ],
      "text/plain": [
       "     data_type names   C3L.00017   C3L.00102   C3L.00277   C3L.00589 \n",
       "5878 rna       ZSWIM41 -0.90064093 -0.48249818  0.03006379 -0.6274672\n",
       "5879 rna       ZWILCH1 -0.65857339  0.07629318 -0.23292467  0.2541038\n",
       "5880 rna       ZWINT1  -0.41320879 -2.52271065  0.24238348 -1.3843079\n",
       "5881 rna       ZXDA1    0.24691697 -0.88318957  0.27707755  0.7391020\n",
       "5882 rna       ZYX2    -0.06854312  0.36218482  0.02161310 -2.0298256\n",
       "5883 rna       ZZEF12  -0.26012346 -0.33628484  0.65840649 -0.5606664\n",
       "     C3L.00598  C3L.00599  C3L.00622   C3L.00625   ⋯ C3N.03754  C3N.03780 \n",
       "5878 1.93581828 -0.1192915  0.29209976  1.43113122 ⋯  0.8156068 -1.4622981\n",
       "5879 0.65130079  0.4276126 -0.33888855 -0.65703591 ⋯  2.1012851 -0.5499445\n",
       "5880 0.18375625 -1.0116353 -0.67795251 -0.52380385 ⋯  1.1575259 -1.6978079\n",
       "5881 0.15076705  1.0788258  0.41596222 -0.68513361 ⋯ -0.7421219  0.1890739\n",
       "5882 0.53282893 -0.2310507  0.08716187  0.36128338 ⋯  2.3202499 -0.6410885\n",
       "5883 0.02744141  0.1459480  0.19474646 -0.07891817 ⋯  0.5846421  0.6741786\n",
       "     C3N.03839  C3N.03840   C3N.03853  C3N.03884   C3N.04119   C3N.04126 \n",
       "5878 -1.2444601 -0.86064793 -0.2429108  0.16150891  0.04671981 -0.2822190\n",
       "5879  0.3512714  0.05411585  0.3758960  0.46966825 -0.45646435 -0.7307805\n",
       "5880  1.4563810 -0.58808443 -0.6516843  0.18213774 -2.33882186 -0.3655287\n",
       "5881  1.1837669  0.21855580  0.2303327 -0.81504672 -0.35171963  0.0753987\n",
       "5882 -0.9353127 -0.46597337 -0.1939643  1.07616600 -0.14514803 -0.4087984\n",
       "5883 -0.9500286  0.58040057  0.2650774 -0.04587414 -0.24935946 -0.4100432\n",
       "     C3N.04282  C3N.04283 \n",
       "5878 -0.4391541 -0.6053750\n",
       "5879  0.9044597  0.4522684\n",
       "5880 -1.3449098  1.3271418\n",
       "5881  0.6294796  0.2722895\n",
       "5882  0.4635944 -0.6519857\n",
       "5883 -0.2994478 -1.1593071"
      ]
     },
     "metadata": {},
     "output_type": "display_data"
    },
    {
     "data": {
      "text/html": [
       "<style>\n",
       ".list-inline {list-style: none; margin:0; padding: 0}\n",
       ".list-inline>li {display: inline-block}\n",
       ".list-inline>li:not(:last-child)::after {content: \"\\00b7\"; padding: 0 .5ex}\n",
       "</style>\n",
       "<ol class=list-inline><li>45139</li><li>107</li></ol>\n"
      ],
      "text/latex": [
       "\\begin{enumerate*}\n",
       "\\item 45139\n",
       "\\item 107\n",
       "\\end{enumerate*}\n"
      ],
      "text/markdown": [
       "1. 45139\n",
       "2. 107\n",
       "\n",
       "\n"
      ],
      "text/plain": [
       "[1] 45139   107"
      ]
     },
     "metadata": {},
     "output_type": "display_data"
    },
    {
     "data": {
      "text/html": [
       "<style>\n",
       ".list-inline {list-style: none; margin:0; padding: 0}\n",
       ".list-inline>li {display: inline-block}\n",
       ".list-inline>li:not(:last-child)::after {content: \"\\00b7\"; padding: 0 .5ex}\n",
       "</style>\n",
       "<ol class=list-inline><li>5883</li><li>107</li></ol>\n"
      ],
      "text/latex": [
       "\\begin{enumerate*}\n",
       "\\item 5883\n",
       "\\item 107\n",
       "\\end{enumerate*}\n"
      ],
      "text/markdown": [
       "1. 5883\n",
       "2. 107\n",
       "\n",
       "\n"
      ],
      "text/plain": [
       "[1] 5883  107"
      ]
     },
     "metadata": {},
     "output_type": "display_data"
    }
   ],
   "source": [
    "data$names<- rownames(data)\n",
    "data_filtered <- merge(data, filtered_acc, by =c(\"data_type\", \"names\"))\n",
    "tail(data_filtered)\n",
    "dim(data)\n",
    "dim(data_filtered)\n",
    "# write.table(data_filtered, \"filtered_zscores.tsv\", sep=\"\\t\",  quote = FALSE, row.names = FALSE)\n"
   ]
  }
 ],
 "metadata": {
  "kernelspec": {
   "display_name": "R",
   "language": "R",
   "name": "ir"
  },
  "language_info": {
   "codemirror_mode": "r",
   "file_extension": ".r",
   "mimetype": "text/x-r-source",
   "name": "R",
   "pygments_lexer": "r",
   "version": "4.4.2"
  }
 },
 "nbformat": 4,
 "nbformat_minor": 5
}
