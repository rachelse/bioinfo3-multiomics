{
 "cells": [
  {
   "cell_type": "markdown",
   "id": "2bf9a53d",
   "metadata": {},
   "source": [
    "## Multi-omics Clustering"
   ]
  },
  {
   "cell_type": "code",
   "execution_count": 2,
   "id": "2a83dec1",
   "metadata": {
    "vscode": {
     "languageId": "r"
    }
   },
   "outputs": [],
   "source": [
    "suppressPackageStartupMessages(library(tidyr))\n",
    "suppressPackageStartupMessages(library(dplyr))\n",
    "suppressPackageStartupMessages(library(NMF))"
   ]
  },
  {
   "cell_type": "markdown",
   "id": "84226dba",
   "metadata": {},
   "source": [
    "### Data Preparation"
   ]
  },
  {
   "cell_type": "code",
   "execution_count": 3,
   "id": "871118a4",
   "metadata": {
    "vscode": {
     "languageId": "r"
    }
   },
   "outputs": [
    {
     "data": {
      "text/html": [
       "<table class=\"dataframe\">\n",
       "<caption>A data.frame: 3 × 2</caption>\n",
       "<thead>\n",
       "\t<tr><th></th><th scope=col>ID</th><th scope=col>ID2</th></tr>\n",
       "\t<tr><th></th><th scope=col>&lt;chr&gt;</th><th scope=col>&lt;chr&gt;</th></tr>\n",
       "</thead>\n",
       "<tbody>\n",
       "\t<tr><th scope=row>1</th><td>C3L-02613</td><td>C3L.02613</td></tr>\n",
       "\t<tr><th scope=row>2</th><td>C3L-04072</td><td>C3L.04072</td></tr>\n",
       "\t<tr><th scope=row>3</th><td>C3N-04282</td><td>C3N.04282</td></tr>\n",
       "</tbody>\n",
       "</table>\n"
      ],
      "text/latex": [
       "A data.frame: 3 × 2\n",
       "\\begin{tabular}{r|ll}\n",
       "  & ID & ID2\\\\\n",
       "  & <chr> & <chr>\\\\\n",
       "\\hline\n",
       "\t1 & C3L-02613 & C3L.02613\\\\\n",
       "\t2 & C3L-04072 & C3L.04072\\\\\n",
       "\t3 & C3N-04282 & C3N.04282\\\\\n",
       "\\end{tabular}\n"
      ],
      "text/markdown": [
       "\n",
       "A data.frame: 3 × 2\n",
       "\n",
       "| <!--/--> | ID &lt;chr&gt; | ID2 &lt;chr&gt; |\n",
       "|---|---|---|\n",
       "| 1 | C3L-02613 | C3L.02613 |\n",
       "| 2 | C3L-04072 | C3L.04072 |\n",
       "| 3 | C3N-04282 | C3N.04282 |\n",
       "\n"
      ],
      "text/plain": [
       "  ID        ID2      \n",
       "1 C3L-02613 C3L.02613\n",
       "2 C3L-04072 C3L.04072\n",
       "3 C3N-04282 C3N.04282"
      ]
     },
     "metadata": {},
     "output_type": "display_data"
    }
   ],
   "source": [
    "PATH_DATA <- \"../data_linkedomics/\"\n",
    "\n",
    "valid_samples <- read.csv(\"sample105.list\", header = FALSE, col.names = \"ID\")\n",
    "valid_samples$ID2 <- gsub(\"-\", \".\", valid_samples$ID) \n",
    "head(valid_samples,3)"
   ]
  },
  {
   "cell_type": "code",
   "execution_count": 4,
   "id": "488795a6",
   "metadata": {
    "vscode": {
     "languageId": "r"
    }
   },
   "outputs": [
    {
     "data": {
      "text/html": [
       "<table class=\"dataframe\">\n",
       "<caption>A data.frame: 3 × 105</caption>\n",
       "<thead>\n",
       "\t<tr><th></th><th scope=col>C3L.02613</th><th scope=col>C3L.04072</th><th scope=col>C3N.04282</th><th scope=col>C3L.03639</th><th scope=col>C3L.01328</th><th scope=col>C3L.00277</th><th scope=col>C3L.02604</th><th scope=col>C3L.01971</th><th scope=col>C3N.01167</th><th scope=col>C3L.01031</th><th scope=col>⋯</th><th scope=col>C3N.00436</th><th scope=col>C3N.02944</th><th scope=col>C3L.03356</th><th scope=col>C3N.02589</th><th scope=col>C3L.03388</th><th scope=col>C3N.01388</th><th scope=col>C3N.00198</th><th scope=col>C3N.01380</th><th scope=col>C3N.01715</th><th scope=col>C3N.03426</th></tr>\n",
       "\t<tr><th></th><th scope=col>&lt;dbl&gt;</th><th scope=col>&lt;dbl&gt;</th><th scope=col>&lt;dbl&gt;</th><th scope=col>&lt;dbl&gt;</th><th scope=col>&lt;dbl&gt;</th><th scope=col>&lt;dbl&gt;</th><th scope=col>&lt;dbl&gt;</th><th scope=col>&lt;dbl&gt;</th><th scope=col>&lt;dbl&gt;</th><th scope=col>&lt;dbl&gt;</th><th scope=col>⋯</th><th scope=col>&lt;dbl&gt;</th><th scope=col>&lt;dbl&gt;</th><th scope=col>&lt;dbl&gt;</th><th scope=col>&lt;dbl&gt;</th><th scope=col>&lt;dbl&gt;</th><th scope=col>&lt;dbl&gt;</th><th scope=col>&lt;dbl&gt;</th><th scope=col>&lt;dbl&gt;</th><th scope=col>&lt;dbl&gt;</th><th scope=col>&lt;dbl&gt;</th></tr>\n",
       "</thead>\n",
       "<tbody>\n",
       "\t<tr><th scope=row>DAZ4</th><td>-0.12735</td><td>-0.59551</td><td>-0.92239</td><td>-0.72322</td><td>-0.02908</td><td>0.07958</td><td>0.82266</td><td>0.23247</td><td>-0.45531</td><td>0.28581</td><td>⋯</td><td>-0.36377</td><td>0.30116</td><td>-0.06191</td><td>-0.05711</td><td>-0.38335</td><td>-0.12518</td><td>-0.10954</td><td>0.11612</td><td>0.40891</td><td>-0.47479</td></tr>\n",
       "\t<tr><th scope=row>BPY2C</th><td>-0.12735</td><td>-0.59551</td><td>-0.92239</td><td>-0.72322</td><td>-0.02908</td><td>0.07958</td><td>0.82266</td><td>0.23247</td><td>-0.45531</td><td>0.28581</td><td>⋯</td><td>-0.36377</td><td>0.30116</td><td>-0.06191</td><td>-0.05711</td><td>-0.38335</td><td>-0.12518</td><td>-0.10954</td><td>0.11612</td><td>0.40891</td><td>-0.47479</td></tr>\n",
       "\t<tr><th scope=row>CDY1</th><td>-0.12735</td><td>-0.59551</td><td>-0.92239</td><td>-0.72322</td><td>-0.02908</td><td>0.07958</td><td>0.82266</td><td>0.23247</td><td>-0.45531</td><td>0.28581</td><td>⋯</td><td>-0.36377</td><td>0.30116</td><td>-0.06191</td><td>-0.05711</td><td>-0.38335</td><td>-0.12518</td><td>-0.10954</td><td>0.11612</td><td>0.40891</td><td>-0.47479</td></tr>\n",
       "</tbody>\n",
       "</table>\n"
      ],
      "text/latex": [
       "A data.frame: 3 × 105\n",
       "\\begin{tabular}{r|lllllllllllllllllllll}\n",
       "  & C3L.02613 & C3L.04072 & C3N.04282 & C3L.03639 & C3L.01328 & C3L.00277 & C3L.02604 & C3L.01971 & C3N.01167 & C3L.01031 & ⋯ & C3N.00436 & C3N.02944 & C3L.03356 & C3N.02589 & C3L.03388 & C3N.01388 & C3N.00198 & C3N.01380 & C3N.01715 & C3N.03426\\\\\n",
       "  & <dbl> & <dbl> & <dbl> & <dbl> & <dbl> & <dbl> & <dbl> & <dbl> & <dbl> & <dbl> & ⋯ & <dbl> & <dbl> & <dbl> & <dbl> & <dbl> & <dbl> & <dbl> & <dbl> & <dbl> & <dbl>\\\\\n",
       "\\hline\n",
       "\tDAZ4 & -0.12735 & -0.59551 & -0.92239 & -0.72322 & -0.02908 & 0.07958 & 0.82266 & 0.23247 & -0.45531 & 0.28581 & ⋯ & -0.36377 & 0.30116 & -0.06191 & -0.05711 & -0.38335 & -0.12518 & -0.10954 & 0.11612 & 0.40891 & -0.47479\\\\\n",
       "\tBPY2C & -0.12735 & -0.59551 & -0.92239 & -0.72322 & -0.02908 & 0.07958 & 0.82266 & 0.23247 & -0.45531 & 0.28581 & ⋯ & -0.36377 & 0.30116 & -0.06191 & -0.05711 & -0.38335 & -0.12518 & -0.10954 & 0.11612 & 0.40891 & -0.47479\\\\\n",
       "\tCDY1 & -0.12735 & -0.59551 & -0.92239 & -0.72322 & -0.02908 & 0.07958 & 0.82266 & 0.23247 & -0.45531 & 0.28581 & ⋯ & -0.36377 & 0.30116 & -0.06191 & -0.05711 & -0.38335 & -0.12518 & -0.10954 & 0.11612 & 0.40891 & -0.47479\\\\\n",
       "\\end{tabular}\n"
      ],
      "text/markdown": [
       "\n",
       "A data.frame: 3 × 105\n",
       "\n",
       "| <!--/--> | C3L.02613 &lt;dbl&gt; | C3L.04072 &lt;dbl&gt; | C3N.04282 &lt;dbl&gt; | C3L.03639 &lt;dbl&gt; | C3L.01328 &lt;dbl&gt; | C3L.00277 &lt;dbl&gt; | C3L.02604 &lt;dbl&gt; | C3L.01971 &lt;dbl&gt; | C3N.01167 &lt;dbl&gt; | C3L.01031 &lt;dbl&gt; | ⋯ ⋯ | C3N.00436 &lt;dbl&gt; | C3N.02944 &lt;dbl&gt; | C3L.03356 &lt;dbl&gt; | C3N.02589 &lt;dbl&gt; | C3L.03388 &lt;dbl&gt; | C3N.01388 &lt;dbl&gt; | C3N.00198 &lt;dbl&gt; | C3N.01380 &lt;dbl&gt; | C3N.01715 &lt;dbl&gt; | C3N.03426 &lt;dbl&gt; |\n",
       "|---|---|---|---|---|---|---|---|---|---|---|---|---|---|---|---|---|---|---|---|---|---|\n",
       "| DAZ4 | -0.12735 | -0.59551 | -0.92239 | -0.72322 | -0.02908 | 0.07958 | 0.82266 | 0.23247 | -0.45531 | 0.28581 | ⋯ | -0.36377 | 0.30116 | -0.06191 | -0.05711 | -0.38335 | -0.12518 | -0.10954 | 0.11612 | 0.40891 | -0.47479 |\n",
       "| BPY2C | -0.12735 | -0.59551 | -0.92239 | -0.72322 | -0.02908 | 0.07958 | 0.82266 | 0.23247 | -0.45531 | 0.28581 | ⋯ | -0.36377 | 0.30116 | -0.06191 | -0.05711 | -0.38335 | -0.12518 | -0.10954 | 0.11612 | 0.40891 | -0.47479 |\n",
       "| CDY1 | -0.12735 | -0.59551 | -0.92239 | -0.72322 | -0.02908 | 0.07958 | 0.82266 | 0.23247 | -0.45531 | 0.28581 | ⋯ | -0.36377 | 0.30116 | -0.06191 | -0.05711 | -0.38335 | -0.12518 | -0.10954 | 0.11612 | 0.40891 | -0.47479 |\n",
       "\n"
      ],
      "text/plain": [
       "      C3L.02613 C3L.04072 C3N.04282 C3L.03639 C3L.01328 C3L.00277 C3L.02604\n",
       "DAZ4  -0.12735  -0.59551  -0.92239  -0.72322  -0.02908  0.07958   0.82266  \n",
       "BPY2C -0.12735  -0.59551  -0.92239  -0.72322  -0.02908  0.07958   0.82266  \n",
       "CDY1  -0.12735  -0.59551  -0.92239  -0.72322  -0.02908  0.07958   0.82266  \n",
       "      C3L.01971 C3N.01167 C3L.01031 ⋯ C3N.00436 C3N.02944 C3L.03356 C3N.02589\n",
       "DAZ4  0.23247   -0.45531  0.28581   ⋯ -0.36377  0.30116   -0.06191  -0.05711 \n",
       "BPY2C 0.23247   -0.45531  0.28581   ⋯ -0.36377  0.30116   -0.06191  -0.05711 \n",
       "CDY1  0.23247   -0.45531  0.28581   ⋯ -0.36377  0.30116   -0.06191  -0.05711 \n",
       "      C3L.03388 C3N.01388 C3N.00198 C3N.01380 C3N.01715 C3N.03426\n",
       "DAZ4  -0.38335  -0.12518  -0.10954  0.11612   0.40891   -0.47479 \n",
       "BPY2C -0.38335  -0.12518  -0.10954  0.11612   0.40891   -0.47479 \n",
       "CDY1  -0.38335  -0.12518  -0.10954  0.11612   0.40891   -0.47479 "
      ]
     },
     "metadata": {},
     "output_type": "display_data"
    },
    {
     "data": {
      "text/html": [
       "<style>\n",
       ".list-inline {list-style: none; margin:0; padding: 0}\n",
       ".list-inline>li {display: inline-block}\n",
       ".list-inline>li:not(:last-child)::after {content: \"\\00b7\"; padding: 0 .5ex}\n",
       "</style>\n",
       "<ol class=list-inline><li>19855</li><li>105</li></ol>\n"
      ],
      "text/latex": [
       "\\begin{enumerate*}\n",
       "\\item 19855\n",
       "\\item 105\n",
       "\\end{enumerate*}\n"
      ],
      "text/markdown": [
       "1. 19855\n",
       "2. 105\n",
       "\n",
       "\n"
      ],
      "text/plain": [
       "[1] 19855   105"
      ]
     },
     "metadata": {},
     "output_type": "display_data"
    }
   ],
   "source": [
    "cnv <- read.table(paste0(PATH_DATA, \"SCNA_log2_gene_level.cct\"), header = TRUE, row.names = 1, sep = \"\\t\", \n",
    "    # na.strings = \"NA\" \n",
    "    )\n",
    "cnv <- cnv %>%\n",
    "    # Select only the valid sample columns in order\n",
    "    select(all_of(valid_samples$ID2)) %>%\n",
    "    # Remove rows where any value is \"NA\"\n",
    "    filter(rowSums(is.na(.)) == 0) %>%\n",
    "    # Subtract median from each row\n",
    "    mutate(row_median = apply(., 1, median, na.rm = TRUE)) %>%\n",
    "    mutate(across(-row_median, ~ . - row_median)) %>%\n",
    "    select(-row_median)\n",
    "tail(cnv, 3)\n",
    "dim(cnv)"
   ]
  },
  {
   "cell_type": "code",
   "execution_count": 5,
   "id": "16742513",
   "metadata": {
    "vscode": {
     "languageId": "r"
    }
   },
   "outputs": [
    {
     "data": {
      "text/html": [
       "<table class=\"dataframe\">\n",
       "<caption>A data.frame: 3 × 105</caption>\n",
       "<thead>\n",
       "\t<tr><th></th><th scope=col>C3L.02613</th><th scope=col>C3L.04072</th><th scope=col>C3N.04282</th><th scope=col>C3L.03639</th><th scope=col>C3L.01328</th><th scope=col>C3L.00277</th><th scope=col>C3L.02604</th><th scope=col>C3L.01971</th><th scope=col>C3N.01167</th><th scope=col>C3L.01031</th><th scope=col>⋯</th><th scope=col>C3N.00436</th><th scope=col>C3N.02944</th><th scope=col>C3L.03356</th><th scope=col>C3N.02589</th><th scope=col>C3L.03388</th><th scope=col>C3N.01388</th><th scope=col>C3N.00198</th><th scope=col>C3N.01380</th><th scope=col>C3N.01715</th><th scope=col>C3N.03426</th></tr>\n",
       "\t<tr><th></th><th scope=col>&lt;dbl&gt;</th><th scope=col>&lt;dbl&gt;</th><th scope=col>&lt;dbl&gt;</th><th scope=col>&lt;dbl&gt;</th><th scope=col>&lt;dbl&gt;</th><th scope=col>&lt;dbl&gt;</th><th scope=col>&lt;dbl&gt;</th><th scope=col>&lt;dbl&gt;</th><th scope=col>&lt;dbl&gt;</th><th scope=col>&lt;dbl&gt;</th><th scope=col>⋯</th><th scope=col>&lt;dbl&gt;</th><th scope=col>&lt;dbl&gt;</th><th scope=col>&lt;dbl&gt;</th><th scope=col>&lt;dbl&gt;</th><th scope=col>&lt;dbl&gt;</th><th scope=col>&lt;dbl&gt;</th><th scope=col>&lt;dbl&gt;</th><th scope=col>&lt;dbl&gt;</th><th scope=col>&lt;dbl&gt;</th><th scope=col>&lt;dbl&gt;</th></tr>\n",
       "</thead>\n",
       "<tbody>\n",
       "\t<tr><th scope=row>A1BG</th><td>-0.02990673</td><td>-0.05704551</td><td> 0.01628874</td><td> 0.01603432</td><td>-0.007786107</td><td>0.08029986</td><td>-0.002396511</td><td>-0.02007117</td><td>0.002849704</td><td>-0.012854305</td><td>⋯</td><td>-0.047168575</td><td>0.002205547</td><td>0.008227415</td><td>0.023093964</td><td>-0.01740784</td><td> 0.007965865</td><td>0.006648201</td><td> 0.03795399</td><td> 0.0008283693</td><td>0.01275042</td></tr>\n",
       "\t<tr><th scope=row>A1CF</th><td>-0.10768810</td><td>-0.06315414</td><td>-0.02110286</td><td>-0.03337825</td><td>-0.027146384</td><td>0.01286132</td><td>-0.043795955</td><td> 0.04575079</td><td>0.065486572</td><td>-0.003501735</td><td>⋯</td><td>-0.007676754</td><td>0.034893213</td><td>0.001121374</td><td>0.014860119</td><td>-0.01008405</td><td>-0.049558683</td><td>0.050916236</td><td>-0.03390004</td><td>-0.0403040175</td><td>0.02859428</td></tr>\n",
       "\t<tr><th scope=row>A2M</th><td>-0.04459164</td><td>-0.07561623</td><td>-0.01808992</td><td>-0.03178421</td><td>-0.005866177</td><td>0.02693054</td><td> 0.006563652</td><td> 0.03762665</td><td>0.006559212</td><td>-0.015757502</td><td>⋯</td><td>-0.016670852</td><td>0.000000000</td><td>0.052783243</td><td>0.004635516</td><td>-0.02938669</td><td> 0.028271871</td><td>0.038905775</td><td> 0.03043543</td><td>-0.0143345714</td><td>0.03923146</td></tr>\n",
       "</tbody>\n",
       "</table>\n"
      ],
      "text/latex": [
       "A data.frame: 3 × 105\n",
       "\\begin{tabular}{r|lllllllllllllllllllll}\n",
       "  & C3L.02613 & C3L.04072 & C3N.04282 & C3L.03639 & C3L.01328 & C3L.00277 & C3L.02604 & C3L.01971 & C3N.01167 & C3L.01031 & ⋯ & C3N.00436 & C3N.02944 & C3L.03356 & C3N.02589 & C3L.03388 & C3N.01388 & C3N.00198 & C3N.01380 & C3N.01715 & C3N.03426\\\\\n",
       "  & <dbl> & <dbl> & <dbl> & <dbl> & <dbl> & <dbl> & <dbl> & <dbl> & <dbl> & <dbl> & ⋯ & <dbl> & <dbl> & <dbl> & <dbl> & <dbl> & <dbl> & <dbl> & <dbl> & <dbl> & <dbl>\\\\\n",
       "\\hline\n",
       "\tA1BG & -0.02990673 & -0.05704551 &  0.01628874 &  0.01603432 & -0.007786107 & 0.08029986 & -0.002396511 & -0.02007117 & 0.002849704 & -0.012854305 & ⋯ & -0.047168575 & 0.002205547 & 0.008227415 & 0.023093964 & -0.01740784 &  0.007965865 & 0.006648201 &  0.03795399 &  0.0008283693 & 0.01275042\\\\\n",
       "\tA1CF & -0.10768810 & -0.06315414 & -0.02110286 & -0.03337825 & -0.027146384 & 0.01286132 & -0.043795955 &  0.04575079 & 0.065486572 & -0.003501735 & ⋯ & -0.007676754 & 0.034893213 & 0.001121374 & 0.014860119 & -0.01008405 & -0.049558683 & 0.050916236 & -0.03390004 & -0.0403040175 & 0.02859428\\\\\n",
       "\tA2M & -0.04459164 & -0.07561623 & -0.01808992 & -0.03178421 & -0.005866177 & 0.02693054 &  0.006563652 &  0.03762665 & 0.006559212 & -0.015757502 & ⋯ & -0.016670852 & 0.000000000 & 0.052783243 & 0.004635516 & -0.02938669 &  0.028271871 & 0.038905775 &  0.03043543 & -0.0143345714 & 0.03923146\\\\\n",
       "\\end{tabular}\n"
      ],
      "text/markdown": [
       "\n",
       "A data.frame: 3 × 105\n",
       "\n",
       "| <!--/--> | C3L.02613 &lt;dbl&gt; | C3L.04072 &lt;dbl&gt; | C3N.04282 &lt;dbl&gt; | C3L.03639 &lt;dbl&gt; | C3L.01328 &lt;dbl&gt; | C3L.00277 &lt;dbl&gt; | C3L.02604 &lt;dbl&gt; | C3L.01971 &lt;dbl&gt; | C3N.01167 &lt;dbl&gt; | C3L.01031 &lt;dbl&gt; | ⋯ ⋯ | C3N.00436 &lt;dbl&gt; | C3N.02944 &lt;dbl&gt; | C3L.03356 &lt;dbl&gt; | C3N.02589 &lt;dbl&gt; | C3L.03388 &lt;dbl&gt; | C3N.01388 &lt;dbl&gt; | C3N.00198 &lt;dbl&gt; | C3N.01380 &lt;dbl&gt; | C3N.01715 &lt;dbl&gt; | C3N.03426 &lt;dbl&gt; |\n",
       "|---|---|---|---|---|---|---|---|---|---|---|---|---|---|---|---|---|---|---|---|---|---|\n",
       "| A1BG | -0.02990673 | -0.05704551 |  0.01628874 |  0.01603432 | -0.007786107 | 0.08029986 | -0.002396511 | -0.02007117 | 0.002849704 | -0.012854305 | ⋯ | -0.047168575 | 0.002205547 | 0.008227415 | 0.023093964 | -0.01740784 |  0.007965865 | 0.006648201 |  0.03795399 |  0.0008283693 | 0.01275042 |\n",
       "| A1CF | -0.10768810 | -0.06315414 | -0.02110286 | -0.03337825 | -0.027146384 | 0.01286132 | -0.043795955 |  0.04575079 | 0.065486572 | -0.003501735 | ⋯ | -0.007676754 | 0.034893213 | 0.001121374 | 0.014860119 | -0.01008405 | -0.049558683 | 0.050916236 | -0.03390004 | -0.0403040175 | 0.02859428 |\n",
       "| A2M | -0.04459164 | -0.07561623 | -0.01808992 | -0.03178421 | -0.005866177 | 0.02693054 |  0.006563652 |  0.03762665 | 0.006559212 | -0.015757502 | ⋯ | -0.016670852 | 0.000000000 | 0.052783243 | 0.004635516 | -0.02938669 |  0.028271871 | 0.038905775 |  0.03043543 | -0.0143345714 | 0.03923146 |\n",
       "\n"
      ],
      "text/plain": [
       "     C3L.02613   C3L.04072   C3N.04282   C3L.03639   C3L.01328    C3L.00277 \n",
       "A1BG -0.02990673 -0.05704551  0.01628874  0.01603432 -0.007786107 0.08029986\n",
       "A1CF -0.10768810 -0.06315414 -0.02110286 -0.03337825 -0.027146384 0.01286132\n",
       "A2M  -0.04459164 -0.07561623 -0.01808992 -0.03178421 -0.005866177 0.02693054\n",
       "     C3L.02604    C3L.01971   C3N.01167   C3L.01031    ⋯ C3N.00436   \n",
       "A1BG -0.002396511 -0.02007117 0.002849704 -0.012854305 ⋯ -0.047168575\n",
       "A1CF -0.043795955  0.04575079 0.065486572 -0.003501735 ⋯ -0.007676754\n",
       "A2M   0.006563652  0.03762665 0.006559212 -0.015757502 ⋯ -0.016670852\n",
       "     C3N.02944   C3L.03356   C3N.02589   C3L.03388   C3N.01388    C3N.00198  \n",
       "A1BG 0.002205547 0.008227415 0.023093964 -0.01740784  0.007965865 0.006648201\n",
       "A1CF 0.034893213 0.001121374 0.014860119 -0.01008405 -0.049558683 0.050916236\n",
       "A2M  0.000000000 0.052783243 0.004635516 -0.02938669  0.028271871 0.038905775\n",
       "     C3N.01380   C3N.01715     C3N.03426 \n",
       "A1BG  0.03795399  0.0008283693 0.01275042\n",
       "A1CF -0.03390004 -0.0403040175 0.02859428\n",
       "A2M   0.03043543 -0.0143345714 0.03923146"
      ]
     },
     "metadata": {},
     "output_type": "display_data"
    },
    {
     "data": {
      "text/html": [
       "<style>\n",
       ".list-inline {list-style: none; margin:0; padding: 0}\n",
       ".list-inline>li {display: inline-block}\n",
       ".list-inline>li:not(:last-child)::after {content: \"\\00b7\"; padding: 0 .5ex}\n",
       "</style>\n",
       "<ol class=list-inline><li>5773</li><li>105</li></ol>\n"
      ],
      "text/latex": [
       "\\begin{enumerate*}\n",
       "\\item 5773\n",
       "\\item 105\n",
       "\\end{enumerate*}\n"
      ],
      "text/markdown": [
       "1. 5773\n",
       "2. 105\n",
       "\n",
       "\n"
      ],
      "text/plain": [
       "[1] 5773  105"
      ]
     },
     "metadata": {},
     "output_type": "display_data"
    }
   ],
   "source": [
    "prot <- read.table(paste0(PATH_DATA, \"proteomics_gene_level_MD_abundance_tumor.cct\"), header = TRUE, row.names = 1, sep = \"\\t\", na.strings = \"NA\")\n",
    "prot <- prot %>%\n",
    "    # Order columns as in valid_samples\n",
    "    select(valid_samples$ID2) %>%\n",
    "    # sort the columns by the order in valid_samples\n",
    "    select(order(match(names(.), valid_samples$ID2))) %>%\n",
    "    # Remove rows with all NAs\n",
    "    filter(rowSums(is.na(.)) == 0) %>%\n",
    "    # median normalization\n",
    "    mutate(row_median = apply(., 1, median, na.rm = TRUE)) %>%\n",
    "    mutate(across(-row_median, ~ . / row_median)) %>%\n",
    "    select(-row_median) %>%\n",
    "    # Do log2 transformation\n",
    "    mutate(across(everything(), ~ log2(.)))\n",
    "\n",
    "head(prot, 3)\n",
    "dim(prot)"
   ]
  },
  {
   "cell_type": "code",
   "execution_count": 6,
   "id": "e0cd04b9",
   "metadata": {
    "vscode": {
     "languageId": "r"
    }
   },
   "outputs": [
    {
     "data": {
      "text/html": [
       "<style>\n",
       ".list-inline {list-style: none; margin:0; padding: 0}\n",
       ".list-inline>li {display: inline-block}\n",
       ".list-inline>li:not(:last-child)::after {content: \"\\00b7\"; padding: 0 .5ex}\n",
       "</style>\n",
       "<ol class=list-inline><li>18197</li><li>105</li></ol>\n"
      ],
      "text/latex": [
       "\\begin{enumerate*}\n",
       "\\item 18197\n",
       "\\item 105\n",
       "\\end{enumerate*}\n"
      ],
      "text/markdown": [
       "1. 18197\n",
       "2. 105\n",
       "\n",
       "\n"
      ],
      "text/plain": [
       "[1] 18197   105"
      ]
     },
     "metadata": {},
     "output_type": "display_data"
    },
    {
     "data": {
      "text/html": [
       "<table class=\"dataframe\">\n",
       "<caption>A data.frame: 3 × 105</caption>\n",
       "<thead>\n",
       "\t<tr><th></th><th scope=col>C3L.02613</th><th scope=col>C3L.04072</th><th scope=col>C3N.04282</th><th scope=col>C3L.03639</th><th scope=col>C3L.01328</th><th scope=col>C3L.00277</th><th scope=col>C3L.02604</th><th scope=col>C3L.01971</th><th scope=col>C3N.01167</th><th scope=col>C3L.01031</th><th scope=col>⋯</th><th scope=col>C3N.00436</th><th scope=col>C3N.02944</th><th scope=col>C3L.03356</th><th scope=col>C3N.02589</th><th scope=col>C3L.03388</th><th scope=col>C3N.01388</th><th scope=col>C3N.00198</th><th scope=col>C3N.01380</th><th scope=col>C3N.01715</th><th scope=col>C3N.03426</th></tr>\n",
       "\t<tr><th></th><th scope=col>&lt;dbl&gt;</th><th scope=col>&lt;dbl&gt;</th><th scope=col>&lt;dbl&gt;</th><th scope=col>&lt;dbl&gt;</th><th scope=col>&lt;dbl&gt;</th><th scope=col>&lt;dbl&gt;</th><th scope=col>&lt;dbl&gt;</th><th scope=col>&lt;dbl&gt;</th><th scope=col>&lt;dbl&gt;</th><th scope=col>&lt;dbl&gt;</th><th scope=col>⋯</th><th scope=col>&lt;dbl&gt;</th><th scope=col>&lt;dbl&gt;</th><th scope=col>&lt;dbl&gt;</th><th scope=col>&lt;dbl&gt;</th><th scope=col>&lt;dbl&gt;</th><th scope=col>&lt;dbl&gt;</th><th scope=col>&lt;dbl&gt;</th><th scope=col>&lt;dbl&gt;</th><th scope=col>&lt;dbl&gt;</th><th scope=col>&lt;dbl&gt;</th></tr>\n",
       "</thead>\n",
       "<tbody>\n",
       "\t<tr><th scope=row>A1BG</th><td>-0.6208639</td><td>-1.5641153</td><td>-0.03598678</td><td>-1.499229</td><td>-1.030409</td><td>-0.3632095</td><td>-0.7079235</td><td>0.4973275</td><td> 0.1398404</td><td> 0.4582964</td><td>⋯</td><td>0.5012384</td><td>0.1962640</td><td>0.45922795</td><td> 0.05454697</td><td>-0.3385884</td><td>-0.06842248</td><td>0.5971399</td><td> 0.72255331</td><td> 0.04504042</td><td>-1.018051</td></tr>\n",
       "\t<tr><th scope=row>A1BG-AS1</th><td>-0.8663854</td><td>-0.8302223</td><td> 0.11105590</td><td>-1.422656</td><td>-1.161717</td><td>-1.8484433</td><td>-0.5696947</td><td>0.3464761</td><td>-0.2569541</td><td> 0.4220428</td><td>⋯</td><td>0.3638638</td><td>0.3672824</td><td>0.31895969</td><td>-0.71812584</td><td>-0.2179410</td><td>-0.09720916</td><td>0.3269861</td><td> 0.70061799</td><td> 0.30224950</td><td>-1.071129</td></tr>\n",
       "\t<tr><th scope=row>A1CF</th><td>-2.8039993</td><td>-3.0594026</td><td>-2.42468317</td><td>-1.982175</td><td>-1.343388</td><td>-2.0692887</td><td>-1.9460596</td><td>1.0109679</td><td> 2.3566886</td><td>-0.2918026</td><td>⋯</td><td>0.2894103</td><td>0.9205599</td><td>0.06451494</td><td> 0.61939774</td><td>-1.5979746</td><td>-2.31924199</td><td>1.5137978</td><td>-0.01529477</td><td>-2.96096702</td><td> 1.411194</td></tr>\n",
       "</tbody>\n",
       "</table>\n"
      ],
      "text/latex": [
       "A data.frame: 3 × 105\n",
       "\\begin{tabular}{r|lllllllllllllllllllll}\n",
       "  & C3L.02613 & C3L.04072 & C3N.04282 & C3L.03639 & C3L.01328 & C3L.00277 & C3L.02604 & C3L.01971 & C3N.01167 & C3L.01031 & ⋯ & C3N.00436 & C3N.02944 & C3L.03356 & C3N.02589 & C3L.03388 & C3N.01388 & C3N.00198 & C3N.01380 & C3N.01715 & C3N.03426\\\\\n",
       "  & <dbl> & <dbl> & <dbl> & <dbl> & <dbl> & <dbl> & <dbl> & <dbl> & <dbl> & <dbl> & ⋯ & <dbl> & <dbl> & <dbl> & <dbl> & <dbl> & <dbl> & <dbl> & <dbl> & <dbl> & <dbl>\\\\\n",
       "\\hline\n",
       "\tA1BG & -0.6208639 & -1.5641153 & -0.03598678 & -1.499229 & -1.030409 & -0.3632095 & -0.7079235 & 0.4973275 &  0.1398404 &  0.4582964 & ⋯ & 0.5012384 & 0.1962640 & 0.45922795 &  0.05454697 & -0.3385884 & -0.06842248 & 0.5971399 &  0.72255331 &  0.04504042 & -1.018051\\\\\n",
       "\tA1BG-AS1 & -0.8663854 & -0.8302223 &  0.11105590 & -1.422656 & -1.161717 & -1.8484433 & -0.5696947 & 0.3464761 & -0.2569541 &  0.4220428 & ⋯ & 0.3638638 & 0.3672824 & 0.31895969 & -0.71812584 & -0.2179410 & -0.09720916 & 0.3269861 &  0.70061799 &  0.30224950 & -1.071129\\\\\n",
       "\tA1CF & -2.8039993 & -3.0594026 & -2.42468317 & -1.982175 & -1.343388 & -2.0692887 & -1.9460596 & 1.0109679 &  2.3566886 & -0.2918026 & ⋯ & 0.2894103 & 0.9205599 & 0.06451494 &  0.61939774 & -1.5979746 & -2.31924199 & 1.5137978 & -0.01529477 & -2.96096702 &  1.411194\\\\\n",
       "\\end{tabular}\n"
      ],
      "text/markdown": [
       "\n",
       "A data.frame: 3 × 105\n",
       "\n",
       "| <!--/--> | C3L.02613 &lt;dbl&gt; | C3L.04072 &lt;dbl&gt; | C3N.04282 &lt;dbl&gt; | C3L.03639 &lt;dbl&gt; | C3L.01328 &lt;dbl&gt; | C3L.00277 &lt;dbl&gt; | C3L.02604 &lt;dbl&gt; | C3L.01971 &lt;dbl&gt; | C3N.01167 &lt;dbl&gt; | C3L.01031 &lt;dbl&gt; | ⋯ ⋯ | C3N.00436 &lt;dbl&gt; | C3N.02944 &lt;dbl&gt; | C3L.03356 &lt;dbl&gt; | C3N.02589 &lt;dbl&gt; | C3L.03388 &lt;dbl&gt; | C3N.01388 &lt;dbl&gt; | C3N.00198 &lt;dbl&gt; | C3N.01380 &lt;dbl&gt; | C3N.01715 &lt;dbl&gt; | C3N.03426 &lt;dbl&gt; |\n",
       "|---|---|---|---|---|---|---|---|---|---|---|---|---|---|---|---|---|---|---|---|---|---|\n",
       "| A1BG | -0.6208639 | -1.5641153 | -0.03598678 | -1.499229 | -1.030409 | -0.3632095 | -0.7079235 | 0.4973275 |  0.1398404 |  0.4582964 | ⋯ | 0.5012384 | 0.1962640 | 0.45922795 |  0.05454697 | -0.3385884 | -0.06842248 | 0.5971399 |  0.72255331 |  0.04504042 | -1.018051 |\n",
       "| A1BG-AS1 | -0.8663854 | -0.8302223 |  0.11105590 | -1.422656 | -1.161717 | -1.8484433 | -0.5696947 | 0.3464761 | -0.2569541 |  0.4220428 | ⋯ | 0.3638638 | 0.3672824 | 0.31895969 | -0.71812584 | -0.2179410 | -0.09720916 | 0.3269861 |  0.70061799 |  0.30224950 | -1.071129 |\n",
       "| A1CF | -2.8039993 | -3.0594026 | -2.42468317 | -1.982175 | -1.343388 | -2.0692887 | -1.9460596 | 1.0109679 |  2.3566886 | -0.2918026 | ⋯ | 0.2894103 | 0.9205599 | 0.06451494 |  0.61939774 | -1.5979746 | -2.31924199 | 1.5137978 | -0.01529477 | -2.96096702 |  1.411194 |\n",
       "\n"
      ],
      "text/plain": [
       "         C3L.02613  C3L.04072  C3N.04282   C3L.03639 C3L.01328 C3L.00277 \n",
       "A1BG     -0.6208639 -1.5641153 -0.03598678 -1.499229 -1.030409 -0.3632095\n",
       "A1BG-AS1 -0.8663854 -0.8302223  0.11105590 -1.422656 -1.161717 -1.8484433\n",
       "A1CF     -2.8039993 -3.0594026 -2.42468317 -1.982175 -1.343388 -2.0692887\n",
       "         C3L.02604  C3L.01971 C3N.01167  C3L.01031  ⋯ C3N.00436 C3N.02944\n",
       "A1BG     -0.7079235 0.4973275  0.1398404  0.4582964 ⋯ 0.5012384 0.1962640\n",
       "A1BG-AS1 -0.5696947 0.3464761 -0.2569541  0.4220428 ⋯ 0.3638638 0.3672824\n",
       "A1CF     -1.9460596 1.0109679  2.3566886 -0.2918026 ⋯ 0.2894103 0.9205599\n",
       "         C3L.03356  C3N.02589   C3L.03388  C3N.01388   C3N.00198 C3N.01380  \n",
       "A1BG     0.45922795  0.05454697 -0.3385884 -0.06842248 0.5971399  0.72255331\n",
       "A1BG-AS1 0.31895969 -0.71812584 -0.2179410 -0.09720916 0.3269861  0.70061799\n",
       "A1CF     0.06451494  0.61939774 -1.5979746 -2.31924199 1.5137978 -0.01529477\n",
       "         C3N.01715   C3N.03426\n",
       "A1BG      0.04504042 -1.018051\n",
       "A1BG-AS1  0.30224950 -1.071129\n",
       "A1CF     -2.96096702  1.411194"
      ]
     },
     "metadata": {},
     "output_type": "display_data"
    }
   ],
   "source": [
    "rna <- read.table(paste0(PATH_DATA, \"mRNA_RSEM_UQ_log2_Tumor.cct\"), header = TRUE, row.names = 1, sep = \"\\t\", na.strings = \"NA\")\n",
    "rna <- rna %>%\n",
    "    # Order columns as in valid_samples\n",
    "    select(valid_samples$ID2) %>%\n",
    "    # sort the columns by the order in valid_samples\n",
    "    select(order(match(names(.), valid_samples$ID2))) %>%\n",
    "    # Remove rows with any NAs or any zero values\n",
    "    filter(rowSums(is.na(.)) == 0) %>%\n",
    "    filter(rowSums(. == 0) == 0) %>%\n",
    "    # Subtract the median of each row \n",
    "    mutate(row_median = apply(., 1, median, na.rm = TRUE)) %>%\n",
    "    mutate(across(-row_median, ~ . - row_median)) %>%\n",
    "    select(-row_median)\n",
    "\n",
    "dim(rna)\n",
    "head(rna, 3)"
   ]
  },
  {
   "cell_type": "code",
   "execution_count": 7,
   "id": "7408e4cf",
   "metadata": {
    "vscode": {
     "languageId": "r"
    }
   },
   "outputs": [
    {
     "data": {
      "text/html": [
       "<style>\n",
       ".list-inline {list-style: none; margin:0; padding: 0}\n",
       ".list-inline>li {display: inline-block}\n",
       ".list-inline>li:not(:last-child)::after {content: \"\\00b7\"; padding: 0 .5ex}\n",
       "</style>\n",
       "<ol class=list-inline><li>1454</li><li>105</li></ol>\n"
      ],
      "text/latex": [
       "\\begin{enumerate*}\n",
       "\\item 1454\n",
       "\\item 105\n",
       "\\end{enumerate*}\n"
      ],
      "text/markdown": [
       "1. 1454\n",
       "2. 105\n",
       "\n",
       "\n"
      ],
      "text/plain": [
       "[1] 1454  105"
      ]
     },
     "metadata": {},
     "output_type": "display_data"
    },
    {
     "data": {
      "text/html": [
       "<table class=\"dataframe\">\n",
       "<caption>A data.frame: 3 × 105</caption>\n",
       "<thead>\n",
       "\t<tr><th></th><th scope=col>C3L.02613</th><th scope=col>C3L.04072</th><th scope=col>C3N.04282</th><th scope=col>C3L.03639</th><th scope=col>C3L.01328</th><th scope=col>C3L.00277</th><th scope=col>C3L.02604</th><th scope=col>C3L.01971</th><th scope=col>C3N.01167</th><th scope=col>C3L.01031</th><th scope=col>⋯</th><th scope=col>C3N.00436</th><th scope=col>C3N.02944</th><th scope=col>C3L.03356</th><th scope=col>C3N.02589</th><th scope=col>C3L.03388</th><th scope=col>C3N.01388</th><th scope=col>C3N.00198</th><th scope=col>C3N.01380</th><th scope=col>C3N.01715</th><th scope=col>C3N.03426</th></tr>\n",
       "\t<tr><th></th><th scope=col>&lt;dbl&gt;</th><th scope=col>&lt;dbl&gt;</th><th scope=col>&lt;dbl&gt;</th><th scope=col>&lt;dbl&gt;</th><th scope=col>&lt;dbl&gt;</th><th scope=col>&lt;dbl&gt;</th><th scope=col>&lt;dbl&gt;</th><th scope=col>&lt;dbl&gt;</th><th scope=col>&lt;dbl&gt;</th><th scope=col>&lt;dbl&gt;</th><th scope=col>⋯</th><th scope=col>&lt;dbl&gt;</th><th scope=col>&lt;dbl&gt;</th><th scope=col>&lt;dbl&gt;</th><th scope=col>&lt;dbl&gt;</th><th scope=col>&lt;dbl&gt;</th><th scope=col>&lt;dbl&gt;</th><th scope=col>&lt;dbl&gt;</th><th scope=col>&lt;dbl&gt;</th><th scope=col>&lt;dbl&gt;</th><th scope=col>&lt;dbl&gt;</th></tr>\n",
       "</thead>\n",
       "<tbody>\n",
       "\t<tr><th scope=row>n[TMT11plex]RHEEGHMLNC[Carbamidomethyl]TC[Carbamidomethyl]FGQGR-N3H4F0S0G0</th><td> 0.2711286</td><td> 0.3086638</td><td> 1.1849827</td><td>-0.006491598</td><td> 1.9091718</td><td> 1.278178</td><td> 1.0885962</td><td>-0.7653889</td><td>-0.9867006</td><td>-0.5941954</td><td>⋯</td><td> 0.57288470</td><td> 0.9236759</td><td>-0.5551570</td><td>-0.24003358</td><td>-0.2509592</td><td> 0.05717399</td><td>-0.16628917</td><td>-0.5030644</td><td> 0.7816165</td><td> 1.034915863</td></tr>\n",
       "\t<tr><th scope=row>n[TMT11plex]LLQVVYLHSNNITK[TMT11plex]-N5H6F1S2G0</th><td>-0.1230223</td><td>-0.4341817</td><td> 0.2447100</td><td> 0.079600075</td><td>-0.9919879</td><td> 1.089329</td><td>-0.1866849</td><td> 0.3223009</td><td> 0.4387361</td><td> 0.2199116</td><td>⋯</td><td>-0.94928102</td><td>-1.3285715</td><td> 1.3734742</td><td> 0.73234040</td><td>-1.2241213</td><td>-0.83878453</td><td>-0.08174441</td><td> 0.7487903</td><td> 0.1999972</td><td>-0.779378985</td></tr>\n",
       "\t<tr><th scope=row>n[TMT11plex]NYTADYDK[TMT11plex]-N2H8F0S0G0</th><td> 0.5089437</td><td> 0.5752988</td><td>-0.2466641</td><td>-0.213866510</td><td> 0.1689218</td><td>-1.305813</td><td>-0.3507612</td><td> 0.3861138</td><td>-0.9076605</td><td>-0.2210551</td><td>⋯</td><td> 0.08706562</td><td>-0.9358628</td><td>-0.7485728</td><td>-0.04754478</td><td> 0.6560518</td><td>-0.76525368</td><td>-1.11018380</td><td>-0.9045606</td><td>-0.2454482</td><td> 0.006003751</td></tr>\n",
       "</tbody>\n",
       "</table>\n"
      ],
      "text/latex": [
       "A data.frame: 3 × 105\n",
       "\\begin{tabular}{r|lllllllllllllllllllll}\n",
       "  & C3L.02613 & C3L.04072 & C3N.04282 & C3L.03639 & C3L.01328 & C3L.00277 & C3L.02604 & C3L.01971 & C3N.01167 & C3L.01031 & ⋯ & C3N.00436 & C3N.02944 & C3L.03356 & C3N.02589 & C3L.03388 & C3N.01388 & C3N.00198 & C3N.01380 & C3N.01715 & C3N.03426\\\\\n",
       "  & <dbl> & <dbl> & <dbl> & <dbl> & <dbl> & <dbl> & <dbl> & <dbl> & <dbl> & <dbl> & ⋯ & <dbl> & <dbl> & <dbl> & <dbl> & <dbl> & <dbl> & <dbl> & <dbl> & <dbl> & <dbl>\\\\\n",
       "\\hline\n",
       "\tn{[}TMT11plex{]}RHEEGHMLNC{[}Carbamidomethyl{]}TC{[}Carbamidomethyl{]}FGQGR-N3H4F0S0G0 &  0.2711286 &  0.3086638 &  1.1849827 & -0.006491598 &  1.9091718 &  1.278178 &  1.0885962 & -0.7653889 & -0.9867006 & -0.5941954 & ⋯ &  0.57288470 &  0.9236759 & -0.5551570 & -0.24003358 & -0.2509592 &  0.05717399 & -0.16628917 & -0.5030644 &  0.7816165 &  1.034915863\\\\\n",
       "\tn{[}TMT11plex{]}LLQVVYLHSNNITK{[}TMT11plex{]}-N5H6F1S2G0 & -0.1230223 & -0.4341817 &  0.2447100 &  0.079600075 & -0.9919879 &  1.089329 & -0.1866849 &  0.3223009 &  0.4387361 &  0.2199116 & ⋯ & -0.94928102 & -1.3285715 &  1.3734742 &  0.73234040 & -1.2241213 & -0.83878453 & -0.08174441 &  0.7487903 &  0.1999972 & -0.779378985\\\\\n",
       "\tn{[}TMT11plex{]}NYTADYDK{[}TMT11plex{]}-N2H8F0S0G0 &  0.5089437 &  0.5752988 & -0.2466641 & -0.213866510 &  0.1689218 & -1.305813 & -0.3507612 &  0.3861138 & -0.9076605 & -0.2210551 & ⋯ &  0.08706562 & -0.9358628 & -0.7485728 & -0.04754478 &  0.6560518 & -0.76525368 & -1.11018380 & -0.9045606 & -0.2454482 &  0.006003751\\\\\n",
       "\\end{tabular}\n"
      ],
      "text/markdown": [
       "\n",
       "A data.frame: 3 × 105\n",
       "\n",
       "| <!--/--> | C3L.02613 &lt;dbl&gt; | C3L.04072 &lt;dbl&gt; | C3N.04282 &lt;dbl&gt; | C3L.03639 &lt;dbl&gt; | C3L.01328 &lt;dbl&gt; | C3L.00277 &lt;dbl&gt; | C3L.02604 &lt;dbl&gt; | C3L.01971 &lt;dbl&gt; | C3N.01167 &lt;dbl&gt; | C3L.01031 &lt;dbl&gt; | ⋯ ⋯ | C3N.00436 &lt;dbl&gt; | C3N.02944 &lt;dbl&gt; | C3L.03356 &lt;dbl&gt; | C3N.02589 &lt;dbl&gt; | C3L.03388 &lt;dbl&gt; | C3N.01388 &lt;dbl&gt; | C3N.00198 &lt;dbl&gt; | C3N.01380 &lt;dbl&gt; | C3N.01715 &lt;dbl&gt; | C3N.03426 &lt;dbl&gt; |\n",
       "|---|---|---|---|---|---|---|---|---|---|---|---|---|---|---|---|---|---|---|---|---|---|\n",
       "| n[TMT11plex]RHEEGHMLNC[Carbamidomethyl]TC[Carbamidomethyl]FGQGR-N3H4F0S0G0 |  0.2711286 |  0.3086638 |  1.1849827 | -0.006491598 |  1.9091718 |  1.278178 |  1.0885962 | -0.7653889 | -0.9867006 | -0.5941954 | ⋯ |  0.57288470 |  0.9236759 | -0.5551570 | -0.24003358 | -0.2509592 |  0.05717399 | -0.16628917 | -0.5030644 |  0.7816165 |  1.034915863 |\n",
       "| n[TMT11plex]LLQVVYLHSNNITK[TMT11plex]-N5H6F1S2G0 | -0.1230223 | -0.4341817 |  0.2447100 |  0.079600075 | -0.9919879 |  1.089329 | -0.1866849 |  0.3223009 |  0.4387361 |  0.2199116 | ⋯ | -0.94928102 | -1.3285715 |  1.3734742 |  0.73234040 | -1.2241213 | -0.83878453 | -0.08174441 |  0.7487903 |  0.1999972 | -0.779378985 |\n",
       "| n[TMT11plex]NYTADYDK[TMT11plex]-N2H8F0S0G0 |  0.5089437 |  0.5752988 | -0.2466641 | -0.213866510 |  0.1689218 | -1.305813 | -0.3507612 |  0.3861138 | -0.9076605 | -0.2210551 | ⋯ |  0.08706562 | -0.9358628 | -0.7485728 | -0.04754478 |  0.6560518 | -0.76525368 | -1.11018380 | -0.9045606 | -0.2454482 |  0.006003751 |\n",
       "\n"
      ],
      "text/plain": [
       "                                                                           C3L.02613 \n",
       "n[TMT11plex]RHEEGHMLNC[Carbamidomethyl]TC[Carbamidomethyl]FGQGR-N3H4F0S0G0  0.2711286\n",
       "n[TMT11plex]LLQVVYLHSNNITK[TMT11plex]-N5H6F1S2G0                           -0.1230223\n",
       "n[TMT11plex]NYTADYDK[TMT11plex]-N2H8F0S0G0                                  0.5089437\n",
       "                                                                           C3L.04072 \n",
       "n[TMT11plex]RHEEGHMLNC[Carbamidomethyl]TC[Carbamidomethyl]FGQGR-N3H4F0S0G0  0.3086638\n",
       "n[TMT11plex]LLQVVYLHSNNITK[TMT11plex]-N5H6F1S2G0                           -0.4341817\n",
       "n[TMT11plex]NYTADYDK[TMT11plex]-N2H8F0S0G0                                  0.5752988\n",
       "                                                                           C3N.04282 \n",
       "n[TMT11plex]RHEEGHMLNC[Carbamidomethyl]TC[Carbamidomethyl]FGQGR-N3H4F0S0G0  1.1849827\n",
       "n[TMT11plex]LLQVVYLHSNNITK[TMT11plex]-N5H6F1S2G0                            0.2447100\n",
       "n[TMT11plex]NYTADYDK[TMT11plex]-N2H8F0S0G0                                 -0.2466641\n",
       "                                                                           C3L.03639   \n",
       "n[TMT11plex]RHEEGHMLNC[Carbamidomethyl]TC[Carbamidomethyl]FGQGR-N3H4F0S0G0 -0.006491598\n",
       "n[TMT11plex]LLQVVYLHSNNITK[TMT11plex]-N5H6F1S2G0                            0.079600075\n",
       "n[TMT11plex]NYTADYDK[TMT11plex]-N2H8F0S0G0                                 -0.213866510\n",
       "                                                                           C3L.01328 \n",
       "n[TMT11plex]RHEEGHMLNC[Carbamidomethyl]TC[Carbamidomethyl]FGQGR-N3H4F0S0G0  1.9091718\n",
       "n[TMT11plex]LLQVVYLHSNNITK[TMT11plex]-N5H6F1S2G0                           -0.9919879\n",
       "n[TMT11plex]NYTADYDK[TMT11plex]-N2H8F0S0G0                                  0.1689218\n",
       "                                                                           C3L.00277\n",
       "n[TMT11plex]RHEEGHMLNC[Carbamidomethyl]TC[Carbamidomethyl]FGQGR-N3H4F0S0G0  1.278178\n",
       "n[TMT11plex]LLQVVYLHSNNITK[TMT11plex]-N5H6F1S2G0                            1.089329\n",
       "n[TMT11plex]NYTADYDK[TMT11plex]-N2H8F0S0G0                                 -1.305813\n",
       "                                                                           C3L.02604 \n",
       "n[TMT11plex]RHEEGHMLNC[Carbamidomethyl]TC[Carbamidomethyl]FGQGR-N3H4F0S0G0  1.0885962\n",
       "n[TMT11plex]LLQVVYLHSNNITK[TMT11plex]-N5H6F1S2G0                           -0.1866849\n",
       "n[TMT11plex]NYTADYDK[TMT11plex]-N2H8F0S0G0                                 -0.3507612\n",
       "                                                                           C3L.01971 \n",
       "n[TMT11plex]RHEEGHMLNC[Carbamidomethyl]TC[Carbamidomethyl]FGQGR-N3H4F0S0G0 -0.7653889\n",
       "n[TMT11plex]LLQVVYLHSNNITK[TMT11plex]-N5H6F1S2G0                            0.3223009\n",
       "n[TMT11plex]NYTADYDK[TMT11plex]-N2H8F0S0G0                                  0.3861138\n",
       "                                                                           C3N.01167 \n",
       "n[TMT11plex]RHEEGHMLNC[Carbamidomethyl]TC[Carbamidomethyl]FGQGR-N3H4F0S0G0 -0.9867006\n",
       "n[TMT11plex]LLQVVYLHSNNITK[TMT11plex]-N5H6F1S2G0                            0.4387361\n",
       "n[TMT11plex]NYTADYDK[TMT11plex]-N2H8F0S0G0                                 -0.9076605\n",
       "                                                                           C3L.01031 \n",
       "n[TMT11plex]RHEEGHMLNC[Carbamidomethyl]TC[Carbamidomethyl]FGQGR-N3H4F0S0G0 -0.5941954\n",
       "n[TMT11plex]LLQVVYLHSNNITK[TMT11plex]-N5H6F1S2G0                            0.2199116\n",
       "n[TMT11plex]NYTADYDK[TMT11plex]-N2H8F0S0G0                                 -0.2210551\n",
       "                                                                           ⋯\n",
       "n[TMT11plex]RHEEGHMLNC[Carbamidomethyl]TC[Carbamidomethyl]FGQGR-N3H4F0S0G0 ⋯\n",
       "n[TMT11plex]LLQVVYLHSNNITK[TMT11plex]-N5H6F1S2G0                           ⋯\n",
       "n[TMT11plex]NYTADYDK[TMT11plex]-N2H8F0S0G0                                 ⋯\n",
       "                                                                           C3N.00436  \n",
       "n[TMT11plex]RHEEGHMLNC[Carbamidomethyl]TC[Carbamidomethyl]FGQGR-N3H4F0S0G0  0.57288470\n",
       "n[TMT11plex]LLQVVYLHSNNITK[TMT11plex]-N5H6F1S2G0                           -0.94928102\n",
       "n[TMT11plex]NYTADYDK[TMT11plex]-N2H8F0S0G0                                  0.08706562\n",
       "                                                                           C3N.02944 \n",
       "n[TMT11plex]RHEEGHMLNC[Carbamidomethyl]TC[Carbamidomethyl]FGQGR-N3H4F0S0G0  0.9236759\n",
       "n[TMT11plex]LLQVVYLHSNNITK[TMT11plex]-N5H6F1S2G0                           -1.3285715\n",
       "n[TMT11plex]NYTADYDK[TMT11plex]-N2H8F0S0G0                                 -0.9358628\n",
       "                                                                           C3L.03356 \n",
       "n[TMT11plex]RHEEGHMLNC[Carbamidomethyl]TC[Carbamidomethyl]FGQGR-N3H4F0S0G0 -0.5551570\n",
       "n[TMT11plex]LLQVVYLHSNNITK[TMT11plex]-N5H6F1S2G0                            1.3734742\n",
       "n[TMT11plex]NYTADYDK[TMT11plex]-N2H8F0S0G0                                 -0.7485728\n",
       "                                                                           C3N.02589  \n",
       "n[TMT11plex]RHEEGHMLNC[Carbamidomethyl]TC[Carbamidomethyl]FGQGR-N3H4F0S0G0 -0.24003358\n",
       "n[TMT11plex]LLQVVYLHSNNITK[TMT11plex]-N5H6F1S2G0                            0.73234040\n",
       "n[TMT11plex]NYTADYDK[TMT11plex]-N2H8F0S0G0                                 -0.04754478\n",
       "                                                                           C3L.03388 \n",
       "n[TMT11plex]RHEEGHMLNC[Carbamidomethyl]TC[Carbamidomethyl]FGQGR-N3H4F0S0G0 -0.2509592\n",
       "n[TMT11plex]LLQVVYLHSNNITK[TMT11plex]-N5H6F1S2G0                           -1.2241213\n",
       "n[TMT11plex]NYTADYDK[TMT11plex]-N2H8F0S0G0                                  0.6560518\n",
       "                                                                           C3N.01388  \n",
       "n[TMT11plex]RHEEGHMLNC[Carbamidomethyl]TC[Carbamidomethyl]FGQGR-N3H4F0S0G0  0.05717399\n",
       "n[TMT11plex]LLQVVYLHSNNITK[TMT11plex]-N5H6F1S2G0                           -0.83878453\n",
       "n[TMT11plex]NYTADYDK[TMT11plex]-N2H8F0S0G0                                 -0.76525368\n",
       "                                                                           C3N.00198  \n",
       "n[TMT11plex]RHEEGHMLNC[Carbamidomethyl]TC[Carbamidomethyl]FGQGR-N3H4F0S0G0 -0.16628917\n",
       "n[TMT11plex]LLQVVYLHSNNITK[TMT11plex]-N5H6F1S2G0                           -0.08174441\n",
       "n[TMT11plex]NYTADYDK[TMT11plex]-N2H8F0S0G0                                 -1.11018380\n",
       "                                                                           C3N.01380 \n",
       "n[TMT11plex]RHEEGHMLNC[Carbamidomethyl]TC[Carbamidomethyl]FGQGR-N3H4F0S0G0 -0.5030644\n",
       "n[TMT11plex]LLQVVYLHSNNITK[TMT11plex]-N5H6F1S2G0                            0.7487903\n",
       "n[TMT11plex]NYTADYDK[TMT11plex]-N2H8F0S0G0                                 -0.9045606\n",
       "                                                                           C3N.01715 \n",
       "n[TMT11plex]RHEEGHMLNC[Carbamidomethyl]TC[Carbamidomethyl]FGQGR-N3H4F0S0G0  0.7816165\n",
       "n[TMT11plex]LLQVVYLHSNNITK[TMT11plex]-N5H6F1S2G0                            0.1999972\n",
       "n[TMT11plex]NYTADYDK[TMT11plex]-N2H8F0S0G0                                 -0.2454482\n",
       "                                                                           C3N.03426   \n",
       "n[TMT11plex]RHEEGHMLNC[Carbamidomethyl]TC[Carbamidomethyl]FGQGR-N3H4F0S0G0  1.034915863\n",
       "n[TMT11plex]LLQVVYLHSNNITK[TMT11plex]-N5H6F1S2G0                           -0.779378985\n",
       "n[TMT11plex]NYTADYDK[TMT11plex]-N2H8F0S0G0                                  0.006003751"
      ]
     },
     "metadata": {},
     "output_type": "display_data"
    }
   ],
   "source": [
    "# glyco <- read.table(paste0(PATH_DATA, \"N-glycoproteomics_peptide_level_ratio_tumor.cct\"), header = TRUE, row.names = 1, sep = \"\\t\", na.strings = \"NA\")\n",
    "glyco <- read.table(paste0(PATH_DATA, \"N-glycoproteomics_Site_level_ratio_tumor.cct\"), header = TRUE, row.names = 1, sep = \"\\t\", na.strings = \"NA\")\n",
    "glyco <- glyco %>%\n",
    "    # Order columns as in valid_samples\n",
    "    select(valid_samples$ID2) %>%\n",
    "    # sort the columns by the order in valid_samples\n",
    "    select(order(match(names(.), valid_samples$ID2))) %>%\n",
    "    # Remove rows with all NAs\n",
    "    filter(rowSums(is.na(.)) == 0) #%>%\n",
    "    # Subtract the median of each row \n",
    "    # mutate(across(everything(), ~ . - median(., na.rm = TRUE)))\n",
    "\n",
    "dim(glyco)\n",
    "head(glyco, 3)"
   ]
  },
  {
   "cell_type": "code",
   "execution_count": 8,
   "id": "d0ae3160",
   "metadata": {
    "vscode": {
     "languageId": "r"
    }
   },
   "outputs": [
    {
     "data": {
      "text/html": [
       "<style>\n",
       ".list-inline {list-style: none; margin:0; padding: 0}\n",
       ".list-inline>li {display: inline-block}\n",
       ".list-inline>li:not(:last-child)::after {content: \"\\00b7\"; padding: 0 .5ex}\n",
       "</style>\n",
       "<ol class=list-inline><li>2037</li><li>105</li></ol>\n"
      ],
      "text/latex": [
       "\\begin{enumerate*}\n",
       "\\item 2037\n",
       "\\item 105\n",
       "\\end{enumerate*}\n"
      ],
      "text/markdown": [
       "1. 2037\n",
       "2. 105\n",
       "\n",
       "\n"
      ],
      "text/plain": [
       "[1] 2037  105"
      ]
     },
     "metadata": {},
     "output_type": "display_data"
    },
    {
     "data": {
      "text/html": [
       "<table class=\"dataframe\">\n",
       "<caption>A data.frame: 3 × 105</caption>\n",
       "<thead>\n",
       "\t<tr><th></th><th scope=col>C3L.02613</th><th scope=col>C3L.04072</th><th scope=col>C3N.04282</th><th scope=col>C3L.03639</th><th scope=col>C3L.01328</th><th scope=col>C3L.00277</th><th scope=col>C3L.02604</th><th scope=col>C3L.01971</th><th scope=col>C3N.01167</th><th scope=col>C3L.01031</th><th scope=col>⋯</th><th scope=col>C3N.00436</th><th scope=col>C3N.02944</th><th scope=col>C3L.03356</th><th scope=col>C3N.02589</th><th scope=col>C3L.03388</th><th scope=col>C3N.01388</th><th scope=col>C3N.00198</th><th scope=col>C3N.01380</th><th scope=col>C3N.01715</th><th scope=col>C3N.03426</th></tr>\n",
       "\t<tr><th></th><th scope=col>&lt;dbl&gt;</th><th scope=col>&lt;dbl&gt;</th><th scope=col>&lt;dbl&gt;</th><th scope=col>&lt;dbl&gt;</th><th scope=col>&lt;dbl&gt;</th><th scope=col>&lt;dbl&gt;</th><th scope=col>&lt;dbl&gt;</th><th scope=col>&lt;dbl&gt;</th><th scope=col>&lt;dbl&gt;</th><th scope=col>&lt;dbl&gt;</th><th scope=col>⋯</th><th scope=col>&lt;dbl&gt;</th><th scope=col>&lt;dbl&gt;</th><th scope=col>&lt;dbl&gt;</th><th scope=col>&lt;dbl&gt;</th><th scope=col>&lt;dbl&gt;</th><th scope=col>&lt;dbl&gt;</th><th scope=col>&lt;dbl&gt;</th><th scope=col>&lt;dbl&gt;</th><th scope=col>&lt;dbl&gt;</th><th scope=col>&lt;dbl&gt;</th></tr>\n",
       "</thead>\n",
       "<tbody>\n",
       "\t<tr><th scope=row>NP_000028.3_S781</th><td>-0.003289252</td><td>-0.098820469</td><td>-0.001863032</td><td>0.06418698</td><td>-0.01615852</td><td>-0.08553476</td><td> 0.06142474</td><td>0.09203510</td><td>-0.002218144</td><td>-0.02439635</td><td>⋯</td><td> 0.05133770</td><td> 0.07273598</td><td>0.062203354</td><td>-0.064013021</td><td>-0.019261737</td><td> 0.282415071</td><td>0.08484637</td><td>0.04799679</td><td> 0.15066791</td><td> 0.2849448</td></tr>\n",
       "\t<tr><th scope=row>NP_000028.3_S834</th><td>-0.080017563</td><td> 0.000000000</td><td>-0.034027167</td><td>0.03720242</td><td>-0.01953778</td><td>-0.03624982</td><td> 0.03503582</td><td>0.09724809</td><td>-0.008214741</td><td>-0.02389460</td><td>⋯</td><td> 0.01015709</td><td> 0.03829329</td><td>0.031775950</td><td>-0.037113360</td><td>-0.006308129</td><td> 0.200502184</td><td>0.03429170</td><td>0.03052564</td><td> 0.14200041</td><td> 0.1927270</td></tr>\n",
       "\t<tr><th scope=row>NP_000072.2_S2105</th><td>-0.020938229</td><td>-0.009456211</td><td>-0.024632151</td><td>0.01100132</td><td>-0.06223903</td><td>-0.02472232</td><td>-0.02370921</td><td>0.02074372</td><td> 0.003174092</td><td> 0.03309474</td><td>⋯</td><td>-0.14639489</td><td>-0.01789628</td><td>0.007726258</td><td> 0.004582555</td><td>-0.002117515</td><td>-0.009992859</td><td>0.01682114</td><td>0.00000000</td><td>-0.01286737</td><td>-0.1006145</td></tr>\n",
       "</tbody>\n",
       "</table>\n"
      ],
      "text/latex": [
       "A data.frame: 3 × 105\n",
       "\\begin{tabular}{r|lllllllllllllllllllll}\n",
       "  & C3L.02613 & C3L.04072 & C3N.04282 & C3L.03639 & C3L.01328 & C3L.00277 & C3L.02604 & C3L.01971 & C3N.01167 & C3L.01031 & ⋯ & C3N.00436 & C3N.02944 & C3L.03356 & C3N.02589 & C3L.03388 & C3N.01388 & C3N.00198 & C3N.01380 & C3N.01715 & C3N.03426\\\\\n",
       "  & <dbl> & <dbl> & <dbl> & <dbl> & <dbl> & <dbl> & <dbl> & <dbl> & <dbl> & <dbl> & ⋯ & <dbl> & <dbl> & <dbl> & <dbl> & <dbl> & <dbl> & <dbl> & <dbl> & <dbl> & <dbl>\\\\\n",
       "\\hline\n",
       "\tNP\\_000028.3\\_S781 & -0.003289252 & -0.098820469 & -0.001863032 & 0.06418698 & -0.01615852 & -0.08553476 &  0.06142474 & 0.09203510 & -0.002218144 & -0.02439635 & ⋯ &  0.05133770 &  0.07273598 & 0.062203354 & -0.064013021 & -0.019261737 &  0.282415071 & 0.08484637 & 0.04799679 &  0.15066791 &  0.2849448\\\\\n",
       "\tNP\\_000028.3\\_S834 & -0.080017563 &  0.000000000 & -0.034027167 & 0.03720242 & -0.01953778 & -0.03624982 &  0.03503582 & 0.09724809 & -0.008214741 & -0.02389460 & ⋯ &  0.01015709 &  0.03829329 & 0.031775950 & -0.037113360 & -0.006308129 &  0.200502184 & 0.03429170 & 0.03052564 &  0.14200041 &  0.1927270\\\\\n",
       "\tNP\\_000072.2\\_S2105 & -0.020938229 & -0.009456211 & -0.024632151 & 0.01100132 & -0.06223903 & -0.02472232 & -0.02370921 & 0.02074372 &  0.003174092 &  0.03309474 & ⋯ & -0.14639489 & -0.01789628 & 0.007726258 &  0.004582555 & -0.002117515 & -0.009992859 & 0.01682114 & 0.00000000 & -0.01286737 & -0.1006145\\\\\n",
       "\\end{tabular}\n"
      ],
      "text/markdown": [
       "\n",
       "A data.frame: 3 × 105\n",
       "\n",
       "| <!--/--> | C3L.02613 &lt;dbl&gt; | C3L.04072 &lt;dbl&gt; | C3N.04282 &lt;dbl&gt; | C3L.03639 &lt;dbl&gt; | C3L.01328 &lt;dbl&gt; | C3L.00277 &lt;dbl&gt; | C3L.02604 &lt;dbl&gt; | C3L.01971 &lt;dbl&gt; | C3N.01167 &lt;dbl&gt; | C3L.01031 &lt;dbl&gt; | ⋯ ⋯ | C3N.00436 &lt;dbl&gt; | C3N.02944 &lt;dbl&gt; | C3L.03356 &lt;dbl&gt; | C3N.02589 &lt;dbl&gt; | C3L.03388 &lt;dbl&gt; | C3N.01388 &lt;dbl&gt; | C3N.00198 &lt;dbl&gt; | C3N.01380 &lt;dbl&gt; | C3N.01715 &lt;dbl&gt; | C3N.03426 &lt;dbl&gt; |\n",
       "|---|---|---|---|---|---|---|---|---|---|---|---|---|---|---|---|---|---|---|---|---|---|\n",
       "| NP_000028.3_S781 | -0.003289252 | -0.098820469 | -0.001863032 | 0.06418698 | -0.01615852 | -0.08553476 |  0.06142474 | 0.09203510 | -0.002218144 | -0.02439635 | ⋯ |  0.05133770 |  0.07273598 | 0.062203354 | -0.064013021 | -0.019261737 |  0.282415071 | 0.08484637 | 0.04799679 |  0.15066791 |  0.2849448 |\n",
       "| NP_000028.3_S834 | -0.080017563 |  0.000000000 | -0.034027167 | 0.03720242 | -0.01953778 | -0.03624982 |  0.03503582 | 0.09724809 | -0.008214741 | -0.02389460 | ⋯ |  0.01015709 |  0.03829329 | 0.031775950 | -0.037113360 | -0.006308129 |  0.200502184 | 0.03429170 | 0.03052564 |  0.14200041 |  0.1927270 |\n",
       "| NP_000072.2_S2105 | -0.020938229 | -0.009456211 | -0.024632151 | 0.01100132 | -0.06223903 | -0.02472232 | -0.02370921 | 0.02074372 |  0.003174092 |  0.03309474 | ⋯ | -0.14639489 | -0.01789628 | 0.007726258 |  0.004582555 | -0.002117515 | -0.009992859 | 0.01682114 | 0.00000000 | -0.01286737 | -0.1006145 |\n",
       "\n"
      ],
      "text/plain": [
       "                  C3L.02613    C3L.04072    C3N.04282    C3L.03639  C3L.01328  \n",
       "NP_000028.3_S781  -0.003289252 -0.098820469 -0.001863032 0.06418698 -0.01615852\n",
       "NP_000028.3_S834  -0.080017563  0.000000000 -0.034027167 0.03720242 -0.01953778\n",
       "NP_000072.2_S2105 -0.020938229 -0.009456211 -0.024632151 0.01100132 -0.06223903\n",
       "                  C3L.00277   C3L.02604   C3L.01971  C3N.01167    C3L.01031   ⋯\n",
       "NP_000028.3_S781  -0.08553476  0.06142474 0.09203510 -0.002218144 -0.02439635 ⋯\n",
       "NP_000028.3_S834  -0.03624982  0.03503582 0.09724809 -0.008214741 -0.02389460 ⋯\n",
       "NP_000072.2_S2105 -0.02472232 -0.02370921 0.02074372  0.003174092  0.03309474 ⋯\n",
       "                  C3N.00436   C3N.02944   C3L.03356   C3N.02589    C3L.03388   \n",
       "NP_000028.3_S781   0.05133770  0.07273598 0.062203354 -0.064013021 -0.019261737\n",
       "NP_000028.3_S834   0.01015709  0.03829329 0.031775950 -0.037113360 -0.006308129\n",
       "NP_000072.2_S2105 -0.14639489 -0.01789628 0.007726258  0.004582555 -0.002117515\n",
       "                  C3N.01388    C3N.00198  C3N.01380  C3N.01715   C3N.03426 \n",
       "NP_000028.3_S781   0.282415071 0.08484637 0.04799679  0.15066791  0.2849448\n",
       "NP_000028.3_S834   0.200502184 0.03429170 0.03052564  0.14200041  0.1927270\n",
       "NP_000072.2_S2105 -0.009992859 0.01682114 0.00000000 -0.01286737 -0.1006145"
      ]
     },
     "metadata": {},
     "output_type": "display_data"
    }
   ],
   "source": [
    "# psty <- read.table(paste0(PATH_DATA, \"phosphoproteomics_gene_level_MD_abundance_tumor.cct\"), header = TRUE, row.names = 1, sep = \"\\t\", na.strings = \"NA\")\n",
    "psty <- read.table(paste0(PATH_DATA, \"phosphoproteomics_site_level_MD_abundance_tumor.cct\"), header = TRUE, row.names = 1, sep = \"\\t\", na.strings = \"NA\")\n",
    "# psty <- read.table(paste0(PATH_DATA, \"phosphoproteomics_MultiSite_level_MD_abundance_tumor.cct\"), header = TRUE, row.names = 1, sep = \"\\t\", na.strings = \"NA\")\n",
    "psty <- psty %>%\n",
    "    # Only select columns that are in valid_samples\n",
    "    select(valid_samples$ID2) %>%\n",
    "    # sort the columns by the order in valid_samples\n",
    "    select(order(match(names(.), valid_samples$ID2))) %>%\n",
    "    # Remove rows with all NAs or too small values\n",
    "    filter(rowSums(is.na(.)) == 0) %>%\n",
    "    filter(rowSums(. < 1e-10) == 0) %>%\n",
    "    # Subtract the median of each row \n",
    "    mutate(row_median = apply(., 1, median, na.rm = TRUE)) %>%\n",
    "    mutate(across(-row_median, ~ . / row_median)) %>%\n",
    "    select(-row_median) %>%\n",
    "    # Do log2 transformation\n",
    "    # mutate(across(everything(), ~ log2(pmax(., 1e-10))))\n",
    "    mutate(across(everything(), ~ log2(.)))\n",
    "dim(psty)\n",
    "head(psty, 3)"
   ]
  },
  {
   "cell_type": "code",
   "execution_count": 9,
   "id": "6a0a57ae",
   "metadata": {
    "vscode": {
     "languageId": "r"
    }
   },
   "outputs": [
    {
     "data": {
      "text/html": [
       "<style>\n",
       ".list-inline {list-style: none; margin:0; padding: 0}\n",
       ".list-inline>li {display: inline-block}\n",
       ".list-inline>li:not(:last-child)::after {content: \"\\00b7\"; padding: 0 .5ex}\n",
       "</style>\n",
       "<ol class=list-inline><li>47316</li><li>106</li></ol>\n"
      ],
      "text/latex": [
       "\\begin{enumerate*}\n",
       "\\item 47316\n",
       "\\item 106\n",
       "\\end{enumerate*}\n"
      ],
      "text/markdown": [
       "1. 47316\n",
       "2. 106\n",
       "\n",
       "\n"
      ],
      "text/plain": [
       "[1] 47316   106"
      ]
     },
     "metadata": {},
     "output_type": "display_data"
    },
    {
     "data": {
      "text/html": [
       "<style>\n",
       ".list-inline {list-style: none; margin:0; padding: 0}\n",
       ".list-inline>li {display: inline-block}\n",
       ".list-inline>li:not(:last-child)::after {content: \"\\00b7\"; padding: 0 .5ex}\n",
       "</style>\n",
       "<ol class=list-inline><li>44950</li><li>106</li></ol>\n"
      ],
      "text/latex": [
       "\\begin{enumerate*}\n",
       "\\item 44950\n",
       "\\item 106\n",
       "\\end{enumerate*}\n"
      ],
      "text/markdown": [
       "1. 44950\n",
       "2. 106\n",
       "\n",
       "\n"
      ],
      "text/plain": [
       "[1] 44950   106"
      ]
     },
     "metadata": {},
     "output_type": "display_data"
    },
    {
     "data": {
      "text/html": [
       "<table class=\"dataframe\">\n",
       "<caption>A data.frame: 10 × 106</caption>\n",
       "<thead>\n",
       "\t<tr><th></th><th scope=col>data_type</th><th scope=col>C3L.00017</th><th scope=col>C3L.00102</th><th scope=col>C3L.00277</th><th scope=col>C3L.00589</th><th scope=col>C3L.00598</th><th scope=col>C3L.00599</th><th scope=col>C3L.00622</th><th scope=col>C3L.00625</th><th scope=col>C3L.00819</th><th scope=col>⋯</th><th scope=col>C3N.03754</th><th scope=col>C3N.03780</th><th scope=col>C3N.03839</th><th scope=col>C3N.03840</th><th scope=col>C3N.03853</th><th scope=col>C3N.03884</th><th scope=col>C3N.04119</th><th scope=col>C3N.04126</th><th scope=col>C3N.04282</th><th scope=col>C3N.04283</th></tr>\n",
       "\t<tr><th></th><th scope=col>&lt;chr&gt;</th><th scope=col>&lt;dbl&gt;</th><th scope=col>&lt;dbl&gt;</th><th scope=col>&lt;dbl&gt;</th><th scope=col>&lt;dbl&gt;</th><th scope=col>&lt;dbl&gt;</th><th scope=col>&lt;dbl&gt;</th><th scope=col>&lt;dbl&gt;</th><th scope=col>&lt;dbl&gt;</th><th scope=col>&lt;dbl&gt;</th><th scope=col>⋯</th><th scope=col>&lt;dbl&gt;</th><th scope=col>&lt;dbl&gt;</th><th scope=col>&lt;dbl&gt;</th><th scope=col>&lt;dbl&gt;</th><th scope=col>&lt;dbl&gt;</th><th scope=col>&lt;dbl&gt;</th><th scope=col>&lt;dbl&gt;</th><th scope=col>&lt;dbl&gt;</th><th scope=col>&lt;dbl&gt;</th><th scope=col>&lt;dbl&gt;</th></tr>\n",
       "</thead>\n",
       "<tbody>\n",
       "\t<tr><th scope=row>NP_958845.1_S79</th><td>psty</td><td> 0.079446002</td><td> 0.03630348</td><td>-0.026318794</td><td>-0.013611849</td><td>-0.05005705</td><td>-0.172905292</td><td>-0.088639119</td><td>-0.050904401</td><td>-0.007752476</td><td>⋯</td><td> 0.021672913</td><td> 0.0047389330</td><td> 0.1707685412</td><td>-0.10959935</td><td> 0.050341969</td><td> 0.08423931</td><td>-0.059991279</td><td>-0.0007296711</td><td>0.06338611</td><td> 0.0100217780</td></tr>\n",
       "\t<tr><th scope=row>NP_976324.2_S575</th><td>psty</td><td> 0.082564705</td><td> 0.02576112</td><td> 0.068521890</td><td>-0.039887376</td><td> 0.10901623</td><td> 0.170325698</td><td>-0.131091317</td><td> 0.053230996</td><td> 0.053485233</td><td>⋯</td><td> 0.008844694</td><td>-0.0448768665</td><td> 0.0792314601</td><td>-0.18174744</td><td> 0.009397321</td><td> 0.11084302</td><td>-0.060311673</td><td>-0.0932079326</td><td>0.07073944</td><td> 0.0365422279</td></tr>\n",
       "\t<tr><th scope=row>NP_976324.2_S710</th><td>psty</td><td> 0.147034528</td><td> 0.01044562</td><td> 0.111215602</td><td>-0.035994889</td><td> 0.07925124</td><td> 0.063384138</td><td>-0.069736553</td><td> 0.088925435</td><td> 0.005206951</td><td>⋯</td><td>-0.016275165</td><td> 0.0003539852</td><td> 0.0787260371</td><td>-0.15433375</td><td> 0.060727164</td><td> 0.11275161</td><td>-0.014349525</td><td>-0.0694289794</td><td>0.06985248</td><td> 0.0586667396</td></tr>\n",
       "\t<tr><th scope=row>NP_982272.2_S904</th><td>psty</td><td> 0.023798552</td><td> 0.01650842</td><td>-0.094195741</td><td>-0.041668947</td><td>-0.07598812</td><td>-0.149207133</td><td>-0.068073138</td><td>-0.159080895</td><td>-0.029022903</td><td>⋯</td><td> 0.019838845</td><td>-0.0850848303</td><td> 0.0614341098</td><td>-0.01065424</td><td> 0.061241222</td><td> 0.13993751</td><td>-0.049799194</td><td>-0.1248938067</td><td>0.10080156</td><td> 0.0002623087</td></tr>\n",
       "\t<tr><th scope=row>NP_987100.1_T227</th><td>psty</td><td> 0.146972631</td><td>-0.44806034</td><td> 0.212148654</td><td> 0.120822055</td><td>-0.02753782</td><td> 0.222282194</td><td>-0.267095711</td><td>-0.088231852</td><td> 0.001989650</td><td>⋯</td><td>-0.128095569</td><td> 0.0814034202</td><td>-0.0004391136</td><td> 0.12351415</td><td> 0.160735470</td><td> 0.02179675</td><td>-0.215216260</td><td> 0.1531561797</td><td>0.16853110</td><td>-0.0118980910</td></tr>\n",
       "\t<tr><th scope=row>NP_996826.2_S1414</th><td>psty</td><td> 0.063367469</td><td> 0.10591795</td><td> 0.153282608</td><td> 0.045718296</td><td>-0.15663787</td><td>-0.060666862</td><td> 0.007299217</td><td> 0.193374219</td><td> 0.095686560</td><td>⋯</td><td>-0.006382670</td><td>-0.0651741198</td><td> 0.0346258925</td><td> 0.01082142</td><td>-0.012965689</td><td> 0.06419983</td><td>-0.004291478</td><td> 0.0680142954</td><td>0.07381013</td><td> 0.0332533510</td></tr>\n",
       "\t<tr><th scope=row>NP_997245.2_S881</th><td>psty</td><td> 0.137718794</td><td>-0.04078144</td><td> 0.004700958</td><td> 0.130736559</td><td>-0.06173706</td><td> 0.006313795</td><td> 0.090414648</td><td>-0.001235223</td><td>-0.086052319</td><td>⋯</td><td>-0.157811497</td><td> 0.0578804281</td><td> 0.0710230697</td><td> 0.07991204</td><td> 0.012761431</td><td> 0.06018773</td><td> 0.045825368</td><td> 0.0684361940</td><td>0.04752730</td><td>-0.0297662448</td></tr>\n",
       "\t<tr><th scope=row>NP_997641.1_S2294</th><td>psty</td><td> 0.025348876</td><td> 0.06201465</td><td> 0.281078580</td><td>-0.007967676</td><td> 0.03825847</td><td>-0.105194314</td><td>-0.133995231</td><td> 0.213056396</td><td> 0.043122006</td><td>⋯</td><td>-0.106894553</td><td>-0.0390407275</td><td>-0.0787479171</td><td> 0.07213424</td><td> 0.088405738</td><td>-0.01837157</td><td> 0.018400899</td><td> 0.0287166604</td><td>0.13896632</td><td> 0.1326827699</td></tr>\n",
       "\t<tr><th scope=row>NP_998754.1_S1154</th><td>psty</td><td>-0.003492166</td><td>-0.01452163</td><td> 0.065315431</td><td>-0.051250769</td><td> 0.10283842</td><td>-0.032190435</td><td>-0.061569401</td><td>-0.151963153</td><td> 0.022449098</td><td>⋯</td><td> 0.038036967</td><td> 0.0080910620</td><td> 0.1052848222</td><td> 0.09795117</td><td> 0.113101530</td><td>-0.00430832</td><td>-0.022071470</td><td>-0.0709854020</td><td>0.12219448</td><td> 0.1323997326</td></tr>\n",
       "\t<tr><th scope=row>NP_998754.1_S894</th><td>psty</td><td>-0.010712040</td><td> 0.03550601</td><td>-0.007765952</td><td>-0.004102615</td><td>-0.07791418</td><td>-0.068740067</td><td>-0.100980470</td><td>-0.091016742</td><td> 0.015294469</td><td>⋯</td><td> 0.021685251</td><td>-0.0184017571</td><td> 0.1580202838</td><td> 0.05139484</td><td> 0.079590076</td><td> 0.04896200</td><td>-0.020722613</td><td> 0.0052697280</td><td>0.10922955</td><td> 0.0628952689</td></tr>\n",
       "</tbody>\n",
       "</table>\n"
      ],
      "text/latex": [
       "A data.frame: 10 × 106\n",
       "\\begin{tabular}{r|lllllllllllllllllllll}\n",
       "  & data\\_type & C3L.00017 & C3L.00102 & C3L.00277 & C3L.00589 & C3L.00598 & C3L.00599 & C3L.00622 & C3L.00625 & C3L.00819 & ⋯ & C3N.03754 & C3N.03780 & C3N.03839 & C3N.03840 & C3N.03853 & C3N.03884 & C3N.04119 & C3N.04126 & C3N.04282 & C3N.04283\\\\\n",
       "  & <chr> & <dbl> & <dbl> & <dbl> & <dbl> & <dbl> & <dbl> & <dbl> & <dbl> & <dbl> & ⋯ & <dbl> & <dbl> & <dbl> & <dbl> & <dbl> & <dbl> & <dbl> & <dbl> & <dbl> & <dbl>\\\\\n",
       "\\hline\n",
       "\tNP\\_958845.1\\_S79 & psty &  0.079446002 &  0.03630348 & -0.026318794 & -0.013611849 & -0.05005705 & -0.172905292 & -0.088639119 & -0.050904401 & -0.007752476 & ⋯ &  0.021672913 &  0.0047389330 &  0.1707685412 & -0.10959935 &  0.050341969 &  0.08423931 & -0.059991279 & -0.0007296711 & 0.06338611 &  0.0100217780\\\\\n",
       "\tNP\\_976324.2\\_S575 & psty &  0.082564705 &  0.02576112 &  0.068521890 & -0.039887376 &  0.10901623 &  0.170325698 & -0.131091317 &  0.053230996 &  0.053485233 & ⋯ &  0.008844694 & -0.0448768665 &  0.0792314601 & -0.18174744 &  0.009397321 &  0.11084302 & -0.060311673 & -0.0932079326 & 0.07073944 &  0.0365422279\\\\\n",
       "\tNP\\_976324.2\\_S710 & psty &  0.147034528 &  0.01044562 &  0.111215602 & -0.035994889 &  0.07925124 &  0.063384138 & -0.069736553 &  0.088925435 &  0.005206951 & ⋯ & -0.016275165 &  0.0003539852 &  0.0787260371 & -0.15433375 &  0.060727164 &  0.11275161 & -0.014349525 & -0.0694289794 & 0.06985248 &  0.0586667396\\\\\n",
       "\tNP\\_982272.2\\_S904 & psty &  0.023798552 &  0.01650842 & -0.094195741 & -0.041668947 & -0.07598812 & -0.149207133 & -0.068073138 & -0.159080895 & -0.029022903 & ⋯ &  0.019838845 & -0.0850848303 &  0.0614341098 & -0.01065424 &  0.061241222 &  0.13993751 & -0.049799194 & -0.1248938067 & 0.10080156 &  0.0002623087\\\\\n",
       "\tNP\\_987100.1\\_T227 & psty &  0.146972631 & -0.44806034 &  0.212148654 &  0.120822055 & -0.02753782 &  0.222282194 & -0.267095711 & -0.088231852 &  0.001989650 & ⋯ & -0.128095569 &  0.0814034202 & -0.0004391136 &  0.12351415 &  0.160735470 &  0.02179675 & -0.215216260 &  0.1531561797 & 0.16853110 & -0.0118980910\\\\\n",
       "\tNP\\_996826.2\\_S1414 & psty &  0.063367469 &  0.10591795 &  0.153282608 &  0.045718296 & -0.15663787 & -0.060666862 &  0.007299217 &  0.193374219 &  0.095686560 & ⋯ & -0.006382670 & -0.0651741198 &  0.0346258925 &  0.01082142 & -0.012965689 &  0.06419983 & -0.004291478 &  0.0680142954 & 0.07381013 &  0.0332533510\\\\\n",
       "\tNP\\_997245.2\\_S881 & psty &  0.137718794 & -0.04078144 &  0.004700958 &  0.130736559 & -0.06173706 &  0.006313795 &  0.090414648 & -0.001235223 & -0.086052319 & ⋯ & -0.157811497 &  0.0578804281 &  0.0710230697 &  0.07991204 &  0.012761431 &  0.06018773 &  0.045825368 &  0.0684361940 & 0.04752730 & -0.0297662448\\\\\n",
       "\tNP\\_997641.1\\_S2294 & psty &  0.025348876 &  0.06201465 &  0.281078580 & -0.007967676 &  0.03825847 & -0.105194314 & -0.133995231 &  0.213056396 &  0.043122006 & ⋯ & -0.106894553 & -0.0390407275 & -0.0787479171 &  0.07213424 &  0.088405738 & -0.01837157 &  0.018400899 &  0.0287166604 & 0.13896632 &  0.1326827699\\\\\n",
       "\tNP\\_998754.1\\_S1154 & psty & -0.003492166 & -0.01452163 &  0.065315431 & -0.051250769 &  0.10283842 & -0.032190435 & -0.061569401 & -0.151963153 &  0.022449098 & ⋯ &  0.038036967 &  0.0080910620 &  0.1052848222 &  0.09795117 &  0.113101530 & -0.00430832 & -0.022071470 & -0.0709854020 & 0.12219448 &  0.1323997326\\\\\n",
       "\tNP\\_998754.1\\_S894 & psty & -0.010712040 &  0.03550601 & -0.007765952 & -0.004102615 & -0.07791418 & -0.068740067 & -0.100980470 & -0.091016742 &  0.015294469 & ⋯ &  0.021685251 & -0.0184017571 &  0.1580202838 &  0.05139484 &  0.079590076 &  0.04896200 & -0.020722613 &  0.0052697280 & 0.10922955 &  0.0628952689\\\\\n",
       "\\end{tabular}\n"
      ],
      "text/markdown": [
       "\n",
       "A data.frame: 10 × 106\n",
       "\n",
       "| <!--/--> | data_type &lt;chr&gt; | C3L.00017 &lt;dbl&gt; | C3L.00102 &lt;dbl&gt; | C3L.00277 &lt;dbl&gt; | C3L.00589 &lt;dbl&gt; | C3L.00598 &lt;dbl&gt; | C3L.00599 &lt;dbl&gt; | C3L.00622 &lt;dbl&gt; | C3L.00625 &lt;dbl&gt; | C3L.00819 &lt;dbl&gt; | ⋯ ⋯ | C3N.03754 &lt;dbl&gt; | C3N.03780 &lt;dbl&gt; | C3N.03839 &lt;dbl&gt; | C3N.03840 &lt;dbl&gt; | C3N.03853 &lt;dbl&gt; | C3N.03884 &lt;dbl&gt; | C3N.04119 &lt;dbl&gt; | C3N.04126 &lt;dbl&gt; | C3N.04282 &lt;dbl&gt; | C3N.04283 &lt;dbl&gt; |\n",
       "|---|---|---|---|---|---|---|---|---|---|---|---|---|---|---|---|---|---|---|---|---|---|\n",
       "| NP_958845.1_S79 | psty |  0.079446002 |  0.03630348 | -0.026318794 | -0.013611849 | -0.05005705 | -0.172905292 | -0.088639119 | -0.050904401 | -0.007752476 | ⋯ |  0.021672913 |  0.0047389330 |  0.1707685412 | -0.10959935 |  0.050341969 |  0.08423931 | -0.059991279 | -0.0007296711 | 0.06338611 |  0.0100217780 |\n",
       "| NP_976324.2_S575 | psty |  0.082564705 |  0.02576112 |  0.068521890 | -0.039887376 |  0.10901623 |  0.170325698 | -0.131091317 |  0.053230996 |  0.053485233 | ⋯ |  0.008844694 | -0.0448768665 |  0.0792314601 | -0.18174744 |  0.009397321 |  0.11084302 | -0.060311673 | -0.0932079326 | 0.07073944 |  0.0365422279 |\n",
       "| NP_976324.2_S710 | psty |  0.147034528 |  0.01044562 |  0.111215602 | -0.035994889 |  0.07925124 |  0.063384138 | -0.069736553 |  0.088925435 |  0.005206951 | ⋯ | -0.016275165 |  0.0003539852 |  0.0787260371 | -0.15433375 |  0.060727164 |  0.11275161 | -0.014349525 | -0.0694289794 | 0.06985248 |  0.0586667396 |\n",
       "| NP_982272.2_S904 | psty |  0.023798552 |  0.01650842 | -0.094195741 | -0.041668947 | -0.07598812 | -0.149207133 | -0.068073138 | -0.159080895 | -0.029022903 | ⋯ |  0.019838845 | -0.0850848303 |  0.0614341098 | -0.01065424 |  0.061241222 |  0.13993751 | -0.049799194 | -0.1248938067 | 0.10080156 |  0.0002623087 |\n",
       "| NP_987100.1_T227 | psty |  0.146972631 | -0.44806034 |  0.212148654 |  0.120822055 | -0.02753782 |  0.222282194 | -0.267095711 | -0.088231852 |  0.001989650 | ⋯ | -0.128095569 |  0.0814034202 | -0.0004391136 |  0.12351415 |  0.160735470 |  0.02179675 | -0.215216260 |  0.1531561797 | 0.16853110 | -0.0118980910 |\n",
       "| NP_996826.2_S1414 | psty |  0.063367469 |  0.10591795 |  0.153282608 |  0.045718296 | -0.15663787 | -0.060666862 |  0.007299217 |  0.193374219 |  0.095686560 | ⋯ | -0.006382670 | -0.0651741198 |  0.0346258925 |  0.01082142 | -0.012965689 |  0.06419983 | -0.004291478 |  0.0680142954 | 0.07381013 |  0.0332533510 |\n",
       "| NP_997245.2_S881 | psty |  0.137718794 | -0.04078144 |  0.004700958 |  0.130736559 | -0.06173706 |  0.006313795 |  0.090414648 | -0.001235223 | -0.086052319 | ⋯ | -0.157811497 |  0.0578804281 |  0.0710230697 |  0.07991204 |  0.012761431 |  0.06018773 |  0.045825368 |  0.0684361940 | 0.04752730 | -0.0297662448 |\n",
       "| NP_997641.1_S2294 | psty |  0.025348876 |  0.06201465 |  0.281078580 | -0.007967676 |  0.03825847 | -0.105194314 | -0.133995231 |  0.213056396 |  0.043122006 | ⋯ | -0.106894553 | -0.0390407275 | -0.0787479171 |  0.07213424 |  0.088405738 | -0.01837157 |  0.018400899 |  0.0287166604 | 0.13896632 |  0.1326827699 |\n",
       "| NP_998754.1_S1154 | psty | -0.003492166 | -0.01452163 |  0.065315431 | -0.051250769 |  0.10283842 | -0.032190435 | -0.061569401 | -0.151963153 |  0.022449098 | ⋯ |  0.038036967 |  0.0080910620 |  0.1052848222 |  0.09795117 |  0.113101530 | -0.00430832 | -0.022071470 | -0.0709854020 | 0.12219448 |  0.1323997326 |\n",
       "| NP_998754.1_S894 | psty | -0.010712040 |  0.03550601 | -0.007765952 | -0.004102615 | -0.07791418 | -0.068740067 | -0.100980470 | -0.091016742 |  0.015294469 | ⋯ |  0.021685251 | -0.0184017571 |  0.1580202838 |  0.05139484 |  0.079590076 |  0.04896200 | -0.020722613 |  0.0052697280 | 0.10922955 |  0.0628952689 |\n",
       "\n"
      ],
      "text/plain": [
       "                  data_type C3L.00017    C3L.00102   C3L.00277    C3L.00589   \n",
       "NP_958845.1_S79   psty       0.079446002  0.03630348 -0.026318794 -0.013611849\n",
       "NP_976324.2_S575  psty       0.082564705  0.02576112  0.068521890 -0.039887376\n",
       "NP_976324.2_S710  psty       0.147034528  0.01044562  0.111215602 -0.035994889\n",
       "NP_982272.2_S904  psty       0.023798552  0.01650842 -0.094195741 -0.041668947\n",
       "NP_987100.1_T227  psty       0.146972631 -0.44806034  0.212148654  0.120822055\n",
       "NP_996826.2_S1414 psty       0.063367469  0.10591795  0.153282608  0.045718296\n",
       "NP_997245.2_S881  psty       0.137718794 -0.04078144  0.004700958  0.130736559\n",
       "NP_997641.1_S2294 psty       0.025348876  0.06201465  0.281078580 -0.007967676\n",
       "NP_998754.1_S1154 psty      -0.003492166 -0.01452163  0.065315431 -0.051250769\n",
       "NP_998754.1_S894  psty      -0.010712040  0.03550601 -0.007765952 -0.004102615\n",
       "                  C3L.00598   C3L.00599    C3L.00622    C3L.00625   \n",
       "NP_958845.1_S79   -0.05005705 -0.172905292 -0.088639119 -0.050904401\n",
       "NP_976324.2_S575   0.10901623  0.170325698 -0.131091317  0.053230996\n",
       "NP_976324.2_S710   0.07925124  0.063384138 -0.069736553  0.088925435\n",
       "NP_982272.2_S904  -0.07598812 -0.149207133 -0.068073138 -0.159080895\n",
       "NP_987100.1_T227  -0.02753782  0.222282194 -0.267095711 -0.088231852\n",
       "NP_996826.2_S1414 -0.15663787 -0.060666862  0.007299217  0.193374219\n",
       "NP_997245.2_S881  -0.06173706  0.006313795  0.090414648 -0.001235223\n",
       "NP_997641.1_S2294  0.03825847 -0.105194314 -0.133995231  0.213056396\n",
       "NP_998754.1_S1154  0.10283842 -0.032190435 -0.061569401 -0.151963153\n",
       "NP_998754.1_S894  -0.07791418 -0.068740067 -0.100980470 -0.091016742\n",
       "                  C3L.00819    ⋯ C3N.03754    C3N.03780     C3N.03839    \n",
       "NP_958845.1_S79   -0.007752476 ⋯  0.021672913  0.0047389330  0.1707685412\n",
       "NP_976324.2_S575   0.053485233 ⋯  0.008844694 -0.0448768665  0.0792314601\n",
       "NP_976324.2_S710   0.005206951 ⋯ -0.016275165  0.0003539852  0.0787260371\n",
       "NP_982272.2_S904  -0.029022903 ⋯  0.019838845 -0.0850848303  0.0614341098\n",
       "NP_987100.1_T227   0.001989650 ⋯ -0.128095569  0.0814034202 -0.0004391136\n",
       "NP_996826.2_S1414  0.095686560 ⋯ -0.006382670 -0.0651741198  0.0346258925\n",
       "NP_997245.2_S881  -0.086052319 ⋯ -0.157811497  0.0578804281  0.0710230697\n",
       "NP_997641.1_S2294  0.043122006 ⋯ -0.106894553 -0.0390407275 -0.0787479171\n",
       "NP_998754.1_S1154  0.022449098 ⋯  0.038036967  0.0080910620  0.1052848222\n",
       "NP_998754.1_S894   0.015294469 ⋯  0.021685251 -0.0184017571  0.1580202838\n",
       "                  C3N.03840   C3N.03853    C3N.03884   C3N.04119   \n",
       "NP_958845.1_S79   -0.10959935  0.050341969  0.08423931 -0.059991279\n",
       "NP_976324.2_S575  -0.18174744  0.009397321  0.11084302 -0.060311673\n",
       "NP_976324.2_S710  -0.15433375  0.060727164  0.11275161 -0.014349525\n",
       "NP_982272.2_S904  -0.01065424  0.061241222  0.13993751 -0.049799194\n",
       "NP_987100.1_T227   0.12351415  0.160735470  0.02179675 -0.215216260\n",
       "NP_996826.2_S1414  0.01082142 -0.012965689  0.06419983 -0.004291478\n",
       "NP_997245.2_S881   0.07991204  0.012761431  0.06018773  0.045825368\n",
       "NP_997641.1_S2294  0.07213424  0.088405738 -0.01837157  0.018400899\n",
       "NP_998754.1_S1154  0.09795117  0.113101530 -0.00430832 -0.022071470\n",
       "NP_998754.1_S894   0.05139484  0.079590076  0.04896200 -0.020722613\n",
       "                  C3N.04126     C3N.04282  C3N.04283    \n",
       "NP_958845.1_S79   -0.0007296711 0.06338611  0.0100217780\n",
       "NP_976324.2_S575  -0.0932079326 0.07073944  0.0365422279\n",
       "NP_976324.2_S710  -0.0694289794 0.06985248  0.0586667396\n",
       "NP_982272.2_S904  -0.1248938067 0.10080156  0.0002623087\n",
       "NP_987100.1_T227   0.1531561797 0.16853110 -0.0118980910\n",
       "NP_996826.2_S1414  0.0680142954 0.07381013  0.0332533510\n",
       "NP_997245.2_S881   0.0684361940 0.04752730 -0.0297662448\n",
       "NP_997641.1_S2294  0.0287166604 0.13896632  0.1326827699\n",
       "NP_998754.1_S1154 -0.0709854020 0.12219448  0.1323997326\n",
       "NP_998754.1_S894   0.0052697280 0.10922955  0.0628952689"
      ]
     },
     "metadata": {},
     "output_type": "display_data"
    },
    {
     "name": "stdout",
     "output_type": "stream",
     "text": [
      "\u001b[90m# A tibble: 5 × 2\u001b[39m\n",
      "  data_type feature_count\n",
      "  \u001b[3m\u001b[90m<chr>\u001b[39m\u001b[23m             \u001b[3m\u001b[90m<int>\u001b[39m\u001b[23m\n",
      "\u001b[90m1\u001b[39m cnv               \u001b[4m1\u001b[24m\u001b[4m9\u001b[24m855\n",
      "\u001b[90m2\u001b[39m glyco              \u001b[4m1\u001b[24m454\n",
      "\u001b[90m3\u001b[39m prot               \u001b[4m3\u001b[24m490\n",
      "\u001b[90m4\u001b[39m psty               \u001b[4m1\u001b[24m954\n",
      "\u001b[90m5\u001b[39m rna               \u001b[4m1\u001b[24m\u001b[4m8\u001b[24m197\n"
     ]
    }
   ],
   "source": [
    "# Concatenate all data frames\n",
    "data <- bind_rows(\n",
    "    cnv = cnv,\n",
    "    prot = prot,\n",
    "    rna = rna,\n",
    "    glyco = glyco,\n",
    "    psty = psty,\n",
    "    .id = \"data_type\"\n",
    ")\n",
    "dim(data)\n",
    "row_sd <- apply(data[ , -1], 1, sd, na.rm = TRUE)\n",
    "cutoff <- quantile(row_sd, probs = 0.05, na.rm = TRUE)\n",
    "data <- data[row_sd > cutoff, ] %>%\n",
    "    # Column-wise z-score normalization\n",
    "    mutate(across(-data_type, ~ (.-mean(.)) / sd(.))) %>%\n",
    "    # Sort columns by name\n",
    "    select(data_type, sort(names(.)[-1]))\n",
    "\n",
    "dim(data)\n",
    "tail(data,10)\n",
    "# Count the number of features per data type\n",
    "feature_counts <- data %>%\n",
    "    group_by(data_type) %>%\n",
    "    summarise(feature_count = n()) %>%\n",
    "    ungroup()\n",
    "print(feature_counts)"
   ]
  },
  {
   "cell_type": "code",
   "execution_count": 10,
   "id": "9be7a22a",
   "metadata": {
    "vscode": {
     "languageId": "r"
    }
   },
   "outputs": [
    {
     "data": {
      "text/html": [
       "<style>\n",
       ".list-inline {list-style: none; margin:0; padding: 0}\n",
       ".list-inline>li {display: inline-block}\n",
       ".list-inline>li:not(:last-child)::after {content: \"\\00b7\"; padding: 0 .5ex}\n",
       "</style>\n",
       "<ol class=list-inline><li>44950</li><li>106</li></ol>\n"
      ],
      "text/latex": [
       "\\begin{enumerate*}\n",
       "\\item 44950\n",
       "\\item 106\n",
       "\\end{enumerate*}\n"
      ],
      "text/markdown": [
       "1. 44950\n",
       "2. 106\n",
       "\n",
       "\n"
      ],
      "text/plain": [
       "[1] 44950   106"
      ]
     },
     "metadata": {},
     "output_type": "display_data"
    },
    {
     "data": {
      "text/html": [
       "<style>\n",
       ".list-inline {list-style: none; margin:0; padding: 0}\n",
       ".list-inline>li {display: inline-block}\n",
       ".list-inline>li:not(:last-child)::after {content: \"\\00b7\"; padding: 0 .5ex}\n",
       "</style>\n",
       "<ol class=list-inline><li>89900</li><li>105</li></ol>\n"
      ],
      "text/latex": [
       "\\begin{enumerate*}\n",
       "\\item 89900\n",
       "\\item 105\n",
       "\\end{enumerate*}\n"
      ],
      "text/markdown": [
       "1. 89900\n",
       "2. 105\n",
       "\n",
       "\n"
      ],
      "text/plain": [
       "[1] 89900   105"
      ]
     },
     "metadata": {},
     "output_type": "display_data"
    }
   ],
   "source": [
    "data_type <- data$data_type\n",
    "data_num <- data[, -1]\n",
    "\n",
    "positive_only_matrix <- data_num\n",
    "positive_only_matrix[positive_only_matrix < 0] <- 0\n",
    "# Abs values of negative values\n",
    "negative_only_matrix <- data_num\n",
    "negative_only_matrix[negative_only_matrix > 0] <- 0\n",
    "negative_only_matrix <- abs(negative_only_matrix)\n",
    "\n",
    "combined_matrix <- rbind(positive_only_matrix, negative_only_matrix)\n",
    "\n",
    "combined_matrix <- combined_matrix[rowSums(combined_matrix) != 0, ]\n",
    "\n",
    "dim(data)\n",
    "dim(combined_matrix)"
   ]
  },
  {
   "cell_type": "code",
   "execution_count": null,
   "id": "ce6cea3f",
   "metadata": {
    "vscode": {
     "languageId": "r"
    }
   },
   "outputs": [
    {
     "data": {
      "text/html": [
       "<table class=\"dataframe\">\n",
       "<caption>A data.frame: 105 × 4</caption>\n",
       "<thead>\n",
       "\t<tr><th></th><th scope=col>V1</th><th scope=col>V2</th><th scope=col>cluster</th><th scope=col>newsum</th></tr>\n",
       "\t<tr><th></th><th scope=col>&lt;dbl&gt;</th><th scope=col>&lt;dbl&gt;</th><th scope=col>&lt;chr&gt;</th><th scope=col>&lt;dbl&gt;</th></tr>\n",
       "</thead>\n",
       "<tbody>\n",
       "\t<tr><th scope=row>C3L.00017</th><td>2.321938e-01</td><td>0.76780622</td><td>2</td><td>1</td></tr>\n",
       "\t<tr><th scope=row>C3L.00102</th><td>4.576865e-01</td><td>0.54231351</td><td>2</td><td>1</td></tr>\n",
       "\t<tr><th scope=row>C3L.00277</th><td>6.720580e-01</td><td>0.32794204</td><td>1</td><td>1</td></tr>\n",
       "\t<tr><th scope=row>C3L.00589</th><td>1.816791e-01</td><td>0.81832090</td><td>2</td><td>1</td></tr>\n",
       "\t<tr><th scope=row>C3L.00598</th><td>9.131920e-01</td><td>0.08680796</td><td>1</td><td>1</td></tr>\n",
       "\t<tr><th scope=row>C3L.00599</th><td>5.268393e-02</td><td>0.94731607</td><td>2</td><td>1</td></tr>\n",
       "\t<tr><th scope=row>C3L.00622</th><td>2.099518e-01</td><td>0.79004823</td><td>2</td><td>1</td></tr>\n",
       "\t<tr><th scope=row>C3L.00625</th><td>3.786299e-01</td><td>0.62137005</td><td>2</td><td>1</td></tr>\n",
       "\t<tr><th scope=row>C3L.00819</th><td>7.698312e-01</td><td>0.23016879</td><td>1</td><td>1</td></tr>\n",
       "\t<tr><th scope=row>C3L.00928</th><td>6.001700e-01</td><td>0.39983004</td><td>1</td><td>1</td></tr>\n",
       "\t<tr><th scope=row>C3L.01031</th><td>5.136001e-01</td><td>0.48639991</td><td>1</td><td>1</td></tr>\n",
       "\t<tr><th scope=row>C3L.01037</th><td>6.558561e-01</td><td>0.34414393</td><td>1</td><td>1</td></tr>\n",
       "\t<tr><th scope=row>C3L.01051</th><td>1.749557e-02</td><td>0.98250443</td><td>2</td><td>1</td></tr>\n",
       "\t<tr><th scope=row>C3L.01124</th><td>2.679732e-01</td><td>0.73202677</td><td>2</td><td>1</td></tr>\n",
       "\t<tr><th scope=row>C3L.01328</th><td>8.184557e-01</td><td>0.18154431</td><td>1</td><td>1</td></tr>\n",
       "\t<tr><th scope=row>C3L.01453</th><td>4.633942e-01</td><td>0.53660581</td><td>2</td><td>1</td></tr>\n",
       "\t<tr><th scope=row>C3L.01598</th><td>5.913639e-01</td><td>0.40863613</td><td>1</td><td>1</td></tr>\n",
       "\t<tr><th scope=row>C3L.01637</th><td>3.269518e-01</td><td>0.67304820</td><td>2</td><td>1</td></tr>\n",
       "\t<tr><th scope=row>C3L.01662</th><td>3.820041e-01</td><td>0.61799590</td><td>2</td><td>1</td></tr>\n",
       "\t<tr><th scope=row>C3L.01687</th><td>1.057761e-01</td><td>0.89422386</td><td>2</td><td>1</td></tr>\n",
       "\t<tr><th scope=row>C3L.01689</th><td>8.916596e-01</td><td>0.10834038</td><td>1</td><td>1</td></tr>\n",
       "\t<tr><th scope=row>C3L.01703</th><td>6.509715e-03</td><td>0.99349028</td><td>2</td><td>1</td></tr>\n",
       "\t<tr><th scope=row>C3L.01971</th><td>5.271861e-02</td><td>0.94728139</td><td>2</td><td>1</td></tr>\n",
       "\t<tr><th scope=row>C3L.02109</th><td>3.256592e-01</td><td>0.67434085</td><td>2</td><td>1</td></tr>\n",
       "\t<tr><th scope=row>C3L.02115</th><td>1.823033e-14</td><td>1.00000000</td><td>2</td><td>1</td></tr>\n",
       "\t<tr><th scope=row>C3L.02116</th><td>1.736966e-14</td><td>1.00000000</td><td>2</td><td>1</td></tr>\n",
       "\t<tr><th scope=row>C3L.02118</th><td>3.110935e-01</td><td>0.68890655</td><td>2</td><td>1</td></tr>\n",
       "\t<tr><th scope=row>C3L.02463</th><td>3.296915e-01</td><td>0.67030846</td><td>2</td><td>1</td></tr>\n",
       "\t<tr><th scope=row>C3L.02604</th><td>8.545146e-01</td><td>0.14548540</td><td>1</td><td>1</td></tr>\n",
       "\t<tr><th scope=row>C3L.02606</th><td>8.838642e-01</td><td>0.11613585</td><td>1</td><td>1</td></tr>\n",
       "\t<tr><th scope=row>⋮</th><td>⋮</td><td>⋮</td><td>⋮</td><td>⋮</td></tr>\n",
       "\t<tr><th scope=row>C3N.02585</th><td>4.855273e-01</td><td>5.144727e-01</td><td>2</td><td>1</td></tr>\n",
       "\t<tr><th scope=row>C3N.02589</th><td>1.095730e-01</td><td>8.904270e-01</td><td>2</td><td>1</td></tr>\n",
       "\t<tr><th scope=row>C3N.02592</th><td>7.161105e-01</td><td>2.838895e-01</td><td>1</td><td>1</td></tr>\n",
       "\t<tr><th scope=row>C3N.02768</th><td>8.654386e-01</td><td>1.345614e-01</td><td>1</td><td>1</td></tr>\n",
       "\t<tr><th scope=row>C3N.02940</th><td>4.006062e-01</td><td>5.993938e-01</td><td>2</td><td>1</td></tr>\n",
       "\t<tr><th scope=row>C3N.02944</th><td>5.529945e-01</td><td>4.470055e-01</td><td>1</td><td>1</td></tr>\n",
       "\t<tr><th scope=row>C3N.02971</th><td>6.051836e-01</td><td>3.948164e-01</td><td>1</td><td>1</td></tr>\n",
       "\t<tr><th scope=row>C3N.03000</th><td>9.763093e-01</td><td>2.369067e-02</td><td>1</td><td>1</td></tr>\n",
       "\t<tr><th scope=row>C3N.03006</th><td>2.377355e-01</td><td>7.622645e-01</td><td>2</td><td>1</td></tr>\n",
       "\t<tr><th scope=row>C3N.03007</th><td>9.879098e-01</td><td>1.209025e-02</td><td>1</td><td>1</td></tr>\n",
       "\t<tr><th scope=row>C3N.03039</th><td>8.461361e-01</td><td>1.538639e-01</td><td>1</td><td>1</td></tr>\n",
       "\t<tr><th scope=row>C3N.03061</th><td>8.868922e-01</td><td>1.131078e-01</td><td>1</td><td>1</td></tr>\n",
       "\t<tr><th scope=row>C3N.03086</th><td>5.590405e-01</td><td>4.409595e-01</td><td>1</td><td>1</td></tr>\n",
       "\t<tr><th scope=row>C3N.03173</th><td>2.730837e-13</td><td>1.000000e+00</td><td>2</td><td>1</td></tr>\n",
       "\t<tr><th scope=row>C3N.03190</th><td>3.816063e-01</td><td>6.183937e-01</td><td>2</td><td>1</td></tr>\n",
       "\t<tr><th scope=row>C3N.03426</th><td>9.224061e-01</td><td>7.759394e-02</td><td>1</td><td>1</td></tr>\n",
       "\t<tr><th scope=row>C3N.03430</th><td>1.000000e+00</td><td>1.730576e-14</td><td>1</td><td>1</td></tr>\n",
       "\t<tr><th scope=row>C3N.03439</th><td>5.690764e-01</td><td>4.309236e-01</td><td>1</td><td>1</td></tr>\n",
       "\t<tr><th scope=row>C3N.03665</th><td>7.620748e-01</td><td>2.379252e-01</td><td>1</td><td>1</td></tr>\n",
       "\t<tr><th scope=row>C3N.03666</th><td>6.805690e-01</td><td>3.194310e-01</td><td>1</td><td>1</td></tr>\n",
       "\t<tr><th scope=row>C3N.03754</th><td>6.275657e-01</td><td>3.724343e-01</td><td>1</td><td>1</td></tr>\n",
       "\t<tr><th scope=row>C3N.03780</th><td>1.743930e-01</td><td>8.256070e-01</td><td>2</td><td>1</td></tr>\n",
       "\t<tr><th scope=row>C3N.03839</th><td>6.574371e-01</td><td>3.425629e-01</td><td>1</td><td>1</td></tr>\n",
       "\t<tr><th scope=row>C3N.03840</th><td>4.521809e-01</td><td>5.478191e-01</td><td>2</td><td>1</td></tr>\n",
       "\t<tr><th scope=row>C3N.03853</th><td>6.599218e-01</td><td>3.400782e-01</td><td>1</td><td>1</td></tr>\n",
       "\t<tr><th scope=row>C3N.03884</th><td>1.000000e+00</td><td>1.716477e-14</td><td>1</td><td>1</td></tr>\n",
       "\t<tr><th scope=row>C3N.04119</th><td>7.854834e-01</td><td>2.145166e-01</td><td>1</td><td>1</td></tr>\n",
       "\t<tr><th scope=row>C3N.04126</th><td>4.968671e-01</td><td>5.031329e-01</td><td>2</td><td>1</td></tr>\n",
       "\t<tr><th scope=row>C3N.04282</th><td>9.841563e-01</td><td>1.584372e-02</td><td>1</td><td>1</td></tr>\n",
       "\t<tr><th scope=row>C3N.04283</th><td>1.000000e+00</td><td>1.725576e-14</td><td>1</td><td>1</td></tr>\n",
       "</tbody>\n",
       "</table>\n"
      ],
      "text/latex": [
       "A data.frame: 105 × 4\n",
       "\\begin{tabular}{r|llll}\n",
       "  & V1 & V2 & cluster & newsum\\\\\n",
       "  & <dbl> & <dbl> & <chr> & <dbl>\\\\\n",
       "\\hline\n",
       "\tC3L.00017 & 2.321938e-01 & 0.76780622 & 2 & 1\\\\\n",
       "\tC3L.00102 & 4.576865e-01 & 0.54231351 & 2 & 1\\\\\n",
       "\tC3L.00277 & 6.720580e-01 & 0.32794204 & 1 & 1\\\\\n",
       "\tC3L.00589 & 1.816791e-01 & 0.81832090 & 2 & 1\\\\\n",
       "\tC3L.00598 & 9.131920e-01 & 0.08680796 & 1 & 1\\\\\n",
       "\tC3L.00599 & 5.268393e-02 & 0.94731607 & 2 & 1\\\\\n",
       "\tC3L.00622 & 2.099518e-01 & 0.79004823 & 2 & 1\\\\\n",
       "\tC3L.00625 & 3.786299e-01 & 0.62137005 & 2 & 1\\\\\n",
       "\tC3L.00819 & 7.698312e-01 & 0.23016879 & 1 & 1\\\\\n",
       "\tC3L.00928 & 6.001700e-01 & 0.39983004 & 1 & 1\\\\\n",
       "\tC3L.01031 & 5.136001e-01 & 0.48639991 & 1 & 1\\\\\n",
       "\tC3L.01037 & 6.558561e-01 & 0.34414393 & 1 & 1\\\\\n",
       "\tC3L.01051 & 1.749557e-02 & 0.98250443 & 2 & 1\\\\\n",
       "\tC3L.01124 & 2.679732e-01 & 0.73202677 & 2 & 1\\\\\n",
       "\tC3L.01328 & 8.184557e-01 & 0.18154431 & 1 & 1\\\\\n",
       "\tC3L.01453 & 4.633942e-01 & 0.53660581 & 2 & 1\\\\\n",
       "\tC3L.01598 & 5.913639e-01 & 0.40863613 & 1 & 1\\\\\n",
       "\tC3L.01637 & 3.269518e-01 & 0.67304820 & 2 & 1\\\\\n",
       "\tC3L.01662 & 3.820041e-01 & 0.61799590 & 2 & 1\\\\\n",
       "\tC3L.01687 & 1.057761e-01 & 0.89422386 & 2 & 1\\\\\n",
       "\tC3L.01689 & 8.916596e-01 & 0.10834038 & 1 & 1\\\\\n",
       "\tC3L.01703 & 6.509715e-03 & 0.99349028 & 2 & 1\\\\\n",
       "\tC3L.01971 & 5.271861e-02 & 0.94728139 & 2 & 1\\\\\n",
       "\tC3L.02109 & 3.256592e-01 & 0.67434085 & 2 & 1\\\\\n",
       "\tC3L.02115 & 1.823033e-14 & 1.00000000 & 2 & 1\\\\\n",
       "\tC3L.02116 & 1.736966e-14 & 1.00000000 & 2 & 1\\\\\n",
       "\tC3L.02118 & 3.110935e-01 & 0.68890655 & 2 & 1\\\\\n",
       "\tC3L.02463 & 3.296915e-01 & 0.67030846 & 2 & 1\\\\\n",
       "\tC3L.02604 & 8.545146e-01 & 0.14548540 & 1 & 1\\\\\n",
       "\tC3L.02606 & 8.838642e-01 & 0.11613585 & 1 & 1\\\\\n",
       "\t⋮ & ⋮ & ⋮ & ⋮ & ⋮\\\\\n",
       "\tC3N.02585 & 4.855273e-01 & 5.144727e-01 & 2 & 1\\\\\n",
       "\tC3N.02589 & 1.095730e-01 & 8.904270e-01 & 2 & 1\\\\\n",
       "\tC3N.02592 & 7.161105e-01 & 2.838895e-01 & 1 & 1\\\\\n",
       "\tC3N.02768 & 8.654386e-01 & 1.345614e-01 & 1 & 1\\\\\n",
       "\tC3N.02940 & 4.006062e-01 & 5.993938e-01 & 2 & 1\\\\\n",
       "\tC3N.02944 & 5.529945e-01 & 4.470055e-01 & 1 & 1\\\\\n",
       "\tC3N.02971 & 6.051836e-01 & 3.948164e-01 & 1 & 1\\\\\n",
       "\tC3N.03000 & 9.763093e-01 & 2.369067e-02 & 1 & 1\\\\\n",
       "\tC3N.03006 & 2.377355e-01 & 7.622645e-01 & 2 & 1\\\\\n",
       "\tC3N.03007 & 9.879098e-01 & 1.209025e-02 & 1 & 1\\\\\n",
       "\tC3N.03039 & 8.461361e-01 & 1.538639e-01 & 1 & 1\\\\\n",
       "\tC3N.03061 & 8.868922e-01 & 1.131078e-01 & 1 & 1\\\\\n",
       "\tC3N.03086 & 5.590405e-01 & 4.409595e-01 & 1 & 1\\\\\n",
       "\tC3N.03173 & 2.730837e-13 & 1.000000e+00 & 2 & 1\\\\\n",
       "\tC3N.03190 & 3.816063e-01 & 6.183937e-01 & 2 & 1\\\\\n",
       "\tC3N.03426 & 9.224061e-01 & 7.759394e-02 & 1 & 1\\\\\n",
       "\tC3N.03430 & 1.000000e+00 & 1.730576e-14 & 1 & 1\\\\\n",
       "\tC3N.03439 & 5.690764e-01 & 4.309236e-01 & 1 & 1\\\\\n",
       "\tC3N.03665 & 7.620748e-01 & 2.379252e-01 & 1 & 1\\\\\n",
       "\tC3N.03666 & 6.805690e-01 & 3.194310e-01 & 1 & 1\\\\\n",
       "\tC3N.03754 & 6.275657e-01 & 3.724343e-01 & 1 & 1\\\\\n",
       "\tC3N.03780 & 1.743930e-01 & 8.256070e-01 & 2 & 1\\\\\n",
       "\tC3N.03839 & 6.574371e-01 & 3.425629e-01 & 1 & 1\\\\\n",
       "\tC3N.03840 & 4.521809e-01 & 5.478191e-01 & 2 & 1\\\\\n",
       "\tC3N.03853 & 6.599218e-01 & 3.400782e-01 & 1 & 1\\\\\n",
       "\tC3N.03884 & 1.000000e+00 & 1.716477e-14 & 1 & 1\\\\\n",
       "\tC3N.04119 & 7.854834e-01 & 2.145166e-01 & 1 & 1\\\\\n",
       "\tC3N.04126 & 4.968671e-01 & 5.031329e-01 & 2 & 1\\\\\n",
       "\tC3N.04282 & 9.841563e-01 & 1.584372e-02 & 1 & 1\\\\\n",
       "\tC3N.04283 & 1.000000e+00 & 1.725576e-14 & 1 & 1\\\\\n",
       "\\end{tabular}\n"
      ],
      "text/markdown": [
       "\n",
       "A data.frame: 105 × 4\n",
       "\n",
       "| <!--/--> | V1 &lt;dbl&gt; | V2 &lt;dbl&gt; | cluster &lt;chr&gt; | newsum &lt;dbl&gt; |\n",
       "|---|---|---|---|---|\n",
       "| C3L.00017 | 2.321938e-01 | 0.76780622 | 2 | 1 |\n",
       "| C3L.00102 | 4.576865e-01 | 0.54231351 | 2 | 1 |\n",
       "| C3L.00277 | 6.720580e-01 | 0.32794204 | 1 | 1 |\n",
       "| C3L.00589 | 1.816791e-01 | 0.81832090 | 2 | 1 |\n",
       "| C3L.00598 | 9.131920e-01 | 0.08680796 | 1 | 1 |\n",
       "| C3L.00599 | 5.268393e-02 | 0.94731607 | 2 | 1 |\n",
       "| C3L.00622 | 2.099518e-01 | 0.79004823 | 2 | 1 |\n",
       "| C3L.00625 | 3.786299e-01 | 0.62137005 | 2 | 1 |\n",
       "| C3L.00819 | 7.698312e-01 | 0.23016879 | 1 | 1 |\n",
       "| C3L.00928 | 6.001700e-01 | 0.39983004 | 1 | 1 |\n",
       "| C3L.01031 | 5.136001e-01 | 0.48639991 | 1 | 1 |\n",
       "| C3L.01037 | 6.558561e-01 | 0.34414393 | 1 | 1 |\n",
       "| C3L.01051 | 1.749557e-02 | 0.98250443 | 2 | 1 |\n",
       "| C3L.01124 | 2.679732e-01 | 0.73202677 | 2 | 1 |\n",
       "| C3L.01328 | 8.184557e-01 | 0.18154431 | 1 | 1 |\n",
       "| C3L.01453 | 4.633942e-01 | 0.53660581 | 2 | 1 |\n",
       "| C3L.01598 | 5.913639e-01 | 0.40863613 | 1 | 1 |\n",
       "| C3L.01637 | 3.269518e-01 | 0.67304820 | 2 | 1 |\n",
       "| C3L.01662 | 3.820041e-01 | 0.61799590 | 2 | 1 |\n",
       "| C3L.01687 | 1.057761e-01 | 0.89422386 | 2 | 1 |\n",
       "| C3L.01689 | 8.916596e-01 | 0.10834038 | 1 | 1 |\n",
       "| C3L.01703 | 6.509715e-03 | 0.99349028 | 2 | 1 |\n",
       "| C3L.01971 | 5.271861e-02 | 0.94728139 | 2 | 1 |\n",
       "| C3L.02109 | 3.256592e-01 | 0.67434085 | 2 | 1 |\n",
       "| C3L.02115 | 1.823033e-14 | 1.00000000 | 2 | 1 |\n",
       "| C3L.02116 | 1.736966e-14 | 1.00000000 | 2 | 1 |\n",
       "| C3L.02118 | 3.110935e-01 | 0.68890655 | 2 | 1 |\n",
       "| C3L.02463 | 3.296915e-01 | 0.67030846 | 2 | 1 |\n",
       "| C3L.02604 | 8.545146e-01 | 0.14548540 | 1 | 1 |\n",
       "| C3L.02606 | 8.838642e-01 | 0.11613585 | 1 | 1 |\n",
       "| ⋮ | ⋮ | ⋮ | ⋮ | ⋮ |\n",
       "| C3N.02585 | 4.855273e-01 | 5.144727e-01 | 2 | 1 |\n",
       "| C3N.02589 | 1.095730e-01 | 8.904270e-01 | 2 | 1 |\n",
       "| C3N.02592 | 7.161105e-01 | 2.838895e-01 | 1 | 1 |\n",
       "| C3N.02768 | 8.654386e-01 | 1.345614e-01 | 1 | 1 |\n",
       "| C3N.02940 | 4.006062e-01 | 5.993938e-01 | 2 | 1 |\n",
       "| C3N.02944 | 5.529945e-01 | 4.470055e-01 | 1 | 1 |\n",
       "| C3N.02971 | 6.051836e-01 | 3.948164e-01 | 1 | 1 |\n",
       "| C3N.03000 | 9.763093e-01 | 2.369067e-02 | 1 | 1 |\n",
       "| C3N.03006 | 2.377355e-01 | 7.622645e-01 | 2 | 1 |\n",
       "| C3N.03007 | 9.879098e-01 | 1.209025e-02 | 1 | 1 |\n",
       "| C3N.03039 | 8.461361e-01 | 1.538639e-01 | 1 | 1 |\n",
       "| C3N.03061 | 8.868922e-01 | 1.131078e-01 | 1 | 1 |\n",
       "| C3N.03086 | 5.590405e-01 | 4.409595e-01 | 1 | 1 |\n",
       "| C3N.03173 | 2.730837e-13 | 1.000000e+00 | 2 | 1 |\n",
       "| C3N.03190 | 3.816063e-01 | 6.183937e-01 | 2 | 1 |\n",
       "| C3N.03426 | 9.224061e-01 | 7.759394e-02 | 1 | 1 |\n",
       "| C3N.03430 | 1.000000e+00 | 1.730576e-14 | 1 | 1 |\n",
       "| C3N.03439 | 5.690764e-01 | 4.309236e-01 | 1 | 1 |\n",
       "| C3N.03665 | 7.620748e-01 | 2.379252e-01 | 1 | 1 |\n",
       "| C3N.03666 | 6.805690e-01 | 3.194310e-01 | 1 | 1 |\n",
       "| C3N.03754 | 6.275657e-01 | 3.724343e-01 | 1 | 1 |\n",
       "| C3N.03780 | 1.743930e-01 | 8.256070e-01 | 2 | 1 |\n",
       "| C3N.03839 | 6.574371e-01 | 3.425629e-01 | 1 | 1 |\n",
       "| C3N.03840 | 4.521809e-01 | 5.478191e-01 | 2 | 1 |\n",
       "| C3N.03853 | 6.599218e-01 | 3.400782e-01 | 1 | 1 |\n",
       "| C3N.03884 | 1.000000e+00 | 1.716477e-14 | 1 | 1 |\n",
       "| C3N.04119 | 7.854834e-01 | 2.145166e-01 | 1 | 1 |\n",
       "| C3N.04126 | 4.968671e-01 | 5.031329e-01 | 2 | 1 |\n",
       "| C3N.04282 | 9.841563e-01 | 1.584372e-02 | 1 | 1 |\n",
       "| C3N.04283 | 1.000000e+00 | 1.725576e-14 | 1 | 1 |\n",
       "\n"
      ],
      "text/plain": [
       "          V1           V2           cluster newsum\n",
       "C3L.00017 2.321938e-01 0.76780622   2       1     \n",
       "C3L.00102 4.576865e-01 0.54231351   2       1     \n",
       "C3L.00277 6.720580e-01 0.32794204   1       1     \n",
       "C3L.00589 1.816791e-01 0.81832090   2       1     \n",
       "C3L.00598 9.131920e-01 0.08680796   1       1     \n",
       "C3L.00599 5.268393e-02 0.94731607   2       1     \n",
       "C3L.00622 2.099518e-01 0.79004823   2       1     \n",
       "C3L.00625 3.786299e-01 0.62137005   2       1     \n",
       "C3L.00819 7.698312e-01 0.23016879   1       1     \n",
       "C3L.00928 6.001700e-01 0.39983004   1       1     \n",
       "C3L.01031 5.136001e-01 0.48639991   1       1     \n",
       "C3L.01037 6.558561e-01 0.34414393   1       1     \n",
       "C3L.01051 1.749557e-02 0.98250443   2       1     \n",
       "C3L.01124 2.679732e-01 0.73202677   2       1     \n",
       "C3L.01328 8.184557e-01 0.18154431   1       1     \n",
       "C3L.01453 4.633942e-01 0.53660581   2       1     \n",
       "C3L.01598 5.913639e-01 0.40863613   1       1     \n",
       "C3L.01637 3.269518e-01 0.67304820   2       1     \n",
       "C3L.01662 3.820041e-01 0.61799590   2       1     \n",
       "C3L.01687 1.057761e-01 0.89422386   2       1     \n",
       "C3L.01689 8.916596e-01 0.10834038   1       1     \n",
       "C3L.01703 6.509715e-03 0.99349028   2       1     \n",
       "C3L.01971 5.271861e-02 0.94728139   2       1     \n",
       "C3L.02109 3.256592e-01 0.67434085   2       1     \n",
       "C3L.02115 1.823033e-14 1.00000000   2       1     \n",
       "C3L.02116 1.736966e-14 1.00000000   2       1     \n",
       "C3L.02118 3.110935e-01 0.68890655   2       1     \n",
       "C3L.02463 3.296915e-01 0.67030846   2       1     \n",
       "C3L.02604 8.545146e-01 0.14548540   1       1     \n",
       "C3L.02606 8.838642e-01 0.11613585   1       1     \n",
       "⋮         ⋮            ⋮            ⋮       ⋮     \n",
       "C3N.02585 4.855273e-01 5.144727e-01 2       1     \n",
       "C3N.02589 1.095730e-01 8.904270e-01 2       1     \n",
       "C3N.02592 7.161105e-01 2.838895e-01 1       1     \n",
       "C3N.02768 8.654386e-01 1.345614e-01 1       1     \n",
       "C3N.02940 4.006062e-01 5.993938e-01 2       1     \n",
       "C3N.02944 5.529945e-01 4.470055e-01 1       1     \n",
       "C3N.02971 6.051836e-01 3.948164e-01 1       1     \n",
       "C3N.03000 9.763093e-01 2.369067e-02 1       1     \n",
       "C3N.03006 2.377355e-01 7.622645e-01 2       1     \n",
       "C3N.03007 9.879098e-01 1.209025e-02 1       1     \n",
       "C3N.03039 8.461361e-01 1.538639e-01 1       1     \n",
       "C3N.03061 8.868922e-01 1.131078e-01 1       1     \n",
       "C3N.03086 5.590405e-01 4.409595e-01 1       1     \n",
       "C3N.03173 2.730837e-13 1.000000e+00 2       1     \n",
       "C3N.03190 3.816063e-01 6.183937e-01 2       1     \n",
       "C3N.03426 9.224061e-01 7.759394e-02 1       1     \n",
       "C3N.03430 1.000000e+00 1.730576e-14 1       1     \n",
       "C3N.03439 5.690764e-01 4.309236e-01 1       1     \n",
       "C3N.03665 7.620748e-01 2.379252e-01 1       1     \n",
       "C3N.03666 6.805690e-01 3.194310e-01 1       1     \n",
       "C3N.03754 6.275657e-01 3.724343e-01 1       1     \n",
       "C3N.03780 1.743930e-01 8.256070e-01 2       1     \n",
       "C3N.03839 6.574371e-01 3.425629e-01 1       1     \n",
       "C3N.03840 4.521809e-01 5.478191e-01 2       1     \n",
       "C3N.03853 6.599218e-01 3.400782e-01 1       1     \n",
       "C3N.03884 1.000000e+00 1.716477e-14 1       1     \n",
       "C3N.04119 7.854834e-01 2.145166e-01 1       1     \n",
       "C3N.04126 4.968671e-01 5.031329e-01 2       1     \n",
       "C3N.04282 9.841563e-01 1.584372e-02 1       1     \n",
       "C3N.04283 1.000000e+00 1.725576e-14 1       1     "
      ]
     },
     "metadata": {},
     "output_type": "display_data"
    }
   ],
   "source": [
    "membership <- nmf_clu@fit@H %>%\n",
    "    t() %>%\n",
    "    as.data.frame() %>%\n",
    "    # Set the cluster column, V1 > V2\n",
    "    mutate(cluster = ifelse(V1 >= V2, \"1\", \"2\")) %>%\n",
    "    # Divide by the sum of the two \n",
    "    mutate(sum = V1 + V2) %>%\n",
    "    mutate(V1 = V1 / sum, V2 = V2 / sum) %>%\n",
    "    mutate(cluster = ifelse(V1 >= V2, \"1\", \"2\"))\n",
    "membership"
   ]
  },
  {
   "cell_type": "code",
   "execution_count": null,
   "id": "2dac2b7e",
   "metadata": {
    "vscode": {
     "languageId": "r"
    }
   },
   "outputs": [
    {
     "name": "stderr",
     "output_type": "stream",
     "text": [
      "NMF algorithm: 'brunet'\n",
      "\n",
      "NMF seeding method: random\n",
      "\n"
     ]
    },
    {
     "name": "stdout",
     "output_type": "stream",
     "text": [
      "Iterations: 500/500 \n",
      "DONE (stopped at 500/500 iterations)\n",
      "\u001b[90m# A tibble: 2 × 2\u001b[39m\n",
      "  cluster count\n",
      "  \u001b[3m\u001b[90m<chr>\u001b[39m\u001b[23m   \u001b[3m\u001b[90m<int>\u001b[39m\u001b[23m\n",
      "\u001b[90m1\u001b[39m 1          53\n",
      "\u001b[90m2\u001b[39m 2          52\n"
     ]
    },
    {
     "ename": "ERROR",
     "evalue": "Error in rownames_to_column(., \"ID\"): could not find function \"rownames_to_column\"\n",
     "output_type": "error",
     "traceback": [
      "Error in rownames_to_column(., \"ID\"): could not find function \"rownames_to_column\"\nTraceback:\n",
      "1. select(., ID, cluster, V1, V2)",
      "2. mutate(., ID = gsub(\"\\\\.\", \"-\", ID))",
      "3. .handleSimpleError(function (cnd) \n . {\n .     watcher$capture_plot_and_output()\n .     cnd <- sanitize_call(cnd)\n .     watcher$push(cnd)\n .     switch(on_error, continue = invokeRestart(\"eval_continue\"), \n .         stop = invokeRestart(\"eval_stop\"), error = NULL)\n . }, \"could not find function \\\"rownames_to_column\\\"\", base::quote(rownames_to_column(., \n .     \"ID\")))"
     ]
    }
   ],
   "source": [
    "nmf_clu <- nmf(as.matrix(combined_matrix), 2, .options=list(verbose = TRUE), maxIter=500)\n",
    "membership <- nmf_clu@fit@H %>%\n",
    "    t() %>%\n",
    "    as.data.frame() %>%\n",
    "    # Set the cluster column, V1 > V2\n",
    "    mutate(cluster = ifelse(V1 >= V2, \"1\", \"2\")) %>%\n",
    "    # Divide by the sum of the two \n",
    "    mutate(sum = V1 + V2) %>%\n",
    "    mutate(V1 = V1 / sum, V2 = V2 / sum) %>%\n",
    "    select(-sum) %>%\n",
    "    mutate(cluster = ifelse(V1 >= V2, \"1\", \"2\"))\n",
    "\n",
    "# Count the number of samples in each cluster\n",
    "membership_summary <- membership %>%\n",
    "    group_by(cluster) %>%\n",
    "    summarise(count = n())\n",
    "print(membership_summary)\n",
    "\n",
    "\n",
    "write.table(membership, \"membership.tsv\", sep = \"\\t\", quote = FALSE)"
   ]
  },
  {
   "cell_type": "code",
   "execution_count": 21,
   "id": "7013ae38",
   "metadata": {
    "vscode": {
     "languageId": "r"
    }
   },
   "outputs": [
    {
     "ename": "ERROR",
     "evalue": "Error in column_to_rownames(., \"ID\"): could not find function \"column_to_rownames\"\n",
     "output_type": "error",
     "traceback": [
      "Error in column_to_rownames(., \"ID\"): could not find function \"column_to_rownames\"\nTraceback:\n",
      "1. .handleSimpleError(function (cnd) \n . {\n .     watcher$capture_plot_and_output()\n .     cnd <- sanitize_call(cnd)\n .     watcher$push(cnd)\n .     switch(on_error, continue = invokeRestart(\"eval_continue\"), \n .         stop = invokeRestart(\"eval_stop\"), error = NULL)\n . }, \"could not find function \\\"column_to_rownames\\\"\", base::quote(column_to_rownames(., \n .     \"ID\")))"
     ]
    }
   ],
   "source": [
    "# Replace \"-\" with \".\" in row names\n",
    "membership <- membership %>%\n",
    "    mutate(ID = gsub(\"\\\\.\", \"-\", ID)) %>%\n",
    "    column_to_rownames(\"ID\")\n",
    "membership\n",
    "\n"
   ]
  }
 ],
 "metadata": {
  "kernelspec": {
   "display_name": "R",
   "language": "R",
   "name": "ir"
  },
  "language_info": {
   "codemirror_mode": "r",
   "file_extension": ".r",
   "mimetype": "text/x-r-source",
   "name": "R",
   "pygments_lexer": "r",
   "version": "4.4.2"
  }
 },
 "nbformat": 4,
 "nbformat_minor": 5
}
