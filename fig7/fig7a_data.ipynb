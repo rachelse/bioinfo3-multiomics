{
 "cells": [
  {
   "cell_type": "markdown",
   "id": "2bf9a53d",
   "metadata": {},
   "source": [
    "## Multi-omics Clustering"
   ]
  },
  {
   "cell_type": "code",
   "execution_count": 34,
   "id": "2a83dec1",
   "metadata": {
    "vscode": {
     "languageId": "r"
    }
   },
   "outputs": [],
   "source": [
    "suppressPackageStartupMessages(library(tidyr))\n",
    "suppressPackageStartupMessages(library(dplyr))\n",
    "suppressPackageStartupMessages(library(NMF))"
   ]
  },
  {
   "cell_type": "markdown",
   "id": "84226dba",
   "metadata": {},
   "source": [
    "### Data Preparation"
   ]
  },
  {
   "cell_type": "code",
   "execution_count": 35,
   "id": "871118a4",
   "metadata": {
    "vscode": {
     "languageId": "r"
    }
   },
   "outputs": [
    {
     "data": {
      "text/html": [
       "<table class=\"dataframe\">\n",
       "<caption>A data.frame: 3 × 2</caption>\n",
       "<thead>\n",
       "\t<tr><th></th><th scope=col>ID</th><th scope=col>ID2</th></tr>\n",
       "\t<tr><th></th><th scope=col>&lt;chr&gt;</th><th scope=col>&lt;chr&gt;</th></tr>\n",
       "</thead>\n",
       "<tbody>\n",
       "\t<tr><th scope=row>1</th><td>C3L-02613</td><td>C3L.02613</td></tr>\n",
       "\t<tr><th scope=row>2</th><td>C3L-04072</td><td>C3L.04072</td></tr>\n",
       "\t<tr><th scope=row>3</th><td>C3N-04282</td><td>C3N.04282</td></tr>\n",
       "</tbody>\n",
       "</table>\n"
      ],
      "text/latex": [
       "A data.frame: 3 × 2\n",
       "\\begin{tabular}{r|ll}\n",
       "  & ID & ID2\\\\\n",
       "  & <chr> & <chr>\\\\\n",
       "\\hline\n",
       "\t1 & C3L-02613 & C3L.02613\\\\\n",
       "\t2 & C3L-04072 & C3L.04072\\\\\n",
       "\t3 & C3N-04282 & C3N.04282\\\\\n",
       "\\end{tabular}\n"
      ],
      "text/markdown": [
       "\n",
       "A data.frame: 3 × 2\n",
       "\n",
       "| <!--/--> | ID &lt;chr&gt; | ID2 &lt;chr&gt; |\n",
       "|---|---|---|\n",
       "| 1 | C3L-02613 | C3L.02613 |\n",
       "| 2 | C3L-04072 | C3L.04072 |\n",
       "| 3 | C3N-04282 | C3N.04282 |\n",
       "\n"
      ],
      "text/plain": [
       "  ID        ID2      \n",
       "1 C3L-02613 C3L.02613\n",
       "2 C3L-04072 C3L.04072\n",
       "3 C3N-04282 C3N.04282"
      ]
     },
     "metadata": {},
     "output_type": "display_data"
    }
   ],
   "source": [
    "PATH_DATA <- \"../data_linkedomics/\"\n",
    "\n",
    "valid_samples <- read.csv(\"sample105.list\", header = FALSE, col.names = \"ID\")\n",
    "valid_samples$ID2 <- gsub(\"-\", \".\", valid_samples$ID) \n",
    "head(valid_samples,3)"
   ]
  },
  {
   "cell_type": "code",
   "execution_count": 103,
   "id": "488795a6",
   "metadata": {
    "vscode": {
     "languageId": "r"
    }
   },
   "outputs": [
    {
     "data": {
      "text/html": [
       "<table class=\"dataframe\">\n",
       "<caption>A data.frame: 3 × 105</caption>\n",
       "<thead>\n",
       "\t<tr><th></th><th scope=col>C3L.02613</th><th scope=col>C3L.04072</th><th scope=col>C3N.04282</th><th scope=col>C3L.03639</th><th scope=col>C3L.01328</th><th scope=col>C3L.00277</th><th scope=col>C3L.02604</th><th scope=col>C3L.01971</th><th scope=col>C3N.01167</th><th scope=col>C3L.01031</th><th scope=col>⋯</th><th scope=col>C3N.00436</th><th scope=col>C3N.02944</th><th scope=col>C3L.03356</th><th scope=col>C3N.02589</th><th scope=col>C3L.03388</th><th scope=col>C3N.01388</th><th scope=col>C3N.00198</th><th scope=col>C3N.01380</th><th scope=col>C3N.01715</th><th scope=col>C3N.03426</th></tr>\n",
       "\t<tr><th></th><th scope=col>&lt;dbl&gt;</th><th scope=col>&lt;dbl&gt;</th><th scope=col>&lt;dbl&gt;</th><th scope=col>&lt;dbl&gt;</th><th scope=col>&lt;dbl&gt;</th><th scope=col>&lt;dbl&gt;</th><th scope=col>&lt;dbl&gt;</th><th scope=col>&lt;dbl&gt;</th><th scope=col>&lt;dbl&gt;</th><th scope=col>&lt;dbl&gt;</th><th scope=col>⋯</th><th scope=col>&lt;dbl&gt;</th><th scope=col>&lt;dbl&gt;</th><th scope=col>&lt;dbl&gt;</th><th scope=col>&lt;dbl&gt;</th><th scope=col>&lt;dbl&gt;</th><th scope=col>&lt;dbl&gt;</th><th scope=col>&lt;dbl&gt;</th><th scope=col>&lt;dbl&gt;</th><th scope=col>&lt;dbl&gt;</th><th scope=col>&lt;dbl&gt;</th></tr>\n",
       "</thead>\n",
       "<tbody>\n",
       "\t<tr><th scope=row>DAZ4</th><td>-0.12735</td><td>-0.59551</td><td>-0.92239</td><td>-0.72322</td><td>-0.02908</td><td>0.07958</td><td>0.82266</td><td>0.23247</td><td>-0.45531</td><td>0.28581</td><td>⋯</td><td>-0.36377</td><td>0.30116</td><td>-0.06191</td><td>-0.05711</td><td>-0.38335</td><td>-0.12518</td><td>-0.10954</td><td>0.11612</td><td>0.40891</td><td>-0.47479</td></tr>\n",
       "\t<tr><th scope=row>BPY2C</th><td>-0.12735</td><td>-0.59551</td><td>-0.92239</td><td>-0.72322</td><td>-0.02908</td><td>0.07958</td><td>0.82266</td><td>0.23247</td><td>-0.45531</td><td>0.28581</td><td>⋯</td><td>-0.36377</td><td>0.30116</td><td>-0.06191</td><td>-0.05711</td><td>-0.38335</td><td>-0.12518</td><td>-0.10954</td><td>0.11612</td><td>0.40891</td><td>-0.47479</td></tr>\n",
       "\t<tr><th scope=row>CDY1</th><td>-0.12735</td><td>-0.59551</td><td>-0.92239</td><td>-0.72322</td><td>-0.02908</td><td>0.07958</td><td>0.82266</td><td>0.23247</td><td>-0.45531</td><td>0.28581</td><td>⋯</td><td>-0.36377</td><td>0.30116</td><td>-0.06191</td><td>-0.05711</td><td>-0.38335</td><td>-0.12518</td><td>-0.10954</td><td>0.11612</td><td>0.40891</td><td>-0.47479</td></tr>\n",
       "</tbody>\n",
       "</table>\n"
      ],
      "text/latex": [
       "A data.frame: 3 × 105\n",
       "\\begin{tabular}{r|lllllllllllllllllllll}\n",
       "  & C3L.02613 & C3L.04072 & C3N.04282 & C3L.03639 & C3L.01328 & C3L.00277 & C3L.02604 & C3L.01971 & C3N.01167 & C3L.01031 & ⋯ & C3N.00436 & C3N.02944 & C3L.03356 & C3N.02589 & C3L.03388 & C3N.01388 & C3N.00198 & C3N.01380 & C3N.01715 & C3N.03426\\\\\n",
       "  & <dbl> & <dbl> & <dbl> & <dbl> & <dbl> & <dbl> & <dbl> & <dbl> & <dbl> & <dbl> & ⋯ & <dbl> & <dbl> & <dbl> & <dbl> & <dbl> & <dbl> & <dbl> & <dbl> & <dbl> & <dbl>\\\\\n",
       "\\hline\n",
       "\tDAZ4 & -0.12735 & -0.59551 & -0.92239 & -0.72322 & -0.02908 & 0.07958 & 0.82266 & 0.23247 & -0.45531 & 0.28581 & ⋯ & -0.36377 & 0.30116 & -0.06191 & -0.05711 & -0.38335 & -0.12518 & -0.10954 & 0.11612 & 0.40891 & -0.47479\\\\\n",
       "\tBPY2C & -0.12735 & -0.59551 & -0.92239 & -0.72322 & -0.02908 & 0.07958 & 0.82266 & 0.23247 & -0.45531 & 0.28581 & ⋯ & -0.36377 & 0.30116 & -0.06191 & -0.05711 & -0.38335 & -0.12518 & -0.10954 & 0.11612 & 0.40891 & -0.47479\\\\\n",
       "\tCDY1 & -0.12735 & -0.59551 & -0.92239 & -0.72322 & -0.02908 & 0.07958 & 0.82266 & 0.23247 & -0.45531 & 0.28581 & ⋯ & -0.36377 & 0.30116 & -0.06191 & -0.05711 & -0.38335 & -0.12518 & -0.10954 & 0.11612 & 0.40891 & -0.47479\\\\\n",
       "\\end{tabular}\n"
      ],
      "text/markdown": [
       "\n",
       "A data.frame: 3 × 105\n",
       "\n",
       "| <!--/--> | C3L.02613 &lt;dbl&gt; | C3L.04072 &lt;dbl&gt; | C3N.04282 &lt;dbl&gt; | C3L.03639 &lt;dbl&gt; | C3L.01328 &lt;dbl&gt; | C3L.00277 &lt;dbl&gt; | C3L.02604 &lt;dbl&gt; | C3L.01971 &lt;dbl&gt; | C3N.01167 &lt;dbl&gt; | C3L.01031 &lt;dbl&gt; | ⋯ ⋯ | C3N.00436 &lt;dbl&gt; | C3N.02944 &lt;dbl&gt; | C3L.03356 &lt;dbl&gt; | C3N.02589 &lt;dbl&gt; | C3L.03388 &lt;dbl&gt; | C3N.01388 &lt;dbl&gt; | C3N.00198 &lt;dbl&gt; | C3N.01380 &lt;dbl&gt; | C3N.01715 &lt;dbl&gt; | C3N.03426 &lt;dbl&gt; |\n",
       "|---|---|---|---|---|---|---|---|---|---|---|---|---|---|---|---|---|---|---|---|---|---|\n",
       "| DAZ4 | -0.12735 | -0.59551 | -0.92239 | -0.72322 | -0.02908 | 0.07958 | 0.82266 | 0.23247 | -0.45531 | 0.28581 | ⋯ | -0.36377 | 0.30116 | -0.06191 | -0.05711 | -0.38335 | -0.12518 | -0.10954 | 0.11612 | 0.40891 | -0.47479 |\n",
       "| BPY2C | -0.12735 | -0.59551 | -0.92239 | -0.72322 | -0.02908 | 0.07958 | 0.82266 | 0.23247 | -0.45531 | 0.28581 | ⋯ | -0.36377 | 0.30116 | -0.06191 | -0.05711 | -0.38335 | -0.12518 | -0.10954 | 0.11612 | 0.40891 | -0.47479 |\n",
       "| CDY1 | -0.12735 | -0.59551 | -0.92239 | -0.72322 | -0.02908 | 0.07958 | 0.82266 | 0.23247 | -0.45531 | 0.28581 | ⋯ | -0.36377 | 0.30116 | -0.06191 | -0.05711 | -0.38335 | -0.12518 | -0.10954 | 0.11612 | 0.40891 | -0.47479 |\n",
       "\n"
      ],
      "text/plain": [
       "      C3L.02613 C3L.04072 C3N.04282 C3L.03639 C3L.01328 C3L.00277 C3L.02604\n",
       "DAZ4  -0.12735  -0.59551  -0.92239  -0.72322  -0.02908  0.07958   0.82266  \n",
       "BPY2C -0.12735  -0.59551  -0.92239  -0.72322  -0.02908  0.07958   0.82266  \n",
       "CDY1  -0.12735  -0.59551  -0.92239  -0.72322  -0.02908  0.07958   0.82266  \n",
       "      C3L.01971 C3N.01167 C3L.01031 ⋯ C3N.00436 C3N.02944 C3L.03356 C3N.02589\n",
       "DAZ4  0.23247   -0.45531  0.28581   ⋯ -0.36377  0.30116   -0.06191  -0.05711 \n",
       "BPY2C 0.23247   -0.45531  0.28581   ⋯ -0.36377  0.30116   -0.06191  -0.05711 \n",
       "CDY1  0.23247   -0.45531  0.28581   ⋯ -0.36377  0.30116   -0.06191  -0.05711 \n",
       "      C3L.03388 C3N.01388 C3N.00198 C3N.01380 C3N.01715 C3N.03426\n",
       "DAZ4  -0.38335  -0.12518  -0.10954  0.11612   0.40891   -0.47479 \n",
       "BPY2C -0.38335  -0.12518  -0.10954  0.11612   0.40891   -0.47479 \n",
       "CDY1  -0.38335  -0.12518  -0.10954  0.11612   0.40891   -0.47479 "
      ]
     },
     "metadata": {},
     "output_type": "display_data"
    },
    {
     "data": {
      "text/html": [
       "<style>\n",
       ".list-inline {list-style: none; margin:0; padding: 0}\n",
       ".list-inline>li {display: inline-block}\n",
       ".list-inline>li:not(:last-child)::after {content: \"\\00b7\"; padding: 0 .5ex}\n",
       "</style>\n",
       "<ol class=list-inline><li>9361</li><li>105</li></ol>\n"
      ],
      "text/latex": [
       "\\begin{enumerate*}\n",
       "\\item 9361\n",
       "\\item 105\n",
       "\\end{enumerate*}\n"
      ],
      "text/markdown": [
       "1. 9361\n",
       "2. 105\n",
       "\n",
       "\n"
      ],
      "text/plain": [
       "[1] 9361  105"
      ]
     },
     "metadata": {},
     "output_type": "display_data"
    }
   ],
   "source": [
    "cnv <- read.table(paste0(PATH_DATA, \"SCNA_log2_gene_level.cct\"), header = TRUE, row.names = 1, sep = \"\\t\", \n",
    "    # na.strings = \"NA\" \n",
    "    )\n",
    "cnv <- cnv %>%\n",
    "    # Select only the valid sample columns in order\n",
    "    select(all_of(valid_samples$ID2)) %>%\n",
    "    # Remove rows where any value is \"NA\"\n",
    "    filter(rowSums(is.na(.)) == 0) %>%\n",
    "    # Keep only rows with any value greater than 0.4 or less than -0.4\n",
    "    filter(rowSums(. > 0.4 | . < -0.4) > 0) %>%\n",
    "    # Subtract median from each row\n",
    "    mutate(row_median = apply(., 1, median, na.rm = TRUE)) %>%\n",
    "    mutate(across(-row_median, ~ . - row_median)) %>%\n",
    "    select(-row_median)\n",
    "tail(cnv, 3)\n",
    "dim(cnv)"
   ]
  },
  {
   "cell_type": "code",
   "execution_count": 104,
   "id": "16742513",
   "metadata": {
    "vscode": {
     "languageId": "r"
    }
   },
   "outputs": [
    {
     "data": {
      "text/html": [
       "<table class=\"dataframe\">\n",
       "<caption>A data.frame: 3 × 105</caption>\n",
       "<thead>\n",
       "\t<tr><th></th><th scope=col>C3L.02613</th><th scope=col>C3L.04072</th><th scope=col>C3N.04282</th><th scope=col>C3L.03639</th><th scope=col>C3L.01328</th><th scope=col>C3L.00277</th><th scope=col>C3L.02604</th><th scope=col>C3L.01971</th><th scope=col>C3N.01167</th><th scope=col>C3L.01031</th><th scope=col>⋯</th><th scope=col>C3N.00436</th><th scope=col>C3N.02944</th><th scope=col>C3L.03356</th><th scope=col>C3N.02589</th><th scope=col>C3L.03388</th><th scope=col>C3N.01388</th><th scope=col>C3N.00198</th><th scope=col>C3N.01380</th><th scope=col>C3N.01715</th><th scope=col>C3N.03426</th></tr>\n",
       "\t<tr><th></th><th scope=col>&lt;dbl&gt;</th><th scope=col>&lt;dbl&gt;</th><th scope=col>&lt;dbl&gt;</th><th scope=col>&lt;dbl&gt;</th><th scope=col>&lt;dbl&gt;</th><th scope=col>&lt;dbl&gt;</th><th scope=col>&lt;dbl&gt;</th><th scope=col>&lt;dbl&gt;</th><th scope=col>&lt;dbl&gt;</th><th scope=col>&lt;dbl&gt;</th><th scope=col>⋯</th><th scope=col>&lt;dbl&gt;</th><th scope=col>&lt;dbl&gt;</th><th scope=col>&lt;dbl&gt;</th><th scope=col>&lt;dbl&gt;</th><th scope=col>&lt;dbl&gt;</th><th scope=col>&lt;dbl&gt;</th><th scope=col>&lt;dbl&gt;</th><th scope=col>&lt;dbl&gt;</th><th scope=col>&lt;dbl&gt;</th><th scope=col>&lt;dbl&gt;</th></tr>\n",
       "</thead>\n",
       "<tbody>\n",
       "\t<tr><th scope=row>A1BG</th><td>-0.02990673</td><td>-0.05704551</td><td> 0.01628874</td><td> 0.01603432</td><td>-0.007786107</td><td>0.08029986</td><td>-0.002396511</td><td>-0.02007117</td><td>0.002849704</td><td>-0.012854305</td><td>⋯</td><td>-0.047168575</td><td>0.002205547</td><td>0.008227415</td><td>0.023093964</td><td>-0.01740784</td><td> 0.007965865</td><td>0.006648201</td><td> 0.03795399</td><td> 0.0008283693</td><td>0.01275042</td></tr>\n",
       "\t<tr><th scope=row>A1CF</th><td>-0.10768810</td><td>-0.06315414</td><td>-0.02110286</td><td>-0.03337825</td><td>-0.027146384</td><td>0.01286132</td><td>-0.043795955</td><td> 0.04575079</td><td>0.065486572</td><td>-0.003501735</td><td>⋯</td><td>-0.007676754</td><td>0.034893213</td><td>0.001121374</td><td>0.014860119</td><td>-0.01008405</td><td>-0.049558683</td><td>0.050916236</td><td>-0.03390004</td><td>-0.0403040175</td><td>0.02859428</td></tr>\n",
       "\t<tr><th scope=row>A2M</th><td>-0.04459164</td><td>-0.07561623</td><td>-0.01808992</td><td>-0.03178421</td><td>-0.005866177</td><td>0.02693054</td><td> 0.006563652</td><td> 0.03762665</td><td>0.006559212</td><td>-0.015757502</td><td>⋯</td><td>-0.016670852</td><td>0.000000000</td><td>0.052783243</td><td>0.004635516</td><td>-0.02938669</td><td> 0.028271871</td><td>0.038905775</td><td> 0.03043543</td><td>-0.0143345714</td><td>0.03923146</td></tr>\n",
       "</tbody>\n",
       "</table>\n"
      ],
      "text/latex": [
       "A data.frame: 3 × 105\n",
       "\\begin{tabular}{r|lllllllllllllllllllll}\n",
       "  & C3L.02613 & C3L.04072 & C3N.04282 & C3L.03639 & C3L.01328 & C3L.00277 & C3L.02604 & C3L.01971 & C3N.01167 & C3L.01031 & ⋯ & C3N.00436 & C3N.02944 & C3L.03356 & C3N.02589 & C3L.03388 & C3N.01388 & C3N.00198 & C3N.01380 & C3N.01715 & C3N.03426\\\\\n",
       "  & <dbl> & <dbl> & <dbl> & <dbl> & <dbl> & <dbl> & <dbl> & <dbl> & <dbl> & <dbl> & ⋯ & <dbl> & <dbl> & <dbl> & <dbl> & <dbl> & <dbl> & <dbl> & <dbl> & <dbl> & <dbl>\\\\\n",
       "\\hline\n",
       "\tA1BG & -0.02990673 & -0.05704551 &  0.01628874 &  0.01603432 & -0.007786107 & 0.08029986 & -0.002396511 & -0.02007117 & 0.002849704 & -0.012854305 & ⋯ & -0.047168575 & 0.002205547 & 0.008227415 & 0.023093964 & -0.01740784 &  0.007965865 & 0.006648201 &  0.03795399 &  0.0008283693 & 0.01275042\\\\\n",
       "\tA1CF & -0.10768810 & -0.06315414 & -0.02110286 & -0.03337825 & -0.027146384 & 0.01286132 & -0.043795955 &  0.04575079 & 0.065486572 & -0.003501735 & ⋯ & -0.007676754 & 0.034893213 & 0.001121374 & 0.014860119 & -0.01008405 & -0.049558683 & 0.050916236 & -0.03390004 & -0.0403040175 & 0.02859428\\\\\n",
       "\tA2M & -0.04459164 & -0.07561623 & -0.01808992 & -0.03178421 & -0.005866177 & 0.02693054 &  0.006563652 &  0.03762665 & 0.006559212 & -0.015757502 & ⋯ & -0.016670852 & 0.000000000 & 0.052783243 & 0.004635516 & -0.02938669 &  0.028271871 & 0.038905775 &  0.03043543 & -0.0143345714 & 0.03923146\\\\\n",
       "\\end{tabular}\n"
      ],
      "text/markdown": [
       "\n",
       "A data.frame: 3 × 105\n",
       "\n",
       "| <!--/--> | C3L.02613 &lt;dbl&gt; | C3L.04072 &lt;dbl&gt; | C3N.04282 &lt;dbl&gt; | C3L.03639 &lt;dbl&gt; | C3L.01328 &lt;dbl&gt; | C3L.00277 &lt;dbl&gt; | C3L.02604 &lt;dbl&gt; | C3L.01971 &lt;dbl&gt; | C3N.01167 &lt;dbl&gt; | C3L.01031 &lt;dbl&gt; | ⋯ ⋯ | C3N.00436 &lt;dbl&gt; | C3N.02944 &lt;dbl&gt; | C3L.03356 &lt;dbl&gt; | C3N.02589 &lt;dbl&gt; | C3L.03388 &lt;dbl&gt; | C3N.01388 &lt;dbl&gt; | C3N.00198 &lt;dbl&gt; | C3N.01380 &lt;dbl&gt; | C3N.01715 &lt;dbl&gt; | C3N.03426 &lt;dbl&gt; |\n",
       "|---|---|---|---|---|---|---|---|---|---|---|---|---|---|---|---|---|---|---|---|---|---|\n",
       "| A1BG | -0.02990673 | -0.05704551 |  0.01628874 |  0.01603432 | -0.007786107 | 0.08029986 | -0.002396511 | -0.02007117 | 0.002849704 | -0.012854305 | ⋯ | -0.047168575 | 0.002205547 | 0.008227415 | 0.023093964 | -0.01740784 |  0.007965865 | 0.006648201 |  0.03795399 |  0.0008283693 | 0.01275042 |\n",
       "| A1CF | -0.10768810 | -0.06315414 | -0.02110286 | -0.03337825 | -0.027146384 | 0.01286132 | -0.043795955 |  0.04575079 | 0.065486572 | -0.003501735 | ⋯ | -0.007676754 | 0.034893213 | 0.001121374 | 0.014860119 | -0.01008405 | -0.049558683 | 0.050916236 | -0.03390004 | -0.0403040175 | 0.02859428 |\n",
       "| A2M | -0.04459164 | -0.07561623 | -0.01808992 | -0.03178421 | -0.005866177 | 0.02693054 |  0.006563652 |  0.03762665 | 0.006559212 | -0.015757502 | ⋯ | -0.016670852 | 0.000000000 | 0.052783243 | 0.004635516 | -0.02938669 |  0.028271871 | 0.038905775 |  0.03043543 | -0.0143345714 | 0.03923146 |\n",
       "\n"
      ],
      "text/plain": [
       "     C3L.02613   C3L.04072   C3N.04282   C3L.03639   C3L.01328    C3L.00277 \n",
       "A1BG -0.02990673 -0.05704551  0.01628874  0.01603432 -0.007786107 0.08029986\n",
       "A1CF -0.10768810 -0.06315414 -0.02110286 -0.03337825 -0.027146384 0.01286132\n",
       "A2M  -0.04459164 -0.07561623 -0.01808992 -0.03178421 -0.005866177 0.02693054\n",
       "     C3L.02604    C3L.01971   C3N.01167   C3L.01031    ⋯ C3N.00436   \n",
       "A1BG -0.002396511 -0.02007117 0.002849704 -0.012854305 ⋯ -0.047168575\n",
       "A1CF -0.043795955  0.04575079 0.065486572 -0.003501735 ⋯ -0.007676754\n",
       "A2M   0.006563652  0.03762665 0.006559212 -0.015757502 ⋯ -0.016670852\n",
       "     C3N.02944   C3L.03356   C3N.02589   C3L.03388   C3N.01388    C3N.00198  \n",
       "A1BG 0.002205547 0.008227415 0.023093964 -0.01740784  0.007965865 0.006648201\n",
       "A1CF 0.034893213 0.001121374 0.014860119 -0.01008405 -0.049558683 0.050916236\n",
       "A2M  0.000000000 0.052783243 0.004635516 -0.02938669  0.028271871 0.038905775\n",
       "     C3N.01380   C3N.01715     C3N.03426 \n",
       "A1BG  0.03795399  0.0008283693 0.01275042\n",
       "A1CF -0.03390004 -0.0403040175 0.02859428\n",
       "A2M   0.03043543 -0.0143345714 0.03923146"
      ]
     },
     "metadata": {},
     "output_type": "display_data"
    },
    {
     "data": {
      "text/html": [
       "<style>\n",
       ".list-inline {list-style: none; margin:0; padding: 0}\n",
       ".list-inline>li {display: inline-block}\n",
       ".list-inline>li:not(:last-child)::after {content: \"\\00b7\"; padding: 0 .5ex}\n",
       "</style>\n",
       "<ol class=list-inline><li>5773</li><li>105</li></ol>\n"
      ],
      "text/latex": [
       "\\begin{enumerate*}\n",
       "\\item 5773\n",
       "\\item 105\n",
       "\\end{enumerate*}\n"
      ],
      "text/markdown": [
       "1. 5773\n",
       "2. 105\n",
       "\n",
       "\n"
      ],
      "text/plain": [
       "[1] 5773  105"
      ]
     },
     "metadata": {},
     "output_type": "display_data"
    }
   ],
   "source": [
    "prot <- read.table(paste0(PATH_DATA, \"proteomics_gene_level_MD_abundance_tumor.cct\"), header = TRUE, row.names = 1, sep = \"\\t\", na.strings = \"NA\")\n",
    "prot <- prot %>%\n",
    "    # Order columns as in valid_samples\n",
    "    select(valid_samples$ID2) %>%\n",
    "    # sort the columns by the order in valid_samples\n",
    "    select(order(match(names(.), valid_samples$ID2))) %>%\n",
    "    # Remove rows with all NAs\n",
    "    filter(rowSums(is.na(.)) == 0) %>%\n",
    "    # median normalization\n",
    "    mutate(row_median = apply(., 1, median, na.rm = TRUE)) %>%\n",
    "    mutate(across(-row_median, ~ . / row_median)) %>%\n",
    "    select(-row_median) %>%\n",
    "    # Do log2 transformation\n",
    "    mutate(across(everything(), ~ log2(.)))\n",
    "\n",
    "head(prot, 3)\n",
    "dim(prot)"
   ]
  },
  {
   "cell_type": "code",
   "execution_count": 105,
   "id": "e0cd04b9",
   "metadata": {
    "vscode": {
     "languageId": "r"
    }
   },
   "outputs": [
    {
     "data": {
      "text/html": [
       "<style>\n",
       ".list-inline {list-style: none; margin:0; padding: 0}\n",
       ".list-inline>li {display: inline-block}\n",
       ".list-inline>li:not(:last-child)::after {content: \"\\00b7\"; padding: 0 .5ex}\n",
       "</style>\n",
       "<ol class=list-inline><li>18197</li><li>105</li></ol>\n"
      ],
      "text/latex": [
       "\\begin{enumerate*}\n",
       "\\item 18197\n",
       "\\item 105\n",
       "\\end{enumerate*}\n"
      ],
      "text/markdown": [
       "1. 18197\n",
       "2. 105\n",
       "\n",
       "\n"
      ],
      "text/plain": [
       "[1] 18197   105"
      ]
     },
     "metadata": {},
     "output_type": "display_data"
    },
    {
     "data": {
      "text/html": [
       "<table class=\"dataframe\">\n",
       "<caption>A data.frame: 3 × 105</caption>\n",
       "<thead>\n",
       "\t<tr><th></th><th scope=col>C3L.02613</th><th scope=col>C3L.04072</th><th scope=col>C3N.04282</th><th scope=col>C3L.03639</th><th scope=col>C3L.01328</th><th scope=col>C3L.00277</th><th scope=col>C3L.02604</th><th scope=col>C3L.01971</th><th scope=col>C3N.01167</th><th scope=col>C3L.01031</th><th scope=col>⋯</th><th scope=col>C3N.00436</th><th scope=col>C3N.02944</th><th scope=col>C3L.03356</th><th scope=col>C3N.02589</th><th scope=col>C3L.03388</th><th scope=col>C3N.01388</th><th scope=col>C3N.00198</th><th scope=col>C3N.01380</th><th scope=col>C3N.01715</th><th scope=col>C3N.03426</th></tr>\n",
       "\t<tr><th></th><th scope=col>&lt;dbl&gt;</th><th scope=col>&lt;dbl&gt;</th><th scope=col>&lt;dbl&gt;</th><th scope=col>&lt;dbl&gt;</th><th scope=col>&lt;dbl&gt;</th><th scope=col>&lt;dbl&gt;</th><th scope=col>&lt;dbl&gt;</th><th scope=col>&lt;dbl&gt;</th><th scope=col>&lt;dbl&gt;</th><th scope=col>&lt;dbl&gt;</th><th scope=col>⋯</th><th scope=col>&lt;dbl&gt;</th><th scope=col>&lt;dbl&gt;</th><th scope=col>&lt;dbl&gt;</th><th scope=col>&lt;dbl&gt;</th><th scope=col>&lt;dbl&gt;</th><th scope=col>&lt;dbl&gt;</th><th scope=col>&lt;dbl&gt;</th><th scope=col>&lt;dbl&gt;</th><th scope=col>&lt;dbl&gt;</th><th scope=col>&lt;dbl&gt;</th></tr>\n",
       "</thead>\n",
       "<tbody>\n",
       "\t<tr><th scope=row>A1BG</th><td>-0.6208639</td><td>-1.5641153</td><td>-0.03598678</td><td>-1.499229</td><td>-1.030409</td><td>-0.3632095</td><td>-0.7079235</td><td>0.4973275</td><td> 0.1398404</td><td> 0.4582964</td><td>⋯</td><td>0.5012384</td><td>0.1962640</td><td>0.45922795</td><td> 0.05454697</td><td>-0.3385884</td><td>-0.06842248</td><td>0.5971399</td><td> 0.72255331</td><td> 0.04504042</td><td>-1.018051</td></tr>\n",
       "\t<tr><th scope=row>A1BG-AS1</th><td>-0.8663854</td><td>-0.8302223</td><td> 0.11105590</td><td>-1.422656</td><td>-1.161717</td><td>-1.8484433</td><td>-0.5696947</td><td>0.3464761</td><td>-0.2569541</td><td> 0.4220428</td><td>⋯</td><td>0.3638638</td><td>0.3672824</td><td>0.31895969</td><td>-0.71812584</td><td>-0.2179410</td><td>-0.09720916</td><td>0.3269861</td><td> 0.70061799</td><td> 0.30224950</td><td>-1.071129</td></tr>\n",
       "\t<tr><th scope=row>A1CF</th><td>-2.8039993</td><td>-3.0594026</td><td>-2.42468317</td><td>-1.982175</td><td>-1.343388</td><td>-2.0692887</td><td>-1.9460596</td><td>1.0109679</td><td> 2.3566886</td><td>-0.2918026</td><td>⋯</td><td>0.2894103</td><td>0.9205599</td><td>0.06451494</td><td> 0.61939774</td><td>-1.5979746</td><td>-2.31924199</td><td>1.5137978</td><td>-0.01529477</td><td>-2.96096702</td><td> 1.411194</td></tr>\n",
       "</tbody>\n",
       "</table>\n"
      ],
      "text/latex": [
       "A data.frame: 3 × 105\n",
       "\\begin{tabular}{r|lllllllllllllllllllll}\n",
       "  & C3L.02613 & C3L.04072 & C3N.04282 & C3L.03639 & C3L.01328 & C3L.00277 & C3L.02604 & C3L.01971 & C3N.01167 & C3L.01031 & ⋯ & C3N.00436 & C3N.02944 & C3L.03356 & C3N.02589 & C3L.03388 & C3N.01388 & C3N.00198 & C3N.01380 & C3N.01715 & C3N.03426\\\\\n",
       "  & <dbl> & <dbl> & <dbl> & <dbl> & <dbl> & <dbl> & <dbl> & <dbl> & <dbl> & <dbl> & ⋯ & <dbl> & <dbl> & <dbl> & <dbl> & <dbl> & <dbl> & <dbl> & <dbl> & <dbl> & <dbl>\\\\\n",
       "\\hline\n",
       "\tA1BG & -0.6208639 & -1.5641153 & -0.03598678 & -1.499229 & -1.030409 & -0.3632095 & -0.7079235 & 0.4973275 &  0.1398404 &  0.4582964 & ⋯ & 0.5012384 & 0.1962640 & 0.45922795 &  0.05454697 & -0.3385884 & -0.06842248 & 0.5971399 &  0.72255331 &  0.04504042 & -1.018051\\\\\n",
       "\tA1BG-AS1 & -0.8663854 & -0.8302223 &  0.11105590 & -1.422656 & -1.161717 & -1.8484433 & -0.5696947 & 0.3464761 & -0.2569541 &  0.4220428 & ⋯ & 0.3638638 & 0.3672824 & 0.31895969 & -0.71812584 & -0.2179410 & -0.09720916 & 0.3269861 &  0.70061799 &  0.30224950 & -1.071129\\\\\n",
       "\tA1CF & -2.8039993 & -3.0594026 & -2.42468317 & -1.982175 & -1.343388 & -2.0692887 & -1.9460596 & 1.0109679 &  2.3566886 & -0.2918026 & ⋯ & 0.2894103 & 0.9205599 & 0.06451494 &  0.61939774 & -1.5979746 & -2.31924199 & 1.5137978 & -0.01529477 & -2.96096702 &  1.411194\\\\\n",
       "\\end{tabular}\n"
      ],
      "text/markdown": [
       "\n",
       "A data.frame: 3 × 105\n",
       "\n",
       "| <!--/--> | C3L.02613 &lt;dbl&gt; | C3L.04072 &lt;dbl&gt; | C3N.04282 &lt;dbl&gt; | C3L.03639 &lt;dbl&gt; | C3L.01328 &lt;dbl&gt; | C3L.00277 &lt;dbl&gt; | C3L.02604 &lt;dbl&gt; | C3L.01971 &lt;dbl&gt; | C3N.01167 &lt;dbl&gt; | C3L.01031 &lt;dbl&gt; | ⋯ ⋯ | C3N.00436 &lt;dbl&gt; | C3N.02944 &lt;dbl&gt; | C3L.03356 &lt;dbl&gt; | C3N.02589 &lt;dbl&gt; | C3L.03388 &lt;dbl&gt; | C3N.01388 &lt;dbl&gt; | C3N.00198 &lt;dbl&gt; | C3N.01380 &lt;dbl&gt; | C3N.01715 &lt;dbl&gt; | C3N.03426 &lt;dbl&gt; |\n",
       "|---|---|---|---|---|---|---|---|---|---|---|---|---|---|---|---|---|---|---|---|---|---|\n",
       "| A1BG | -0.6208639 | -1.5641153 | -0.03598678 | -1.499229 | -1.030409 | -0.3632095 | -0.7079235 | 0.4973275 |  0.1398404 |  0.4582964 | ⋯ | 0.5012384 | 0.1962640 | 0.45922795 |  0.05454697 | -0.3385884 | -0.06842248 | 0.5971399 |  0.72255331 |  0.04504042 | -1.018051 |\n",
       "| A1BG-AS1 | -0.8663854 | -0.8302223 |  0.11105590 | -1.422656 | -1.161717 | -1.8484433 | -0.5696947 | 0.3464761 | -0.2569541 |  0.4220428 | ⋯ | 0.3638638 | 0.3672824 | 0.31895969 | -0.71812584 | -0.2179410 | -0.09720916 | 0.3269861 |  0.70061799 |  0.30224950 | -1.071129 |\n",
       "| A1CF | -2.8039993 | -3.0594026 | -2.42468317 | -1.982175 | -1.343388 | -2.0692887 | -1.9460596 | 1.0109679 |  2.3566886 | -0.2918026 | ⋯ | 0.2894103 | 0.9205599 | 0.06451494 |  0.61939774 | -1.5979746 | -2.31924199 | 1.5137978 | -0.01529477 | -2.96096702 |  1.411194 |\n",
       "\n"
      ],
      "text/plain": [
       "         C3L.02613  C3L.04072  C3N.04282   C3L.03639 C3L.01328 C3L.00277 \n",
       "A1BG     -0.6208639 -1.5641153 -0.03598678 -1.499229 -1.030409 -0.3632095\n",
       "A1BG-AS1 -0.8663854 -0.8302223  0.11105590 -1.422656 -1.161717 -1.8484433\n",
       "A1CF     -2.8039993 -3.0594026 -2.42468317 -1.982175 -1.343388 -2.0692887\n",
       "         C3L.02604  C3L.01971 C3N.01167  C3L.01031  ⋯ C3N.00436 C3N.02944\n",
       "A1BG     -0.7079235 0.4973275  0.1398404  0.4582964 ⋯ 0.5012384 0.1962640\n",
       "A1BG-AS1 -0.5696947 0.3464761 -0.2569541  0.4220428 ⋯ 0.3638638 0.3672824\n",
       "A1CF     -1.9460596 1.0109679  2.3566886 -0.2918026 ⋯ 0.2894103 0.9205599\n",
       "         C3L.03356  C3N.02589   C3L.03388  C3N.01388   C3N.00198 C3N.01380  \n",
       "A1BG     0.45922795  0.05454697 -0.3385884 -0.06842248 0.5971399  0.72255331\n",
       "A1BG-AS1 0.31895969 -0.71812584 -0.2179410 -0.09720916 0.3269861  0.70061799\n",
       "A1CF     0.06451494  0.61939774 -1.5979746 -2.31924199 1.5137978 -0.01529477\n",
       "         C3N.01715   C3N.03426\n",
       "A1BG      0.04504042 -1.018051\n",
       "A1BG-AS1  0.30224950 -1.071129\n",
       "A1CF     -2.96096702  1.411194"
      ]
     },
     "metadata": {},
     "output_type": "display_data"
    }
   ],
   "source": [
    "rna <- read.table(paste0(PATH_DATA, \"mRNA_RSEM_UQ_log2_Tumor.cct\"), header = TRUE, row.names = 1, sep = \"\\t\", na.strings = \"NA\")\n",
    "rna <- rna %>%\n",
    "    # Order columns as in valid_samples\n",
    "    select(valid_samples$ID2) %>%\n",
    "    # sort the columns by the order in valid_samples\n",
    "    select(order(match(names(.), valid_samples$ID2))) %>%\n",
    "    # Remove rows with any NAs or any zero values\n",
    "    filter(rowSums(is.na(.)) == 0) %>%\n",
    "    filter(rowSums(. == 0) == 0) %>%\n",
    "    # Subtract the median of each row \n",
    "    mutate(row_median = apply(., 1, median, na.rm = TRUE)) %>%\n",
    "    mutate(across(-row_median, ~ . - row_median)) %>%\n",
    "    select(-row_median)\n",
    "\n",
    "dim(rna)\n",
    "head(rna, 3)"
   ]
  },
  {
   "cell_type": "code",
   "execution_count": 106,
   "id": "7408e4cf",
   "metadata": {
    "vscode": {
     "languageId": "r"
    }
   },
   "outputs": [
    {
     "data": {
      "text/html": [
       "<style>\n",
       ".list-inline {list-style: none; margin:0; padding: 0}\n",
       ".list-inline>li {display: inline-block}\n",
       ".list-inline>li:not(:last-child)::after {content: \"\\00b7\"; padding: 0 .5ex}\n",
       "</style>\n",
       "<ol class=list-inline><li>1454</li><li>105</li></ol>\n"
      ],
      "text/latex": [
       "\\begin{enumerate*}\n",
       "\\item 1454\n",
       "\\item 105\n",
       "\\end{enumerate*}\n"
      ],
      "text/markdown": [
       "1. 1454\n",
       "2. 105\n",
       "\n",
       "\n"
      ],
      "text/plain": [
       "[1] 1454  105"
      ]
     },
     "metadata": {},
     "output_type": "display_data"
    },
    {
     "data": {
      "text/html": [
       "<table class=\"dataframe\">\n",
       "<caption>A data.frame: 3 × 105</caption>\n",
       "<thead>\n",
       "\t<tr><th></th><th scope=col>C3L.02613</th><th scope=col>C3L.04072</th><th scope=col>C3N.04282</th><th scope=col>C3L.03639</th><th scope=col>C3L.01328</th><th scope=col>C3L.00277</th><th scope=col>C3L.02604</th><th scope=col>C3L.01971</th><th scope=col>C3N.01167</th><th scope=col>C3L.01031</th><th scope=col>⋯</th><th scope=col>C3N.00436</th><th scope=col>C3N.02944</th><th scope=col>C3L.03356</th><th scope=col>C3N.02589</th><th scope=col>C3L.03388</th><th scope=col>C3N.01388</th><th scope=col>C3N.00198</th><th scope=col>C3N.01380</th><th scope=col>C3N.01715</th><th scope=col>C3N.03426</th></tr>\n",
       "\t<tr><th></th><th scope=col>&lt;dbl&gt;</th><th scope=col>&lt;dbl&gt;</th><th scope=col>&lt;dbl&gt;</th><th scope=col>&lt;dbl&gt;</th><th scope=col>&lt;dbl&gt;</th><th scope=col>&lt;dbl&gt;</th><th scope=col>&lt;dbl&gt;</th><th scope=col>&lt;dbl&gt;</th><th scope=col>&lt;dbl&gt;</th><th scope=col>&lt;dbl&gt;</th><th scope=col>⋯</th><th scope=col>&lt;dbl&gt;</th><th scope=col>&lt;dbl&gt;</th><th scope=col>&lt;dbl&gt;</th><th scope=col>&lt;dbl&gt;</th><th scope=col>&lt;dbl&gt;</th><th scope=col>&lt;dbl&gt;</th><th scope=col>&lt;dbl&gt;</th><th scope=col>&lt;dbl&gt;</th><th scope=col>&lt;dbl&gt;</th><th scope=col>&lt;dbl&gt;</th></tr>\n",
       "</thead>\n",
       "<tbody>\n",
       "\t<tr><th scope=row>n[TMT11plex]RHEEGHMLNC[Carbamidomethyl]TC[Carbamidomethyl]FGQGR-N3H4F0S0G0</th><td> 0.2711286</td><td> 0.3086638</td><td> 1.1849827</td><td>-0.006491598</td><td> 1.9091718</td><td> 1.278178</td><td> 1.0885962</td><td>-0.7653889</td><td>-0.9867006</td><td>-0.5941954</td><td>⋯</td><td> 0.57288470</td><td> 0.9236759</td><td>-0.5551570</td><td>-0.24003358</td><td>-0.2509592</td><td> 0.05717399</td><td>-0.16628917</td><td>-0.5030644</td><td> 0.7816165</td><td> 1.034915863</td></tr>\n",
       "\t<tr><th scope=row>n[TMT11plex]LLQVVYLHSNNITK[TMT11plex]-N5H6F1S2G0</th><td>-0.1230223</td><td>-0.4341817</td><td> 0.2447100</td><td> 0.079600075</td><td>-0.9919879</td><td> 1.089329</td><td>-0.1866849</td><td> 0.3223009</td><td> 0.4387361</td><td> 0.2199116</td><td>⋯</td><td>-0.94928102</td><td>-1.3285715</td><td> 1.3734742</td><td> 0.73234040</td><td>-1.2241213</td><td>-0.83878453</td><td>-0.08174441</td><td> 0.7487903</td><td> 0.1999972</td><td>-0.779378985</td></tr>\n",
       "\t<tr><th scope=row>n[TMT11plex]NYTADYDK[TMT11plex]-N2H8F0S0G0</th><td> 0.5089437</td><td> 0.5752988</td><td>-0.2466641</td><td>-0.213866510</td><td> 0.1689218</td><td>-1.305813</td><td>-0.3507612</td><td> 0.3861138</td><td>-0.9076605</td><td>-0.2210551</td><td>⋯</td><td> 0.08706562</td><td>-0.9358628</td><td>-0.7485728</td><td>-0.04754478</td><td> 0.6560518</td><td>-0.76525368</td><td>-1.11018380</td><td>-0.9045606</td><td>-0.2454482</td><td> 0.006003751</td></tr>\n",
       "</tbody>\n",
       "</table>\n"
      ],
      "text/latex": [
       "A data.frame: 3 × 105\n",
       "\\begin{tabular}{r|lllllllllllllllllllll}\n",
       "  & C3L.02613 & C3L.04072 & C3N.04282 & C3L.03639 & C3L.01328 & C3L.00277 & C3L.02604 & C3L.01971 & C3N.01167 & C3L.01031 & ⋯ & C3N.00436 & C3N.02944 & C3L.03356 & C3N.02589 & C3L.03388 & C3N.01388 & C3N.00198 & C3N.01380 & C3N.01715 & C3N.03426\\\\\n",
       "  & <dbl> & <dbl> & <dbl> & <dbl> & <dbl> & <dbl> & <dbl> & <dbl> & <dbl> & <dbl> & ⋯ & <dbl> & <dbl> & <dbl> & <dbl> & <dbl> & <dbl> & <dbl> & <dbl> & <dbl> & <dbl>\\\\\n",
       "\\hline\n",
       "\tn{[}TMT11plex{]}RHEEGHMLNC{[}Carbamidomethyl{]}TC{[}Carbamidomethyl{]}FGQGR-N3H4F0S0G0 &  0.2711286 &  0.3086638 &  1.1849827 & -0.006491598 &  1.9091718 &  1.278178 &  1.0885962 & -0.7653889 & -0.9867006 & -0.5941954 & ⋯ &  0.57288470 &  0.9236759 & -0.5551570 & -0.24003358 & -0.2509592 &  0.05717399 & -0.16628917 & -0.5030644 &  0.7816165 &  1.034915863\\\\\n",
       "\tn{[}TMT11plex{]}LLQVVYLHSNNITK{[}TMT11plex{]}-N5H6F1S2G0 & -0.1230223 & -0.4341817 &  0.2447100 &  0.079600075 & -0.9919879 &  1.089329 & -0.1866849 &  0.3223009 &  0.4387361 &  0.2199116 & ⋯ & -0.94928102 & -1.3285715 &  1.3734742 &  0.73234040 & -1.2241213 & -0.83878453 & -0.08174441 &  0.7487903 &  0.1999972 & -0.779378985\\\\\n",
       "\tn{[}TMT11plex{]}NYTADYDK{[}TMT11plex{]}-N2H8F0S0G0 &  0.5089437 &  0.5752988 & -0.2466641 & -0.213866510 &  0.1689218 & -1.305813 & -0.3507612 &  0.3861138 & -0.9076605 & -0.2210551 & ⋯ &  0.08706562 & -0.9358628 & -0.7485728 & -0.04754478 &  0.6560518 & -0.76525368 & -1.11018380 & -0.9045606 & -0.2454482 &  0.006003751\\\\\n",
       "\\end{tabular}\n"
      ],
      "text/markdown": [
       "\n",
       "A data.frame: 3 × 105\n",
       "\n",
       "| <!--/--> | C3L.02613 &lt;dbl&gt; | C3L.04072 &lt;dbl&gt; | C3N.04282 &lt;dbl&gt; | C3L.03639 &lt;dbl&gt; | C3L.01328 &lt;dbl&gt; | C3L.00277 &lt;dbl&gt; | C3L.02604 &lt;dbl&gt; | C3L.01971 &lt;dbl&gt; | C3N.01167 &lt;dbl&gt; | C3L.01031 &lt;dbl&gt; | ⋯ ⋯ | C3N.00436 &lt;dbl&gt; | C3N.02944 &lt;dbl&gt; | C3L.03356 &lt;dbl&gt; | C3N.02589 &lt;dbl&gt; | C3L.03388 &lt;dbl&gt; | C3N.01388 &lt;dbl&gt; | C3N.00198 &lt;dbl&gt; | C3N.01380 &lt;dbl&gt; | C3N.01715 &lt;dbl&gt; | C3N.03426 &lt;dbl&gt; |\n",
       "|---|---|---|---|---|---|---|---|---|---|---|---|---|---|---|---|---|---|---|---|---|---|\n",
       "| n[TMT11plex]RHEEGHMLNC[Carbamidomethyl]TC[Carbamidomethyl]FGQGR-N3H4F0S0G0 |  0.2711286 |  0.3086638 |  1.1849827 | -0.006491598 |  1.9091718 |  1.278178 |  1.0885962 | -0.7653889 | -0.9867006 | -0.5941954 | ⋯ |  0.57288470 |  0.9236759 | -0.5551570 | -0.24003358 | -0.2509592 |  0.05717399 | -0.16628917 | -0.5030644 |  0.7816165 |  1.034915863 |\n",
       "| n[TMT11plex]LLQVVYLHSNNITK[TMT11plex]-N5H6F1S2G0 | -0.1230223 | -0.4341817 |  0.2447100 |  0.079600075 | -0.9919879 |  1.089329 | -0.1866849 |  0.3223009 |  0.4387361 |  0.2199116 | ⋯ | -0.94928102 | -1.3285715 |  1.3734742 |  0.73234040 | -1.2241213 | -0.83878453 | -0.08174441 |  0.7487903 |  0.1999972 | -0.779378985 |\n",
       "| n[TMT11plex]NYTADYDK[TMT11plex]-N2H8F0S0G0 |  0.5089437 |  0.5752988 | -0.2466641 | -0.213866510 |  0.1689218 | -1.305813 | -0.3507612 |  0.3861138 | -0.9076605 | -0.2210551 | ⋯ |  0.08706562 | -0.9358628 | -0.7485728 | -0.04754478 |  0.6560518 | -0.76525368 | -1.11018380 | -0.9045606 | -0.2454482 |  0.006003751 |\n",
       "\n"
      ],
      "text/plain": [
       "                                                                           C3L.02613 \n",
       "n[TMT11plex]RHEEGHMLNC[Carbamidomethyl]TC[Carbamidomethyl]FGQGR-N3H4F0S0G0  0.2711286\n",
       "n[TMT11plex]LLQVVYLHSNNITK[TMT11plex]-N5H6F1S2G0                           -0.1230223\n",
       "n[TMT11plex]NYTADYDK[TMT11plex]-N2H8F0S0G0                                  0.5089437\n",
       "                                                                           C3L.04072 \n",
       "n[TMT11plex]RHEEGHMLNC[Carbamidomethyl]TC[Carbamidomethyl]FGQGR-N3H4F0S0G0  0.3086638\n",
       "n[TMT11plex]LLQVVYLHSNNITK[TMT11plex]-N5H6F1S2G0                           -0.4341817\n",
       "n[TMT11plex]NYTADYDK[TMT11plex]-N2H8F0S0G0                                  0.5752988\n",
       "                                                                           C3N.04282 \n",
       "n[TMT11plex]RHEEGHMLNC[Carbamidomethyl]TC[Carbamidomethyl]FGQGR-N3H4F0S0G0  1.1849827\n",
       "n[TMT11plex]LLQVVYLHSNNITK[TMT11plex]-N5H6F1S2G0                            0.2447100\n",
       "n[TMT11plex]NYTADYDK[TMT11plex]-N2H8F0S0G0                                 -0.2466641\n",
       "                                                                           C3L.03639   \n",
       "n[TMT11plex]RHEEGHMLNC[Carbamidomethyl]TC[Carbamidomethyl]FGQGR-N3H4F0S0G0 -0.006491598\n",
       "n[TMT11plex]LLQVVYLHSNNITK[TMT11plex]-N5H6F1S2G0                            0.079600075\n",
       "n[TMT11plex]NYTADYDK[TMT11plex]-N2H8F0S0G0                                 -0.213866510\n",
       "                                                                           C3L.01328 \n",
       "n[TMT11plex]RHEEGHMLNC[Carbamidomethyl]TC[Carbamidomethyl]FGQGR-N3H4F0S0G0  1.9091718\n",
       "n[TMT11plex]LLQVVYLHSNNITK[TMT11plex]-N5H6F1S2G0                           -0.9919879\n",
       "n[TMT11plex]NYTADYDK[TMT11plex]-N2H8F0S0G0                                  0.1689218\n",
       "                                                                           C3L.00277\n",
       "n[TMT11plex]RHEEGHMLNC[Carbamidomethyl]TC[Carbamidomethyl]FGQGR-N3H4F0S0G0  1.278178\n",
       "n[TMT11plex]LLQVVYLHSNNITK[TMT11plex]-N5H6F1S2G0                            1.089329\n",
       "n[TMT11plex]NYTADYDK[TMT11plex]-N2H8F0S0G0                                 -1.305813\n",
       "                                                                           C3L.02604 \n",
       "n[TMT11plex]RHEEGHMLNC[Carbamidomethyl]TC[Carbamidomethyl]FGQGR-N3H4F0S0G0  1.0885962\n",
       "n[TMT11plex]LLQVVYLHSNNITK[TMT11plex]-N5H6F1S2G0                           -0.1866849\n",
       "n[TMT11plex]NYTADYDK[TMT11plex]-N2H8F0S0G0                                 -0.3507612\n",
       "                                                                           C3L.01971 \n",
       "n[TMT11plex]RHEEGHMLNC[Carbamidomethyl]TC[Carbamidomethyl]FGQGR-N3H4F0S0G0 -0.7653889\n",
       "n[TMT11plex]LLQVVYLHSNNITK[TMT11plex]-N5H6F1S2G0                            0.3223009\n",
       "n[TMT11plex]NYTADYDK[TMT11plex]-N2H8F0S0G0                                  0.3861138\n",
       "                                                                           C3N.01167 \n",
       "n[TMT11plex]RHEEGHMLNC[Carbamidomethyl]TC[Carbamidomethyl]FGQGR-N3H4F0S0G0 -0.9867006\n",
       "n[TMT11plex]LLQVVYLHSNNITK[TMT11plex]-N5H6F1S2G0                            0.4387361\n",
       "n[TMT11plex]NYTADYDK[TMT11plex]-N2H8F0S0G0                                 -0.9076605\n",
       "                                                                           C3L.01031 \n",
       "n[TMT11plex]RHEEGHMLNC[Carbamidomethyl]TC[Carbamidomethyl]FGQGR-N3H4F0S0G0 -0.5941954\n",
       "n[TMT11plex]LLQVVYLHSNNITK[TMT11plex]-N5H6F1S2G0                            0.2199116\n",
       "n[TMT11plex]NYTADYDK[TMT11plex]-N2H8F0S0G0                                 -0.2210551\n",
       "                                                                           ⋯\n",
       "n[TMT11plex]RHEEGHMLNC[Carbamidomethyl]TC[Carbamidomethyl]FGQGR-N3H4F0S0G0 ⋯\n",
       "n[TMT11plex]LLQVVYLHSNNITK[TMT11plex]-N5H6F1S2G0                           ⋯\n",
       "n[TMT11plex]NYTADYDK[TMT11plex]-N2H8F0S0G0                                 ⋯\n",
       "                                                                           C3N.00436  \n",
       "n[TMT11plex]RHEEGHMLNC[Carbamidomethyl]TC[Carbamidomethyl]FGQGR-N3H4F0S0G0  0.57288470\n",
       "n[TMT11plex]LLQVVYLHSNNITK[TMT11plex]-N5H6F1S2G0                           -0.94928102\n",
       "n[TMT11plex]NYTADYDK[TMT11plex]-N2H8F0S0G0                                  0.08706562\n",
       "                                                                           C3N.02944 \n",
       "n[TMT11plex]RHEEGHMLNC[Carbamidomethyl]TC[Carbamidomethyl]FGQGR-N3H4F0S0G0  0.9236759\n",
       "n[TMT11plex]LLQVVYLHSNNITK[TMT11plex]-N5H6F1S2G0                           -1.3285715\n",
       "n[TMT11plex]NYTADYDK[TMT11plex]-N2H8F0S0G0                                 -0.9358628\n",
       "                                                                           C3L.03356 \n",
       "n[TMT11plex]RHEEGHMLNC[Carbamidomethyl]TC[Carbamidomethyl]FGQGR-N3H4F0S0G0 -0.5551570\n",
       "n[TMT11plex]LLQVVYLHSNNITK[TMT11plex]-N5H6F1S2G0                            1.3734742\n",
       "n[TMT11plex]NYTADYDK[TMT11plex]-N2H8F0S0G0                                 -0.7485728\n",
       "                                                                           C3N.02589  \n",
       "n[TMT11plex]RHEEGHMLNC[Carbamidomethyl]TC[Carbamidomethyl]FGQGR-N3H4F0S0G0 -0.24003358\n",
       "n[TMT11plex]LLQVVYLHSNNITK[TMT11plex]-N5H6F1S2G0                            0.73234040\n",
       "n[TMT11plex]NYTADYDK[TMT11plex]-N2H8F0S0G0                                 -0.04754478\n",
       "                                                                           C3L.03388 \n",
       "n[TMT11plex]RHEEGHMLNC[Carbamidomethyl]TC[Carbamidomethyl]FGQGR-N3H4F0S0G0 -0.2509592\n",
       "n[TMT11plex]LLQVVYLHSNNITK[TMT11plex]-N5H6F1S2G0                           -1.2241213\n",
       "n[TMT11plex]NYTADYDK[TMT11plex]-N2H8F0S0G0                                  0.6560518\n",
       "                                                                           C3N.01388  \n",
       "n[TMT11plex]RHEEGHMLNC[Carbamidomethyl]TC[Carbamidomethyl]FGQGR-N3H4F0S0G0  0.05717399\n",
       "n[TMT11plex]LLQVVYLHSNNITK[TMT11plex]-N5H6F1S2G0                           -0.83878453\n",
       "n[TMT11plex]NYTADYDK[TMT11plex]-N2H8F0S0G0                                 -0.76525368\n",
       "                                                                           C3N.00198  \n",
       "n[TMT11plex]RHEEGHMLNC[Carbamidomethyl]TC[Carbamidomethyl]FGQGR-N3H4F0S0G0 -0.16628917\n",
       "n[TMT11plex]LLQVVYLHSNNITK[TMT11plex]-N5H6F1S2G0                           -0.08174441\n",
       "n[TMT11plex]NYTADYDK[TMT11plex]-N2H8F0S0G0                                 -1.11018380\n",
       "                                                                           C3N.01380 \n",
       "n[TMT11plex]RHEEGHMLNC[Carbamidomethyl]TC[Carbamidomethyl]FGQGR-N3H4F0S0G0 -0.5030644\n",
       "n[TMT11plex]LLQVVYLHSNNITK[TMT11plex]-N5H6F1S2G0                            0.7487903\n",
       "n[TMT11plex]NYTADYDK[TMT11plex]-N2H8F0S0G0                                 -0.9045606\n",
       "                                                                           C3N.01715 \n",
       "n[TMT11plex]RHEEGHMLNC[Carbamidomethyl]TC[Carbamidomethyl]FGQGR-N3H4F0S0G0  0.7816165\n",
       "n[TMT11plex]LLQVVYLHSNNITK[TMT11plex]-N5H6F1S2G0                            0.1999972\n",
       "n[TMT11plex]NYTADYDK[TMT11plex]-N2H8F0S0G0                                 -0.2454482\n",
       "                                                                           C3N.03426   \n",
       "n[TMT11plex]RHEEGHMLNC[Carbamidomethyl]TC[Carbamidomethyl]FGQGR-N3H4F0S0G0  1.034915863\n",
       "n[TMT11plex]LLQVVYLHSNNITK[TMT11plex]-N5H6F1S2G0                           -0.779378985\n",
       "n[TMT11plex]NYTADYDK[TMT11plex]-N2H8F0S0G0                                  0.006003751"
      ]
     },
     "metadata": {},
     "output_type": "display_data"
    }
   ],
   "source": [
    "# glyco <- read.table(paste0(PATH_DATA, \"N-glycoproteomics_peptide_level_ratio_tumor.cct\"), header = TRUE, row.names = 1, sep = \"\\t\", na.strings = \"NA\")\n",
    "glyco <- read.table(paste0(PATH_DATA, \"N-glycoproteomics_Site_level_ratio_tumor.cct\"), header = TRUE, row.names = 1, sep = \"\\t\", na.strings = \"NA\")\n",
    "glyco <- glyco %>%\n",
    "    # Order columns as in valid_samples\n",
    "    select(valid_samples$ID2) %>%\n",
    "    # sort the columns by the order in valid_samples\n",
    "    select(order(match(names(.), valid_samples$ID2))) %>%\n",
    "    # Remove rows with all NAs\n",
    "    filter(rowSums(is.na(.)) == 0) #%>%\n",
    "    # Subtract the median of each row \n",
    "    # mutate(.data = ., row_median = apply(., 1, median, na.rm = TRUE)) %>%\n",
    "    # mutate(across(-row_median, ~ . - row_median)) %>%\n",
    "    # select(-row_median)\n",
    "\n",
    "dim(glyco)\n",
    "head(glyco, 3)"
   ]
  },
  {
   "cell_type": "code",
   "execution_count": 107,
   "id": "d0ae3160",
   "metadata": {
    "vscode": {
     "languageId": "r"
    }
   },
   "outputs": [
    {
     "data": {
      "text/html": [
       "<style>\n",
       ".list-inline {list-style: none; margin:0; padding: 0}\n",
       ".list-inline>li {display: inline-block}\n",
       ".list-inline>li:not(:last-child)::after {content: \"\\00b7\"; padding: 0 .5ex}\n",
       "</style>\n",
       "<ol class=list-inline><li>2086</li><li>105</li></ol>\n"
      ],
      "text/latex": [
       "\\begin{enumerate*}\n",
       "\\item 2086\n",
       "\\item 105\n",
       "\\end{enumerate*}\n"
      ],
      "text/markdown": [
       "1. 2086\n",
       "2. 105\n",
       "\n",
       "\n"
      ],
      "text/plain": [
       "[1] 2086  105"
      ]
     },
     "metadata": {},
     "output_type": "display_data"
    },
    {
     "data": {
      "text/html": [
       "<table class=\"dataframe\">\n",
       "<caption>A data.frame: 3 × 105</caption>\n",
       "<thead>\n",
       "\t<tr><th></th><th scope=col>C3L.02613</th><th scope=col>C3L.04072</th><th scope=col>C3N.04282</th><th scope=col>C3L.03639</th><th scope=col>C3L.01328</th><th scope=col>C3L.00277</th><th scope=col>C3L.02604</th><th scope=col>C3L.01971</th><th scope=col>C3N.01167</th><th scope=col>C3L.01031</th><th scope=col>⋯</th><th scope=col>C3N.00436</th><th scope=col>C3N.02944</th><th scope=col>C3L.03356</th><th scope=col>C3N.02589</th><th scope=col>C3L.03388</th><th scope=col>C3N.01388</th><th scope=col>C3N.00198</th><th scope=col>C3N.01380</th><th scope=col>C3N.01715</th><th scope=col>C3N.03426</th></tr>\n",
       "\t<tr><th></th><th scope=col>&lt;dbl&gt;</th><th scope=col>&lt;dbl&gt;</th><th scope=col>&lt;dbl&gt;</th><th scope=col>&lt;dbl&gt;</th><th scope=col>&lt;dbl&gt;</th><th scope=col>&lt;dbl&gt;</th><th scope=col>&lt;dbl&gt;</th><th scope=col>&lt;dbl&gt;</th><th scope=col>&lt;dbl&gt;</th><th scope=col>&lt;dbl&gt;</th><th scope=col>⋯</th><th scope=col>&lt;dbl&gt;</th><th scope=col>&lt;dbl&gt;</th><th scope=col>&lt;dbl&gt;</th><th scope=col>&lt;dbl&gt;</th><th scope=col>&lt;dbl&gt;</th><th scope=col>&lt;dbl&gt;</th><th scope=col>&lt;dbl&gt;</th><th scope=col>&lt;dbl&gt;</th><th scope=col>&lt;dbl&gt;</th><th scope=col>&lt;dbl&gt;</th></tr>\n",
       "</thead>\n",
       "<tbody>\n",
       "\t<tr><th scope=row>NP_000028.3_S781</th><td>-0.0032892523</td><td>-0.09882047</td><td>-0.001863032</td><td>0.06418698</td><td>-0.016158518</td><td>-0.08553476</td><td> 0.061424745</td><td> 0.09203510</td><td>-0.002218144</td><td>-0.02439635</td><td>⋯</td><td> 0.051337695</td><td>0.07273598</td><td> 0.062203354</td><td>-0.06401302</td><td>-0.019261737</td><td>0.28241507</td><td> 0.08484637</td><td> 0.047996792</td><td>0.15066791</td><td> 0.284944808</td></tr>\n",
       "\t<tr><th scope=row>NP_000028.3_S834</th><td>-0.0800175628</td><td> 0.00000000</td><td>-0.034027167</td><td>0.03720242</td><td>-0.019537779</td><td>-0.03624982</td><td> 0.035035816</td><td> 0.09724809</td><td>-0.008214741</td><td>-0.02389460</td><td>⋯</td><td> 0.010157085</td><td>0.03829329</td><td> 0.031775950</td><td>-0.03711336</td><td>-0.006308129</td><td>0.20050218</td><td> 0.03429170</td><td> 0.030525641</td><td>0.14200041</td><td> 0.192726994</td></tr>\n",
       "\t<tr><th scope=row>NP_000029.2_S2260</th><td> 0.0005534952</td><td> 0.02156564</td><td>-0.046694025</td><td>0.03888092</td><td>-0.008756757</td><td>-0.03360170</td><td>-0.005744726</td><td>-0.04557517</td><td>-0.049288602</td><td>-0.03341260</td><td>⋯</td><td>-0.002327981</td><td>0.02801253</td><td>-0.002616697</td><td>-0.01313480</td><td> 0.012638146</td><td>0.01510528</td><td>-0.01505923</td><td>-0.004890773</td><td>0.01898168</td><td>-0.002611995</td></tr>\n",
       "</tbody>\n",
       "</table>\n"
      ],
      "text/latex": [
       "A data.frame: 3 × 105\n",
       "\\begin{tabular}{r|lllllllllllllllllllll}\n",
       "  & C3L.02613 & C3L.04072 & C3N.04282 & C3L.03639 & C3L.01328 & C3L.00277 & C3L.02604 & C3L.01971 & C3N.01167 & C3L.01031 & ⋯ & C3N.00436 & C3N.02944 & C3L.03356 & C3N.02589 & C3L.03388 & C3N.01388 & C3N.00198 & C3N.01380 & C3N.01715 & C3N.03426\\\\\n",
       "  & <dbl> & <dbl> & <dbl> & <dbl> & <dbl> & <dbl> & <dbl> & <dbl> & <dbl> & <dbl> & ⋯ & <dbl> & <dbl> & <dbl> & <dbl> & <dbl> & <dbl> & <dbl> & <dbl> & <dbl> & <dbl>\\\\\n",
       "\\hline\n",
       "\tNP\\_000028.3\\_S781 & -0.0032892523 & -0.09882047 & -0.001863032 & 0.06418698 & -0.016158518 & -0.08553476 &  0.061424745 &  0.09203510 & -0.002218144 & -0.02439635 & ⋯ &  0.051337695 & 0.07273598 &  0.062203354 & -0.06401302 & -0.019261737 & 0.28241507 &  0.08484637 &  0.047996792 & 0.15066791 &  0.284944808\\\\\n",
       "\tNP\\_000028.3\\_S834 & -0.0800175628 &  0.00000000 & -0.034027167 & 0.03720242 & -0.019537779 & -0.03624982 &  0.035035816 &  0.09724809 & -0.008214741 & -0.02389460 & ⋯ &  0.010157085 & 0.03829329 &  0.031775950 & -0.03711336 & -0.006308129 & 0.20050218 &  0.03429170 &  0.030525641 & 0.14200041 &  0.192726994\\\\\n",
       "\tNP\\_000029.2\\_S2260 &  0.0005534952 &  0.02156564 & -0.046694025 & 0.03888092 & -0.008756757 & -0.03360170 & -0.005744726 & -0.04557517 & -0.049288602 & -0.03341260 & ⋯ & -0.002327981 & 0.02801253 & -0.002616697 & -0.01313480 &  0.012638146 & 0.01510528 & -0.01505923 & -0.004890773 & 0.01898168 & -0.002611995\\\\\n",
       "\\end{tabular}\n"
      ],
      "text/markdown": [
       "\n",
       "A data.frame: 3 × 105\n",
       "\n",
       "| <!--/--> | C3L.02613 &lt;dbl&gt; | C3L.04072 &lt;dbl&gt; | C3N.04282 &lt;dbl&gt; | C3L.03639 &lt;dbl&gt; | C3L.01328 &lt;dbl&gt; | C3L.00277 &lt;dbl&gt; | C3L.02604 &lt;dbl&gt; | C3L.01971 &lt;dbl&gt; | C3N.01167 &lt;dbl&gt; | C3L.01031 &lt;dbl&gt; | ⋯ ⋯ | C3N.00436 &lt;dbl&gt; | C3N.02944 &lt;dbl&gt; | C3L.03356 &lt;dbl&gt; | C3N.02589 &lt;dbl&gt; | C3L.03388 &lt;dbl&gt; | C3N.01388 &lt;dbl&gt; | C3N.00198 &lt;dbl&gt; | C3N.01380 &lt;dbl&gt; | C3N.01715 &lt;dbl&gt; | C3N.03426 &lt;dbl&gt; |\n",
       "|---|---|---|---|---|---|---|---|---|---|---|---|---|---|---|---|---|---|---|---|---|---|\n",
       "| NP_000028.3_S781 | -0.0032892523 | -0.09882047 | -0.001863032 | 0.06418698 | -0.016158518 | -0.08553476 |  0.061424745 |  0.09203510 | -0.002218144 | -0.02439635 | ⋯ |  0.051337695 | 0.07273598 |  0.062203354 | -0.06401302 | -0.019261737 | 0.28241507 |  0.08484637 |  0.047996792 | 0.15066791 |  0.284944808 |\n",
       "| NP_000028.3_S834 | -0.0800175628 |  0.00000000 | -0.034027167 | 0.03720242 | -0.019537779 | -0.03624982 |  0.035035816 |  0.09724809 | -0.008214741 | -0.02389460 | ⋯ |  0.010157085 | 0.03829329 |  0.031775950 | -0.03711336 | -0.006308129 | 0.20050218 |  0.03429170 |  0.030525641 | 0.14200041 |  0.192726994 |\n",
       "| NP_000029.2_S2260 |  0.0005534952 |  0.02156564 | -0.046694025 | 0.03888092 | -0.008756757 | -0.03360170 | -0.005744726 | -0.04557517 | -0.049288602 | -0.03341260 | ⋯ | -0.002327981 | 0.02801253 | -0.002616697 | -0.01313480 |  0.012638146 | 0.01510528 | -0.01505923 | -0.004890773 | 0.01898168 | -0.002611995 |\n",
       "\n"
      ],
      "text/plain": [
       "                  C3L.02613     C3L.04072   C3N.04282    C3L.03639 \n",
       "NP_000028.3_S781  -0.0032892523 -0.09882047 -0.001863032 0.06418698\n",
       "NP_000028.3_S834  -0.0800175628  0.00000000 -0.034027167 0.03720242\n",
       "NP_000029.2_S2260  0.0005534952  0.02156564 -0.046694025 0.03888092\n",
       "                  C3L.01328    C3L.00277   C3L.02604    C3L.01971  \n",
       "NP_000028.3_S781  -0.016158518 -0.08553476  0.061424745  0.09203510\n",
       "NP_000028.3_S834  -0.019537779 -0.03624982  0.035035816  0.09724809\n",
       "NP_000029.2_S2260 -0.008756757 -0.03360170 -0.005744726 -0.04557517\n",
       "                  C3N.01167    C3L.01031   ⋯ C3N.00436    C3N.02944 \n",
       "NP_000028.3_S781  -0.002218144 -0.02439635 ⋯  0.051337695 0.07273598\n",
       "NP_000028.3_S834  -0.008214741 -0.02389460 ⋯  0.010157085 0.03829329\n",
       "NP_000029.2_S2260 -0.049288602 -0.03341260 ⋯ -0.002327981 0.02801253\n",
       "                  C3L.03356    C3N.02589   C3L.03388    C3N.01388  C3N.00198  \n",
       "NP_000028.3_S781   0.062203354 -0.06401302 -0.019261737 0.28241507  0.08484637\n",
       "NP_000028.3_S834   0.031775950 -0.03711336 -0.006308129 0.20050218  0.03429170\n",
       "NP_000029.2_S2260 -0.002616697 -0.01313480  0.012638146 0.01510528 -0.01505923\n",
       "                  C3N.01380    C3N.01715  C3N.03426   \n",
       "NP_000028.3_S781   0.047996792 0.15066791  0.284944808\n",
       "NP_000028.3_S834   0.030525641 0.14200041  0.192726994\n",
       "NP_000029.2_S2260 -0.004890773 0.01898168 -0.002611995"
      ]
     },
     "metadata": {},
     "output_type": "display_data"
    }
   ],
   "source": [
    "# psty <- read.table(paste0(PATH_DATA, \"phosphoproteomics_gene_level_MD_abundance_tumor.cct\"), header = TRUE, row.names = 1, sep = \"\\t\", na.strings = \"NA\")\n",
    "psty <- read.table(paste0(PATH_DATA, \"phosphoproteomics_site_level_MD_abundance_tumor.cct\"), header = TRUE, row.names = 1, sep = \"\\t\", na.strings = \"NA\")\n",
    "# psty <- read.table(paste0(PATH_DATA, \"phosphoproteomics_MultiSite_level_MD_abundance_tumor.cct\"), header = TRUE, row.names = 1, sep = \"\\t\", na.strings = \"NA\")\n",
    "psty <- psty %>%\n",
    "    # Only select columns that are in valid_samples\n",
    "    select(valid_samples$ID2) %>%\n",
    "    # sort the columns by the order in valid_samples\n",
    "    select(order(match(names(.), valid_samples$ID2))) %>%\n",
    "    # Remove rows with all NAs or too small values\n",
    "    filter(rowSums(is.na(.)) == 0) %>%\n",
    "    # filter(rowSums(. < 1e-10) == 0) %>%\n",
    "    # Subtract the median of each row \n",
    "    mutate(row_median = apply(., 1, median, na.rm = TRUE)) %>%\n",
    "    mutate(across(-row_median, ~ . / row_median)) %>%\n",
    "    select(-row_median) %>%\n",
    "    # Do log2 transformation\n",
    "    mutate(across(everything(), ~ log2(pmax(., 1e-10))))\n",
    "    # mutate(across(everything(), ~ log2(.)))\n",
    "dim(psty)\n",
    "head(psty, 3)"
   ]
  },
  {
   "cell_type": "code",
   "execution_count": 108,
   "id": "6a0a57ae",
   "metadata": {
    "vscode": {
     "languageId": "r"
    }
   },
   "outputs": [
    {
     "data": {
      "text/html": [
       "<style>\n",
       ".list-inline {list-style: none; margin:0; padding: 0}\n",
       ".list-inline>li {display: inline-block}\n",
       ".list-inline>li:not(:last-child)::after {content: \"\\00b7\"; padding: 0 .5ex}\n",
       "</style>\n",
       "<ol class=list-inline><li>36871</li><li>106</li></ol>\n"
      ],
      "text/latex": [
       "\\begin{enumerate*}\n",
       "\\item 36871\n",
       "\\item 106\n",
       "\\end{enumerate*}\n"
      ],
      "text/markdown": [
       "1. 36871\n",
       "2. 106\n",
       "\n",
       "\n"
      ],
      "text/plain": [
       "[1] 36871   106"
      ]
     },
     "metadata": {},
     "output_type": "display_data"
    },
    {
     "name": "stdout",
     "output_type": "stream",
     "text": [
      "\u001b[90m# A tibble: 5 × 2\u001b[39m\n",
      "  data_type feature_count\n",
      "  \u001b[3m\u001b[90m<chr>\u001b[39m\u001b[23m             \u001b[3m\u001b[90m<int>\u001b[39m\u001b[23m\n",
      "\u001b[90m1\u001b[39m cnv                \u001b[4m9\u001b[24m361\n",
      "\u001b[90m2\u001b[39m glyco              \u001b[4m1\u001b[24m454\n",
      "\u001b[90m3\u001b[39m prot               \u001b[4m5\u001b[24m773\n",
      "\u001b[90m4\u001b[39m psty               \u001b[4m2\u001b[24m086\n",
      "\u001b[90m5\u001b[39m rna               \u001b[4m1\u001b[24m\u001b[4m8\u001b[24m197\n"
     ]
    },
    {
     "data": {
      "text/html": [
       "<style>\n",
       ".list-inline {list-style: none; margin:0; padding: 0}\n",
       ".list-inline>li {display: inline-block}\n",
       ".list-inline>li:not(:last-child)::after {content: \"\\00b7\"; padding: 0 .5ex}\n",
       "</style>\n",
       "<ol class=list-inline><li>35027</li><li>106</li></ol>\n"
      ],
      "text/latex": [
       "\\begin{enumerate*}\n",
       "\\item 35027\n",
       "\\item 106\n",
       "\\end{enumerate*}\n"
      ],
      "text/markdown": [
       "1. 35027\n",
       "2. 106\n",
       "\n",
       "\n"
      ],
      "text/plain": [
       "[1] 35027   106"
      ]
     },
     "metadata": {},
     "output_type": "display_data"
    },
    {
     "data": {
      "text/html": [
       "<table class=\"dataframe\">\n",
       "<caption>A data.frame: 10 × 106</caption>\n",
       "<thead>\n",
       "\t<tr><th></th><th scope=col>data_type</th><th scope=col>C3L.00017</th><th scope=col>C3L.00102</th><th scope=col>C3L.00277</th><th scope=col>C3L.00589</th><th scope=col>C3L.00598</th><th scope=col>C3L.00599</th><th scope=col>C3L.00622</th><th scope=col>C3L.00625</th><th scope=col>C3L.00819</th><th scope=col>⋯</th><th scope=col>C3N.03754</th><th scope=col>C3N.03780</th><th scope=col>C3N.03839</th><th scope=col>C3N.03840</th><th scope=col>C3N.03853</th><th scope=col>C3N.03884</th><th scope=col>C3N.04119</th><th scope=col>C3N.04126</th><th scope=col>C3N.04282</th><th scope=col>C3N.04283</th></tr>\n",
       "\t<tr><th></th><th scope=col>&lt;chr&gt;</th><th scope=col>&lt;dbl&gt;</th><th scope=col>&lt;dbl&gt;</th><th scope=col>&lt;dbl&gt;</th><th scope=col>&lt;dbl&gt;</th><th scope=col>&lt;dbl&gt;</th><th scope=col>&lt;dbl&gt;</th><th scope=col>&lt;dbl&gt;</th><th scope=col>&lt;dbl&gt;</th><th scope=col>&lt;dbl&gt;</th><th scope=col>⋯</th><th scope=col>&lt;dbl&gt;</th><th scope=col>&lt;dbl&gt;</th><th scope=col>&lt;dbl&gt;</th><th scope=col>&lt;dbl&gt;</th><th scope=col>&lt;dbl&gt;</th><th scope=col>&lt;dbl&gt;</th><th scope=col>&lt;dbl&gt;</th><th scope=col>&lt;dbl&gt;</th><th scope=col>&lt;dbl&gt;</th><th scope=col>&lt;dbl&gt;</th></tr>\n",
       "</thead>\n",
       "<tbody>\n",
       "\t<tr><th scope=row>NP_958845.1_S79</th><td>psty</td><td>0.078352990</td><td> 0.030296763</td><td>-0.024128358</td><td>-0.013725453</td><td>-0.05451770</td><td>-0.125929296</td><td>-0.08193360</td><td>-0.06304079</td><td>-0.003033698</td><td>⋯</td><td> 0.004937903</td><td>-0.005692795</td><td> 0.17909972</td><td>-0.02909559</td><td> 0.046551116</td><td>0.090379343</td><td>-0.0453307657</td><td>-0.00809180</td><td>0.07527426</td><td> 0.024059175</td></tr>\n",
       "\t<tr><th scope=row>NP_976324.2_S575</th><td>psty</td><td>0.081008533</td><td> 0.022066683</td><td> 0.053506993</td><td>-0.037031330</td><td> 0.08028063</td><td> 0.120926612</td><td>-0.11333387</td><td> 0.02940277</td><td> 0.051158610</td><td>⋯</td><td>-0.005830122</td><td>-0.046650176</td><td> 0.09756209</td><td>-0.06018493</td><td> 0.010150112</td><td>0.112353322</td><td>-0.0455958811</td><td>-0.09018357</td><td>0.08183862</td><td> 0.047538875</td></tr>\n",
       "\t<tr><th scope=row>NP_976324.2_S710</th><td>psty</td><td>0.135903912</td><td> 0.010110379</td><td> 0.088455511</td><td>-0.033578771</td><td> 0.05505784</td><td> 0.044012939</td><td>-0.06795209</td><td> 0.06108960</td><td> 0.008434746</td><td>⋯</td><td>-0.026915767</td><td>-0.009312529</td><td> 0.09711188</td><td>-0.04837210</td><td> 0.055783863</td><td>0.113929773</td><td>-0.0075636541</td><td>-0.06907530</td><td>0.08104682</td><td> 0.067126660</td></tr>\n",
       "\t<tr><th scope=row>NP_982272.2_S904</th><td>psty</td><td>0.030969769</td><td> 0.014843403</td><td>-0.079691544</td><td>-0.038611549</td><td>-0.07649163</td><td>-0.108885292</td><td>-0.06672173</td><td>-0.15907173</td><td>-0.021856961</td><td>⋯</td><td> 0.003398384</td><td>-0.079841477</td><td> 0.08170891</td><td> 0.01354087</td><td> 0.056240875</td><td>0.136384632</td><td>-0.0368971370</td><td>-0.11831072</td><td>0.10867523</td><td> 0.015418696</td></tr>\n",
       "\t<tr><th scope=row>NP_987100.1_T227</th><td>psty</td><td>0.135851208</td><td>-0.347830249</td><td> 0.171077995</td><td> 0.105514781</td><td>-0.03543496</td><td> 0.158294357</td><td>-0.21393113</td><td>-0.09617729</td><td> 0.005587596</td><td>⋯</td><td>-0.120777975</td><td> 0.057593027</td><td> 0.02659467</td><td> 0.07135540</td><td> 0.144694208</td><td>0.038803392</td><td>-0.1737745401</td><td> 0.12851071</td><td>0.16913776</td><td> 0.004652569</td></tr>\n",
       "\t<tr><th scope=row>NP_996826.2_S1414</th><td>psty</td><td>0.064662288</td><td> 0.084642505</td><td> 0.122891015</td><td> 0.038899221</td><td>-0.14483404</td><td>-0.045206050</td><td>-0.01097168</td><td> 0.15381136</td><td> 0.088504672</td><td>⋯</td><td>-0.018611993</td><td>-0.063405370</td><td> 0.05782920</td><td> 0.02279495</td><td>-0.009731266</td><td>0.073827242</td><td> 0.0007590622</td><td> 0.05293134</td><td>0.08457984</td><td> 0.044627090</td></tr>\n",
       "\t<tr><th scope=row>NP_997245.2_S881</th><td>psty</td><td>0.127971662</td><td>-0.029880918</td><td> 0.001264008</td><td> 0.114308751</td><td>-0.06441532</td><td> 0.002967254</td><td> 0.05050564</td><td>-0.01894824</td><td>-0.072325141</td><td>⋯</td><td>-0.145721567</td><td> 0.038175015</td><td> 0.09025037</td><td> 0.05256681</td><td> 0.013140905</td><td>0.070513355</td><td> 0.0422291717</td><td> 0.05330586</td><td>0.06111702</td><td>-0.011166879</td></tr>\n",
       "\t<tr><th scope=row>NP_997641.1_S2294</th><td>psty</td><td>0.032289854</td><td> 0.050368631</td><td> 0.227503137</td><td>-0.008719183</td><td> 0.02032066</td><td>-0.077230736</td><td>-0.11548179</td><td> 0.17128371</td><td> 0.041987672</td><td>⋯</td><td>-0.102981811</td><td>-0.041832498</td><td>-0.04315974</td><td> 0.04921527</td><td> 0.080390935</td><td>0.005625389</td><td> 0.0195362886</td><td> 0.01804733</td><td>0.14274512</td><td> 0.132656246</td></tr>\n",
       "\t<tr><th scope=row>NP_998754.1_S1154</th><td>psty</td><td>0.007732008</td><td>-0.009380744</td><td> 0.050882228</td><td>-0.047110437</td><td> 0.07504556</td><td>-0.024725457</td><td>-0.06191116</td><td>-0.15275313</td><td> 0.023693184</td><td>⋯</td><td> 0.018673914</td><td>-0.002925644</td><td> 0.12076940</td><td> 0.06034005</td><td> 0.102346225</td><td>0.017241270</td><td>-0.0139533199</td><td>-0.07045692</td><td>0.12777281</td><td> 0.132405661</td></tr>\n",
       "\t<tr><th scope=row>NP_998754.1_S894</th><td>psty</td><td>0.001584361</td><td> 0.029674207</td><td>-0.008941243</td><td>-0.005290950</td><td>-0.07812377</td><td>-0.051012398</td><td>-0.09106203</td><td>-0.09864950</td><td> 0.017361695</td><td>⋯</td><td> 0.004948260</td><td>-0.024795220</td><td> 0.16774408</td><td> 0.04027845</td><td> 0.072553550</td><td>0.061241185</td><td>-0.0128371832</td><td>-0.00276621</td><td>0.11619894</td><td> 0.070870359</td></tr>\n",
       "</tbody>\n",
       "</table>\n"
      ],
      "text/latex": [
       "A data.frame: 10 × 106\n",
       "\\begin{tabular}{r|lllllllllllllllllllll}\n",
       "  & data\\_type & C3L.00017 & C3L.00102 & C3L.00277 & C3L.00589 & C3L.00598 & C3L.00599 & C3L.00622 & C3L.00625 & C3L.00819 & ⋯ & C3N.03754 & C3N.03780 & C3N.03839 & C3N.03840 & C3N.03853 & C3N.03884 & C3N.04119 & C3N.04126 & C3N.04282 & C3N.04283\\\\\n",
       "  & <chr> & <dbl> & <dbl> & <dbl> & <dbl> & <dbl> & <dbl> & <dbl> & <dbl> & <dbl> & ⋯ & <dbl> & <dbl> & <dbl> & <dbl> & <dbl> & <dbl> & <dbl> & <dbl> & <dbl> & <dbl>\\\\\n",
       "\\hline\n",
       "\tNP\\_958845.1\\_S79 & psty & 0.078352990 &  0.030296763 & -0.024128358 & -0.013725453 & -0.05451770 & -0.125929296 & -0.08193360 & -0.06304079 & -0.003033698 & ⋯ &  0.004937903 & -0.005692795 &  0.17909972 & -0.02909559 &  0.046551116 & 0.090379343 & -0.0453307657 & -0.00809180 & 0.07527426 &  0.024059175\\\\\n",
       "\tNP\\_976324.2\\_S575 & psty & 0.081008533 &  0.022066683 &  0.053506993 & -0.037031330 &  0.08028063 &  0.120926612 & -0.11333387 &  0.02940277 &  0.051158610 & ⋯ & -0.005830122 & -0.046650176 &  0.09756209 & -0.06018493 &  0.010150112 & 0.112353322 & -0.0455958811 & -0.09018357 & 0.08183862 &  0.047538875\\\\\n",
       "\tNP\\_976324.2\\_S710 & psty & 0.135903912 &  0.010110379 &  0.088455511 & -0.033578771 &  0.05505784 &  0.044012939 & -0.06795209 &  0.06108960 &  0.008434746 & ⋯ & -0.026915767 & -0.009312529 &  0.09711188 & -0.04837210 &  0.055783863 & 0.113929773 & -0.0075636541 & -0.06907530 & 0.08104682 &  0.067126660\\\\\n",
       "\tNP\\_982272.2\\_S904 & psty & 0.030969769 &  0.014843403 & -0.079691544 & -0.038611549 & -0.07649163 & -0.108885292 & -0.06672173 & -0.15907173 & -0.021856961 & ⋯ &  0.003398384 & -0.079841477 &  0.08170891 &  0.01354087 &  0.056240875 & 0.136384632 & -0.0368971370 & -0.11831072 & 0.10867523 &  0.015418696\\\\\n",
       "\tNP\\_987100.1\\_T227 & psty & 0.135851208 & -0.347830249 &  0.171077995 &  0.105514781 & -0.03543496 &  0.158294357 & -0.21393113 & -0.09617729 &  0.005587596 & ⋯ & -0.120777975 &  0.057593027 &  0.02659467 &  0.07135540 &  0.144694208 & 0.038803392 & -0.1737745401 &  0.12851071 & 0.16913776 &  0.004652569\\\\\n",
       "\tNP\\_996826.2\\_S1414 & psty & 0.064662288 &  0.084642505 &  0.122891015 &  0.038899221 & -0.14483404 & -0.045206050 & -0.01097168 &  0.15381136 &  0.088504672 & ⋯ & -0.018611993 & -0.063405370 &  0.05782920 &  0.02279495 & -0.009731266 & 0.073827242 &  0.0007590622 &  0.05293134 & 0.08457984 &  0.044627090\\\\\n",
       "\tNP\\_997245.2\\_S881 & psty & 0.127971662 & -0.029880918 &  0.001264008 &  0.114308751 & -0.06441532 &  0.002967254 &  0.05050564 & -0.01894824 & -0.072325141 & ⋯ & -0.145721567 &  0.038175015 &  0.09025037 &  0.05256681 &  0.013140905 & 0.070513355 &  0.0422291717 &  0.05330586 & 0.06111702 & -0.011166879\\\\\n",
       "\tNP\\_997641.1\\_S2294 & psty & 0.032289854 &  0.050368631 &  0.227503137 & -0.008719183 &  0.02032066 & -0.077230736 & -0.11548179 &  0.17128371 &  0.041987672 & ⋯ & -0.102981811 & -0.041832498 & -0.04315974 &  0.04921527 &  0.080390935 & 0.005625389 &  0.0195362886 &  0.01804733 & 0.14274512 &  0.132656246\\\\\n",
       "\tNP\\_998754.1\\_S1154 & psty & 0.007732008 & -0.009380744 &  0.050882228 & -0.047110437 &  0.07504556 & -0.024725457 & -0.06191116 & -0.15275313 &  0.023693184 & ⋯ &  0.018673914 & -0.002925644 &  0.12076940 &  0.06034005 &  0.102346225 & 0.017241270 & -0.0139533199 & -0.07045692 & 0.12777281 &  0.132405661\\\\\n",
       "\tNP\\_998754.1\\_S894 & psty & 0.001584361 &  0.029674207 & -0.008941243 & -0.005290950 & -0.07812377 & -0.051012398 & -0.09106203 & -0.09864950 &  0.017361695 & ⋯ &  0.004948260 & -0.024795220 &  0.16774408 &  0.04027845 &  0.072553550 & 0.061241185 & -0.0128371832 & -0.00276621 & 0.11619894 &  0.070870359\\\\\n",
       "\\end{tabular}\n"
      ],
      "text/markdown": [
       "\n",
       "A data.frame: 10 × 106\n",
       "\n",
       "| <!--/--> | data_type &lt;chr&gt; | C3L.00017 &lt;dbl&gt; | C3L.00102 &lt;dbl&gt; | C3L.00277 &lt;dbl&gt; | C3L.00589 &lt;dbl&gt; | C3L.00598 &lt;dbl&gt; | C3L.00599 &lt;dbl&gt; | C3L.00622 &lt;dbl&gt; | C3L.00625 &lt;dbl&gt; | C3L.00819 &lt;dbl&gt; | ⋯ ⋯ | C3N.03754 &lt;dbl&gt; | C3N.03780 &lt;dbl&gt; | C3N.03839 &lt;dbl&gt; | C3N.03840 &lt;dbl&gt; | C3N.03853 &lt;dbl&gt; | C3N.03884 &lt;dbl&gt; | C3N.04119 &lt;dbl&gt; | C3N.04126 &lt;dbl&gt; | C3N.04282 &lt;dbl&gt; | C3N.04283 &lt;dbl&gt; |\n",
       "|---|---|---|---|---|---|---|---|---|---|---|---|---|---|---|---|---|---|---|---|---|---|\n",
       "| NP_958845.1_S79 | psty | 0.078352990 |  0.030296763 | -0.024128358 | -0.013725453 | -0.05451770 | -0.125929296 | -0.08193360 | -0.06304079 | -0.003033698 | ⋯ |  0.004937903 | -0.005692795 |  0.17909972 | -0.02909559 |  0.046551116 | 0.090379343 | -0.0453307657 | -0.00809180 | 0.07527426 |  0.024059175 |\n",
       "| NP_976324.2_S575 | psty | 0.081008533 |  0.022066683 |  0.053506993 | -0.037031330 |  0.08028063 |  0.120926612 | -0.11333387 |  0.02940277 |  0.051158610 | ⋯ | -0.005830122 | -0.046650176 |  0.09756209 | -0.06018493 |  0.010150112 | 0.112353322 | -0.0455958811 | -0.09018357 | 0.08183862 |  0.047538875 |\n",
       "| NP_976324.2_S710 | psty | 0.135903912 |  0.010110379 |  0.088455511 | -0.033578771 |  0.05505784 |  0.044012939 | -0.06795209 |  0.06108960 |  0.008434746 | ⋯ | -0.026915767 | -0.009312529 |  0.09711188 | -0.04837210 |  0.055783863 | 0.113929773 | -0.0075636541 | -0.06907530 | 0.08104682 |  0.067126660 |\n",
       "| NP_982272.2_S904 | psty | 0.030969769 |  0.014843403 | -0.079691544 | -0.038611549 | -0.07649163 | -0.108885292 | -0.06672173 | -0.15907173 | -0.021856961 | ⋯ |  0.003398384 | -0.079841477 |  0.08170891 |  0.01354087 |  0.056240875 | 0.136384632 | -0.0368971370 | -0.11831072 | 0.10867523 |  0.015418696 |\n",
       "| NP_987100.1_T227 | psty | 0.135851208 | -0.347830249 |  0.171077995 |  0.105514781 | -0.03543496 |  0.158294357 | -0.21393113 | -0.09617729 |  0.005587596 | ⋯ | -0.120777975 |  0.057593027 |  0.02659467 |  0.07135540 |  0.144694208 | 0.038803392 | -0.1737745401 |  0.12851071 | 0.16913776 |  0.004652569 |\n",
       "| NP_996826.2_S1414 | psty | 0.064662288 |  0.084642505 |  0.122891015 |  0.038899221 | -0.14483404 | -0.045206050 | -0.01097168 |  0.15381136 |  0.088504672 | ⋯ | -0.018611993 | -0.063405370 |  0.05782920 |  0.02279495 | -0.009731266 | 0.073827242 |  0.0007590622 |  0.05293134 | 0.08457984 |  0.044627090 |\n",
       "| NP_997245.2_S881 | psty | 0.127971662 | -0.029880918 |  0.001264008 |  0.114308751 | -0.06441532 |  0.002967254 |  0.05050564 | -0.01894824 | -0.072325141 | ⋯ | -0.145721567 |  0.038175015 |  0.09025037 |  0.05256681 |  0.013140905 | 0.070513355 |  0.0422291717 |  0.05330586 | 0.06111702 | -0.011166879 |\n",
       "| NP_997641.1_S2294 | psty | 0.032289854 |  0.050368631 |  0.227503137 | -0.008719183 |  0.02032066 | -0.077230736 | -0.11548179 |  0.17128371 |  0.041987672 | ⋯ | -0.102981811 | -0.041832498 | -0.04315974 |  0.04921527 |  0.080390935 | 0.005625389 |  0.0195362886 |  0.01804733 | 0.14274512 |  0.132656246 |\n",
       "| NP_998754.1_S1154 | psty | 0.007732008 | -0.009380744 |  0.050882228 | -0.047110437 |  0.07504556 | -0.024725457 | -0.06191116 | -0.15275313 |  0.023693184 | ⋯ |  0.018673914 | -0.002925644 |  0.12076940 |  0.06034005 |  0.102346225 | 0.017241270 | -0.0139533199 | -0.07045692 | 0.12777281 |  0.132405661 |\n",
       "| NP_998754.1_S894 | psty | 0.001584361 |  0.029674207 | -0.008941243 | -0.005290950 | -0.07812377 | -0.051012398 | -0.09106203 | -0.09864950 |  0.017361695 | ⋯ |  0.004948260 | -0.024795220 |  0.16774408 |  0.04027845 |  0.072553550 | 0.061241185 | -0.0128371832 | -0.00276621 | 0.11619894 |  0.070870359 |\n",
       "\n"
      ],
      "text/plain": [
       "                  data_type C3L.00017   C3L.00102    C3L.00277    C3L.00589   \n",
       "NP_958845.1_S79   psty      0.078352990  0.030296763 -0.024128358 -0.013725453\n",
       "NP_976324.2_S575  psty      0.081008533  0.022066683  0.053506993 -0.037031330\n",
       "NP_976324.2_S710  psty      0.135903912  0.010110379  0.088455511 -0.033578771\n",
       "NP_982272.2_S904  psty      0.030969769  0.014843403 -0.079691544 -0.038611549\n",
       "NP_987100.1_T227  psty      0.135851208 -0.347830249  0.171077995  0.105514781\n",
       "NP_996826.2_S1414 psty      0.064662288  0.084642505  0.122891015  0.038899221\n",
       "NP_997245.2_S881  psty      0.127971662 -0.029880918  0.001264008  0.114308751\n",
       "NP_997641.1_S2294 psty      0.032289854  0.050368631  0.227503137 -0.008719183\n",
       "NP_998754.1_S1154 psty      0.007732008 -0.009380744  0.050882228 -0.047110437\n",
       "NP_998754.1_S894  psty      0.001584361  0.029674207 -0.008941243 -0.005290950\n",
       "                  C3L.00598   C3L.00599    C3L.00622   C3L.00625   C3L.00819   \n",
       "NP_958845.1_S79   -0.05451770 -0.125929296 -0.08193360 -0.06304079 -0.003033698\n",
       "NP_976324.2_S575   0.08028063  0.120926612 -0.11333387  0.02940277  0.051158610\n",
       "NP_976324.2_S710   0.05505784  0.044012939 -0.06795209  0.06108960  0.008434746\n",
       "NP_982272.2_S904  -0.07649163 -0.108885292 -0.06672173 -0.15907173 -0.021856961\n",
       "NP_987100.1_T227  -0.03543496  0.158294357 -0.21393113 -0.09617729  0.005587596\n",
       "NP_996826.2_S1414 -0.14483404 -0.045206050 -0.01097168  0.15381136  0.088504672\n",
       "NP_997245.2_S881  -0.06441532  0.002967254  0.05050564 -0.01894824 -0.072325141\n",
       "NP_997641.1_S2294  0.02032066 -0.077230736 -0.11548179  0.17128371  0.041987672\n",
       "NP_998754.1_S1154  0.07504556 -0.024725457 -0.06191116 -0.15275313  0.023693184\n",
       "NP_998754.1_S894  -0.07812377 -0.051012398 -0.09106203 -0.09864950  0.017361695\n",
       "                  ⋯ C3N.03754    C3N.03780    C3N.03839   C3N.03840  \n",
       "NP_958845.1_S79   ⋯  0.004937903 -0.005692795  0.17909972 -0.02909559\n",
       "NP_976324.2_S575  ⋯ -0.005830122 -0.046650176  0.09756209 -0.06018493\n",
       "NP_976324.2_S710  ⋯ -0.026915767 -0.009312529  0.09711188 -0.04837210\n",
       "NP_982272.2_S904  ⋯  0.003398384 -0.079841477  0.08170891  0.01354087\n",
       "NP_987100.1_T227  ⋯ -0.120777975  0.057593027  0.02659467  0.07135540\n",
       "NP_996826.2_S1414 ⋯ -0.018611993 -0.063405370  0.05782920  0.02279495\n",
       "NP_997245.2_S881  ⋯ -0.145721567  0.038175015  0.09025037  0.05256681\n",
       "NP_997641.1_S2294 ⋯ -0.102981811 -0.041832498 -0.04315974  0.04921527\n",
       "NP_998754.1_S1154 ⋯  0.018673914 -0.002925644  0.12076940  0.06034005\n",
       "NP_998754.1_S894  ⋯  0.004948260 -0.024795220  0.16774408  0.04027845\n",
       "                  C3N.03853    C3N.03884   C3N.04119     C3N.04126   C3N.04282 \n",
       "NP_958845.1_S79    0.046551116 0.090379343 -0.0453307657 -0.00809180 0.07527426\n",
       "NP_976324.2_S575   0.010150112 0.112353322 -0.0455958811 -0.09018357 0.08183862\n",
       "NP_976324.2_S710   0.055783863 0.113929773 -0.0075636541 -0.06907530 0.08104682\n",
       "NP_982272.2_S904   0.056240875 0.136384632 -0.0368971370 -0.11831072 0.10867523\n",
       "NP_987100.1_T227   0.144694208 0.038803392 -0.1737745401  0.12851071 0.16913776\n",
       "NP_996826.2_S1414 -0.009731266 0.073827242  0.0007590622  0.05293134 0.08457984\n",
       "NP_997245.2_S881   0.013140905 0.070513355  0.0422291717  0.05330586 0.06111702\n",
       "NP_997641.1_S2294  0.080390935 0.005625389  0.0195362886  0.01804733 0.14274512\n",
       "NP_998754.1_S1154  0.102346225 0.017241270 -0.0139533199 -0.07045692 0.12777281\n",
       "NP_998754.1_S894   0.072553550 0.061241185 -0.0128371832 -0.00276621 0.11619894\n",
       "                  C3N.04283   \n",
       "NP_958845.1_S79    0.024059175\n",
       "NP_976324.2_S575   0.047538875\n",
       "NP_976324.2_S710   0.067126660\n",
       "NP_982272.2_S904   0.015418696\n",
       "NP_987100.1_T227   0.004652569\n",
       "NP_996826.2_S1414  0.044627090\n",
       "NP_997245.2_S881  -0.011166879\n",
       "NP_997641.1_S2294  0.132656246\n",
       "NP_998754.1_S1154  0.132405661\n",
       "NP_998754.1_S894   0.070870359"
      ]
     },
     "metadata": {},
     "output_type": "display_data"
    },
    {
     "name": "stdout",
     "output_type": "stream",
     "text": [
      "\u001b[90m# A tibble: 5 × 2\u001b[39m\n",
      "  data_type feature_count\n",
      "  \u001b[3m\u001b[90m<chr>\u001b[39m\u001b[23m             \u001b[3m\u001b[90m<int>\u001b[39m\u001b[23m\n",
      "\u001b[90m1\u001b[39m cnv                \u001b[4m9\u001b[24m361\n",
      "\u001b[90m2\u001b[39m glyco              \u001b[4m1\u001b[24m454\n",
      "\u001b[90m3\u001b[39m prot               \u001b[4m3\u001b[24m971\n",
      "\u001b[90m4\u001b[39m psty               \u001b[4m2\u001b[24m044\n",
      "\u001b[90m5\u001b[39m rna               \u001b[4m1\u001b[24m\u001b[4m8\u001b[24m197\n"
     ]
    }
   ],
   "source": [
    "# Concatenate all data frames\n",
    "data <- bind_rows(\n",
    "    cnv = cnv,\n",
    "    prot = prot,\n",
    "    rna = rna,\n",
    "    glyco = glyco,\n",
    "    psty = psty,\n",
    "    .id = \"data_type\"\n",
    ")\n",
    "dim(data)\n",
    "feature_counts <- data %>%\n",
    "    group_by(data_type) %>%\n",
    "    summarise(feature_count = n()) %>%\n",
    "    ungroup()\n",
    "print(feature_counts)\n",
    "\n",
    "row_sd <- apply(data[ , -1], 1, sd, na.rm = TRUE)\n",
    "cutoff <- quantile(row_sd, probs = 0.05, na.rm = TRUE)\n",
    "data <- data[row_sd > cutoff, ] %>%\n",
    "    # Column-wise z-score normalization\n",
    "    mutate(across(-data_type, ~ (.-mean(.)) / sd(.))) %>%\n",
    "    # Sort columns by name\n",
    "    select(data_type, sort(names(.)[-1]))\n",
    " \n",
    "dim(data)\n",
    "tail(data,10)\n",
    "# Count the number of features per data type\n",
    "feature_counts <- data %>%\n",
    "    group_by(data_type) %>%\n",
    "    summarise(feature_count = n()) %>%\n",
    "    ungroup()\n",
    "print(feature_counts)"
   ]
  },
  {
   "cell_type": "code",
   "execution_count": 109,
   "id": "9be7a22a",
   "metadata": {
    "vscode": {
     "languageId": "r"
    }
   },
   "outputs": [
    {
     "data": {
      "text/html": [
       "<style>\n",
       ".list-inline {list-style: none; margin:0; padding: 0}\n",
       ".list-inline>li {display: inline-block}\n",
       ".list-inline>li:not(:last-child)::after {content: \"\\00b7\"; padding: 0 .5ex}\n",
       "</style>\n",
       "<ol class=list-inline><li>35027</li><li>106</li></ol>\n"
      ],
      "text/latex": [
       "\\begin{enumerate*}\n",
       "\\item 35027\n",
       "\\item 106\n",
       "\\end{enumerate*}\n"
      ],
      "text/markdown": [
       "1. 35027\n",
       "2. 106\n",
       "\n",
       "\n"
      ],
      "text/plain": [
       "[1] 35027   106"
      ]
     },
     "metadata": {},
     "output_type": "display_data"
    },
    {
     "data": {
      "text/html": [
       "<style>\n",
       ".list-inline {list-style: none; margin:0; padding: 0}\n",
       ".list-inline>li {display: inline-block}\n",
       ".list-inline>li:not(:last-child)::after {content: \"\\00b7\"; padding: 0 .5ex}\n",
       "</style>\n",
       "<ol class=list-inline><li>70053</li><li>105</li></ol>\n"
      ],
      "text/latex": [
       "\\begin{enumerate*}\n",
       "\\item 70053\n",
       "\\item 105\n",
       "\\end{enumerate*}\n"
      ],
      "text/markdown": [
       "1. 70053\n",
       "2. 105\n",
       "\n",
       "\n"
      ],
      "text/plain": [
       "[1] 70053   105"
      ]
     },
     "metadata": {},
     "output_type": "display_data"
    }
   ],
   "source": [
    "data_type <- data$data_type\n",
    "data_num <- data[, -1]\n",
    "\n",
    "positive_only_matrix <- data_num\n",
    "positive_only_matrix[positive_only_matrix < 0] <- 0\n",
    "# Abs values of negative values\n",
    "negative_only_matrix <- data_num\n",
    "negative_only_matrix[negative_only_matrix > 0] <- 0\n",
    "negative_only_matrix <- abs(negative_only_matrix)\n",
    "\n",
    "combined_matrix <- rbind(positive_only_matrix, negative_only_matrix)\n",
    "\n",
    "combined_matrix <- combined_matrix[rowSums(combined_matrix) != 0, ]\n",
    "\n",
    "dim(data)\n",
    "dim(combined_matrix)"
   ]
  },
  {
   "cell_type": "code",
   "execution_count": 110,
   "id": "ce6cea3f",
   "metadata": {
    "vscode": {
     "languageId": "r"
    }
   },
   "outputs": [
    {
     "data": {
      "text/html": [
       "<table class=\"dataframe\">\n",
       "<caption>A data.frame: 105 × 4</caption>\n",
       "<thead>\n",
       "\t<tr><th></th><th scope=col>V1</th><th scope=col>V2</th><th scope=col>cluster</th><th scope=col>sum</th></tr>\n",
       "\t<tr><th></th><th scope=col>&lt;dbl&gt;</th><th scope=col>&lt;dbl&gt;</th><th scope=col>&lt;chr&gt;</th><th scope=col>&lt;dbl&gt;</th></tr>\n",
       "</thead>\n",
       "<tbody>\n",
       "\t<tr><th scope=row>C3L.00017</th><td>2.411827e-01</td><td>0.75881733</td><td>2</td><td>0.005572523</td></tr>\n",
       "\t<tr><th scope=row>C3L.00102</th><td>4.532528e-01</td><td>0.54674725</td><td>2</td><td>0.004766979</td></tr>\n",
       "\t<tr><th scope=row>C3L.00277</th><td>6.836035e-01</td><td>0.31639655</td><td>1</td><td>0.005596046</td></tr>\n",
       "\t<tr><th scope=row>C3L.00589</th><td>1.826408e-01</td><td>0.81735923</td><td>2</td><td>0.006071938</td></tr>\n",
       "\t<tr><th scope=row>C3L.00598</th><td>9.176941e-01</td><td>0.08230593</td><td>1</td><td>0.005329709</td></tr>\n",
       "\t<tr><th scope=row>C3L.00599</th><td>6.223116e-02</td><td>0.93776884</td><td>2</td><td>0.004646528</td></tr>\n",
       "\t<tr><th scope=row>C3L.00622</th><td>2.020734e-01</td><td>0.79792661</td><td>2</td><td>0.004793819</td></tr>\n",
       "\t<tr><th scope=row>C3L.00625</th><td>3.806831e-01</td><td>0.61931692</td><td>2</td><td>0.005874077</td></tr>\n",
       "\t<tr><th scope=row>C3L.00819</th><td>7.843885e-01</td><td>0.21561148</td><td>1</td><td>0.005772333</td></tr>\n",
       "\t<tr><th scope=row>C3L.00928</th><td>5.979592e-01</td><td>0.40204083</td><td>1</td><td>0.005297152</td></tr>\n",
       "\t<tr><th scope=row>C3L.01031</th><td>5.243304e-01</td><td>0.47566959</td><td>1</td><td>0.006486627</td></tr>\n",
       "\t<tr><th scope=row>C3L.01037</th><td>6.398721e-01</td><td>0.36012794</td><td>1</td><td>0.004874099</td></tr>\n",
       "\t<tr><th scope=row>C3L.01051</th><td>3.475398e-02</td><td>0.96524602</td><td>2</td><td>0.005050698</td></tr>\n",
       "\t<tr><th scope=row>C3L.01124</th><td>2.591096e-01</td><td>0.74089038</td><td>2</td><td>0.005081206</td></tr>\n",
       "\t<tr><th scope=row>C3L.01328</th><td>8.222087e-01</td><td>0.17779128</td><td>1</td><td>0.005690400</td></tr>\n",
       "\t<tr><th scope=row>C3L.01453</th><td>4.538899e-01</td><td>0.54611014</td><td>2</td><td>0.005519289</td></tr>\n",
       "\t<tr><th scope=row>C3L.01598</th><td>5.909665e-01</td><td>0.40903352</td><td>1</td><td>0.004999767</td></tr>\n",
       "\t<tr><th scope=row>C3L.01637</th><td>3.259698e-01</td><td>0.67403020</td><td>2</td><td>0.005903648</td></tr>\n",
       "\t<tr><th scope=row>C3L.01662</th><td>3.844849e-01</td><td>0.61551513</td><td>2</td><td>0.005549648</td></tr>\n",
       "\t<tr><th scope=row>C3L.01687</th><td>9.316304e-02</td><td>0.90683696</td><td>2</td><td>0.005506054</td></tr>\n",
       "\t<tr><th scope=row>C3L.01689</th><td>9.044468e-01</td><td>0.09555320</td><td>1</td><td>0.005836062</td></tr>\n",
       "\t<tr><th scope=row>C3L.01703</th><td>5.952432e-08</td><td>0.99999994</td><td>2</td><td>0.005529077</td></tr>\n",
       "\t<tr><th scope=row>C3L.01971</th><td>5.029182e-02</td><td>0.94970818</td><td>2</td><td>0.005966989</td></tr>\n",
       "\t<tr><th scope=row>C3L.02109</th><td>3.334447e-01</td><td>0.66655530</td><td>2</td><td>0.006195772</td></tr>\n",
       "\t<tr><th scope=row>C3L.02115</th><td>4.290158e-14</td><td>1.00000000</td><td>2</td><td>0.005175674</td></tr>\n",
       "\t<tr><th scope=row>C3L.02116</th><td>1.174475e-05</td><td>0.99998826</td><td>2</td><td>0.005347581</td></tr>\n",
       "\t<tr><th scope=row>C3L.02118</th><td>3.093777e-01</td><td>0.69062226</td><td>2</td><td>0.006151757</td></tr>\n",
       "\t<tr><th scope=row>C3L.02463</th><td>3.364679e-01</td><td>0.66353212</td><td>2</td><td>0.005975029</td></tr>\n",
       "\t<tr><th scope=row>C3L.02604</th><td>8.740373e-01</td><td>0.12596273</td><td>1</td><td>0.006391072</td></tr>\n",
       "\t<tr><th scope=row>C3L.02606</th><td>8.887677e-01</td><td>0.11123232</td><td>1</td><td>0.005708203</td></tr>\n",
       "\t<tr><th scope=row>⋮</th><td>⋮</td><td>⋮</td><td>⋮</td><td>⋮</td></tr>\n",
       "\t<tr><th scope=row>C3N.02585</th><td>4.702034e-01</td><td>5.297966e-01</td><td>2</td><td>0.005641693</td></tr>\n",
       "\t<tr><th scope=row>C3N.02589</th><td>8.314208e-02</td><td>9.168579e-01</td><td>2</td><td>0.005657411</td></tr>\n",
       "\t<tr><th scope=row>C3N.02592</th><td>7.085468e-01</td><td>2.914532e-01</td><td>1</td><td>0.005242566</td></tr>\n",
       "\t<tr><th scope=row>C3N.02768</th><td>8.583256e-01</td><td>1.416744e-01</td><td>1</td><td>0.005888405</td></tr>\n",
       "\t<tr><th scope=row>C3N.02940</th><td>3.835913e-01</td><td>6.164087e-01</td><td>2</td><td>0.005692750</td></tr>\n",
       "\t<tr><th scope=row>C3N.02944</th><td>5.456763e-01</td><td>4.543237e-01</td><td>1</td><td>0.005034532</td></tr>\n",
       "\t<tr><th scope=row>C3N.02971</th><td>5.953582e-01</td><td>4.046418e-01</td><td>1</td><td>0.005317562</td></tr>\n",
       "\t<tr><th scope=row>C3N.03000</th><td>9.716731e-01</td><td>2.832689e-02</td><td>1</td><td>0.005530219</td></tr>\n",
       "\t<tr><th scope=row>C3N.03006</th><td>2.198999e-01</td><td>7.801001e-01</td><td>2</td><td>0.005520406</td></tr>\n",
       "\t<tr><th scope=row>C3N.03007</th><td>9.740600e-01</td><td>2.594004e-02</td><td>1</td><td>0.004913892</td></tr>\n",
       "\t<tr><th scope=row>C3N.03039</th><td>8.544780e-01</td><td>1.455220e-01</td><td>1</td><td>0.006512358</td></tr>\n",
       "\t<tr><th scope=row>C3N.03061</th><td>8.794280e-01</td><td>1.205720e-01</td><td>1</td><td>0.006059461</td></tr>\n",
       "\t<tr><th scope=row>C3N.03086</th><td>5.498613e-01</td><td>4.501387e-01</td><td>1</td><td>0.005192539</td></tr>\n",
       "\t<tr><th scope=row>C3N.03173</th><td>4.054741e-14</td><td>1.000000e+00</td><td>2</td><td>0.005476172</td></tr>\n",
       "\t<tr><th scope=row>C3N.03190</th><td>3.710043e-01</td><td>6.289957e-01</td><td>2</td><td>0.005095356</td></tr>\n",
       "\t<tr><th scope=row>C3N.03426</th><td>9.350392e-01</td><td>6.496076e-02</td><td>1</td><td>0.005838602</td></tr>\n",
       "\t<tr><th scope=row>C3N.03430</th><td>1.000000e+00</td><td>3.761834e-14</td><td>1</td><td>0.005902563</td></tr>\n",
       "\t<tr><th scope=row>C3N.03439</th><td>5.643930e-01</td><td>4.356070e-01</td><td>1</td><td>0.005388180</td></tr>\n",
       "\t<tr><th scope=row>C3N.03665</th><td>7.606113e-01</td><td>2.393887e-01</td><td>1</td><td>0.005906946</td></tr>\n",
       "\t<tr><th scope=row>C3N.03666</th><td>6.809781e-01</td><td>3.190219e-01</td><td>1</td><td>0.006300595</td></tr>\n",
       "\t<tr><th scope=row>C3N.03754</th><td>6.240140e-01</td><td>3.759860e-01</td><td>1</td><td>0.005813427</td></tr>\n",
       "\t<tr><th scope=row>C3N.03780</th><td>1.583927e-01</td><td>8.416073e-01</td><td>2</td><td>0.005308264</td></tr>\n",
       "\t<tr><th scope=row>C3N.03839</th><td>6.642967e-01</td><td>3.357033e-01</td><td>1</td><td>0.006067528</td></tr>\n",
       "\t<tr><th scope=row>C3N.03840</th><td>3.842924e-01</td><td>6.157076e-01</td><td>2</td><td>0.002871426</td></tr>\n",
       "\t<tr><th scope=row>C3N.03853</th><td>6.527858e-01</td><td>3.472142e-01</td><td>1</td><td>0.006213619</td></tr>\n",
       "\t<tr><th scope=row>C3N.03884</th><td>1.000000e+00</td><td>3.967462e-14</td><td>1</td><td>0.005596641</td></tr>\n",
       "\t<tr><th scope=row>C3N.04119</th><td>7.729529e-01</td><td>2.270471e-01</td><td>1</td><td>0.005233796</td></tr>\n",
       "\t<tr><th scope=row>C3N.04126</th><td>4.738134e-01</td><td>5.261866e-01</td><td>2</td><td>0.005669364</td></tr>\n",
       "\t<tr><th scope=row>C3N.04282</th><td>9.856299e-01</td><td>1.437012e-02</td><td>1</td><td>0.006241683</td></tr>\n",
       "\t<tr><th scope=row>C3N.04283</th><td>1.000000e+00</td><td>2.166715e-11</td><td>1</td><td>0.005924926</td></tr>\n",
       "</tbody>\n",
       "</table>\n"
      ],
      "text/latex": [
       "A data.frame: 105 × 4\n",
       "\\begin{tabular}{r|llll}\n",
       "  & V1 & V2 & cluster & sum\\\\\n",
       "  & <dbl> & <dbl> & <chr> & <dbl>\\\\\n",
       "\\hline\n",
       "\tC3L.00017 & 2.411827e-01 & 0.75881733 & 2 & 0.005572523\\\\\n",
       "\tC3L.00102 & 4.532528e-01 & 0.54674725 & 2 & 0.004766979\\\\\n",
       "\tC3L.00277 & 6.836035e-01 & 0.31639655 & 1 & 0.005596046\\\\\n",
       "\tC3L.00589 & 1.826408e-01 & 0.81735923 & 2 & 0.006071938\\\\\n",
       "\tC3L.00598 & 9.176941e-01 & 0.08230593 & 1 & 0.005329709\\\\\n",
       "\tC3L.00599 & 6.223116e-02 & 0.93776884 & 2 & 0.004646528\\\\\n",
       "\tC3L.00622 & 2.020734e-01 & 0.79792661 & 2 & 0.004793819\\\\\n",
       "\tC3L.00625 & 3.806831e-01 & 0.61931692 & 2 & 0.005874077\\\\\n",
       "\tC3L.00819 & 7.843885e-01 & 0.21561148 & 1 & 0.005772333\\\\\n",
       "\tC3L.00928 & 5.979592e-01 & 0.40204083 & 1 & 0.005297152\\\\\n",
       "\tC3L.01031 & 5.243304e-01 & 0.47566959 & 1 & 0.006486627\\\\\n",
       "\tC3L.01037 & 6.398721e-01 & 0.36012794 & 1 & 0.004874099\\\\\n",
       "\tC3L.01051 & 3.475398e-02 & 0.96524602 & 2 & 0.005050698\\\\\n",
       "\tC3L.01124 & 2.591096e-01 & 0.74089038 & 2 & 0.005081206\\\\\n",
       "\tC3L.01328 & 8.222087e-01 & 0.17779128 & 1 & 0.005690400\\\\\n",
       "\tC3L.01453 & 4.538899e-01 & 0.54611014 & 2 & 0.005519289\\\\\n",
       "\tC3L.01598 & 5.909665e-01 & 0.40903352 & 1 & 0.004999767\\\\\n",
       "\tC3L.01637 & 3.259698e-01 & 0.67403020 & 2 & 0.005903648\\\\\n",
       "\tC3L.01662 & 3.844849e-01 & 0.61551513 & 2 & 0.005549648\\\\\n",
       "\tC3L.01687 & 9.316304e-02 & 0.90683696 & 2 & 0.005506054\\\\\n",
       "\tC3L.01689 & 9.044468e-01 & 0.09555320 & 1 & 0.005836062\\\\\n",
       "\tC3L.01703 & 5.952432e-08 & 0.99999994 & 2 & 0.005529077\\\\\n",
       "\tC3L.01971 & 5.029182e-02 & 0.94970818 & 2 & 0.005966989\\\\\n",
       "\tC3L.02109 & 3.334447e-01 & 0.66655530 & 2 & 0.006195772\\\\\n",
       "\tC3L.02115 & 4.290158e-14 & 1.00000000 & 2 & 0.005175674\\\\\n",
       "\tC3L.02116 & 1.174475e-05 & 0.99998826 & 2 & 0.005347581\\\\\n",
       "\tC3L.02118 & 3.093777e-01 & 0.69062226 & 2 & 0.006151757\\\\\n",
       "\tC3L.02463 & 3.364679e-01 & 0.66353212 & 2 & 0.005975029\\\\\n",
       "\tC3L.02604 & 8.740373e-01 & 0.12596273 & 1 & 0.006391072\\\\\n",
       "\tC3L.02606 & 8.887677e-01 & 0.11123232 & 1 & 0.005708203\\\\\n",
       "\t⋮ & ⋮ & ⋮ & ⋮ & ⋮\\\\\n",
       "\tC3N.02585 & 4.702034e-01 & 5.297966e-01 & 2 & 0.005641693\\\\\n",
       "\tC3N.02589 & 8.314208e-02 & 9.168579e-01 & 2 & 0.005657411\\\\\n",
       "\tC3N.02592 & 7.085468e-01 & 2.914532e-01 & 1 & 0.005242566\\\\\n",
       "\tC3N.02768 & 8.583256e-01 & 1.416744e-01 & 1 & 0.005888405\\\\\n",
       "\tC3N.02940 & 3.835913e-01 & 6.164087e-01 & 2 & 0.005692750\\\\\n",
       "\tC3N.02944 & 5.456763e-01 & 4.543237e-01 & 1 & 0.005034532\\\\\n",
       "\tC3N.02971 & 5.953582e-01 & 4.046418e-01 & 1 & 0.005317562\\\\\n",
       "\tC3N.03000 & 9.716731e-01 & 2.832689e-02 & 1 & 0.005530219\\\\\n",
       "\tC3N.03006 & 2.198999e-01 & 7.801001e-01 & 2 & 0.005520406\\\\\n",
       "\tC3N.03007 & 9.740600e-01 & 2.594004e-02 & 1 & 0.004913892\\\\\n",
       "\tC3N.03039 & 8.544780e-01 & 1.455220e-01 & 1 & 0.006512358\\\\\n",
       "\tC3N.03061 & 8.794280e-01 & 1.205720e-01 & 1 & 0.006059461\\\\\n",
       "\tC3N.03086 & 5.498613e-01 & 4.501387e-01 & 1 & 0.005192539\\\\\n",
       "\tC3N.03173 & 4.054741e-14 & 1.000000e+00 & 2 & 0.005476172\\\\\n",
       "\tC3N.03190 & 3.710043e-01 & 6.289957e-01 & 2 & 0.005095356\\\\\n",
       "\tC3N.03426 & 9.350392e-01 & 6.496076e-02 & 1 & 0.005838602\\\\\n",
       "\tC3N.03430 & 1.000000e+00 & 3.761834e-14 & 1 & 0.005902563\\\\\n",
       "\tC3N.03439 & 5.643930e-01 & 4.356070e-01 & 1 & 0.005388180\\\\\n",
       "\tC3N.03665 & 7.606113e-01 & 2.393887e-01 & 1 & 0.005906946\\\\\n",
       "\tC3N.03666 & 6.809781e-01 & 3.190219e-01 & 1 & 0.006300595\\\\\n",
       "\tC3N.03754 & 6.240140e-01 & 3.759860e-01 & 1 & 0.005813427\\\\\n",
       "\tC3N.03780 & 1.583927e-01 & 8.416073e-01 & 2 & 0.005308264\\\\\n",
       "\tC3N.03839 & 6.642967e-01 & 3.357033e-01 & 1 & 0.006067528\\\\\n",
       "\tC3N.03840 & 3.842924e-01 & 6.157076e-01 & 2 & 0.002871426\\\\\n",
       "\tC3N.03853 & 6.527858e-01 & 3.472142e-01 & 1 & 0.006213619\\\\\n",
       "\tC3N.03884 & 1.000000e+00 & 3.967462e-14 & 1 & 0.005596641\\\\\n",
       "\tC3N.04119 & 7.729529e-01 & 2.270471e-01 & 1 & 0.005233796\\\\\n",
       "\tC3N.04126 & 4.738134e-01 & 5.261866e-01 & 2 & 0.005669364\\\\\n",
       "\tC3N.04282 & 9.856299e-01 & 1.437012e-02 & 1 & 0.006241683\\\\\n",
       "\tC3N.04283 & 1.000000e+00 & 2.166715e-11 & 1 & 0.005924926\\\\\n",
       "\\end{tabular}\n"
      ],
      "text/markdown": [
       "\n",
       "A data.frame: 105 × 4\n",
       "\n",
       "| <!--/--> | V1 &lt;dbl&gt; | V2 &lt;dbl&gt; | cluster &lt;chr&gt; | sum &lt;dbl&gt; |\n",
       "|---|---|---|---|---|\n",
       "| C3L.00017 | 2.411827e-01 | 0.75881733 | 2 | 0.005572523 |\n",
       "| C3L.00102 | 4.532528e-01 | 0.54674725 | 2 | 0.004766979 |\n",
       "| C3L.00277 | 6.836035e-01 | 0.31639655 | 1 | 0.005596046 |\n",
       "| C3L.00589 | 1.826408e-01 | 0.81735923 | 2 | 0.006071938 |\n",
       "| C3L.00598 | 9.176941e-01 | 0.08230593 | 1 | 0.005329709 |\n",
       "| C3L.00599 | 6.223116e-02 | 0.93776884 | 2 | 0.004646528 |\n",
       "| C3L.00622 | 2.020734e-01 | 0.79792661 | 2 | 0.004793819 |\n",
       "| C3L.00625 | 3.806831e-01 | 0.61931692 | 2 | 0.005874077 |\n",
       "| C3L.00819 | 7.843885e-01 | 0.21561148 | 1 | 0.005772333 |\n",
       "| C3L.00928 | 5.979592e-01 | 0.40204083 | 1 | 0.005297152 |\n",
       "| C3L.01031 | 5.243304e-01 | 0.47566959 | 1 | 0.006486627 |\n",
       "| C3L.01037 | 6.398721e-01 | 0.36012794 | 1 | 0.004874099 |\n",
       "| C3L.01051 | 3.475398e-02 | 0.96524602 | 2 | 0.005050698 |\n",
       "| C3L.01124 | 2.591096e-01 | 0.74089038 | 2 | 0.005081206 |\n",
       "| C3L.01328 | 8.222087e-01 | 0.17779128 | 1 | 0.005690400 |\n",
       "| C3L.01453 | 4.538899e-01 | 0.54611014 | 2 | 0.005519289 |\n",
       "| C3L.01598 | 5.909665e-01 | 0.40903352 | 1 | 0.004999767 |\n",
       "| C3L.01637 | 3.259698e-01 | 0.67403020 | 2 | 0.005903648 |\n",
       "| C3L.01662 | 3.844849e-01 | 0.61551513 | 2 | 0.005549648 |\n",
       "| C3L.01687 | 9.316304e-02 | 0.90683696 | 2 | 0.005506054 |\n",
       "| C3L.01689 | 9.044468e-01 | 0.09555320 | 1 | 0.005836062 |\n",
       "| C3L.01703 | 5.952432e-08 | 0.99999994 | 2 | 0.005529077 |\n",
       "| C3L.01971 | 5.029182e-02 | 0.94970818 | 2 | 0.005966989 |\n",
       "| C3L.02109 | 3.334447e-01 | 0.66655530 | 2 | 0.006195772 |\n",
       "| C3L.02115 | 4.290158e-14 | 1.00000000 | 2 | 0.005175674 |\n",
       "| C3L.02116 | 1.174475e-05 | 0.99998826 | 2 | 0.005347581 |\n",
       "| C3L.02118 | 3.093777e-01 | 0.69062226 | 2 | 0.006151757 |\n",
       "| C3L.02463 | 3.364679e-01 | 0.66353212 | 2 | 0.005975029 |\n",
       "| C3L.02604 | 8.740373e-01 | 0.12596273 | 1 | 0.006391072 |\n",
       "| C3L.02606 | 8.887677e-01 | 0.11123232 | 1 | 0.005708203 |\n",
       "| ⋮ | ⋮ | ⋮ | ⋮ | ⋮ |\n",
       "| C3N.02585 | 4.702034e-01 | 5.297966e-01 | 2 | 0.005641693 |\n",
       "| C3N.02589 | 8.314208e-02 | 9.168579e-01 | 2 | 0.005657411 |\n",
       "| C3N.02592 | 7.085468e-01 | 2.914532e-01 | 1 | 0.005242566 |\n",
       "| C3N.02768 | 8.583256e-01 | 1.416744e-01 | 1 | 0.005888405 |\n",
       "| C3N.02940 | 3.835913e-01 | 6.164087e-01 | 2 | 0.005692750 |\n",
       "| C3N.02944 | 5.456763e-01 | 4.543237e-01 | 1 | 0.005034532 |\n",
       "| C3N.02971 | 5.953582e-01 | 4.046418e-01 | 1 | 0.005317562 |\n",
       "| C3N.03000 | 9.716731e-01 | 2.832689e-02 | 1 | 0.005530219 |\n",
       "| C3N.03006 | 2.198999e-01 | 7.801001e-01 | 2 | 0.005520406 |\n",
       "| C3N.03007 | 9.740600e-01 | 2.594004e-02 | 1 | 0.004913892 |\n",
       "| C3N.03039 | 8.544780e-01 | 1.455220e-01 | 1 | 0.006512358 |\n",
       "| C3N.03061 | 8.794280e-01 | 1.205720e-01 | 1 | 0.006059461 |\n",
       "| C3N.03086 | 5.498613e-01 | 4.501387e-01 | 1 | 0.005192539 |\n",
       "| C3N.03173 | 4.054741e-14 | 1.000000e+00 | 2 | 0.005476172 |\n",
       "| C3N.03190 | 3.710043e-01 | 6.289957e-01 | 2 | 0.005095356 |\n",
       "| C3N.03426 | 9.350392e-01 | 6.496076e-02 | 1 | 0.005838602 |\n",
       "| C3N.03430 | 1.000000e+00 | 3.761834e-14 | 1 | 0.005902563 |\n",
       "| C3N.03439 | 5.643930e-01 | 4.356070e-01 | 1 | 0.005388180 |\n",
       "| C3N.03665 | 7.606113e-01 | 2.393887e-01 | 1 | 0.005906946 |\n",
       "| C3N.03666 | 6.809781e-01 | 3.190219e-01 | 1 | 0.006300595 |\n",
       "| C3N.03754 | 6.240140e-01 | 3.759860e-01 | 1 | 0.005813427 |\n",
       "| C3N.03780 | 1.583927e-01 | 8.416073e-01 | 2 | 0.005308264 |\n",
       "| C3N.03839 | 6.642967e-01 | 3.357033e-01 | 1 | 0.006067528 |\n",
       "| C3N.03840 | 3.842924e-01 | 6.157076e-01 | 2 | 0.002871426 |\n",
       "| C3N.03853 | 6.527858e-01 | 3.472142e-01 | 1 | 0.006213619 |\n",
       "| C3N.03884 | 1.000000e+00 | 3.967462e-14 | 1 | 0.005596641 |\n",
       "| C3N.04119 | 7.729529e-01 | 2.270471e-01 | 1 | 0.005233796 |\n",
       "| C3N.04126 | 4.738134e-01 | 5.261866e-01 | 2 | 0.005669364 |\n",
       "| C3N.04282 | 9.856299e-01 | 1.437012e-02 | 1 | 0.006241683 |\n",
       "| C3N.04283 | 1.000000e+00 | 2.166715e-11 | 1 | 0.005924926 |\n",
       "\n"
      ],
      "text/plain": [
       "          V1           V2           cluster sum        \n",
       "C3L.00017 2.411827e-01 0.75881733   2       0.005572523\n",
       "C3L.00102 4.532528e-01 0.54674725   2       0.004766979\n",
       "C3L.00277 6.836035e-01 0.31639655   1       0.005596046\n",
       "C3L.00589 1.826408e-01 0.81735923   2       0.006071938\n",
       "C3L.00598 9.176941e-01 0.08230593   1       0.005329709\n",
       "C3L.00599 6.223116e-02 0.93776884   2       0.004646528\n",
       "C3L.00622 2.020734e-01 0.79792661   2       0.004793819\n",
       "C3L.00625 3.806831e-01 0.61931692   2       0.005874077\n",
       "C3L.00819 7.843885e-01 0.21561148   1       0.005772333\n",
       "C3L.00928 5.979592e-01 0.40204083   1       0.005297152\n",
       "C3L.01031 5.243304e-01 0.47566959   1       0.006486627\n",
       "C3L.01037 6.398721e-01 0.36012794   1       0.004874099\n",
       "C3L.01051 3.475398e-02 0.96524602   2       0.005050698\n",
       "C3L.01124 2.591096e-01 0.74089038   2       0.005081206\n",
       "C3L.01328 8.222087e-01 0.17779128   1       0.005690400\n",
       "C3L.01453 4.538899e-01 0.54611014   2       0.005519289\n",
       "C3L.01598 5.909665e-01 0.40903352   1       0.004999767\n",
       "C3L.01637 3.259698e-01 0.67403020   2       0.005903648\n",
       "C3L.01662 3.844849e-01 0.61551513   2       0.005549648\n",
       "C3L.01687 9.316304e-02 0.90683696   2       0.005506054\n",
       "C3L.01689 9.044468e-01 0.09555320   1       0.005836062\n",
       "C3L.01703 5.952432e-08 0.99999994   2       0.005529077\n",
       "C3L.01971 5.029182e-02 0.94970818   2       0.005966989\n",
       "C3L.02109 3.334447e-01 0.66655530   2       0.006195772\n",
       "C3L.02115 4.290158e-14 1.00000000   2       0.005175674\n",
       "C3L.02116 1.174475e-05 0.99998826   2       0.005347581\n",
       "C3L.02118 3.093777e-01 0.69062226   2       0.006151757\n",
       "C3L.02463 3.364679e-01 0.66353212   2       0.005975029\n",
       "C3L.02604 8.740373e-01 0.12596273   1       0.006391072\n",
       "C3L.02606 8.887677e-01 0.11123232   1       0.005708203\n",
       "⋮         ⋮            ⋮            ⋮       ⋮          \n",
       "C3N.02585 4.702034e-01 5.297966e-01 2       0.005641693\n",
       "C3N.02589 8.314208e-02 9.168579e-01 2       0.005657411\n",
       "C3N.02592 7.085468e-01 2.914532e-01 1       0.005242566\n",
       "C3N.02768 8.583256e-01 1.416744e-01 1       0.005888405\n",
       "C3N.02940 3.835913e-01 6.164087e-01 2       0.005692750\n",
       "C3N.02944 5.456763e-01 4.543237e-01 1       0.005034532\n",
       "C3N.02971 5.953582e-01 4.046418e-01 1       0.005317562\n",
       "C3N.03000 9.716731e-01 2.832689e-02 1       0.005530219\n",
       "C3N.03006 2.198999e-01 7.801001e-01 2       0.005520406\n",
       "C3N.03007 9.740600e-01 2.594004e-02 1       0.004913892\n",
       "C3N.03039 8.544780e-01 1.455220e-01 1       0.006512358\n",
       "C3N.03061 8.794280e-01 1.205720e-01 1       0.006059461\n",
       "C3N.03086 5.498613e-01 4.501387e-01 1       0.005192539\n",
       "C3N.03173 4.054741e-14 1.000000e+00 2       0.005476172\n",
       "C3N.03190 3.710043e-01 6.289957e-01 2       0.005095356\n",
       "C3N.03426 9.350392e-01 6.496076e-02 1       0.005838602\n",
       "C3N.03430 1.000000e+00 3.761834e-14 1       0.005902563\n",
       "C3N.03439 5.643930e-01 4.356070e-01 1       0.005388180\n",
       "C3N.03665 7.606113e-01 2.393887e-01 1       0.005906946\n",
       "C3N.03666 6.809781e-01 3.190219e-01 1       0.006300595\n",
       "C3N.03754 6.240140e-01 3.759860e-01 1       0.005813427\n",
       "C3N.03780 1.583927e-01 8.416073e-01 2       0.005308264\n",
       "C3N.03839 6.642967e-01 3.357033e-01 1       0.006067528\n",
       "C3N.03840 3.842924e-01 6.157076e-01 2       0.002871426\n",
       "C3N.03853 6.527858e-01 3.472142e-01 1       0.006213619\n",
       "C3N.03884 1.000000e+00 3.967462e-14 1       0.005596641\n",
       "C3N.04119 7.729529e-01 2.270471e-01 1       0.005233796\n",
       "C3N.04126 4.738134e-01 5.261866e-01 2       0.005669364\n",
       "C3N.04282 9.856299e-01 1.437012e-02 1       0.006241683\n",
       "C3N.04283 1.000000e+00 2.166715e-11 1       0.005924926"
      ]
     },
     "metadata": {},
     "output_type": "display_data"
    }
   ],
   "source": [
    "membership <- nmf_clu@fit@H %>%\n",
    "    t() %>%\n",
    "    as.data.frame() %>%\n",
    "    # Set the cluster column, V1 > V2\n",
    "    mutate(cluster = ifelse(V1 >= V2, \"1\", \"2\")) %>%\n",
    "    # Divide by the sum of the two \n",
    "    mutate(sum = V1 + V2) %>%\n",
    "    mutate(V1 = V1 / sum, V2 = V2 / sum) %>%\n",
    "    mutate(cluster = ifelse(V1 >= V2, \"1\", \"2\"))\n",
    "membership"
   ]
  },
  {
   "cell_type": "code",
   "execution_count": 113,
   "id": "2dac2b7e",
   "metadata": {
    "vscode": {
     "languageId": "r"
    }
   },
   "outputs": [
    {
     "name": "stderr",
     "output_type": "stream",
     "text": [
      "NMF algorithm: 'brunet'\n",
      "\n",
      "NMF seeding method: random\n",
      "\n"
     ]
    },
    {
     "name": "stdout",
     "output_type": "stream",
     "text": [
      "Iterations: 500/500 \n",
      "DONE (stopped at 500/500 iterations)\n",
      "\u001b[90m# A tibble: 2 × 2\u001b[39m\n",
      "  cluster count\n",
      "  \u001b[3m\u001b[90m<chr>\u001b[39m\u001b[23m   \u001b[3m\u001b[90m<int>\u001b[39m\u001b[23m\n",
      "\u001b[90m1\u001b[39m 1          52\n",
      "\u001b[90m2\u001b[39m 2          53\n"
     ]
    }
   ],
   "source": [
    "nmf_clu <- nmf(as.matrix(combined_matrix), 2, .options=list(verbose = TRUE), maxIter=500)\n",
    "membership <- nmf_clu@fit@H %>%\n",
    "    t() %>%\n",
    "    as.data.frame() %>%\n",
    "    # Set the cluster column, V1 > V2\n",
    "    mutate(cluster = ifelse(V1 >= V2, \"1\", \"2\")) %>%\n",
    "    # Divide by the sum of the two \n",
    "    mutate(sum = V1 + V2) %>%\n",
    "    mutate(V1 = V1 / sum, V2 = V2 / sum) %>%\n",
    "    select(-sum) %>%\n",
    "    mutate(cluster = ifelse(V1 > V2, \"1\", \"2\")) %>% \n",
    "    # substitute \"\".\" with \"-\" in the sample IDs\n",
    "    mutate(sample = rownames(.)) %>%\n",
    "    mutate(sample = gsub(\"\\\\.\", \"-\", sample)) %>%\n",
    "    select(sample, cluster, V1, V2)\n",
    "    \n",
    "\n",
    "# Count the number of samples in each cluster\n",
    "membership_summary <- membership %>%\n",
    "    group_by(cluster) %>%\n",
    "    summarise(count = n())\n",
    "print(membership_summary)\n",
    "# Exclude rownames from the output\n",
    "rownames(membership) <- NULL\n",
    "write.table(membership, \"membership.tsv\", sep = \"\\t\", quote = FALSE, row.names = FALSE)"
   ]
  }
 ],
 "metadata": {
  "kernelspec": {
   "display_name": "R",
   "language": "R",
   "name": "ir"
  },
  "language_info": {
   "codemirror_mode": "r",
   "file_extension": ".r",
   "mimetype": "text/x-r-source",
   "name": "R",
   "pygments_lexer": "r",
   "version": "4.4.2"
  }
 },
 "nbformat": 4,
 "nbformat_minor": 5
}
